{
  "nbformat": 4,
  "nbformat_minor": 0,
  "metadata": {
    "colab": {
      "name": "DM_Tarea_03_NLP.ipynb",
      "provenance": [],
      "collapsed_sections": [
        "QoEQvRI7mzNG",
        "CJiPDg34ms2A",
        "5VmTx1Dcmon-",
        "vqqNHPRfmavc",
        "vzcqL9pgqcJR",
        "kYw-UVHbiN0D",
        "PXDL6m3toYow",
        "3j1zYYS5LbZw",
        "yMvHlPYilRUv",
        "8oVrFoLajyBy",
        "xV_72TNTvXjB",
        "0XhgtXNRmw0z",
        "Zu5rCbMCnA5r",
        "Yi7cO5_C3mUQ"
      ]
    },
    "kernelspec": {
      "name": "python3",
      "display_name": "Python 3"
    },
    "language_info": {
      "name": "python"
    }
  },
  "cells": [
    {
      "cell_type": "markdown",
      "metadata": {
        "id": "rJ6pvZzPmwzu"
      },
      "source": [
        "##Librerias"
      ]
    },
    {
      "cell_type": "code",
      "metadata": {
        "colab": {
          "base_uri": "https://localhost:8080/"
        },
        "id": "DYboxNuelUJa",
        "outputId": "ba390b95-4889-42a6-9389-7fa4e844e070"
      },
      "source": [
        "!pip3 install emoji"
      ],
      "execution_count": 1,
      "outputs": [
        {
          "output_type": "stream",
          "name": "stdout",
          "text": [
            "Collecting emoji\n",
            "  Downloading emoji-1.6.0.tar.gz (168 kB)\n",
            "\u001b[?25l\r\u001b[K     |██                              | 10 kB 13.4 MB/s eta 0:00:01\r\u001b[K     |███▉                            | 20 kB 9.2 MB/s eta 0:00:01\r\u001b[K     |█████▉                          | 30 kB 7.0 MB/s eta 0:00:01\r\u001b[K     |███████▊                        | 40 kB 6.7 MB/s eta 0:00:01\r\u001b[K     |█████████▊                      | 51 kB 3.8 MB/s eta 0:00:01\r\u001b[K     |███████████▋                    | 61 kB 3.9 MB/s eta 0:00:01\r\u001b[K     |█████████████▋                  | 71 kB 4.4 MB/s eta 0:00:01\r\u001b[K     |███████████████▌                | 81 kB 4.9 MB/s eta 0:00:01\r\u001b[K     |█████████████████▌              | 92 kB 4.9 MB/s eta 0:00:01\r\u001b[K     |███████████████████▍            | 102 kB 4.2 MB/s eta 0:00:01\r\u001b[K     |█████████████████████▍          | 112 kB 4.2 MB/s eta 0:00:01\r\u001b[K     |███████████████████████▎        | 122 kB 4.2 MB/s eta 0:00:01\r\u001b[K     |█████████████████████████▎      | 133 kB 4.2 MB/s eta 0:00:01\r\u001b[K     |███████████████████████████▏    | 143 kB 4.2 MB/s eta 0:00:01\r\u001b[K     |█████████████████████████████▏  | 153 kB 4.2 MB/s eta 0:00:01\r\u001b[K     |███████████████████████████████ | 163 kB 4.2 MB/s eta 0:00:01\r\u001b[K     |████████████████████████████████| 168 kB 4.2 MB/s \n",
            "\u001b[?25hBuilding wheels for collected packages: emoji\n",
            "  Building wheel for emoji (setup.py) ... \u001b[?25l\u001b[?25hdone\n",
            "  Created wheel for emoji: filename=emoji-1.6.0-py3-none-any.whl size=168256 sha256=1da2bc54094d48b911d628e9612042237863bfac0497cfbb0ae421e595c1f000\n",
            "  Stored in directory: /root/.cache/pip/wheels/f7/d7/74/c720aaf345a042b0c2d74361873258c5e8649b7f11b2ccce49\n",
            "Successfully built emoji\n",
            "Installing collected packages: emoji\n",
            "Successfully installed emoji-1.6.0\n"
          ]
        }
      ]
    },
    {
      "cell_type": "code",
      "metadata": {
        "id": "FcswKVFNh8Hk",
        "colab": {
          "base_uri": "https://localhost:8080/"
        },
        "outputId": "9689fc12-91ae-407e-f23d-0da6285b3640"
      },
      "source": [
        "!pip install langid"
      ],
      "execution_count": 2,
      "outputs": [
        {
          "output_type": "stream",
          "name": "stdout",
          "text": [
            "Collecting langid\n",
            "  Downloading langid-1.1.6.tar.gz (1.9 MB)\n",
            "\u001b[K     |████████████████████████████████| 1.9 MB 2.6 MB/s \n",
            "\u001b[?25hRequirement already satisfied: numpy in /usr/local/lib/python3.7/dist-packages (from langid) (1.19.5)\n",
            "Building wheels for collected packages: langid\n",
            "  Building wheel for langid (setup.py) ... \u001b[?25l\u001b[?25hdone\n",
            "  Created wheel for langid: filename=langid-1.1.6-py3-none-any.whl size=1941187 sha256=efbca09285d09245cb299acba8393230edce9cad95e4a6c7688b0eda8e900b5b\n",
            "  Stored in directory: /root/.cache/pip/wheels/2b/bb/7f/11e4db39477278161e882eadc46fb558949a28b13470fc74b8\n",
            "Successfully built langid\n",
            "Installing collected packages: langid\n",
            "Successfully installed langid-1.1.6\n"
          ]
        }
      ]
    },
    {
      "cell_type": "code",
      "metadata": {
        "id": "XFxTB8-Jh_m6",
        "colab": {
          "base_uri": "https://localhost:8080/"
        },
        "outputId": "aa84900e-01ae-4947-8aca-c4b6bb7503bd"
      },
      "source": [
        "!pip install langdetect"
      ],
      "execution_count": 3,
      "outputs": [
        {
          "output_type": "stream",
          "name": "stdout",
          "text": [
            "Collecting langdetect\n",
            "  Downloading langdetect-1.0.9.tar.gz (981 kB)\n",
            "\u001b[K     |████████████████████████████████| 981 kB 2.8 MB/s \n",
            "\u001b[?25hRequirement already satisfied: six in /usr/local/lib/python3.7/dist-packages (from langdetect) (1.15.0)\n",
            "Building wheels for collected packages: langdetect\n",
            "  Building wheel for langdetect (setup.py) ... \u001b[?25l\u001b[?25hdone\n",
            "  Created wheel for langdetect: filename=langdetect-1.0.9-py3-none-any.whl size=993242 sha256=ae65d4b67c4eb003d56f09147acb77d843152b222c3e71353c76a4f0ee04c52b\n",
            "  Stored in directory: /root/.cache/pip/wheels/c5/96/8a/f90c59ed25d75e50a8c10a1b1c2d4c402e4dacfa87f3aff36a\n",
            "Successfully built langdetect\n",
            "Installing collected packages: langdetect\n",
            "Successfully installed langdetect-1.0.9\n"
          ]
        }
      ]
    },
    {
      "cell_type": "code",
      "metadata": {
        "id": "2LOhAdrZnHNZ"
      },
      "source": [
        "import emoji"
      ],
      "execution_count": 4,
      "outputs": []
    },
    {
      "cell_type": "code",
      "metadata": {
        "colab": {
          "base_uri": "https://localhost:8080/"
        },
        "id": "LUoMNVvyKpB6",
        "outputId": "134d22aa-a3eb-4a4a-be23-38c0b8e636ac"
      },
      "source": [
        "import pandas as pd\n",
        "import numpy as np\n",
        "import re   \n",
        "\n",
        "## Visualization\n",
        "import seaborn as sns\n",
        "import matplotlib.pyplot as plt\n",
        "sns.set()\n",
        "\n",
        "##KFolds\n",
        "from sklearn.model_selection import StratifiedKFold\n",
        "from sklearn.model_selection import KFold\n",
        "\n",
        "#NLP\n",
        "import nltk\n",
        "from nltk.tokenize import word_tokenize\n",
        "import spacy\n",
        "nltk.download('punkt')\n",
        "\n",
        "from nltk.corpus import stopwords\n",
        "nltk.download('stopwords')\n",
        "#spanish_stopwords = stopwords.words('spanish')\n",
        "from string import punctuation\n",
        "\n",
        "from sklearn.feature_extraction.text import CountVectorizer       \n",
        "from nltk.stem import SnowballStemmer\n",
        "from nltk.tokenize import word_tokenize\n",
        "\n",
        "## Models\n",
        "import xgboost as xgb\n",
        "from sklearn.neighbors import KNeighborsClassifier\n",
        "from sklearn.ensemble import RandomForestClassifier\n",
        "from sklearn.ensemble import VotingClassifier\n",
        "# Multilayer perceptron\n",
        "from sklearn.neural_network import MLPClassifier\n",
        "\n",
        "#Metricas\n",
        "## Metrics\n",
        "from sklearn.model_selection import train_test_split\n",
        "from sklearn.metrics import confusion_matrix, classification_report\n",
        "from sklearn.metrics import accuracy_score\n",
        "from sklearn.metrics import roc_curve, auc\n",
        "from sklearn import metrics\n",
        "#from sklearn.metrics import f1_score\n",
        "\n",
        "#Ensembles\n",
        "from sklearn.ensemble import VotingClassifier\n",
        "from sklearn.linear_model import LogisticRegression\n",
        "from sklearn.svm import SVC\n",
        "from sklearn.ensemble import RandomForestClassifier\n",
        "from sklearn.ensemble import BaggingClassifier\n",
        "from sklearn.tree import DecisionTreeClassifier\n",
        "from sklearn.naive_bayes import GaussianNB\n",
        "from sklearn.neural_network import MLPClassifier\n",
        "from sklearn.naive_bayes import MultinomialNB\n",
        "\n",
        "##Otros\n",
        "from sklearn.pipeline import Pipeline\n",
        "import langid\n",
        "from langdetect import detect\n",
        "import textblob"
      ],
      "execution_count": 5,
      "outputs": [
        {
          "output_type": "stream",
          "name": "stdout",
          "text": [
            "[nltk_data] Downloading package punkt to /root/nltk_data...\n",
            "[nltk_data]   Unzipping tokenizers/punkt.zip.\n",
            "[nltk_data] Downloading package stopwords to /root/nltk_data...\n",
            "[nltk_data]   Unzipping corpora/stopwords.zip.\n"
          ]
        }
      ]
    },
    {
      "cell_type": "markdown",
      "metadata": {
        "id": "QoEQvRI7mzNG"
      },
      "source": [
        "##Lectura de Df"
      ]
    },
    {
      "cell_type": "code",
      "metadata": {
        "colab": {
          "base_uri": "https://localhost:8080/"
        },
        "id": "t158c73kacMZ",
        "outputId": "c2335b7c-b821-45c8-e0da-2b37d43e5552"
      },
      "source": [
        "spacy.cli.download('es_core_news_md')"
      ],
      "execution_count": 6,
      "outputs": [
        {
          "output_type": "stream",
          "name": "stdout",
          "text": [
            "\u001b[38;5;2m✔ Download and installation successful\u001b[0m\n",
            "You can now load the model via spacy.load('es_core_news_md')\n"
          ]
        }
      ]
    },
    {
      "cell_type": "code",
      "metadata": {
        "id": "5IiqMoDEafB3"
      },
      "source": [
        "nlp = spacy.load('es_core_news_md')"
      ],
      "execution_count": 7,
      "outputs": []
    },
    {
      "cell_type": "code",
      "metadata": {
        "id": "Y0cY4zH_QoS2"
      },
      "source": [
        "dataIG_01 = pd.read_excel(\"ComentariosInstagram.xlsx\")\n",
        "dataEmojiA = pd.read_excel(\"DiccionarioEmojisEspacios.xlsx\")"
      ],
      "execution_count": 8,
      "outputs": []
    },
    {
      "cell_type": "code",
      "metadata": {
        "colab": {
          "base_uri": "https://localhost:8080/",
          "height": 142
        },
        "id": "97oU1RHEQzSl",
        "outputId": "666e9f04-0a6b-4851-a7fe-4441d51d965f"
      },
      "source": [
        "dataIG_01.head(3)"
      ],
      "execution_count": 9,
      "outputs": [
        {
          "output_type": "execute_result",
          "data": {
            "text/html": [
              "<div>\n",
              "<style scoped>\n",
              "    .dataframe tbody tr th:only-of-type {\n",
              "        vertical-align: middle;\n",
              "    }\n",
              "\n",
              "    .dataframe tbody tr th {\n",
              "        vertical-align: top;\n",
              "    }\n",
              "\n",
              "    .dataframe thead th {\n",
              "        text-align: right;\n",
              "    }\n",
              "</style>\n",
              "<table border=\"1\" class=\"dataframe\">\n",
              "  <thead>\n",
              "    <tr style=\"text-align: right;\">\n",
              "      <th></th>\n",
              "      <th>Texto</th>\n",
              "      <th>Etiquetado</th>\n",
              "    </tr>\n",
              "  </thead>\n",
              "  <tbody>\n",
              "    <tr>\n",
              "      <th>0</th>\n",
              "      <td>@giomaeli muchas gracias 🙏🏻😊</td>\n",
              "      <td>Positivo</td>\n",
              "    </tr>\n",
              "    <tr>\n",
              "      <th>1</th>\n",
              "      <td>@alexisjosueh ¡Felicitaciones por este gran tr...</td>\n",
              "      <td>Positivo</td>\n",
              "    </tr>\n",
              "    <tr>\n",
              "      <th>2</th>\n",
              "      <td>@alexisjosueh felicidades, excelente trabajo🙌🏻</td>\n",
              "      <td>Positivo</td>\n",
              "    </tr>\n",
              "  </tbody>\n",
              "</table>\n",
              "</div>"
            ],
            "text/plain": [
              "                                               Texto Etiquetado\n",
              "0                       @giomaeli muchas gracias 🙏🏻😊   Positivo\n",
              "1  @alexisjosueh ¡Felicitaciones por este gran tr...   Positivo\n",
              "2     @alexisjosueh felicidades, excelente trabajo🙌🏻   Positivo"
            ]
          },
          "metadata": {},
          "execution_count": 9
        }
      ]
    },
    {
      "cell_type": "markdown",
      "metadata": {
        "id": "CJiPDg34ms2A"
      },
      "source": [
        "##Agrupamiento de datos"
      ]
    },
    {
      "cell_type": "code",
      "metadata": {
        "colab": {
          "base_uri": "https://localhost:8080/",
          "height": 159
        },
        "id": "QTkJ7_tAQ6Rq",
        "outputId": "d5a1a9be-6f78-47b1-c3c4-85ca44d1f821"
      },
      "source": [
        "print(dataIG_01.shape)\n",
        "dataIG_01.groupby(\"Etiquetado\").count().reset_index()"
      ],
      "execution_count": 10,
      "outputs": [
        {
          "output_type": "stream",
          "name": "stdout",
          "text": [
            "(3259, 2)\n"
          ]
        },
        {
          "output_type": "execute_result",
          "data": {
            "text/html": [
              "<div>\n",
              "<style scoped>\n",
              "    .dataframe tbody tr th:only-of-type {\n",
              "        vertical-align: middle;\n",
              "    }\n",
              "\n",
              "    .dataframe tbody tr th {\n",
              "        vertical-align: top;\n",
              "    }\n",
              "\n",
              "    .dataframe thead th {\n",
              "        text-align: right;\n",
              "    }\n",
              "</style>\n",
              "<table border=\"1\" class=\"dataframe\">\n",
              "  <thead>\n",
              "    <tr style=\"text-align: right;\">\n",
              "      <th></th>\n",
              "      <th>Etiquetado</th>\n",
              "      <th>Texto</th>\n",
              "    </tr>\n",
              "  </thead>\n",
              "  <tbody>\n",
              "    <tr>\n",
              "      <th>0</th>\n",
              "      <td>Negativo</td>\n",
              "      <td>1033</td>\n",
              "    </tr>\n",
              "    <tr>\n",
              "      <th>1</th>\n",
              "      <td>Neutro</td>\n",
              "      <td>770</td>\n",
              "    </tr>\n",
              "    <tr>\n",
              "      <th>2</th>\n",
              "      <td>Positivo</td>\n",
              "      <td>1455</td>\n",
              "    </tr>\n",
              "  </tbody>\n",
              "</table>\n",
              "</div>"
            ],
            "text/plain": [
              "  Etiquetado  Texto\n",
              "0   Negativo   1033\n",
              "1     Neutro    770\n",
              "2   Positivo   1455"
            ]
          },
          "metadata": {},
          "execution_count": 10
        }
      ]
    },
    {
      "cell_type": "code",
      "metadata": {
        "colab": {
          "base_uri": "https://localhost:8080/",
          "height": 173
        },
        "id": "trGD4iru5dVX",
        "outputId": "3d80c570-54f1-4c9b-f1c9-5a077d02c1b8"
      },
      "source": [
        "dataIG_01.groupby(\"Etiquetado\").count()/sum(dataIG_01.groupby(\"Etiquetado\").count().reset_index().Texto)"
      ],
      "execution_count": 11,
      "outputs": [
        {
          "output_type": "execute_result",
          "data": {
            "text/html": [
              "<div>\n",
              "<style scoped>\n",
              "    .dataframe tbody tr th:only-of-type {\n",
              "        vertical-align: middle;\n",
              "    }\n",
              "\n",
              "    .dataframe tbody tr th {\n",
              "        vertical-align: top;\n",
              "    }\n",
              "\n",
              "    .dataframe thead th {\n",
              "        text-align: right;\n",
              "    }\n",
              "</style>\n",
              "<table border=\"1\" class=\"dataframe\">\n",
              "  <thead>\n",
              "    <tr style=\"text-align: right;\">\n",
              "      <th></th>\n",
              "      <th>Texto</th>\n",
              "    </tr>\n",
              "    <tr>\n",
              "      <th>Etiquetado</th>\n",
              "      <th></th>\n",
              "    </tr>\n",
              "  </thead>\n",
              "  <tbody>\n",
              "    <tr>\n",
              "      <th>Negativo</th>\n",
              "      <td>0.317066</td>\n",
              "    </tr>\n",
              "    <tr>\n",
              "      <th>Neutro</th>\n",
              "      <td>0.236341</td>\n",
              "    </tr>\n",
              "    <tr>\n",
              "      <th>Positivo</th>\n",
              "      <td>0.446593</td>\n",
              "    </tr>\n",
              "  </tbody>\n",
              "</table>\n",
              "</div>"
            ],
            "text/plain": [
              "               Texto\n",
              "Etiquetado          \n",
              "Negativo    0.317066\n",
              "Neutro      0.236341\n",
              "Positivo    0.446593"
            ]
          },
          "metadata": {},
          "execution_count": 11
        }
      ]
    },
    {
      "cell_type": "markdown",
      "metadata": {
        "id": "5VmTx1Dcmon-"
      },
      "source": [
        "##Limpieza de datos"
      ]
    },
    {
      "cell_type": "code",
      "metadata": {
        "colab": {
          "base_uri": "https://localhost:8080/"
        },
        "id": "TxwVCRjKK6pf",
        "outputId": "d9c609e0-4eee-4e0e-b85f-7a7bc4cce0b5"
      },
      "source": [
        "#Lista de palabras en español\n",
        "spanish_stopwords = stopwords.words('spanish')\n",
        "#Lista de signos de puntuación\n",
        "non_words = list(punctuation)\n",
        "#Agregando signos de puntuación en español\n",
        "non_words.extend(['¿', '¡'])\n",
        "non_words.extend(map(str,range(10)))\n",
        "print(non_words)"
      ],
      "execution_count": 12,
      "outputs": [
        {
          "output_type": "stream",
          "name": "stdout",
          "text": [
            "['!', '\"', '#', '$', '%', '&', \"'\", '(', ')', '*', '+', ',', '-', '.', '/', ':', ';', '<', '=', '>', '?', '@', '[', '\\\\', ']', '^', '_', '`', '{', '|', '}', '~', '¿', '¡', '0', '1', '2', '3', '4', '5', '6', '7', '8', '9']\n"
          ]
        }
      ]
    },
    {
      "cell_type": "code",
      "metadata": {
        "id": "5y-I-dMcPopn"
      },
      "source": [
        "## Asignamos el metodo SnowballStemmer (ignore_stopwords: sin afectar a los stopwords)\n",
        "stemmer = SnowballStemmer('spanish',ignore_stopwords=True) \n",
        "\n",
        "##stem_tokens: Funcion que permite asignar a cada palabra su raiz.\n",
        "##Necesita recibir un texto \"tokenizado\" y el stemmer para identificar la raiz de las palabras del idioma elegido.\n",
        "def stem_tokens(tokens, stemmer):\n",
        "    stemmed = []                                 ## Vector Inicial.\n",
        "    for item in tokens:                          ## Iterativo que recorre todos las palabras dentro del tokens ingresado.\n",
        "        stemmed.append(stemmer.stem(item))       ## Asigna la raiz de cada palabra ingresado y lo almacena en el vector incial.\n",
        "    return stemmed                               ## La funcion devuelve el vector inicial.\n",
        "\n",
        "##tokenize: Funcion que permite separar/partir/tokenizar un texto (+ stemmer). Además, se le agrego limpiar los non_words.\n",
        "##Esta funcion despues de tokenizar, aplica el stemmer a cada token creado.\n",
        "##Necesita recibir un texto para poder \"tokenizarlo\".\n",
        "def tokenize(text):\n",
        "    # remove non letters\n",
        "    text = ''.join([c for c in text if c not in non_words])  ## Remplaza por un valor vacio a los non_words.\n",
        "    # tokenize\n",
        "    tokens =  word_tokenize(text)                            ## Tokeniza el texto por palabras.\n",
        "\n",
        "    # stem\n",
        "    try:\n",
        "        stems = stem_tokens(tokens, stemmer)                 ## Se invoca la funcion stem_tokens.\n",
        "    except Exception as e:\n",
        "        print(e)\n",
        "        print(text)\n",
        "        stems = ['']\n",
        "    return stems"
      ],
      "execution_count": 13,
      "outputs": []
    },
    {
      "cell_type": "code",
      "metadata": {
        "colab": {
          "base_uri": "https://localhost:8080/",
          "height": 142
        },
        "id": "JiRhxOnOXU6e",
        "outputId": "eacbdf7a-d2df-4823-fb70-274ebcc8a533"
      },
      "source": [
        "dataIG_02 = dataIG_01.copy()\n",
        "dataIG_02[\"Texto2\"] = None\n",
        "dataIG_02[\"LenComment\"] = None\n",
        "dataIG_02.head(3)"
      ],
      "execution_count": 14,
      "outputs": [
        {
          "output_type": "execute_result",
          "data": {
            "text/html": [
              "<div>\n",
              "<style scoped>\n",
              "    .dataframe tbody tr th:only-of-type {\n",
              "        vertical-align: middle;\n",
              "    }\n",
              "\n",
              "    .dataframe tbody tr th {\n",
              "        vertical-align: top;\n",
              "    }\n",
              "\n",
              "    .dataframe thead th {\n",
              "        text-align: right;\n",
              "    }\n",
              "</style>\n",
              "<table border=\"1\" class=\"dataframe\">\n",
              "  <thead>\n",
              "    <tr style=\"text-align: right;\">\n",
              "      <th></th>\n",
              "      <th>Texto</th>\n",
              "      <th>Etiquetado</th>\n",
              "      <th>Texto2</th>\n",
              "      <th>LenComment</th>\n",
              "    </tr>\n",
              "  </thead>\n",
              "  <tbody>\n",
              "    <tr>\n",
              "      <th>0</th>\n",
              "      <td>@giomaeli muchas gracias 🙏🏻😊</td>\n",
              "      <td>Positivo</td>\n",
              "      <td>None</td>\n",
              "      <td>None</td>\n",
              "    </tr>\n",
              "    <tr>\n",
              "      <th>1</th>\n",
              "      <td>@alexisjosueh ¡Felicitaciones por este gran tr...</td>\n",
              "      <td>Positivo</td>\n",
              "      <td>None</td>\n",
              "      <td>None</td>\n",
              "    </tr>\n",
              "    <tr>\n",
              "      <th>2</th>\n",
              "      <td>@alexisjosueh felicidades, excelente trabajo🙌🏻</td>\n",
              "      <td>Positivo</td>\n",
              "      <td>None</td>\n",
              "      <td>None</td>\n",
              "    </tr>\n",
              "  </tbody>\n",
              "</table>\n",
              "</div>"
            ],
            "text/plain": [
              "                                               Texto  ... LenComment\n",
              "0                       @giomaeli muchas gracias 🙏🏻😊  ...       None\n",
              "1  @alexisjosueh ¡Felicitaciones por este gran tr...  ...       None\n",
              "2     @alexisjosueh felicidades, excelente trabajo🙌🏻  ...       None\n",
              "\n",
              "[3 rows x 4 columns]"
            ]
          },
          "metadata": {},
          "execution_count": 14
        }
      ]
    },
    {
      "cell_type": "code",
      "metadata": {
        "colab": {
          "base_uri": "https://localhost:8080/"
        },
        "id": "2qYNpo2mGJqP",
        "outputId": "c6778eb0-9fc6-402b-bbd0-caf2416e911d"
      },
      "source": [
        "list_emojis = list(dataEmojiA.Emoji)\n",
        "print(list_emojis)"
      ],
      "execution_count": 19,
      "outputs": [
        {
          "output_type": "stream",
          "name": "stdout",
          "text": [
            "['👏', '❤️', '🙌', '😍', '😭', '🏻', '😢', '😂', '🔥', '👍', '💪', '🏼', '🤡', '🇪', '💕', '🇵', '🥺', '♥', '😊', '🥑', '🤣', '🏽', '🙏', '🤗', '💜', '🎉', '😱', '👌', '😎', '💛', '😘', '✨', '😮', '😔', '🖤', '🤔', '💙', '🤩', '👎', '💯', '🙄', '👀', '🔝', '😅', '😉', '💔', '💚', '💖', '🎓', '♀', '💗', '😻', '🤭', '🏾', '😆', '☹', '🤧', '🥰', '😁', '😃', '💓', '✌', '♂', '😀', '😞', '🤮', '🙋', '🙈', '😪', '🐀', '😌', '🐔', '😑', '🏿', '🐷', '🌟', '😳', '💞', '😣', '🦠', '😥', '🌈', '🤙', '🐺', '🥳', '☺', '🙁', '🌸', '🤦', '🎊', '🍀', '🙊', '😒', '😐', '🎶', '🧐', '😄', '😏', '☝', '📲', '👐', '😠', '🤬', '🙃', '🙂', '🏆', '😬', '🤷', '💝', '👨', '\\U0001f972', '🤓', '😫', '👩', '😿', '👉', '💢', '🤘', '📌', '😇', '😡', '😩', '♡', '❣', '🤨', '💘', '🌴', '😲', '😓', '👇', '🍻', '😨', '💃', '💇', '🤤', '📷', '📸', '🐿', '😋', 'Ⓜ', '🎸', '✊', '🎈', '🚨', '🤞', '⚠', '💻', '💟', '🔴', '😕', '😜', '😯', '\\U0001f90d', '🤢', '💫', '🧡', '🍾', '💎', '👆', '🎮', '🍃', '🌼', '🌹', '🌳', '🌝', '🐦', '🇻', '⬅', '🐥', '✔', '⚡', '⚫', '🐢', '🐐', '🐉', '😚', '😛', '☄', '😟', '🦈', '🍺', '🦄', '♻', '🌻', '🌺', '🌷', '🤪', '⚪', '🌞', '🥚', '🌐', '🚛', '🚻', '🥂', '🤝', '🤟', '⭐', '⬆', '✈', '❌', '🤑', '💩', '🔞', '👈', '💰', '💲', '💳', '💵', '💡', '📐', '📥', '👽', '🕊', '🗣', '👑', '👋', '👊', '⌚', '👁', '🐸', '🐽', '🐼', '🏫', '📞', '📎', '❄', '🐏', '❗', '📖', '📚', '⭕', '✋', '🅱', '🤠', '🆘', '💋', '🇧', '🇨', '🇳', '📈', '🤯', '📅', '🥴', '💣', '\\U0001f9cf', '☢', '🦌', '🐤', '🦁', '🐻', '⚖', '😖', '💴', '🐖', '💸', '🥇', '🥃', '📄', '⚽', '🇷', '👻', '🏅', '🌅', '😶', '🍓', '🍔', '🍪', '🍭', '🍴', '🍸', '👄', '💥', '🎄', '🎇', '😧', '🎏', '😤', '🏳', '🎵', '🏀', '😷', '😹', '🌿', '👴', '🛍', '🔊', '🚫', '🌍', '👶', '🚀', '🐶', '👣', '😾', '🌲', '🔻', '🐈', '🕯', '🕶', '👞', '😙', '🐴']\n"
          ]
        }
      ]
    },
    {
      "cell_type": "code",
      "metadata": {
        "id": "vXLJA3DUZsGK"
      },
      "source": [
        "def eliminar_usuarios_etiquetados(texto):\n",
        "  list_words = texto.split()\n",
        "  list_final = []\n",
        "  for i in range(len(list_words)):\n",
        "    word = list_words[i]\n",
        "    if (word[0]!=\"@\"):\n",
        "      list_final.append(word)\n",
        "  return ' '.join(list_final)"
      ],
      "execution_count": 20,
      "outputs": []
    },
    {
      "cell_type": "code",
      "metadata": {
        "id": "-jxuQnc9ih5-"
      },
      "source": [
        "def reemplazar_repetidas(texto):\n",
        "  #Caracteres a validar\n",
        "  import string\n",
        "\n",
        "  alphabet_string = string.ascii_lowercase\n",
        "  alphabet_list = list(alphabet_string)\n",
        "  l_dos_excep = ['a','e','o','l','n']\n",
        "  l_una_excep = set(alphabet_list) - set(l_dos_excep)\n",
        "\n",
        "  #Variables\n",
        "  list_palabras = texto.lower().split()\n",
        "  list_final = []\n",
        "    \n",
        "  for i in range(len(list_palabras)):\n",
        "    palabra = list_palabras[i]\n",
        "    #Maximo una ocurrencia\n",
        "    for w in l_una_excep:\n",
        "      pattern = w + '{2,}'\n",
        "      palabra = re.sub(pattern, w, palabra)\n",
        "    #Maximo dos ocurrencias\n",
        "    for w in l_dos_excep:\n",
        "      pattern = w + '{3,}'\n",
        "      palabra = re.sub(pattern, w, palabra)\n",
        "    list_final.append(palabra)\n",
        "\n",
        "  return ' '.join(list_final)"
      ],
      "execution_count": 21,
      "outputs": []
    },
    {
      "cell_type": "code",
      "metadata": {
        "colab": {
          "base_uri": "https://localhost:8080/",
          "height": 204
        },
        "id": "3jGC6sIIWaZp",
        "outputId": "5eeaf51f-3b21-4bca-c649-95e7b2b34047"
      },
      "source": [
        "##Depurando comentario por comentario\n",
        "for i in range(dataIG_02.shape[0]):\n",
        "  aux_text= dataIG_02.Texto.iloc[i]\n",
        "  if (pd.isna(aux_text)):\n",
        "    dataIG_02[\"Texto2\"].iloc[i] = None\n",
        "    dataIG_02[\"LenComment\"].iloc[i] = None\n",
        "  else:\n",
        "    aux_text = eliminar_usuarios_etiquetados(aux_text)\n",
        "    aux_text = reemplazar_repetidas(aux_text)\n",
        "    aux_text = ''.join([c for c in aux_text if c not in list_emojis])\n",
        "    aux_text = ''.join([c for c in aux_text if c not in emoji.UNICODE_EMOJI['en']]) ## Codigo para completar emojis que no se reconocian en la lista de emojis. ej el corazon\n",
        "    len_comment = len(aux_text.strip()) ## largo del comentario, sin emojis\n",
        "    aux_text = ''.join([c for c in aux_text if c not in non_words]) ##Eliminando no palabras\n",
        "    tokens =  word_tokenize(aux_text) ## Tokenizando comentario depurado\n",
        "    aux_text = ' '.join([c for c in tokens if c not in spanish_stopwords]) ## Eliminando los stop words español    \n",
        "    tokens =  word_tokenize(aux_text) ## Tokenizando comentario depurado\n",
        "    aux_text = ' '.join(stem_tokens(tokens, stemmer)) ## identificación de raiz de cada palabra\n",
        "    #aux_text = ''.join([c for c in aux_text if c in list_emojis_pos]) ##Se tendria que crear una lista de emojis positivos (manualmente), apartir de la lista de emojis\n",
        "    #aux_text = ''.join([c for c in aux_text if c in list_emojis_neg]) ##Se tendria que crear una lista de emojis negativos (manualmente), apartir de la lista de emojis\n",
        "    #Quisera crear un flag o dummies del sentimiento del emoji(FLG_EMOJI -> 1:Emoji Pos, 2:Emoji Neg y 3: Sin Emoji Pos o Neg)\n",
        "    aux_text = eliminar_usuarios_etiquetados(aux_text)\n",
        "    dataIG_02[\"Texto2\"].iloc[i] = aux_text.strip()\n",
        "    dataIG_02[\"LenComment\"].iloc[i] = len_comment\n",
        "dataIG_02.head(5)  "
      ],
      "execution_count": 22,
      "outputs": [
        {
          "output_type": "execute_result",
          "data": {
            "text/html": [
              "<div>\n",
              "<style scoped>\n",
              "    .dataframe tbody tr th:only-of-type {\n",
              "        vertical-align: middle;\n",
              "    }\n",
              "\n",
              "    .dataframe tbody tr th {\n",
              "        vertical-align: top;\n",
              "    }\n",
              "\n",
              "    .dataframe thead th {\n",
              "        text-align: right;\n",
              "    }\n",
              "</style>\n",
              "<table border=\"1\" class=\"dataframe\">\n",
              "  <thead>\n",
              "    <tr style=\"text-align: right;\">\n",
              "      <th></th>\n",
              "      <th>Texto</th>\n",
              "      <th>Etiquetado</th>\n",
              "      <th>Texto2</th>\n",
              "      <th>LenComment</th>\n",
              "    </tr>\n",
              "  </thead>\n",
              "  <tbody>\n",
              "    <tr>\n",
              "      <th>0</th>\n",
              "      <td>@giomaeli muchas gracias 🙏🏻😊</td>\n",
              "      <td>Positivo</td>\n",
              "      <td>much graci</td>\n",
              "      <td>14</td>\n",
              "    </tr>\n",
              "    <tr>\n",
              "      <th>1</th>\n",
              "      <td>@alexisjosueh ¡Felicitaciones por este gran tr...</td>\n",
              "      <td>Positivo</td>\n",
              "      <td>felicit gran trabaj alexis orgulloupn</td>\n",
              "      <td>71</td>\n",
              "    </tr>\n",
              "    <tr>\n",
              "      <th>2</th>\n",
              "      <td>@alexisjosueh felicidades, excelente trabajo🙌🏻</td>\n",
              "      <td>Positivo</td>\n",
              "      <td>felic excelent trabaj</td>\n",
              "      <td>30</td>\n",
              "    </tr>\n",
              "    <tr>\n",
              "      <th>3</th>\n",
              "      <td>@alexisjosueh felicitaciones, las fotografías ...</td>\n",
              "      <td>Positivo</td>\n",
              "      <td>felicit fotograf sal herm</td>\n",
              "      <td>51</td>\n",
              "    </tr>\n",
              "    <tr>\n",
              "      <th>4</th>\n",
              "      <td>Muchas gracias 🙏🏻♥️</td>\n",
              "      <td>Positivo</td>\n",
              "      <td>much graci ️</td>\n",
              "      <td>16</td>\n",
              "    </tr>\n",
              "  </tbody>\n",
              "</table>\n",
              "</div>"
            ],
            "text/plain": [
              "                                               Texto  ... LenComment\n",
              "0                       @giomaeli muchas gracias 🙏🏻😊  ...         14\n",
              "1  @alexisjosueh ¡Felicitaciones por este gran tr...  ...         71\n",
              "2     @alexisjosueh felicidades, excelente trabajo🙌🏻  ...         30\n",
              "3  @alexisjosueh felicitaciones, las fotografías ...  ...         51\n",
              "4                                Muchas gracias 🙏🏻♥️  ...         16\n",
              "\n",
              "[5 rows x 4 columns]"
            ]
          },
          "metadata": {},
          "execution_count": 22
        }
      ]
    },
    {
      "cell_type": "code",
      "metadata": {
        "colab": {
          "base_uri": "https://localhost:8080/",
          "height": 607
        },
        "id": "2bws1pboX6KP",
        "outputId": "a925e684-e5f3-496e-90bd-b213e1759f56"
      },
      "source": [
        "dataIG_02_test = dataIG_02.dropna()\n",
        "dataIG_02_test[dataIG_02_test.Texto2.str.contains(\"oo\")]"
      ],
      "execution_count": 23,
      "outputs": [
        {
          "output_type": "execute_result",
          "data": {
            "text/html": [
              "<div>\n",
              "<style scoped>\n",
              "    .dataframe tbody tr th:only-of-type {\n",
              "        vertical-align: middle;\n",
              "    }\n",
              "\n",
              "    .dataframe tbody tr th {\n",
              "        vertical-align: top;\n",
              "    }\n",
              "\n",
              "    .dataframe thead th {\n",
              "        text-align: right;\n",
              "    }\n",
              "</style>\n",
              "<table border=\"1\" class=\"dataframe\">\n",
              "  <thead>\n",
              "    <tr style=\"text-align: right;\">\n",
              "      <th></th>\n",
              "      <th>Texto</th>\n",
              "      <th>Etiquetado</th>\n",
              "      <th>Texto2</th>\n",
              "      <th>LenComment</th>\n",
              "    </tr>\n",
              "  </thead>\n",
              "  <tbody>\n",
              "    <tr>\n",
              "      <th>163</th>\n",
              "      <td>Señores upn más respeto para sus alumnos, los ...</td>\n",
              "      <td>Negativo</td>\n",
              "      <td>señor upn respet alumn alumn derech sent burl ...</td>\n",
              "      <td>215</td>\n",
              "    </tr>\n",
              "    <tr>\n",
              "      <th>295</th>\n",
              "      <td>PETICIÓN PARA QUE LAS CLASES SE APLACEN 👉https...</td>\n",
              "      <td>Neutro</td>\n",
              "      <td>peticion clas aplac htpsdocsgooglecomformsdefa...</td>\n",
              "      <td>138</td>\n",
              "    </tr>\n",
              "    <tr>\n",
              "      <th>597</th>\n",
              "      <td>TOO LATE, BRO</td>\n",
              "      <td>Negativo</td>\n",
              "      <td>too lat bro</td>\n",
              "      <td>13</td>\n",
              "    </tr>\n",
              "    <tr>\n",
              "      <th>616</th>\n",
              "      <td>Too late upc</td>\n",
              "      <td>Negativo</td>\n",
              "      <td>too lat upc</td>\n",
              "      <td>12</td>\n",
              "    </tr>\n",
              "    <tr>\n",
              "      <th>982</th>\n",
              "      <td>@korin427 espero que sea a lo high school musi...</td>\n",
              "      <td>Neutro</td>\n",
              "      <td>esper high school musical</td>\n",
              "      <td>39</td>\n",
              "    </tr>\n",
              "    <tr>\n",
              "      <th>1267</th>\n",
              "      <td>Woow me gusta 💗 i lobr ups xd</td>\n",
              "      <td>Positivo</td>\n",
              "      <td>woow gust i lobr ups xd</td>\n",
              "      <td>28</td>\n",
              "    </tr>\n",
              "    <tr>\n",
              "      <th>1297</th>\n",
              "      <td>Yoo 🙋🏻‍♀️</td>\n",
              "      <td>Positivo</td>\n",
              "      <td>yoo ‍️</td>\n",
              "      <td>6</td>\n",
              "    </tr>\n",
              "    <tr>\n",
              "      <th>1403</th>\n",
              "      <td>Yoo😍</td>\n",
              "      <td>Positivo</td>\n",
              "      <td>yoo</td>\n",
              "      <td>3</td>\n",
              "    </tr>\n",
              "    <tr>\n",
              "      <th>1414</th>\n",
              "      <td>Yoo</td>\n",
              "      <td>Positivo</td>\n",
              "      <td>yoo</td>\n",
              "      <td>3</td>\n",
              "    </tr>\n",
              "    <tr>\n",
              "      <th>1588</th>\n",
              "      <td>Hola, somos book medic y llevamos 3 décadas en...</td>\n",
              "      <td>Neutro</td>\n",
              "      <td>hol book medic llev dec are vent libr medicin ...</td>\n",
              "      <td>140</td>\n",
              "    </tr>\n",
              "    <tr>\n",
              "      <th>1829</th>\n",
              "      <td>https://images.app.goo.gl/9eUueCmwhKLCRJB69</td>\n",
              "      <td>Neutro</td>\n",
              "      <td>htpsimagesapgoogleuecmwhklcrjb</td>\n",
              "      <td>40</td>\n",
              "    </tr>\n",
              "    <tr>\n",
              "      <th>1841</th>\n",
              "      <td>Subir al burro en Roosevelt era una hazaña, yo...</td>\n",
              "      <td>Positivo</td>\n",
              "      <td>sub bur roosevelt hazañ tom lim calla si quer ...</td>\n",
              "      <td>183</td>\n",
              "    </tr>\n",
              "    <tr>\n",
              "      <th>2296</th>\n",
              "      <td>Al pastoo❤️❤️</td>\n",
              "      <td>Positivo</td>\n",
              "      <td>pastoo️️</td>\n",
              "      <td>11</td>\n",
              "    </tr>\n",
              "    <tr>\n",
              "      <th>2333</th>\n",
              "      <td>https://www.facebook.com/groups/10643794273203...</td>\n",
              "      <td>Neutro</td>\n",
              "      <td>htpswfacebookcomgroupspermalink</td>\n",
              "      <td>73</td>\n",
              "    </tr>\n",
              "    <tr>\n",
              "      <th>2908</th>\n",
              "      <td>La sala de Bloomberg! La Biblioteca central ! ...</td>\n",
              "      <td>Positivo</td>\n",
              "      <td>sal bloomberg bibliotec central amo pucp ️</td>\n",
              "      <td>61</td>\n",
              "    </tr>\n",
              "    <tr>\n",
              "      <th>3045</th>\n",
              "      <td>@maira.mava love uuuu to the moon</td>\n",
              "      <td>Positivo</td>\n",
              "      <td>lov u to the moon</td>\n",
              "      <td>18</td>\n",
              "    </tr>\n",
              "    <tr>\n",
              "      <th>3127</th>\n",
              "      <td>@erik_lino_r ok, boomer</td>\n",
              "      <td>Neutro</td>\n",
              "      <td>ok boom</td>\n",
              "      <td>10</td>\n",
              "    </tr>\n",
              "    <tr>\n",
              "      <th>3218</th>\n",
              "      <td>Quedé shook con el conejo</td>\n",
              "      <td>Neutro</td>\n",
              "      <td>qued shook conej</td>\n",
              "      <td>25</td>\n",
              "    </tr>\n",
              "  </tbody>\n",
              "</table>\n",
              "</div>"
            ],
            "text/plain": [
              "                                                  Texto  ... LenComment\n",
              "163   Señores upn más respeto para sus alumnos, los ...  ...        215\n",
              "295   PETICIÓN PARA QUE LAS CLASES SE APLACEN 👉https...  ...        138\n",
              "597                                       TOO LATE, BRO  ...         13\n",
              "616                                        Too late upc  ...         12\n",
              "982   @korin427 espero que sea a lo high school musi...  ...         39\n",
              "1267                      Woow me gusta 💗 i lobr ups xd  ...         28\n",
              "1297                                          Yoo 🙋🏻‍♀️  ...          6\n",
              "1403                                               Yoo😍  ...          3\n",
              "1414                                                Yoo  ...          3\n",
              "1588  Hola, somos book medic y llevamos 3 décadas en...  ...        140\n",
              "1829        https://images.app.goo.gl/9eUueCmwhKLCRJB69  ...         40\n",
              "1841  Subir al burro en Roosevelt era una hazaña, yo...  ...        183\n",
              "2296                                      Al pastoo❤️❤️  ...         11\n",
              "2333  https://www.facebook.com/groups/10643794273203...  ...         73\n",
              "2908  La sala de Bloomberg! La Biblioteca central ! ...  ...         61\n",
              "3045                  @maira.mava love uuuu to the moon  ...         18\n",
              "3127                            @erik_lino_r ok, boomer  ...         10\n",
              "3218                          Quedé shook con el conejo  ...         25\n",
              "\n",
              "[18 rows x 4 columns]"
            ]
          },
          "metadata": {},
          "execution_count": 23
        }
      ]
    },
    {
      "cell_type": "code",
      "metadata": {
        "colab": {
          "base_uri": "https://localhost:8080/"
        },
        "id": "XnO4yXegpZYj",
        "outputId": "6f667742-29f5-44d1-8e66-7e3cfd8a0f8b"
      },
      "source": [
        "#Eliminando Comentario vacio\n",
        "dataIG_03 = dataIG_02.dropna()\n",
        "print(dataIG_02.shape)\n",
        "print(dataIG_03.shape)"
      ],
      "execution_count": 24,
      "outputs": [
        {
          "output_type": "stream",
          "name": "stdout",
          "text": [
            "(3259, 4)\n",
            "(3258, 4)\n"
          ]
        }
      ]
    },
    {
      "cell_type": "markdown",
      "metadata": {
        "id": "vqqNHPRfmavc"
      },
      "source": [
        "##Visualización de datos"
      ]
    },
    {
      "cell_type": "code",
      "metadata": {
        "colab": {
          "base_uri": "https://localhost:8080/"
        },
        "id": "JiCu_7Dpypvr",
        "outputId": "26d51613-a3e5-470e-f7a5-168b4c78fadc"
      },
      "source": [
        "tokens = []\n",
        "\n",
        "for j in range(dataIG_03.shape[0]):\n",
        "  aux_text= dataIG_03.Texto2.iloc[j]\n",
        "  aux = word_tokenize(aux_text, 'spanish')\n",
        "  for k in aux:\n",
        "    tokens.append(k)\n",
        "print(tokens)"
      ],
      "execution_count": 25,
      "outputs": [
        {
          "output_type": "stream",
          "name": "stdout",
          "text": [
            "['much', 'graci', 'felicit', 'gran', 'trabaj', 'alexis', 'orgulloupn', 'felic', 'excelent', 'trabaj', 'felicit', 'fotograf', 'sal', 'herm', 'much', 'graci', '️', 'crack', 'wow', 'crack', 'tremend', 'geni', 'eow', 'cap', 'tmb', 'herman', 'vam', 'mejor', 'herman', 'vist', 'espectacul', 'genial', 'cap', 'herm', 'fot', 'geni', 'wow', 'sup', 'cap', 'crack', 'felic', 'fotaz', 'excelent', 'fotograf', 'felic', 'cuarenten', 'injust', 'pong', 'fech', 'pag', 'cuand', 'trabaj', 'ingres', 'conscient', 'mund', 'pas', 'gust', 'elenc', 'danz', 'selecion', 'varon', 'cas', 'elenc', 'danz', 'elenc', 'danz', 'genial', 'futbol', 'jajaj', 'andas', 'jajaj', 'fans', 'jajajaj', 'publiqu', 'jueg', 'part', 'verl', 'felicit', 'varon', 'exact', 'hac', 'particip', 'ide', 'tbm', 'quier', 'particip', 'algun', 'info', 'convocatori', 'inici', 'cad', 'cicl', 'pued', 'acercart', 'oficin', 'vid', 'universitari', 'campus', 'pre', 'inscripcion', 'prueb', 'tecnic', 'esper', 'form', 'equip', 'brav', 'inform', 'gust', 'form', 'part', 'equip', 'deberi', 'ten', 'jud', 'bien', 'sobrin', 'salg', 'gordit', 'wapaax', 'bie', 'ahi', 'hag', 'quier', 'pertenec', 'jajajaj', 'etiquetenl', 'pe', 'v', 'payas', 'veo', 'v', 'felic', 'chic', 'alto', '️️️', 'mir', 'si', 'selecion', 'voley', 'tbm', 'quier', 'particip', 'futbol', 'femenin', 'epa', 'niñ', 'graci', 'precios', '️', '️', 'bkarlaps️️️', 'diabl', 'form', 'equip', 'varon', 'quier', 'particip', 'convocatori', 'felicit', 'exit', 'mejor', 'moment', '️', 'bachill', 'upn', 'universidadprivadadelnort', 'gradu', 'tod', 'carer', 'profesional', 'campus', 'trujill', 'administr', 'segur', 'much', 'graci', 'felic', 'tod', 'carer', 'profesional', 'campus', 'trujill', 'carer', 'enis', 'muer', 'pagin', 'univers', 'supuest', 'graduand', 'campus', 'lim', 'ceremoni', 'sab', 'culminarom', 'sed', 'oliv', 'realiz', 'igual', 'ceremoni', 'graduacion', 'asi', 'graduacion', 'trujill', 'trujill', 'obvi', 'amig', 'futur', 'futur', 'pued', 'compart', 'usand', 'graduacionupn', 'graci', 'pued', 'mand', 'fot', 'graduacion', 'si', 'estrateg', 'jaj', 'año', 'felic', 'orgull', 'logr', '\\u200d\\u200d', 'hermos', 'graduand', 'felic', 'p', 'asu', 'increibl', 'choquin', 'proyect', 'braz', 'robot', 'invent', 'antigu', '\\u200d️', 'pues', 'hijit', 'veo', 'notici', 'bravaz', 'excelent', 'joven', 'sig', 'asi', 'busc', 'innov', 'transform', 'socied', 'exit', 'sub', 'link', 'vide', 'verl', 'felic', 'chic', 'felic', 'excelent', 'felic', 'chic', 'bien', 'merecido️', '️', 'genial', 'voy', 'luxh', 'ultim', 'v', 'basquet', 'dam', 'xd', 'emocion', 'partidobrav', 'chic', 'upn', 'campeon', 'si', 'ps', 'manit', 'rob', 'triunf', 'sab', 'pas', 'manit', 'gan', 'xd', 'brav', 'chic', 'orgull', 'felic', 'guap', 'vam', 'pupy', 'vam', 'fabian', 'darl', 'ultim', 'alient', 'sab', 'cae', 'pued', 'concentrat', 'mil', 'exit', 'pued', 'crack', 'exit', 'vam', 'fabian', 'equip', 'upn', 'contig', 'encant', 'panamericanosn', 'quier', 'acabenestoy', 'viend', 'fom', 'peru', 'gan', 'oro', 'katav', 'upncon', 'representantenuestr', 'represent', 'vam', 'fabi', 'vamosperu', 'vamosupn', 'buen', 'vibr', 'señor', 'upn', 'respet', 'alumn', 'alumn', 'derech', 'sent', 'burl', 'part', 'usted', 'fech', 'coordin', 'respuest', 'colabor', 'u', 'irisori', 'pension', 'sig', 'aumentamd', 'chic', 'q', 'rar', 'porq', 'arquitectur', 'si', 'pued', 'hac', 'intercambi', 'academ', 'rar', 'lq', 'mencion', 'q', 'sep', 'pued', 'hac', 'intercambi', 'dobl', 'titul', 'tod', 'carer', 'clar', 'acredit', 'cind', 'respald', 'alumn', 'intercambi', 'internacional', 'dobl', 'titul', 'mencion', 'bien', 'sin', 'acredit', 'carer', 'llev', 'arquitectur', 'ingieneriaetcest', 'acredit', 'certif', 'formacion', 'calid', 'culmin', 'carer', 'respald', 'buen', 'busqu', 'acredit', 'tod', 'carer', 'cind', 'sol', 'acredit', 'alumn', 'pued', 'particip', 'program', 'intercambi', 'semestr', 'univers', 'latinoamerican', 'import', 'acredit', 'carer', 'profesional', 'ofrec', 'puest', 'ello', 'asegur', 'carer', 'eleg', 'respald', 'peruan', 'garant', 'formacion', 'calid', 'asi', 'egres', 'preferent', 'hor', 'insert', 'ambit', 'laboral', 'culmin', 'carer', 'ate', 'estudi', 'administr', 'marketing', 'sed', 'sjl', 'ciert', 'carer', 'acredit', 'sin', 'upn', 'vend', 'upn', 'excelent', 'cas', 'estudi', 'preocup', 'graci', 'amig', 'vi', 'felic', 'amig', 'logr', 'deb', 'acredit', 'carer', 'vend', 'acredit', 'carer', 'orgull', 'excelent', 'van', 'vend', 'elimin', 'virtual', 'escog', 'primer', 'opcion', 'educ', 'ahor', 'sol', 'sient', 'indign', 'si', 'upc', 'ne', 'represent', 'mal', 'tard', 'ten', 'empat', 'escuch', 'alumn', 'haz', 'foment', 'aquell', 'valor', 'anclad', 'progres', 'habl', 'curs', 'exiget', 'exig', 'alumn', 'innov', 'mism', 'upc', 'motiv', 'cad', 'encuest', 'coloc', 'jamas', 'recomend', 'upc', 'herman', 'suspend', 'dias', 'esper', 'recolect', 'firm', 'upc', 'pronunci', 'aplac', 'clas', 'palabr', 'abran', 'univers', 'ten', 'alumn', 'plat', 'v', 'falt', 'empat', 'haci', 'person', 'estan', 'protest', 'derech', 'consider', 'algun', 'tan', 'inconscient', 'upn', 'aplaz', 'clas', 'upc', 'decepcion', 'sient', 'opresion', 'falt', 'coherent', 'discurs', 'suel', 'ofrec', 'univers', 'lad', 'dic', 'favor', 'desaroll', 'pais', 'libert', 'expresion', 'lad', 'emit', 'pronunci', 'sup', 'tardi', 'vez', 'ignor', 'propi', 'comun', 'estudiantil', 'solicit', 'mayor', 'comprension', 'represent', 'estudi', 'mientr', 'amig', 'ariesg', 'vid', 'pais', 'escuch', 'ello', 'hac', 'sent', 'simpl', 'maquin', 'consum', 'retractat', 'upc', 'muestr', 'interes', 'solidar', 'ocur', 'pais', 'duel', 'indiferent', 'merec', 'representacionapoyan', 'pod', 'apoy', 'vergüenz', 'tard', 'deb', 'ser', 'respuest', 'opinion', 'public', 'pronunci', 'despues', 'critic', 'babos', 'ah', 'cobr', 'pf', 'porfin', 'ped', 'invit', 'z', 'si', 'clas', 'csm', 'upc', 'dos', 'dias', 'suficient', 'proces', 'dos', 'muert', 'desaparec', 'crisis', 'nacional', 'entiend', 'afect', 'sol', 'psicolog', 'sin', 'tambi', 'fisic', 'pued', 'ser', 'indiferent', 'pais', 'hermanxs', 'hor', 'lleg', 'pinch', 'comport', 'univers', 'verd', 'tard', 'encim', 'tibi', 'vergüenz', 'upc', 'pronunci', 'tard', 'tal', 'rat', 'gobiern', 'tan', 'chup', 'huev', 'tard', 'habl', 'casi', 'consum', 'golpist', 'renunc', 'falt', 'valor', 'empat', 'upcbrillasportuausent', 'tard', 'demuestr', 'fin', 'si', 'lucrat', 'tibi', 'upcaplacenestaseman', 'respald', 'upc', 'exiget', 'innov', 'ah', 'exig', 'pag', 'dia', 'innov', 'tremend', 'aument', 'pension', 'cad', 'año', 'graci', 'avergüenz', 'cer', 'empat', '️️️️', 'monton', 'text', 'mensaj', 'clar', 'tibi', 'upc', 'text', 'dic', 'señor', 'sac', 'comunic', 'pronunci', 'denunci', 'acos', 'profesor', 'dos', 'dias', '“', 'lut', '”', 'usted', 'vergüenz', 'cual', 'postur', 'dond', 'disculp', 'habert', 'pronunci', 'dias', 'vergüenz', 'pas', 'van', 'sub', 'pension', 'veran', 'ocur', 'nadi', 'dic', 'baj', 'consider', 'dejenl', 'siqu', 'fin', 'habl', 'mud', 'sab', 'si', 'descuent', 'pension', 'emergent', 'golpist', 'tod', 'univers', 'priv', 'detras', 'plat', 'unic', 'interes', 'interes', 'alumn', 'trabaj', 'verguenz', 'vari', 'peor', 'contact', 'web', 'canal', 'atencion', 'pesim', 'servici', 'upc', 'represent', 'text', 'dic', 'represent', 'algun', 'tip', 'marketing', 'pesim', 'deb', 'dud', 'demasi', 'tard', 'poc', 'empat', 'tibi', 'siempr', 'mur', 'dos', 'joven', 'recien', 'aparec', 'tibi', 'siempr', 'alumn', 'desaparec', 'caraj', 'usted', 'si', 'tard', 'sig', 'ejempl', 'suspend', 'clas', 'seman', 'hiz', 'mundial', 'mayor', 'deb', 'hac', 'ahor', 'mas', 'empati', 'favor', 'tard', 'ahor', 'sub', 'coch', 'decepcion', 'vergüenz', 'estudi', 'upc', 'univers', 'dic', 'form', 'lider', 'socied', 'involucr', 'socied', 'peruan', 'pes', 'crisis', 'viv', 'univers', 'empres', 'sol', 'piens', 'lucr', 'mensaj', 'demuestr', 'lastim', 'upc', 'recien', 'muert', 'da', 'vergüenz', 'ser', 'alumn', 'pais', 'necesit', 'tibi', 'vergüenz', 'comunic', 'decepcion', 'univers', 'upcbrillasportuausent', 'upcmeduel', 'pra', 'emit', 'avis', 'amenaz', 'expulsion', 'sancion', 'segun', 'bendit', 'reglament', 'si', 'tiembl', 'man', 'verd', 'tip', 'habl', 'autor', 'da', 'mied', 'deb', 'ser', 'rueg', 'dios', 'lleg', 'hor', 'habl', 'contrat', 'corupt', 'tiembl', 'voz', 'volunt', 'facil', 'pronunci', 'ahorit', 'tom', 'dos', 'vid', 'decen', 'her', 'desparec', 'com', 'pued', 'form', 'gent', 'aprend', 'dia', 'manifest', 'tibi', 'upc', 'vas', 'flor', 'palabr', 'vac', 'anunci', 'vaci', 'trabaj', 'qu', 'text', 'tan', 'tibi', 'vergüenz', 'pronunci', 'situacion', 'cobr', 'toqu', 'hac', 'vergüenz', 'ser', 'egres', 'decepcion', 'upc', 'fri', 'text', 'ex', 'upcbrillasportuausent', 'deberi', 'dar', 'minim', 'seman', 'protest', 'necesit', 'tiemp', 'comunic', 'dic', 'decepcion', '️️️', 'deb', 'manifest', 'respald', 'alumn', 'valor', 'sal', 'call', 'luch', 'x', 'ide', 'defend', 'pais', 'expuls', 'alumn', 'dan', 'opinionindign', 'acerc', 'pas', 'pais', 'libert', 'libr', 'expresion', 'upc', 'univers', 'viol', 'derech', '️️️', 'insens', 'comunic', 'muestr', 'vergüenz', 'aprend', 'trist', 'cas', 'estudi', 'actitud', 'tan', 'deplor', 'upcbrillasportuausent', 'tibi', 'poc', 'palabr', 'sig', 'estudi', 'pagan', 'jod', 'horibl', 'apoy', 'estudi', 'ido', 'march', 'ser', 'opinion', 'tard', 'cobr', 'rapidit', 'dic', 'mensaj', 'recien', 'tibi', 'anter', 'dij', 'sab', 'usted', 'parec', 'tampoc', 'gran', 'maner', 'lav', 'man', 'upc', 'firm', 'peticion', 'univers', 'pued', 'pronunci', 'aun', 'asi', 'ajen', 'pas', 'pais', 'dej', 'dej', 'des', 'direct', 'parec', 'viv', 'realid', 'distint', 'nisiqu', 'part', 'comun', 'universitari', 'pen', 'pertenec', 'institu', 'asi', 'xd', 'laupcnomerepresent', 'parec', 'incoherent', 'si', 'comprend', 'joven', 'cual', 'form', 'pensamient', 'critic', 'puest', 'valent', 'dignid', 'import', 'ahor', 'quier', 'entend', 'tar', 'academ', 'pod', 'culmin', 'dobl', 'discurs', 'sol', 'demuestr', 'vam', 'bien', 'socied', 'flor', 'aportex', 'mehqu', 'trist', 'represent', 'represent', 'empati', 'pued', 'preocup', 'vez', 'salud', 'mental', 'alumn', 'decepcion', 'vayans', 'mierd', 'clar', 'si', 'pued', 'cancel', 'clas', 'part', 'futbol', '“', 'import', '”', 'realment', 'import', 'tibi', 'represent', 'empres', 'mrd', 'quem', 'demasi', 'tard', 'upc', 'podras', 'ser', 'alma', 'mat', 'decepcion', 'tibi', '\\u200d️', 'mundial', 'suspend', 'clas', 'peticion', 'clas', 'aplac', 'htpsdocsgooglecomformsdefaipqlsdtetgboqhofwbatlcfhdxrmqwayvluxfnsfxrqdqviewform', 'decepcionupc', 'demasi', 'tard', 'univers', 'prefier', 'cancel', 'clas', 'part', 'futbol', 'hac', 'mes', 'tard', 'lueg', 'sig', 'upc', 'esper', 'nom', 'lueg', 'toc', 'uds', 'ladron', 'hsdp', 'tard', 'upc', 'dias', 'tard', 'graci', 'aplac', 'clas', 'impos', 'concentr', 'ahor', 'empat', 'hag', 'verd', 'tibi', 'hiz', 'falt', 'muert', 'pronunci', 'empres', 'monton', 'sol', 'vel', 'interes', 'import', 'alumn', 'sol', 'bolsill', 'despreci', 'total', 'acuerd', 'text', 'vaci', 'comunic', 'dic', 'todav', 'public', 'tard', 'graci', 'upc', 'ser', 'tibi', 'tard', 'lej', 've', 'indiferent', 'cancel', 'casi', 'tod', 'clas', 'peru', 'jug', 'mundial', 'ple', 'catastrof', 'nacional', 'dan', 'comunic', 'muestr', 'empat', 'graci', 'barc', 'hund', 'medi', 'cubr', 'lleg', 'demor', 'tibi', 'comunic', 'empat', 'alumn', 'tibi', 'tibi', 'mierd', 'insens', 'comunic', 'decepcion', 'flor', 'monse', 'vergüenzaupc', 'trist', 'asi', 'cobr', 'luc', 'curs', 'dejam', 'protest', 'derech', 'mejor', 'dig', 'upcnomerepresent', 'pa', 'sient', 'represent', 'univers', 'habl', 'demasi', 'tard', 'sol', 'sum', 'merin', 'renunci', 'asco', 'principi', 'democrat', 'encarg', 'atencion', 'psicopedagog', 'u', 'podr', 'inform', 'respons', 'comunic', 'com', 'coyuntur', 'actual', 'afect', 'alumn', 'dig', 'parec', 'autor', 'pertinent', 'cuent', 'relacion', 'situacion', 'actual', 'emocion', 'tra', 'consig', 'indign', 'hag', 'caden', 'chic', 'pud', 'ser', 'ver', 'si', 'abland', 'llam', 'corazon', 'indign', 'cuant', 'hipocres', 'text', 'chic', 'pud', 'ser', 'si', 'mor', 'vas', 'ten', 'diner', 'unic', 'preocup', 'supon', 'termin', 'clas', 'altos', 'estandar', 'academ', 'medi', 'crisis', 'angusti', 'tan', 'teribl', 'aplaz', 'dias', 'cicl', 'brind', 'espaci', 'protest', 'expres', 'tibi', 'asco', 'sol', 'pid', 'dias', 'entreg', 'luch', 'pra', 'usted', 'tranquil', 'necesit', 'apoy', 'real', 'mir', 'alumn', 'luch', 'democraci', 'respald', 'import', 'coyuntur', 'sal', 'march', 'vam', 'upc', 'respald', 'alumn', 'sal', 'march', 'buen', 'pertenezc', 'cag', 'univers', 'siempr', 'tard', 'much', 'carenci', 'empat', 'text', 'oportun', 'mor', 'herman', 'peruan', 'mand', '“', 'comunic', '”', 'palabr', 'necesit', 'ser', 'acompañ', 'acion', 'verdader', 'mrd', 'val', 'seri', 'sol', 'interes', 'diner', 'lastim', 'das', 'upc', 'pen', 'hag', 'vist', 'gord', 'interes', 'personal', 'econom', 'sient', 'avergonz', 'cas', 'estudi', 'tard', 'pospong', 'clas', 'aplac', 'clas', 'si', 'igual', 'pag', 'diciembr', 'comunic', 'mrd', 'dic', 'tard', 'upc', 'univers', 'decepcion', 'trist', 'falt', 'empat', 'situacion', 'tard', 'mejor', 'hag', 'ningun', 'comunic', 'tard', 'manit', 'tard', 'vergüenz', 'das', 'dic', 'sab', 'tibi', 'nunc', 'hac', 'si', 'hac', 'tard', 'asi', 'cas', 'vergüenz', 'da', 'empres', 'gent', 'desaparec', 'form', 'part', 'comun', 'universitari', 'sol', 'envi', 'buen', 'anim', 'apoy', 'tibi', 'upc', 'pech', 'fri', 'dan', 'asco', 'educ', 'superior', 'lut', 'indiferent', 'upc', 'disculp', 'inconvenient', 'manifest', 'derech', 'ciudadan', 'peruan', 'solicit', 'aplac', 'clas', 'examen', 'final', 'seman', 'unic', 'hac', 'cambi', 'color', 'loguit', 'pretend', 'hic', 'suficient', 'indiferent', 'muestr', 'increibl', 'vergüenz', 'falt', 'empat', 'pospong', 'clas', 'alumn', 'pucp', 'univers', 'preocup', 'salud', 'mental', 'alumn', 'dio', 'pas', 'par', 'universitari', 'si', 'import', 'salud', 'mental', 'alumn', 'vel', 'foment', 'reflexion', 'luch', 'derech', 'den', 'pas', 'par', 'universitari', 'indiferent', 'ignor', 'alumn', 'empres', 'hiz', 'peru', 'poblacion', 'decepcion', 'alma', 'mat', 'mor', 'pronunci', 'asco', 'upc', 'joven', 'her', 'nombr', 'llam', 'inti', 'sotel', 'camarg', 'jack', 'bryan', 'pint', 'sanchez', 'palt', 'escuch', 'alumn', 'sal', 'q', 'march', 'pais', 'mayor', 'consider', 'aplac', 'clas', 'horibl', 'resolv', 'examen', 'mierd', 'estabil', 'mental', 'suel', 'mientr', 'asesin', 'herman', 'sal', 'march', 'recien', 'pronunci', 'si', 'favor', 'democraci', 'dan', 'facil', 'ejerc', 'derech', 'protest', 'tiemp', 'tan', 'turbi', 'tibi', 'buen', 'mensaj', 'si', 'piens', 'ayud', 'estudi', 'manisfest', 'part', 'upc', 'part', 'brig', 'manisfest', 'virtual', 'fisic', 'pur', 'text', 'dic', 'especif', 'fri', 'fri', 'tardon', 'insens', 'sent', 'estudi', 'upc', 'represent', 'pa', 'mejor', 'publiqu', 'mrd', 'mejor', 'public', 'suspend', 'clas', 'demasi', 'tard', 'upc', 'tard', 'lastim', 'pur', 'text', 'pospong', 'clas', 'exig', 'hoy', 'regres', 'cas', 'seri', 'pronunci', 'val', 'mism', 'hab', 'hech', 'oe', 'manin', 'partidit', 'hac', 'falt', 'dos', 'muert', 'hac', 'vigil', 'alumn', 'pen', 'das', 'upc', 'dios', 'cuant', 'habr', 'pag', 'call', 'call', 'alumn', 'pen', 'das', 'sincer', 'upc', 'sient', 'indign', 'univers', 'alma', 'mat', 'tom', 'postur', 'diferent', 'univers', 'comienz', 'necesit', 'respald', 'apoy', 'embarg', 'suced', 'comunic', 'salud', 'bander', 'vergüenz', 'asco', 'dan', 'upc', 'represent', 'upc', 'opin', 'tard', 'tristez', 'text', 'da', 'vergüenz', 'upc', 'represent', 'pued', 'ser', 'tan', 'indiferent', 'alumn', 'luch', 'pais', 'usted', 'sol', 'escrib', 'web', 'valor', 'hart', 'egres', 'upc', 'tibi', 'te', 'estudi', 'univers', 'desaparec', 'favor', 'mas', 'solidar', 'estudi', 'her', 'hospitaliz', 'aun', 'segu', 'sal', 'call', 'dej', 'sabor', 'comunic', 'dic', 'palabr', 'fond', 'alma', 'mat', 'cos', 'qued', 'cort', 'demasi', 'tard', 'pronunci', 'text', 'jajaja', 'cag', 'man', 'q', 'buen', 'q', 'estudi', 'basura', 'alumn', 'expon', 'march', 'ello', 'pued', 'entreg', 'trabaj', 'encuentr', 'condicion', 'realiz', 'suspend', 'clas', 'seman', 'parec', 'sol', 'ven', 'ingres', 'cuidadan', 'tard', 'dias', 'tard', 'empat', 'cobr', 'pension', 'coyuntur', 'tan', 'dificil', 'vergüenz', 'univers', 'pospon', 'clasesal', 'men', 'seman', 'comienz', 'hag', 'sal', 'march', 'pais', 'apoy', 'mental', 'moment', 'hac', 'trabaj', 'siempr', 'tard', 'upc', 'cre', 'mensaj', 'neutral', 'enseñ', 'upc', 'form', 'ir', 'encontr', 'sistem', 'indiferent', 'sig', 'clas', 'si', 'mientr', 'compatriot', 'compañer', 'sal', 'call', 'text', 'dic', 'x', 'upc', 'represent', 'suspend', 'clas', 'ir', 'dar', 'tiemp', 'patri', 'esper', 'dar', 'control', 'calific', '️️️', 'demaai', 'tard', 'i', 'text', 'dic', 'hueve', 'comunic', 'men', 'hag', 'control', 'recuper', 'fech', 'crisis', 'polit', 'hag', 'mejor', 'saqu', 'upc', 'mism', 'siempr', 'lanz', 'comunic', 'tardi', 'mism', 'flor', 'siempr', 'despues', 'presion', 'alumn', '\\u200d️', 'univers', 'brillocpor', 'ausenci', 'aprend', 'cat', 'dos', 'muert', 'esper', 'peruan', 'cayeron', 'luch', 'democraci', 'luch', 'usted', 'dijeron', 'decepcion', 'esper', 'pronunci', 'cre', 'verdader', 'valor', 'esper', 'pront', 'den', 'razon', 'segu', 'creyend', 'usted', 'text', 'vaci', 'reprim', 'reglament', 'proselit', 'polit', 'deb', 'apoy', 'cas', 'educ', 'pal', 'cul', 'pospong', 'entreg', 'trabaj', 'tard', 'upc', 'parec', 'realment', 'apoy', 'comunic', 'dic', 'despues', 'dos', 'muert', 'tant', 'reprension', 'lleg', 'tard', 'fals', 'sent', 'pesam', 'tard', 'debat', 'ide', 'dic', 'sinvergüenz', 'lin', 'vez', 'desacredit', 'protest', 'infelic', 'tard', 'upc', 'favor', 'comienc', 'ten', 'consider', 'estudi', 'vist', 'apoy', 'public', 'estudi', 'desaparec', 'posibl', 'despues', 'casi', 'seman', 'recien', 'pronunci', 'comentari', 'val', 'comunic', 'intrascendent', 'debil', 'tard', 'cre', 'enseñ', 'carer', 'comunicacion', 'imag', 'empresarial', 'q', 'opin', 'usted', 'mism', 'dic', 'nadi', 'deb', 'socav', 'derech', 'libert', 'expresion', 'esper', 'manifest', 'algun', 'opinion', 'gust', 'veng', 'trat', 'amedentr', 'call', 'har', 'upc', 'indign', 'vergüenzaupc', 'cad', 'vez', 'decepcion', 'tard', 'demasi', 'tard', 'mal', 'vergüenz', 'libert', 'expresion', 'usted', 'sancion', 'toc', 'tem', 'polit', 'brindan', 'punt', 'vist', 'upc', 'brill', 'ausenci', 'pur', 'flor', 'cer', 'empat', 'upc', 'comunic', 'copyp', 'dijeron', 'seman', 'mientr', 'ocur', 'cos', 'pronunci', 'lueg', 'muert', 'irte', 'segur', 'lament', 'dic', 'intent', 'sent', 'trabaj', 'noch', 'dsps', 'sal', 'protest', 'impos', 'dolor', 'cuerp', 'migrañ', 'sobretod', 'preocupacion', 'pais', 'univers', 'muestr', 'apoy', 'estudi', 'da', 'vergüenz', 'lament', 'pronunci', 'tan', 'tard', 'aun', 'baj', 'presion', 'acontec', 'dia', 'ayer', 'estudi', 'import', 'univers', 'expres', 'frent', 'panoram', 'tan', 'preocup', 'atraves', 'nacion', 'situacion', 'institu', 'deb', 'ser', 'empat', 'frustracion', 'estudi', 'brind', 'heramient', 'coherent', 'postur', 'tard', 'tard', 'sac', 'reluc', 'comunic', 'dic', 'tard', 'hac', 'not', 'postur', 'frent', 'coyuntur', 'ped', 'inici', 'meduelesupc', 'siempr', 'tibiez', 'falt', 'empat', 'resalt', 'calid', 'upc', 'mejor', 'segu', 'call', 'acostumbr', 'decepcion', 'habl', 'compromis', 'democraci', 'prohib', 'formacion', 'grup', 'estudiantil', 'democrat', 'tard', 'men', 'pospong', 'clas', 'entreg', 'cient', 'joven', 'form', 'institu', 'part', 'gener', 'sient', 'oblig', 'pais', 'dolor', 'asesin', 'com', 'pued', 'estudi', 'si', 'mat', 'empat', 'favor', 'um', 'dich', 'practic', 'upc', 'minim', 'deb', 'suspend', 'seman', 'clas', 'suced', 'upc', 'represent', 'si', 'igual', 'cobr', 'diciembr', 'flor', 'aport', 'tard', 'esper', 'payas', 'indiferent', 'mierd', 'deb', 'form', 'ciudadan', 'critic', 'mism', 'institu', 'exceptu', 'profesor', 'dan', 'espaci', 'acontec', 'clas', 'floras', 'marketing', 'cambi', 'rector', 'avergüenz', 'ser', 'part', 'univers', 'insens', 'mal', 'represent', 'educ', 'superior', 'lut', 'mejor', 'profesional', 'implic', 'ejerc', 'ciudadan', 'activ', 'tempran', 'tem', 'holist', 'sol', 'empat', 'sum', 'bolet', 'cad', 'mes', 'comunic', 'fond', 'negr', 'dic', 'solidar', 'dos', 'herman', 'universitari', 'caid', 'trist', 'upc', 'tibi', 'vayans', 'mierd', 'comunic', 'tardanz', 'tard', 'cobr', 'bolet', 'si', 'pronunci', 'toqu', 'lastim', 'dan', 'esper', 'text', 'mism', 'ahor', 'brill', 'tibiez', 'upc', 'capt', 'nul', 'empat', 'interes', 'unic', 'lucrat', 'alumn', 'luch', 'termin', 'deb', 'permit', 'polit', 'pod', 'proces', 'vez', 'part', 'polit', 'aprovech', 'situacion', 'olvid', 'primer', 'sal', 'comunic', 'ceo', 'rest', 'justif', 'protest', 'lament', 'pas', 'recien', 'pronunci', 'asi', 'polic', 'reprim', 'manifest', 'usted', 'hac', 'alumn', 'sancion', 'expres', 'librement', 'opinion', 'chic', 'invit', 'segu', 'instagram', 'esper', 'univers', 'parec', 'empat', 'part', 'valor', 'intent', 'enseñ', 'tard', 'comentari', 'payas', 'cobard', 'aqu', 'pronunci', 'situacion', 'general', 'educ', 'superior', 'lut', 'deb', 'suspend', 'activ', 'academ', 'seman', 'señal', 'apoy', 'sal', 'protest', 'mayor', 'gent', 'call', 'joven', 'universitari', 'qued', 'cort', 'pronunci', 'upc', 'jod', 'tard', 'comunic', 'tan', 'tibi', 'altur', 'lastim', 'si', 'asi', 'habl', 'democraci', 'respet', 'derech', 'reclam', 'pension', 'ultim', 'hor', 'vergüenz', 'pued', 'dar', 'institu', 'upcnomerepresent', 'sient', 'upc', 'romp', 'corazon', 'alma', 'mat', 'tard', 'postur', 'defin', 'cer', 'empat', 'basur', 'vergüenz', 'jact', 'ten', 'carer', 'period', 'sab', 'dond', 'estudi', 'si', 'quier', 'univers', 'ret', 'desaroll', 'critic', 'pens', 'olvid', 'dic', 'upc', 'sol', 'piens', 'diner', 'si', 'quier', 'pon', 'pens', 'alumn', 'veng', 'quer', 'sorprend', 'demasi', 'tard', 'upc', 'upcnomerepresent', 'indiferent', 'hac', 'diferent', 'trat', 'propi', 'joven', 'educ', 'tard', 'upcbrillasportuausent', 'desperdici', 'dos', 'minut', 'tiemp', 'leyend', 'comunic', 'mensaj', 'vaci', 'forz', 'tard', 'lanz', 'asi', 'tibi', 'vaci', 'habl', 'compromis', 'solidar', 'piens', 'ayud', 'alumn', 'dej', 'pretend', 'crisis', 'afect', 'tal', 'falt', 'enpati', 'univers', 'decepcion', 'solidarizat', 'vam', 'march', 'csmres', 'cobr', 'mrd', 'pued', 'suspend', 'seman', 'clas', 'cun', 'tibi', 'vam', 'qued', 'braz', 'cruz', 'enseñ', 'etic', 'ciudadan', 'si', 'aplic', 'vergüenz', 'nacional', 'despues', 'dias', 'dos', 'muert', 'estudi', 'olvid', 'indiferent', 'haci', 'puebl', 'deb', 'par', 'dias', 'dificil', 'proces', 'suced', 'salud', 'mental', 'salud', 'mental', 'jueg', 'parec', 'tampoc', 'import', 'joven', 'mur', 'joven', 'quer', 'tibi', 'moment', 'duel', 'mat', 'dijeron', 'complic', 'suspend', 'clas', 'tibi', 'gent', 'muert', 'esper', 'rind', 'bien', 'tibi', 'si', 'suficient', 'ver', 'gent', 'mord', 'cov', 'ahor', 'gent', 'muer', 'pais', 'empat', 'sal', 'march', 'mayor', 'joven', 'lleg', 'pinch', 'upc', 'da', 'vergüenz', 'ser', 'alumn', 'institu', 'cad', 'rat', 'pregunt', 'si', 'recomend', 'algun', 'famili', 'amig', 'univers', 'si', 'dud', 'ahor', 'clar', 'upc', 'sol', 'gust', 'lucr', 'import', 'comin', 'alumn', 'upc', 'val', 'pen', 'upclucr', 'pa', 'nisiqu', 'respald', 'auspici', 'primer', 'parec', 'aunqu', 'pronunci', 'dic', 'pio', 'sirv', 'comunic', 'si', 'segu', 'hac', 'trabaj', 'mientr', 'mat', 'text', 'tan', 'tard', 'vergüenz', 'asi', 'quier', 'cre', 'comun', 'estudi', 'empat', 'tach', 'represent', 'upc', 'despues', 'muert', 'demasi', 'tard', 'text', 'aplac', 'clas', 'proces', 'administr', 'alumn', 'egres', 'call', 'siempr', 'tard', 'upc', 'deb', 'ser', 'solidari', 'alumn', 'upcnomerepresent', 'sirv', 'demasi', 'tard', 'lanz', 'comunic', 'necesari', 'esper', 'muer', 'joven', 'pronunci', 'da', 'much', 'pen', 'univers', 'si', 'lanc', 'si', 'voz', 'apoy', 'alumn', 'usted', 'hag', 'siend', 'alma', 'mat', 'men', 'esper', 'apoy', 'asi', 'decepcion', 'upcbrillasportuausent', 'ayud', 'busc', 'desaparec', 'entonc', 'si', 'mor', 'person', 'march', 'pronunci', 'upc', 'siempr', 'tard', 'tard', 'vergüenz', 'upc', 'vas', 'caer', 'igual', 'merin', 'falt', 'empat', 'maxim', 'esplendor', 'inici', 'pandemi', 'avergüenz', 'alumn', 'si', 'valor', 'innov', 'aplic', 'sol', 'cobr', 'imbecil', 'tard', 'tas', 'mal', 'csm', 'tard', 'upc', 'dieron', 'luz', 'verd', 'tiemp', 'pues', 'apoy', 'tiemp', 'suspend', 'clas', 'seman', 'upcbrillaporsuausent', 'dias', 'tard', 'acionar', 'realiz', 'moment', 'lueg', 'muert', 'lueg', 'renunci', 'delet', 'exact', 'ser', 'dia', 'dej', 'pens', 'empres', 'apoy', 'person', 'dan', 'com', 'usted', 'verguenzadeserupcin', 'tres', 'estudi', 'desaparec', 'esper', 'presion', 'manifestart', 'mensaj', 'lleg', 'tard', 'literal', 'muert', 'enter', 'si', 'quier', 'redim', 'verd', 'suspend', 'clas', 'seman', 'pod', 'segu', 'march', 'compet', 'ciudadan', 'upcreinvindicat', 'favor', 'mas', 'tiemp', 'entreg', 'trabaj', 'favor', 'dias', 'tard', 'luch', 'peruan', 'empez', 'hac', 'dias', 'mal', 'upc', 'actu', 'acord', 'benefici', 'comun', 'universitari', 'pospong', 'clas', 'ojal', 'asi', 'fri', 'salon', 'veran', 'recien', 'ahor', 'asco', 'total', 'tard', 'upc', 'vergüenz', 'com', 'van', 'form', 'ciudadan', 'critic', 'integr', 'si', 'apoy', 'alumn', 'afuer', 'call', 'luch', 'derech', 'pais', 'conscient', 'ayud', 'mediant', 'text', 'dic', 'sin', 'aplaz', 'clas', 'seman', 'lin', 'dic', 'parec', 'emit', 'comunic', 'presion', 'mediat', 'upcbrillasportuausent', 'asco', 'asco', 'dan', 'dias', 'comunic', 'indolent', 'firm', 'upcnuncam', 'madr', 'blablabl', 'hac', 'naah', 'pur', 'flor', 'avergonz', 'alma', 'mat', '️', 'dejan', 'sal', 'march', 'aplac', 'clas', 'seman', 'trabaj', 'entreg', 'mientr', 'mat', 'compañer', 'deb', 'darl', 'vergüenz', 'pronunci', 'esper', 'muert', 'envi', '“', 'comunic', '”', 'dic', 'absolut', 'import', 'graci', 'emit', 'import', 'pronunci', 'indiferent', 'mat', 'pued', 'ser', 'ajen', 'coyuntur', 'actual', 'manten', 'exigent', 'entreg', 'graci', 'cul', 'recien', 'f', 'tard', 'lament', 'mostr', 'interes', 'situacion', 'compet', 'afect', 'upcbrillasportuausent', 'tom', 'acion', 'tom', 'posicion', 'pas', 'atras', 'profesor', 'consider', 'sal', 'protest', 'mencion', 'tem', 'quier', 'vas', 'caer', 'upc', 'empat', 'propi', 'alumn', 'ido', 'defend', 'pais', 'maner', 'pacif', 'upcmedecepcion', 'siqu', 'volunt', 'propi', 'realiz', 'comunic', 'tard', 'text', 'dic', 'nada', 'too', 'lat', 'bro', 'desaparec', 'upcin', 'mencion', 'entidad', 'si', 'preocup', 'gent', 'aun', 'estudi', 'estab', 'esper', 'pronunci', 'pospong', 'entreg', 'mor', 'person', 'uds', 'habl', 'asi', 'quier', 'ser', 'univers', 'referent', 'demasi', 'tard', 'dic', 'upc', 'indignat', 'ayer', 'recien', 'quier', 'pronunci', 'hac', 'seman', 'luch', 'derech', 'gobiern', 'ilegitim', 'tod', 'demas', 'univers', 'pronunci', 'upc', 'recien', 'reacion', 'sab', 'cuant', 'estudi', 'pued', 'her', 'desaparec', 'parec', 'ide', 'empati', 'situacion', 'prim', 'moment', 'tard', 'decepcion', 'total', 'vergüenz', 'univers', 'sol', 'sab', 'lucr', 'alma', 'mat', 'aun', 'asi', 'decepcion', 'upc', 'tibi', 'univers', 'carer', 'period', 'usted', 'vergüenz', 'text', 'pud', 'ser', 'vaci', 'algui', 'favor', 'coment', 'si', 'asoci', 'feder', 'sindicat', 'estudi', 'lament', 'comunic', 'upc', 'escuch', 'pid', 'client', 'dig', 'alumn', 'too', 'lat', 'upc', 'vergüenz', 'da', 'pertenec', 'institu', 'tard', 'comunic', 'upc', 'represent', 'm', 'bonit', 'apoy', 'present', 'recien', 'pud', 'logr', 'upc', 'represent', 'jajaj', 'tod', 'vid', 'upc', 'dic', 'siempr', 'decepcion', 'nadi', 'pud', 'hab', 'dich', 'mejor', 'sol', 'demuestr', 'ced', 'presion', 'alumn', 'si', 'verd', 'plant', 'posicion', 'firm', 'situacion', 'unans', 'luch', 'ampli', 'plaz', 'entreg', 'trabaj', 'alumn', 'pod', 'segu', 'march', 'perjudiqu', 'not', 'falt', 'empat', 'tard', 'upc', 'tard', 'vergüenz', 'upc', 'represent', 'indign', 'alta', 'sol', 'atin', 'respond', 'asi', 'recien', 'sab', 'result', 'pronunci', 'necesit', 'entid', 'educ', 'activ', 'compromet', 'socied', 'sient', 'represent', 'univers', 'aplaz', 'clas', 'lament', 'actu', 'tard', 'upcbrillasportuausent', 'burl', 'pronunciament', 'esper', 'muert', 'renunci', 'merin', 'recien', 'comuniqu', 'represent', 'upc', 'duel', 'esper', 'muer', 'joven', 'pronunci', 'tard', 'upc', 'vergüenz', 'lament', 'comunic', 'das', 'ris', 'ctmre', 'jajaj', 'ups', 'recien', 'veo', 'march', 'jej', 'igual', 'jal', 'entiend', 'mayor', 'plaz', 'entreg', 'trabaj', 'quer', 'march', 'democraci', 'inutil', 'ves', 'explor', 'usan', 'blackboard', 'lentitud', 'tibi', 'empat', 'dim', 'upc', 'maner', 'respald', 'estudi', 'reform', 'universitari', 'dio', 'graci', 'estudi', 'sal', 'march', 'hic', 'tard', 'apoy', 'verd', 'baj', 'pension', 'doblec', 'preocupens', 'salud', 'mental', 'estudi', 'si', 'bien', 'clas', 'virtual', 'andar', 'encer', 'influ', 'imaginens', 'sent', 'pas', 'posterg', 'dias', 'clas', 'entreg', 'trabaj', 'va', 'hac', 'dañ', 'indign', 'cad', 'dia', 'cinism', 'manej', 'alucin', 'olvid', 'upc', 'aqui', 'vari', 'profesor', 'proteg', 'victim', 'alumn', 'institu', 'permit', 'agresor', 'sig', 'enseñ', 'demasi', 'tard', 'muert', 'tard', 'deb', 'public', 'hac', 'bastant', 'tiemp', 'esper', 'sangr', 'pas', 'tortug', 'pag', 'escenari', 'congres', 'alarcon', 'parand', 'viaj', 'traj', 'fantasm', 'aspir', 'colabor', 'eficac', 'armo', 'sujet', 'investig', 'toc', 'hac', 'introdu', 'vas', 'flor', 'pur', 'rellen', 'comunic', 'upc', 'parec', 'merin', 'comunic', 'ultim', 'hor', 'tard', 'comunic', 'democraci', 'bas', 'libert', 'expresion', 'usted', 'censur', 'propi', 'alumn', 'sol', 'import', 'plat', 'joven', 'recien', 'ingres', 'univers', 'piensenl', 'bien', 'ingres', 'upc', 'millon', 'altern', 'mejor', 'asegur', 'tard', 'cer', 'inmun', 'polit', 'corupt', 'tard', 'porqu', 'recien', 'manifiest', 'rater', 'decepcion', 'ser', 'estudi', 'upc', 'demasi', 'tard', 'cor', 'seman', 'entreg', 'gent', 'sig', 'call', 'luch', 'tibi', 'cer', 'concord', 'campañ', 'publicitari', '\\u200d️', 'esper', 'moment', 'clar', 'mur', 'joven', 'renunci', 'manuel', 'merin', 'mensaj', 'muestr', 'interes', 'univers', 'siempr', 'tard', 'da', 'much', 'lastim', 'univers', 'pid', 'concienci', 'protest', 'desaparec', 'inclus', 'abus', 'compañer', 'estudi', 'asim', 'dañ', 'mental', 'hech', 'pas', 'dias', 'injustici', 'cicl', 'acab', 'afect', 'pod', 'ser', 'indiferent', 'situacion', 'porfavor', 'comprension', 'upcnomerepresent', 'esper', 'merin', 'recien', 'pronunci', 'amig', 'univers', 'empres', 'llen', 'corupt', 'habl', 'libert', 'expresion', 'pronunci', 'sancion', 'pas', 'tibi', 'comunic', 'exact', 'pod', 'dec', 'sancion', 'mejor', 'coment', 'bro', 'tard', 'vergüenz', 'da', 'ser', 'univers', 'tard', 'vergüenz', 'porqu', 'tan', 'tard', 'respuest', 'tard', 'lament', 'comunic', 'recien', 'ahor', 'tard', 'cre', 'conten', 'chist', 'mencion', 'palabr', 'constitu', 'comunic', 'hab', 'sangr', 'deram', 'recien', 'pronunci', 'pur', 'oportun', 'si', 'verd', 'pens', 'asi', 'dich', 'comienz', 'unic', 'hac', 'qued', 'peor', 'tard', 'upc', 'postpong', 'entreg', 'preocup', 'pais', 'pens', 'termin', 'trabaj', 'tibi', 'tard', 'upc', 'cambi', 'dia', 'pc', 'asi', 'apoy', 'ahor', 'upcin', 'nunc', 'olvid', 'apoy', 'tardi', 'derech', 'protest', 'gobiern', 'corupt', 'tard', 'x', 'upcnomerepresent', 'empat', 'alumn', 'antesdeseruniveritariasoyperuan', 'decepcion', 'ser', 'estudi', 'upc', 'empat', 'alumn', 'tard', 'recien', 'despert', 'comunity', 'manag', 'facil', 'tom', 'postur', 'lueg', 'dos', 'asesinat', 'multipl', 'her', 'tard', 'upc', 'tard', 'mand', 'core', 'bolet', 'ahi', 'si', 'toqu', 'mejor', 'sac', 'ningun', 'comunic', 'xd', 'ahi', 'comp', 'ahi', 'segu', 'final', 'comp', 'sid', 'buen', 'respald', 'march', 'dia', 'juev', 'manifest', 'apoy', 'verd', 'ser', 'tibi', 'madr', 'famili', 'sient', 'decepcion', 'univers', '️️️️', 'esper', 'tardesu', '“', 'deb', '”', 'hab', 'anunci', 'hav', 'dias', 'hiz', 'demostr', 'viv', 'valor', 'proclam', 'usted', 'sid', 'decepcion', 'institu', 'educ', 'ahor', 'facil', 'mostr', 'apoy', 'ahor', 'convien', 'mostr', 'apoy', 'tom', 'postur', 'comienz', 'dej', 'des', 'cas', 'estudi', 'quier', 'consider', 'seri', 'ahor', 'facil', 'sub', 'coch', 'pas', 'tibi', 'usted', 'comunic', 'vaci', 'dic', 're', 'tibi', 'mal', 'upc', 'demasi', 'tard', 'palabr', 'vac', 'aplac', 'clas', 'dejen', 'ser', 'escuch', 'pued', 'ser', 'sig', 'dej', 'trabaj', 'inform', 'tar', 'examen', 'si', 'suced', 'tibi', 'ah', 'upc', 'respald', 'peru', 'necesit', 'pen', 'esper', 'sirv', 'alumn', 'cuent', 'import', 'ten', 'centr', 'feder', 'frent', 'estudiantil', 'univers', 'pued', 'mostr', 'tibi', 'situacion', 'naturalez', 'brill', 'ausenci', 'upc', 'decepcion', 'vergüenz', 'upc', 'vergüenz', 'text', 'dic', 'esper', 'usted', 'institu', 'siempr', 'tard', 'upc', 'da', 'dias', 'pod', 'march', 'pronunci', 'esper', 'usted', 'empat', 'alumn', 'despues', 'dos', 'muert', 'lament', 'parec', 'sharik', 'tard', 'lleg', 'pronunci', 'decepcion', 'tibi', 'siempr', 'tarde\\u200d️', 'tibi', 'tard', 'lastim', 'decepcion', 'cer', 'empat', 'ten', 'lleg', 'punt', 'recien', 'emit', 'comunic', 'decepcion', 'complet', 'tard', 'hoy', 'avergüenz', 'da', 'vergüenz', 'estudi', 'empres', 'mensaj', 'flor', 'sirv', 'tant', 'licenci', 'upc', 'si', 'falt', 'corazon', 'decepcion', 'vez', 'pa', 'siempr', 'demor', 'men', 'cobr', 'ven', 'plat', 'toqu', 'respond', 'ptmr', 'unas', 'tortug', 'comunic', 'innovasportuausent', 'demasi', 'tard', 'decepcion', 'dec', 'egres', 'derech', 'cas', 'estudi', 'march', 'upc', 'reduzc', 'pension', 'conscient', 'tod', 'crisis', 'econom', 'reduc', 'personal', 'requier', 'manten', 'sed', 'van', 'cobr', 'igual', 'pronunci', 'pas', 'desgraci', 'recien', 'pronunci', 'cobard', 'tard', 'deb', 'esper', 'deram', 'sangr', 'hac', 'comunic', 'represent', 'sient', 'orgull', 'cas', 'estudi', 'siempr', 'poniendot', 'band', 'convien', 'nunc', 'apoy', 'inici', 'hic', 'vist', 'gord', 'decepcion', 'upc', 'we', 'stan', 'vas', 'dar', 'seman', 'lut', 'muert', 'joven', 'com', 'estudi', 'demasi', 'diger', 'protest', 'cuest', 'aplaz', 'cicl', 'seman', 'alucin', 'tard', 'upc', 'demasi', 'tard', 'upc', 'bien', 'suspend', 'clas', 'payas', 'mierd', 'oe', 'jot', 'estudi', 'che', 'tibi', 'u', 'decepcion', 'demasi', 'tard', 'pronunci', 'despues', 'asesinat', 'parec', 'falt', 'respet', 'comunic', 'verd', 'usted', 'sol', 'cobr', 'form', 'pens', 'aplaz', 'tod', 'univers', 'c', 'alumn', 'sal', 'march', 'aplac', 'clas', 'seman', 'siempr', 'upc', 'dej', 'clar', 'fin', 'net', 'lucrat', '\\u200d️', 'lament', 'estan', 'dic', 'tard', 'upc', 'sig', 'igual', 'respald', 'alumn', 'estoyenclasesmientrasnosasesin', 'tibi', 'tan', 'tard', 'upc', 'tan', 'tard', 'upcbrillasportuausent', 'dic', 'mierd', 'vergüenz', 'estudi', 'empres', 'demasi', 'tard', 'upc', 'recomiend', 'cojudez', 'siempr', 'tard', 'cobr', 'si', 'rap', 'tibi', 'tard', 'empat', 'alumn', 'sal', 'march', 'moment', 'encontr', 'suficient', 'concentr', 'entreg', 'trabaj', 'final', 'preocup', 'pas', 'pais', 'tard', 'suficient', 'fabric', 'profesional', 'ahor', 'quer', 'ver', 'respald', 'sancion', 'actos', 'polit', 'termin', 'renunci', 'merin', 'meduelesupc', 'comunic', 'da', 'entend', 'hac', 'oblig', 'estudi', 'nac', 'valor', 'univers', 'esper', 'respet', 'libert', 'expresion', 'critiqu', 'clasist', 'indign', 'gener', 'actitud', 'tom', 'luch', 'defiend', 'libert', 'expresion', 'univers', 'sig', 'escond', 'mied', 'dañ', 'interes', 'econom', 'xd', 'despu', 'unmsm', 'na', 'mas', 'voy', 'dec', 'xd', 'fin', 'libert', 'expresion', 'si', 'dic', 'mal', 'univers', 'denunci', 'comunic', 'sheyl', 'mil', 'vec', 'mejor', 'upc', 'tibi', 'fri', 'indiferent', 'cre', 'gran', 'reflexion', 'formacion', 'ciudadan', 'polit', 'promov', 'dentr', 'upc', 'men', 'asi', 'sient', 'podr', 'llev', 'promov', 'inclusion', 'cultur', 'polit', 'dentr', 'univers', 'propon', 'cre', 'sient', 'igual', 'esper', 'pronunci', 'dias', 'defect', 'hoy', 'convicion', 'men', 'tibi', 'total', 'acuerd', 'alma', 'mat', 'realment', 'tibi', 'sid', 'upc', 'indign', 'tard', 'dic', 'copy', 'past', 'original', 'caract', 'cumpl', 'deb', 'civic', 'dificil', 'cumpl', 'tar', 'extiend', 'plaz', 'dic', 'upc', 'joven', 'sal', 'pospong', 'seman', 'entreg', 'text', 'tard', 'necesit', 'posicion', 'ayer', 'recien', 'ahoraqu', 'decepcion', 'tard', 'tant', 'letr', 'pur', 'trist', 'dec', 'siqu', 'univers', 'represent', 'pen', 'recien', 'pronunci', 'siempr', 'tard', 'tmr', 'upc', 'tard', 'decepcion', 'actitud', 'frent', 'problem', 'tard', 'siempr', 'deb', 'suspend', 'dias', 'entreg', 'final', 'parec', 'tod', 'carer', 'pod', 'dar', 'siempr', 'situacion', 'crisis', 'recien', 'vergüenz', 'demasi', 'tard', 'upc', 'deb', 'tom', 'postur', 'hac', 'llam', 'calm', 'institu', 'educ', 'ahor', 'sirv', 'meduelesupc', 'duel', 'upc', 'porl', 'text', 'hor', 'oe', 'pandemi', 'crisis', 'hic', 'absolut', 'ayud', 'alumn', 'ped', 'diner', 'si', 'primer', 'alumn', 'da', 'asco', 'maner', 'actu', 'brill', 'ausenci', 'upc', 'tard', 'tard', 'upc', 'tard', 'comunic', 'dic', 'alumn', 'yend', 'march', 'upc', 'sig', 'igual', 'pas', 'upc', 'hor', 'pronunci', 'tard', 'decepcion', 'upc', 'favor', 'reconoc', 'par', 'dias', 'favor', 'alumn', 'march', 'upc', 'respald', 'alumn', 'compromet', 'defens', 'derech', 'present', 'march', 'recien', 'univers', 'pronunci', 'juev', 'grit', 'luch', 'modifiquel', 'reform', 'universitari', 'den', 'educ', 'calid', 'democraci', 'just', 'tard', 'tard', 'vergüenz', 'hor', 'jaj', 'recien', 'respald', 'alumn', 'upc', 'esper', 'asi', 'habl', 'democraci', 'libert', 'expresion', 'trat', 'amen', 'propi', 'alumn', 'si', 'emit', 'opinion', 'usted', 'gust', 'pen', 'recien', 'pronunci', 'upc', 'veo', 'univers', 'alzad', 'voz', 'decepcion', 'alma', 'mat', 'vergüenz', 'sol', 'interes', 'plat', 'feliz', 'univers', 'mierd', 'libert', 'expresion', 'cicl', 'pas', 'cambi', 'norm', 'derech', 'dec', 'parec', 'amedrent', 'piens', 'alumn', 'estan', 'dand', 'vid', 'peru', 'tibi', 'mierd', 'upcbrillasportuausent', 'tibi', 'siempr', 'tard', 'upc', 'demor', 'vid', 'emit', 'pronunci', 'literal', 'pongans', 'pantalon', 'text', 'dic', 'tard', 'comò', 'siempr', 'nunc', 'dic', 'recien', 'esper', 'muert', 'pronunci', 'pued', 'esper', 'upc', 'pas', 'tibi', 'usted', 'tampoc', 'represent', 'univers', 'mediocr', 'comunic', 'deb', 'hab', 'emit', 'hac', 'dias', 'upc', 'represent', 'dic', 'comunic', 'lleg', 'tard', 'decepcion', 'silenci', 'dias', 'tibi', 'upc', 'tibi', 'siempr', 'tard', 'upc', 'pospong', 'entreg', 'trabaj', 'tard', 'graci', 'supong', 'comunic', 'volunt', 'propi', 'recolect', 'firm', 'upc', 'tom', 'postur', 'acontec', 'recient', 'ahde', 'pas', 'parec', 'sol', 'muert', 'estudi', 'parec', 'suficient', 'lanz', 'comunic', '️', 'val', 'tard', 'nunc', '“', 'graci', 'upc', 'exig', 'innov', '”', 'pas', 'raton', 'expliqu', 'x', 'wsp', 'sol', 'trabaj', 'exposicion', 'examen', 'alumn', 'her', 'desaparec', 'minim', 'pued', 'hac', 'univers', 'jajajajajajaj', 'futbol', 'futbol', 'siempr', 'futbol', 'realment', 'val', 'comin', 'tem', 'habl', 'aqui', 'jajajaj', 'si', 'vas', 'aport', 'callat', 'mejor', 'jajajajaj', 'termin', 'tar', 'despues', 'vas', 'march', 'habl', 'sol', 'gil', 'hic', 'deber', 'empatico️', 'hac', 'trabaj', 'lueg', 'yend', 'march', 'pas', 'tod', 'madrug', 'hac', 'trabaj', 'si', 'vas', 'march', 'sab', 'desgast', 'desg', 'mental', 'lleg', 'cas', 'despues', 'ser', 'gas', 'ver', 'imagen', 'compatriot', 'muert', 'her', 'desaparec', 'sab', 'haz', 'pod', 'ser', 'esper', 'termin', 'trabaja', 'dej', 'inci', 'clas', 'ultim', 'seman', 'jaj', 'excus', 'bro', 'man', 'habl', 'hvds', 'callat', 'pls', 'dim', 'cual', 'estres', 'postraumat', 'facil', 'si', 'organiz', 'podras', 'entreg', 'trabaj', 'leet', 'denuev', 'daras', 'cuent', 'iluminam', 'favor', 'concuerd', 'contig', 'favor', 'uses', 'lenguaj', 'inclus', 'parec', 'ridicul', 'usar', 'x', 'palabr', 'mejor', 'si', 'alumn', 'alumn', 'sol', 'exist', 'dos', 'gener', 'si', 'parec', 'ridicul', 'hag', 'pas', 'respet', 'si', 'algui', 'quier', 'usar', 'cuest', 'respet', 'dic', 'exist', 'gener', 'sol', 'punt', 'realid', 'buen', 'deb', 'respet', 'person', 'viv', 'fantas', 'muchxs', 'alumnxs', 'yend', 'march', 'porfavor', 'pospong', 'dias', 'entreg', 'da', 'dias', 'pod', 'march', 'tem', 'social', 'siempr', 'dand', 'univers', 'tibi', 'mrd', 'pandemi', 'cobr', 'd', 'bolet', 'ahor', 'tampoc', 'empat', 'alumn', 'dond', 'pospong', 'entreg', 'tardanz', 'larg', 'silenci', 'habl', 'fuert', 'cualqui', 'cos', 'pued', 'dec', 'ahor', 'profund', 'decepcion', 'usted', 'fin', 'upc', 'avergüenz', 'comunic', 'dic', 'hor', '\\u200d️\\u200d️\\u200d️', 'opin', 'actu', 'dic', 'presion', 'dig', 'deb', 'ser', 'orgull', 'upc', 'u', '️', '️', '️️', 'excelent', 'profesor', 'orgulloupc', 'cap', 'ojal', 'pronto️️', 'much', 'felic', 'prof', 'roncer', 'much', 'razon', 'agreg', 'funcional', 'especif', 'neces', 'peru', 'pued', 'hac', 'equip', 'mas', 'barat', 'import', 'asi', 'gener', 'empres', 'emple', 'sector', 'tecnolog', 'ahi', 'explic', 'hac', 'maner', 'digital', 'menor', 'cost', 'locual', 'import', 'situacion', 'crisis', 'com', 'llam', 'competent', 'xd', 'porqu', 'cre', 'exist', 'diferent', 'marc', 'cost', 'brav', 'chic', 'excelent', 'profesor', 'namay', '️', 'ps', 'clas', 'respir', 'cardiopulmon', 'felicit', 'buen', 'proyect', 'orgull', 'investigadoresupc', 'felicit', 'adquier', 'cost', 'hol', 'graci', 'pregunt', 'coment', 'ultim', 'version', 'phukuy', 'incopor', 'termometr', 'corporal', 'las', 'oximetr', 'sensor', 'temperatur', 'presion', 'ambiental', 'convirt', 'disposit', 'eficient', 'ser', 'integral', 'econom', 'digital', 'consegu', 'cad', 'caracterist', 'maner', 'independient', 'podr', 'costart', 'esper', 'hab', 'resuelt', 'dud', '️', 'felic', 'sig', 'asi', 'buen', 'imag', 'disposit', 'fich', 'tecnic', 'quiz', 'ayud', 'visualiz', 'entend', 'espirometr', 'utiliz', 'terapi', 'recuper', 'podr', 'dec', 'cost', 'aproxim', 'product', 'graci', 'felicit', 'orgull', 'upc', '️', 'pag', 'curs', 'hac', 'mes', 'hic', 'curs', 'aun', 'devuelv', 'diner', 'pesim', 'servici', 'mas', 'mes', 'solicit', 'reembols', 'nadi', 'da', 'respuest', 'acab', '️', '️', '️', '️', 'supuest', '️', 'proxim', 'algun', 'moment', 'esper', 'high', 'school', 'musical', 'jajajaj', 'pid', 'entonc', 'pas', 'xd', 'jajaj', 'si', 'pued', 'algun', 'dia', 'jaj', 'falt', 'cont', 'mes', 'yeyeyeyeyeyeyey', 'pront', 'ahi', 'voy', 'graduacion', 'marz', '️', 'algun', 'dia', '️️️️', 'quier', 'fe', 'polv', 'had', 'parec', 'jajaj', '️', 'jajajaj', 'junt', 'sin', 'acab', 'pront', 'algun', 'moment', 'años', 'falt', 'herman', 'si', 'vam', 'disfrut', 'falt', 'dia', 'pront', 'pront', 'pront', 'amigui', 'par', 'mes', 'inici', 'titul', 'mejor', 'recuerd', 'ceremoni', 'felicit', 'cad', 'vez', 'cerc', 'fe', 'recuerd', 'graduacion', 'falt', 'genial', 'inici', 'upc', 'maxim', '️upc', '️', 'orgull', 'lind', 'apoy', '️️️', 'egres', 'carer', 'medicin', 'agradec', 'upcproud', 'retirat', 'u', 'pues', 'si', 'pued', 'pag', 'sol', 'mencion', 'consider', 'just', 'alumn', 'facil', 'dec', 'falt', 'empat', 'retir', 'coment', 'opcion', 'descuent', 'si', 'requier', 'ayud', 'upc', 'sol', 'fracion', 'mont', 'mensual', 'necesit', 'hag', 'descuent', 'men', 'hac', 'uso', 'instal', 'buen', 'sig', 'producion', 'alumn', 'ingeni', 'colabor', 'orgull', 'graci', 'cre', 'sed', 'monter', 'sed', 'encuentr', 'laboratori', '️', 'mas', 'fals', 'sol', 'dic', 'aplic', 'mor', 'mas', 'sol', 'd', 'descuent', 'excelent', 'orgulloupc', 'orgull', '️', '️️️️️️️', 'excelent', 'eles', 'são', 'engenheir', 'industriais', 'perfect', 'excelent', 'colabor', 'institu', 'requier', 'moment', 'gran', 'orgull', 'univers', 'egres', 'realic', 'tal', 'acto', '️', 'buen', 'aport', 'deb', 'preocup', 'hac', 'descuent', 'bolet', 'sol', 'llev', 'clas', 'virtual', 'embarg', 'upc', 'sig', 'emit', 'bolet', 'form', 'normal', 'gran', 'crisis', 'econom', 'nivel', 'mundial', 'ser', 'just', 'excelent', 'ayud', 'felicit', 'aclasesvirtual', 'agradec', 'apoy', 'enfermer', 'sig', 'adel', 'lind', 'aplaus', 'pars', 'uds', 'gran', 'ayud', '️', 'enhorabuen', '️', 'baj', 'pension', 'graci', 'apoy', 'gran', 'esfuerz', 'pon', 'hombr', 'moment', 'tan', 'dur', 'graci', 'equip', 'esper', 'coment', 'medi', 'upc', 'estudi', 'upc', 'mand', 'cart', 'tont', 'diciplin', 'asi', 'silenci', 'gent', 'ojal', 'asi', 'preocup', 'alumn', 'sig', 'explot', 'felicitacioneshac', 'bien', 'upc', 'apoy', 'primer', 'line', 'contencion', 'coronavirus', 'gran', 'inici', 'buen', 'alumn', 'particip', 'sig', 'asi', '️', 'maxim', 'upc', 'upc️', 'reconoc', 'total', 'orgull', 'upecin', 'hol', 'buen', 'tard', 'pued', 'indic', 'preci', 'protector', 'facial', 'quier', 'compr', 'orgull', 'upc', '️', '️️️', 'gran', 'trabaj', 'orgullo️', 'realiz', 'dos', 'entreg', 'irem', 'cont', 'ojal', 'sig', 'aport', 'enseri', 'v', 'tard', 'papi', 'jajaj', 'sed', 'san', 'miguel', 'chiquit', 'van', 'entrar', 'v', 'ciert', 'tod', 'chic', 'nutricion', 'tambn', 'muchach', 'relax', 'nms', 'pon', 'traducion', 'interpretacion', 'graci', 'dat', 'primat', 'atent', 'jug', 'primat', 'cambiat', 'interes', 'upc', 'ajajajajajajajajaaj', 'ptm', 'mism', 'web', 'irme', 'san', 'miguel', 'cas', 'grand', 'sed', 'cre', 'cambi', 'oe', 'jajajajaj', 'awant', 'señal', 'carer', 'traducion', 'vill', 'tambn', 'seri', 'buen', 'terapi', 'fisic', 'san', 'miguel', 'amig', 'cre', 'primer', 'cicl', 'cambi', 'sed', 'gent', 'my', 'gosh', 'b', 'mir', 'bie', 'csm', 'monter', 'matricul', 'tramp', 'sufr', 'estacion', 'nuev', 'tt', 'jajaj', 'habl', 'pas', 'dos', 'seri', 'jajaj', 'forma', 'qued', 'villa️️', 'amen', '️', 'jajajaj', 'jajaj', 'cambi', 'pa', 'medicin', 'mo', 'ag', 'com', 'jajajajaj', 'igual', 'jamas', 'quer', 'ir', 'san', 'mickey', '️', 'ok', 'sobrepobl', 'ratoner', 'quier', 'met', 'gent', 'dond', 'van', 'entrar', 'sotan', 'payas', 'cre', 'ven', 'vill', 'pes', 'jajaj', 'lab', 'ahi', 'ptmr', 'xd', 'tard', 'cre', 'khe', 'khe', 'oh', 'my', 'god', 'espaci', '️qu', 'buen', 'aea', 'mongol', 'tim', 'tradu', 'si', 'sed', 'igual', 'espaci', 'vill', 'sobr', 'entran', 'ps', 'sed', 'llen', 'deberi', 'ampli', 'artes', 'escen', 'monter', 'felic', 'gust', 'upc', 'sed', 'oliv', 'medicin', 'campus', 'cuand', 'pon', 'econom', 'san', 'miguel', 'deb', 'reduc', 'cantid', 'alumn', 'carer', 'demasi', 'aunqu', 'constru', 'vo', 'pis', 'segu', 'satur', 'agreg', 'carer', 'ing', 'red', 'modal', 'pregr', 'regul', 'sol', 'epe', 'estim', 'vien', 'revent', 'celul', 'llam', 'hac', 'dias', 'llam', 'vend', 'servici', 'pas', 'form', 'vend', 'hac', 'marketing', 'deb', 'apertur', 'carer', 'administr', 'finanz', 'campus', 'vill', 'mam', 'cambi', 'carer', 'bais', 'putamadr', 'dij', 'atent', 'segur', 'sol', 'nuev', 'ingres', 'sol', 'prim', 'cicl', 'si', 'acas', 'pas', 'carer', 'traducion', 'interpret', 'explic', 'construcion', 'vo', 'pis', 'v', 'gastronom', 'xfavor', 'klk', 'gent', 'si', 'nadi', 'alla', 'gent', 'seri', 'facil', 'nuev', 'ingres', 'cre', 'ah', 'igual', 'abriran', 'curs', 'averigu', 'mir', 'xd', 'hag', 'cambi', 'sed', 'ah', 'caray', 'ay', 'dios', 'muer', 'crj', 'llor', 'seri', 'boc', 'bes', 'madr', 'sam', 'jajajajaj', 'piñ', 'tef', 'kha', 'much', 'gent', 'ptmr', 'van', 'met', 'mas', 'gent', 'san', 'miguel', 'entra', 'alfil', 'seman', 'pag', 'matricul', 'xd', 'aunqu', 'igual', 'pens', 'bien', 'xd', 'buen', 'años', 'tard', 'v', 'años', 'tard', 'chesu', 'traspas', 'dic', 'com', 'pued', 'cambi', 'sed', 'nopi', 'tambn', 'muchach', 'uy', 'cachimb', 'q', 'pon', 'pis', 'c', 'd', 'v', 'piens', 'met', 'nuev', 'alumn', 'tech', 'si', 'ahi', 'genial', 'ah', 'moment', 'lleg', 'gent', '️', 'cambi', 'carer', 'tmb', 'quier', 'mont', 'monter', 'aun', 'mud', 'valeri', 'trasladat', 'llor', 'enseriopq', 'ahor', 'odi', 'rip', 'sab', 'vill', 'corazon', '️', 'com', 'pued', 'cambi', 'sed', 'amo', 'huevon', '️', 'suert', 'ptmre', 'ingeni', 'ambiental', 'adios', 'chefsit', 'ven', 'go', 'alalalal', 'bai', 'microlif', 'jajaja', 'mam', 'cre', 'cambiar', 'carer', 'huev', 'espaci', 'laboratori', 'simul', 'final', 'mand', 'vill', 'jajaj', 'general', 'lab', 'general', 'asi', 'ide', 'ay', 'hor', 'hac', 'pued', 'cambi', 'acabar', 'vill', 'pued', 'haksh', 'sol', 'deb', 'solicit', 'trasl', 'cienci', 'putamadr', 'pued', 'cre', 'jaj', 'si', 'sab', 'porl', 'cerc', 'cas', 'adivin', 'veras', 'dias', 'comun', 'vill', 'jajaj', 'qued', 'vill', 'amix', 'ag', 'viaj', 'xd', 'cambiat', 'sed', 'omg', 'orgull', 'upc', '️', 'quis', 'inform', 'univers', 'exit', 'xd', 'upc', '️️️', '️', 'herman', 'upc', '️', 'i', '️', 'it', 'com', 'dig', 'mam', 'exiget', 'innov', 'xd', 'esper', 'xd', 'ranking', 'internacional', 'todav', 'falt', '️️️️', 'orgull', 'upcin', 'nivel', 'mundial', 'puest', 'orgulloupc', 'woow', 'gust', 'i', 'lobr', 'ups', 'xd', 'orgulloupc', '️', 'se', 'rick', 'sient', 'orgull', 'pertenec', 'famili', 'upc', 'upch', 'pucp', 'sol', 'cach', 'bañ', 'simplement', 'upc', 'orgull', 'upc', 'mejor', 'unisersitu', 'i', 'speak', 'english', 'the', 'best', 'unisersity', 'upc', 'abigail', 'mir', '️️️️', 'uf', 'dos', 'pregr', 'posgr', 'san', 'fern', 'quer', '️', 'unmsm', 'aqui', 'obvi', 'yo️️', 'graduacion', '️', 'mio', 'asi', 'diferent', 'dieron', 'graduacion', 'mas', 'bonit', 'yo️', 'yoo', '\\u200d️', 'yop', 'yo️', '\\u200d️', 'yop', 'dor', '️', 'confirmo\\u200d️', '️️️️', '️', 'gradu', 'san', 'marc', 'dan', 'tambi', 'sal', 'represent', 'san', 'marc', 'deport', 'consig', '️', '\\u200d️\\u200d️\\u200d️\\u200d️', 'bienven', 'cachimb', 'jajajajaj', 'fe', 'dan', 'mochil', 'cachimb', 'csmre', 'cachimb', 'virtual', 'tomodachi', 'si', 'color', 'quier', 'esfuerz', 'recompens', 'gradu', 'dan', 'u', 'quis', 'ten', 'ingres', 'hag', 'sorte', 'grandecit', 'doradit', '️', 'graduacion', 'herman', 'graduacion', 'quis', 'c', 'ver', 'pues', 'xd', 'hermos', 'cuand', 'sal', 'cachay', 'howard', 'cuand', 'segu', 'pas', 'vergüenz', 'graci', 'amor️', 'fueracachay', 'guardadit', 'recuerd', 'graduacion', 'pin', 'ow', 'q', 'tiemp', 'pam', 'graduacion', '️', 'bonit', 'jajaj', 'casi', 'años', 'facu', 'jajajajajaj', 'tampoc', 'años', 'wey', 'quier', 'consig', 'amo', '️', 'renunciacachay', 'quier', 'uno️', 'com', 'obtien', 'yo️', 'eu', '\\u200d️', 'quier', 'consig', '️', 'bas', '️am', 'dieron', 'consig', 'goals', 'yo️', '\\u200d️️', 'regal', 'sol', 'gradu', 'poler', '\\u200d️', 'algui', 'vend', '️', '️', 'dond', 'vend', '️', 'algun', 'dia', 'algun', 'dia', '️', 'infalt', '️', '\\u200d️', '️', '️', 'regal', 'cobr', 'tramit', 'documentari', 'egres', 'titul', 'men', 'v', 'siempr', 'quis', 'sab', 'consegu', 'v', 'graduacion', 'color', '️', 'necesit', '\\u200d️', 'yop', '\\u200d️unmsm️', 'v', 'bas', 'cov', '️', '️', 'san', 'marc', 'ahi', 'voy', 'yoo', 'ñoq', '\\u200d️', 'merit', 'requier', 'consegu', 'quier', '️', 'yo️', 'fueracachay', 'yoo', 'yopi', 'encuentr', 'c', 'quier', 'perd', 'dond', 'consig', 'sol', 'color', 'dor', 'perd', '\\u200d️', 'much', 'mujer', '️', 'vend', 'dan', 'finaliz', 'carer', 'pued', 'consegu', 'aunqu', 'pued', 'mand', 'hac', 'quier', 'necesit', 'sanmarquin', 'present', '️', 'vendo', 'llev', 'llev', 'caser', 'xd', 'com', 'consig', 'renunci', 'rector', 'san', 'marc', 'hermos', 'innombr', 'manej', 'desastr', '️', 'si', 'guard', 'orgull', 'pin', 'unmsm', '️', 'quier', 'uno️', '\\u200d️️', 'oro', 'dig', 'hermos', 'pin', 'alma', 'mat', '️', 'unmsm', 'obve', 'yop', 'uwu', '️', 'quier', 'consig', '\\u200d️', '️', 'colegi', 'psicolog', 'particip', 'ceremoni', 'graduacion', 'elect', 'part', 'paquet', 'inclu', 'pin', 'lind', 'ten', 'asi', 'termin', 'carera️', 'elect', 'pin', 'si', 'bien', 'guard', 'cuant', 'vacun', 'cambi', 'fueracachay', 'btw', 'bonit', 'pin', 'cachay', 'deb', 'renunci', 'pin', 'sortij', 'pued', 'contact', 'guard', 'baul', 'egres', 'uwu', 'asi', 'quier', 'gustari', 'ten', 'pin', 'pued', 'obten', 'yo️️️️', 'sm', 'graduacion', 'pin', 'facult', 'obvi', 'dor', 'todav', 'yala', 'yo️', 'com', 'consig', 'wow', 'ingres', 'v', '️', 'dond', 'vend', 'pront', 'nunc', 'merec', 'graci', 'jaj', 'so', 'pack', 'delivery', 'smp', 'so', 'si', 'vari', 'repart', 'preci', 'v', 'hol', 'smp', 'escribem', 'dm', 'cuant', 'jaj', 'si', 'algui', 'viv', 'smp', 'escribanm', 'dm', 'junt', 'delivery', 'brom', 'v', 'hermos', 'inici', 'amo', '️️️hermos', 'buen', 'sanmarc', '️', 'buen', 'inici', '️️️', 'quier', 'hermos', '️', 'encant', 'losquier', 'si', 'ayud', 'perit', 'much', 'mayor', 'razon', 'necesit', '️', 'imagin', 'ten', 'tod', 'univers', 'sol', 'estudi', 'tom', 'respons', 'si', 'numer', 'yap', 'cuent', 'bcp', 'public', 'deb', 'pon', 'numer', 'yap', 'cuent', 'bcp', 'don', 'lobit', 'x', 'lobit', 'fallec', 'dos', 'uwu', 'compr', 'quier', 'we', 'quier', 'compr', 'pin', 'amor', 'uwu', 'lleg', 'lueg', 'eleg', 'cual', 'amor', 'bien', 'uwu', 'amor', 'cre', 'buen', 'ide', 'apoy', 'ademas', 'par', 'pin', 'ven', 'piol', 'compr', 'graci', 'obsequi', 'perovac', 'ouw', 'lleg', 'pues', 'ow', 'perit', 'vac', 'buen', 'inici', 'si', 'trabaj', 'u', 'hor', 'confesart', 'cai', 'bien', 'perovac', '️', 'q', 'sad', 'amix', 'x', 'quer', 'conoc', '️', 'vi', 'lej', 'cuent', 'nunc', 'conoc', 'sanfef', 'quier', 'lind', 'info', 'ig', 'pued', 'colabor', 'chic', 'apoy', 'rif', 'refugi', 'sanmarquin', 'fb', '️', 'perovaquit', '️', 'quier', '️', '️', 'q', 'hermos', '️️️', 'quier', 'cuant', 'estan', 'lind', 'inici', 'hermos', 'olguit', 'aun', 'recuerd', 'vez', 'quis', 'acarici', 'casi', 'qued', 'man', 'jajaj', 'si', 'vec', 'pon', 'intens', '️', '️️️️', 'preci', '️️️', 'amig', 'pod', 'ayud', 'quier', 'vez', 'quit', 'botell', 'agu', 'dond', 'vend', '️', '️', '️', 'cachay', 'hol', 'book', 'medic', 'llev', 'dec', 'are', 'vent', 'libr', 'medicin', 'si', 'necesit', 'ayud', 'consegu', 'libr', 'aca', 'fallec', 'michi', 'puert', 'compr', 'lee', 'descripcion', '️️️️', 'ahor', 'entiend', 'quier', 'vot', 'rla', 'quier', 'pins', 'sid', 'rat', 'rob', 'roc', 'xd', 'perovac', 'cuant', 'vec', 'muchisim', 'vec', 'regres', 'bibliotec', '️', 'nostalgi', 'amor️', '️', '️️', 'sory', 'clas', 'pta', 'rut', 'comp', 'com', 'extrañ', 'camin', 'lug', '️', 'hermos', 'cuant', 'recuerd', 'chikis', 'rumb', 'jug', 'basketball', 'ven', 'plan', 'fug', 'mat', 'bibliotec', 'central', 'haci', 'puert', 'av', 'venezuel', 'camin', 'pic', 'ahi', 'despues', 'cop', 'vin', 'pisc', 'aniversari', 'escuel', 'jajajaj', 'monton', '️', 'sal', 'cor', 'noch', 'uy', 'much', 'vec', 'lind', 'recuerd', 'hermos', 'recuerd', 'uf', 'x', 'excelent', 'tom', 'vec', 'camin', 'central', 'acab', 'record', 'cuant', 'dol', 'pies', 'camin', 'piedr', 'xd', 'cre', 'xd', 'u', 'noch', 'general', 'bonit', 'xd', 'sol', 'camin', 'piedr', 'or', 'xd', 'conoc', 'ton', 'dramat', 'oe', 'emcim', 'ahi', 'entren', 'futbol', 'selecion', 'futbol', 'u', 'se', 'duel', 'apart', 've', 'bonit', 'atardec', 'amand', 'captur', 'deb', 'verl', 'viv', 'germos', 'pipipipi', 'nostalgi', 'hermos', 'recuerd', 'amig', 'san', 'marquin', 'guardi', 'chup', 'trag', 'cdsmr', 'xd', 'lug', 'dron', 'vio', 'lueg', 'lleg', 'mot', 'quit', 'trag', 'ultim', 'verben', 'csm', 'v', 'uf', 'parqu', 'comi', 'flac', 'entonc', 'xdxd', 'prim', 'megachap', 'ahi', 'cre', 'acab', 'cumpl', 'recor', 'haci', 'puert', 'toc', 'regres', 'che', 'aquell', 'tiemp', 'cambi', 'dsd', 'mejor', 'etap', 'vid', 'amig', 'mejor', 'etap', 'vid', 'epoc', 'universitari', 'amig', 'nostalgi', 'san', 'marquin', 'san', 'marcos️', '️', 'uwu', '️', 'ji', '\\u200d️', 'bibliotec', 'huac', 'querecuerd', 'ate', 'egres', 'jajaj', 'despues', 'estudi', 'central', 'dir', 'xd', 'despues', 'tropical', 'si', '️', 'derech', 'p', 'jajajajaj', 'ramit', '️', 'vered', 'gem', '️', 'jajajaj', 'pendeivis', 'cre', 'bien', 'conoc', 'lar', 'xd', 'derepent', 'desaparec', 'much', 'nostalgi', '️', 'vient', 'zon', 'mejory', 'recuerd', 'lleg', 'ment', 'person', 'especial', 'nostalgi', 'activ', 'jajajajajajajaj', 'nenit', 'mat', 'arbol', 'fot', 'tom', 'dia', 'necesit', 'sal', 'luz', 'voy', 'expon', 'defiend', 'indefend', 'oe', '️los', 'dias', 'lluvi', 'mejor', 'convers', 'vid', 'jajajaj', 'oye', 'olvid', 'habl', 'tiemp', 'xd', 'ahor', 'men', 'ay', 'resint', 'sal', 'danz', 'hac', 'años', 'atras', 'habi', 'mas', 'plant', 'jardin', 'banc', 'sent', 'estar', 'ahor', 'jajaj', 'per', 'sal', 'bibliotec', 'dias', 'extrañ', 'u', 'csm', 'road', 'to', 'huac', 'uwu', 'tant', 'vec', 'tropez', 'xd', 'jajajajajaj', 'piedr', 'botit', 'ayud', 'xd', 'jajajaj', 'xd', 'sab', 'camin', 'xd', 'estrañ', 'ciud', 'tant', 'vec', 'camin', 'ahi', 'recuerd', 'sali', 'pit', 'xd', 'x', 'uwu', 'vi', 'dio', 'fri', 'uwu', '️', 'tiemp', 'jajajaj', 'deci', 'bibli', 'ahi', 'jsjsjs', 'recuerd', 'rutin', 'dias️', 'duel', 'pies', 'camin', 'vered', 'piedr', 'huac', 'xd', 'canch', 'hic', 'hombr', 'sal', 'junt', 'rumb', 'p', 'tant', 'vec', 'noch', 'soled', 'music', 'tiemp', 'jajajaj', 'ala', '️a', 'tra', 'recuerd', 'ajajaj', 'ris', 'picarona', 'record', 'siempr', 'pas', 'ahi', 'sal', 'ir', 'comedor', 'famos', 'curv', 'ou', 'recuerd', 'grand', 'caminat', 'camin', 'bibliotec', 'tod', 'noch', 'sal', 'noch', 'central', 'mecan', 'flu', 'iba', 'ensay', 'danz', 'rector', '️', 'tiemp', 'si', 'monton', 'vec', 'uf', 'libr', 'etern', 'sender', 'pensamient', 'inspir', 'camin', 'extrañ', 'camin', 'sol', 'ahi', 'nostalgi', '️', 'vuelt', 'tod', 'u', 'xd', 'much', 'vec', 'much', 'vec', '️️', 'recuerd', 'mejor', 'años', 'vid', 'com', 'olvid', 'trayect', 'extrañ', 'dig', 'c', 'bosqu', 'tra', 'recuerd', 'c', 'nostalgi', 'uf', 'cad', 'centimetr', 'pedaz', 'plant', 'zapatill', 'cuant', 'papi', 'usa', 'comentari', 'entristec', 'tant', 'vuelt', 'v', 'recuerd', 'brom', 'noch', 'yend', 'plaz', 'u', 'tkm', 'brom', 'extra', 'busc', 'entrar', 'fieetonaz', 'c', 'aea', 'ahi', 'cor', 'ero', 'v', 'ahi', 'perd', 'xd', 'sal', 'bañ', 'termin', 'dandom', 'tod', 'vuelt', 'u', 'sal', 'noch', 'maestr', 'sac', 'recuerd', 'bonit', 'vid', 'sanmarquin', '️', 'camin', 'bibli', 'puert', 'venezuel', '️', 'buen', 'tiemp', 'ir', 'hac', 'raid', 'recog', 'caj', 'melt', 'alfrdus', 'aquell', 'tiemp', 'clar', 'recuerd', 'esper', 'volv', 'algun', 'dia', 'recuerd', 'uf', 'cuant', 'vec', 'recor', 'camin', 'cuant', 'desvi', 'mism', 'jaj', 'uf', 'tant', 'vec', 'buen', 'recuerd', '️', 'inviern', 'recor', 'ojal', 'pront', 'record', 'fotaz', 'recuerd', '𝘞𝘰𝘸', '𝘘𝘶𝘦́', '𝘪𝘮𝘢𝘨𝘦𝘯', '𝘊𝘶𝘢𝘯𝘵𝘢', '𝘯𝘰𝘴𝘵𝘢𝘭𝘨𝘪𝘢', '𝘥𝘦', '𝘮𝘪', '𝘚𝘢𝘯', '𝘔𝘢𝘳𝘤𝘰𝘴', '𝘥𝘦', '𝘴𝘶𝘴', '𝘢𝘶𝘭𝘢𝘴', '𝘥𝘦', '𝘮𝘪𝘴', '𝘢𝘮𝘪𝘨𝘰𝘴', '𝘥𝘦', '𝘭𝘢', '𝘣𝘢𝘴𝘦', '️', 'veran', 'camin', 'veredit', 'piedr', '️', 'noch', 'sab', 'toqu', 'suspens', 'noch', 'dan', 'lueg', 'sal', 'central', 'siempr', 'camin', 'alli', 'yend', 'clas', 'gust', 'pas', 'biciclet', 'dentr', 'ciud', 'universitari', 'elbosquecit', 'amor', 'jajajaj', 'pas', 'ahi', 'escap', 'buen', 'recuerd', 'burit', 'hech', 'años', 'herman', 'estudi', 'san', 'marc', 'habl', 'burit', 'pens', 'literal', 'burit', 'transport', 'sup', 'burit', 'años', 'despues', 'ahi', 'fot', 'jajajaj', 'burit', '️', '️', 'postal', 'bur', 'herman', 'preguntal', 'si', 'fot', 'envi', 'genial', 'preguntar', 'si', 'asi', 'mand', 'mam', 'cuent', 'histori', 'bur', 'encant', 'q', 'cuent', 'ciud', 'cangall', 'clar', 'mejor', 'comedor', 'buen', 'moment', 'ir', 'gusan', 'burit', 'vez', 'hiz', 'sam', 'simulacr', 'marz', 'entraron', 'person', 'for', 'maxim', 'pas', 'si', 'algun', 'virus', 'vez', 'casual', 'sub', 'toc', 'profesor', 'sincer', 'prefier', 'sub', 'chin', 'hor', 'punt', 'bus', '“', 'profesor', '”', 'result', 'ser', 'gent', 'arog', 'bot', 'encim', 'gan', 'sueld', 'quit', 'facil', 'sub', 'bus', 'estudi', 'recurs', 'cuant', 'recuerd', 'inolvid', 'viaj', 'interior', 'pais', 'lind', 'recuerd', 'bur', 'av', 'grau', 'q', 'lind', 'recuerd', 'oportun', 'tom', 'burit', 'cerc', 'san', 'fern', 'tod', 'hazañ', 'sub', 'compañer', 'perd', 'zapat', 'asi', 'ciud', 'universitari', 'nunc', 'sup', 'si', 'recuper', 'zapat', 'olorcit', 'cre', 'nadi', 'oso', 'entreg', 'jajajajajaj', 'bur', 'siempr', 'sub', 'ir', 'bibliotec', 'fij', 'iba', 'pie', 'entrab', 'pta', 'xq', 'k', 'ir', 'educ', 'qued', 'lad', 'ciud', 'mayor', 'hac', 'bici', 'k', 'ciert', 'casi', 'estrell', 'car', 'car', 'bur', 'curv', 'cieg', 'tunel', 'k', 'vi', 'tod', 'gent', 'agar', 'fuert', 'fren', 'vez', 'pud', 'regres', 'cas', 'graci', 'burit', 'nunc', 'pud', 'sub', 'llev', 'clas', 'pas', 'demasi', 'tempran', 'oh', 'sad', 'u', 'mirenn', 'chic', 'mism', 'bur', 'cre', 'buen', 'tiemp', 'record', 'volv', 'viv', 'parader', 'bur', 'comedor', 'cangall', 'dias', 'bell', 'inolvid', 'q', 'buen', 'sanmarquin', 'esboz', 'nostalg', 'sonris', 'amor', 'dias', 'felic', 'viv', 'bur', 'clar', 'sub', 'amig', 'ir', 'av', 'abancay', 'centr', 'lim', 'recuerd', 'ahi', 'toy', 'xq', 'llam', '«', 'bur', '»', 'van', 'hall', 'junt', 'gm', 'ahor', 'mejor', 'vehicul', 'univers', 'verd', 'clar', 'jamas', 'soport', 'trajin', 'pandemi', '«', 'burit', '»', 'suspencion', 'perfect', 'sanmarquin', 'recuerd', 'suspension', 'años', 'san', 'marquin', 'graci', 'x', 'corecion', 'pod', 'aced', 'enlac', 'pued', 'compart', 'mensaj', 'intern', 'favor', 'llam', '«', 'bur', '»', 'carg', 'exces', 'pasajer', 'vec', 'parec', 'iba', 'volt', 'cog', 'curv', 'grau', 'bolognesi', 'cambi', 'aric', 'venezuel', 'sal', 'ciud', 'quimic', 'htpsimagesapgoogleuecmwhklcrjb', 'hahahahah', 'conozc', 'pas', 'present', 'futur', 'adioz', 'hac', 'ahi', 'viajant', 'tiemp', 'viaj', 'anecdot', 'quer', 'hermos', 'adolescent', 'alma', 'mat', 'unmsm', '️', 'hol', 'algui', 'sab', 'ser', 'exam', 'san', 'marcospor', 'k', 'nadi', 'pronunci', 'pag', 'derech', 'exam', '️', '️', 'cont', '️', 'ahor', 'nuev', 'autobus', '️', 'san', 'marquin', 'experient', 'inolvid', 'viaj', 'bur', 'bur', 'tra', 'consig', 'infinit', 'recuerd', 'cad', 'alumn', 'sub', 'bur', 'roosevelt', 'hazañ', 'tom', 'lim', 'calla', 'si', 'quer', 'ahor', 'cobr', 'tom', 'bur', 'unas', 'cuadr', 'roosevelt', 'ir', 'ciud', 'universitari', '️', '️', 'bur', 'parader', 'cost', 'institu', 'to', 'jos', 'pard', 'recuerd', 'tom', 'bur', 'ciud', 'universirari', 'cor', 'haci', 'comedor', 'cangall', 'ja', 'ja', 'entren', 'cab', 'cien', 'unmsmmi', 'alma', 'mat', 'conozc', 'vari', 'fot', 'ahi', 'chin', 'chi', 'parader', 'derech', 'conoc', 'hac', 'años', 'compañer', 'ahor', 'espos', 'list', 'anot', 'fot', 'burit', 'list', 'cos', 'hac', 'gradu', 'bell', 'recuerd', 'alma', 'mater️', 'xd', 'mir', 'usted', 'tom', 'burit', 'mons', 'facu', 'pues', 'papu', 'años', 'carer', 'nunc', 'sub', 'unmsm', 'siempr', 'puebl', 'puebl', 'san', 'marc', 'unic', 'institu', 'educ', 'form', 'profesional', 'etic', 'moral', 'hac', 'corect', 'siempr', 'luch', 'bien', 'pais', 'fuerz', 'famili', 'fallec', 'sanmarquitos️', 'condolent', 'compañer', '️', 'condolent', 'compañer', 'much', 'fuerz', 'familiar', 'much', 'fuerz', 'u', 'vari', 'compañer', 'san', 'marquin', 'her', 'desaparec', 'necesit', 'apoy', 'justici', 'condolent', 'familiar', 'afect', 'compañer', 'cruelmemt', 'asesin', 'hac', 'respet', 'derech', 'admir', 'respet', '️️️️', 'siempr', 'adel', 'san', 'marc', '️', 'sig', 'luch', 'màs', 'profund', 'condolent', 'loa', 'familiar', 'joven', 'her', 'justici', 'compañer', 'fuerzaperu', 'san', 'marquin', 'siempr', 'luch', 'unmsm', 'dud', 'educ', 'transform', 'graci', 'her', '️', '️', 'peruan', 'sanmarcoseselperu', 'sient', 'trist', 'siemprepresent', 'fuerzaperuvigili', 'amo', 'peru', 'def', 'unmsm️', 'inti', 'bray', 'jamas', 'olvidados️', 'her', 'bicentenari', 'orgull', 'unmsm', 'orgull', 'unmsm', 'univers', 'teror', 'condolent', 'familiar', 'her', 'bicentenari', 'hic', 'respet', 'derech', '️', 'pued', 'respond', 'telefon', 'anex', 'sirv', 'mes', 'llam', 'may', 'u', 'wtf', 'buen', 'suert', 'termin', 'mes', 'v', 'abril', 'mes', 'empez', 'cicl', 'san', 'marc', '️', 'fin', 'buen', 'notici', 'hey', 'mir', 'excelent', 'vien', 'tiemp', 'dificil', 'amen', 'herman', 'asim', 'deb', 'preven', 'gener', 'desprestigi', 'pen', 'imagenesvide', 'q', 'lueg', 'lueg', 'sal', 'tod', 'red', 'si', 'pued', 'vam', 'wow', 'dad', 'cuent', 'poser', 'inscripcion', 'fe', 'nervi', 'esper', 'dig', 'ultim', 'moment', 'exam', 'virtualc', 'ojal', 'lleg', 'tard', 'clas', 'presencial', 'tranqui', 'bit', 'merec', 'espaci', 'ahi️', 'favor', 'conviert', 'asesin', 'ven', 'ke', 'pon', 'riesg', 'familiar', 'sab', 'joven', 'principal', 'vector', 'dich', 'virus', 'dej', 'pens', 'sol', 'reactivacion', 'econom', 'tom', 'concienci', 'beb', '️️', 'haran', 'trampos', 'ingres', 'setiembr', 'segur', 'si', 'vuelv', 'dar', 'exam', 'mil', 'ingres', 'uwu', '️', 'empiez', 'inscripcion', 'hermanit', 'mira', 'devuelv', 'plat', 'inform', 'pod', 'adquir', 'prospect', 'aun', 'provinci', 'excelent', 'alma', 'mat', 'deb', 'manten', 'siempr', 'rigur', 'selecion', 'nuev', 'gener', 'ojal', 'cambi', 'ultim', 'hor', 'pag', 'final', 'abril', 'esper', 'enero', 'maxim', 'marz', 'increibl', 'si', 'exam', 'virtual', 'exit', 'hac', 'presencial', 'hor', 'xd', 'fin', 'sensat', 'exam', 'anterior', 'dej', 'des', 'ingres', 'exam', 'realment', 'dign', 'ingres', 'san', 'marc', 'deb', 'aprend', 'conviv', 'virus', 'vision', 'q', 'recien', 'peru', 'rest', 'vacun', 'recien', 'medi', 'favor', 'si', 'algui', 'brind', 'informacion', 'cepr', 'empiez', 'trasl', 'extern', 'vez', 'may', 'xd', 'vid', 'u', 'c', 'graci', 'dios', 'sup', 'cuant', 'cost', 'requier', 'fech', 'inscripcion', 'realiz', 'exam', 'aul', 'febrer', 'graci', 'inscripcion', 'jajajaj', 'cre', 'universitari', 'ayud', 'postul', 'lleg', 'aul', 'encim', 'presencial', 'xd', 'pord', 'algui', 'expliqu', 'quier', 'postul', 'unmsm', 'com', 'pag', 'inscripcion', 'exam', 'pag', 'dos', 'inscripcion', 'exam', 'expliquenm', 'ple', 'promocion', 'tambi', 'podr', 'postul', 'crack', 'si', 'podr', 'hor', 'posibl', 'exam', 'virtual', 'baj', 'prestigi', 'univers', '️', 'jajajajaj', 'habl', 'queri', 'pobr', 'cuchi️', 'recontr', 'list', 'pa', 'rop', 'qlit', 'u', 'list', 'turn', 'noch', 'men', 'dal', 'lik', 'salon', 'tard', 'exam', 'virtual', 'tard', 'segu', 'mism', 'numer', 'vacant', 'aument', 'disminu', 'entraran', 'nuev', 'person', 'inscrib', 'jajajajaj', 'jajajaj', 'clas', 'ibam', 'presencial', 'i', 'podr', 'postul', 'vez', 'quier', 'respuest', 'core', 'eso', 'vam', 'decan', 'amer', 'sig', 'sig', 'forj', 'profesional', 'peru', 'parec', 'buen', 'med', 'x', 'x', 'x', 'x', 'pud', 'dar', 'exam', 'marz', 'dieron', 'exam', 'virtual', 'sisisi', 'c', 'men', 'mied', 'exam', 'admision', 'fech', 'porfavor', 'deb', 'hac', 'inici', 'burl', 'anterior', 'proces', 'virtual', 'vi', 'u', 'jajajaj️', '️', 'promocion', 'tambi', 'podr', 'postul', 'deb', 'hac', 'principi', 'cost', 'esper', 'asi', 'ten', 'iguald', 'condicion', 'decepcion', 'san', 'marc', 'excelent', 'fech', 'ultim', 'public', 'estadi', 'virtual', 'voz', 'buen', 'notici', 'ptm', 'vist', 'jajxiandj', 'x', 'mil', 'estadi', 'mil', 'repart', 'aul', 'dic', 'lueg', 'dic', 'entend', 'si', 'dan', 'condicion', 'abril', 'cual', 'altern', 'llam', 'ibam', 'apoy', 'año', 'pas', 'credencial', 'final', 'todocoleg', 'quier', 'ver', 'salon', 'futur', 'abog', 'fin', 'pas', 'realiz', 'exam', 'admision', 'virtual', 'lueg', 'baj', 'prestigi', 'univers', 'alumn', 'cost', 'dej', 'alto', 'nombr', 'decan', 'amer', 'sol', 'asfdbnksd', 'x', 'sig', 'dud', 'di', 'exam', 'octubr', 'se', 'si', 'podr', 'entrar', 'grup', 'ando', 'mism', 'octubr', 'di', 'virtual', 'inscripcion', 'automat', 'eleg', 'lleg', 'exam', 'admision', 'algunxs', 'compañer', 'lleg', 'core', 'inform', 'intent', 'comunicart', 'oca', 'si', 'voy', 'pod', 'exam', 'si', 'pag', 'pod', 'virtual', 'buen', 'consult', 'simulacr', 'cuant', 'cuest', 'inscripcion', 'mism', 'opin', 'segund', 'ola', 'dej', 'incertidumbr', 'lleg', 'cep', 'moment', 'usted', 'afirm', 'va', 'ser', 'presencial', 'pas', 'si', 'acerc', 'da', 'ola', 'cov', 'ilusion', 'estudi', 'siempr', 'deb', 'ser', 'asi', 'fin', '️', 'felic', 'pertenec', 'famili', 'vallejian', 'felic', 'vallejito️', 'buena', 'top', 'top', 'wa', 'llor', '️', '️', 'bomb', 'gran', 'notici', 'excelent', 'notici', 'segu', 'ton', 'orgull', 'cas', 'estudi', 'ucv', 'all', 'the', 'way', 'up', 'felicidades️', 'fiest', 'pa', 'vallej', 'tra', 'imit', 'brun', 'mars', 'baj', 'pension', 'hor', 'despues', 'tiemp', 'bien', 'x', 'vallej', 'vam', 'x', 'mas', 'logr', 'fin', 'obvi', 'miamor', 'sab', 'veo', 'si', 'nen', 'festej', 'orgull', 'vallejian', 'g', '️', 'hoy', 'celebr', 'campus', 'lim', 'nort', 'ahor', 'licenciamientom', 'supong', 'baj', 'mensual', 'pur', 'calidadorgull', 'siempr', 'brav', 'orgull', 'ser', 'vallejian', 'felic', 'ucv', 'felic', 'merec', 'reconoc', 'motiv', 'segu', 'trabaj', 'much', 'fuerz', 'aun', 'dar', 'mejor', 'cad', 'dia', 'mejor', 'maner', 'celebr', 'siend', 'mejor', 'hac', 'siempr', 'beb', 'entonc', 'buen', 'ver', 'si', 'apur', 'dar', 'carnets', 'tbn', 'hac', 'mund', 'entreg', 'ucv', 'fabric', 'sueñ', 'felicit', 'ucv', '️️️️️', 'logr', '️', 'thats', 'great', 'i', 'lov', 'ucv', '️', '️ucv', 'felicitacion', 'logr', 'mas', 'vallejin', 'felic', 'celebr', 'vaallejian', '️', '️', 'buen', 'orgull', 'estudi', 'aqu', 'wu', 'felic', 'vallejit', 'esfuerz', 'recompens', '️', 'gran', 'notici', '️', 'quier', 'toc', 'cuand', 'fiest', 'celebr', 'fin', 'felicit', 'chic', 'orgull', 'hab', 'pertenec', 'cas', 'estudi', 'filial', 'chiclay', 'doy', 'fe', 'excelent', 'calid', 'enseñ', 'quit', 'sombrer', 'trabaj', 'realiz', 'much', 'felic', 'exit', 'sig', 'adel', 'celebr', 'fabric', 'sueñ', 'felic', 'ucv', 'hor', 'felic', 'final', 'amig', 'excelent', 'notici', 'sig', 'exit', 'quier', 'sent', 'orgull', 'cas', 'estudi', 'tod', 'vid', 'gust', 'logocon', 'rostr', 'human', 'ucvmoyobamb', 'arib', 'brav', 'sient', 'orgull', 'pertenec', 'cas', 'estudi', 'podr', 'indic', 'cual', 'wu', 'orgull', 'ser', 'vallejiana️', 'much', 'felic', 'ucv', 'ucv', 'xd', 'content', 'ser', 'vallejian', 'orgull', 'ser', 'part', 'gran', 'univers', 'ucv', 'feliz', 'ser', 'part', 'cas', 'estudi', 'much', 'felic', 'direct', 'maestr', 'trabaj', 'alumn', 'licenci', 'graci', 'bendicion', 'fin', '️', 'encuentr', 'feliz', 'apost', 'estudi', 'ucv', 'pes', 'critic', 'llov', 'mal', 'fe', 'fin', 'sal', 'oficial', 'otorg', 'part', 'sunedu', 'licenci', 'institucional', 'ucv', 'determin', 'si', 'univers', 'cumpl', 'condicion', 'basic', 'calid', 'cbc', 'pod', 'oper', 'aplaus', 'pie', 'orgull', 'pertenec', 'gran', 'famili', 'vallejian', 'si', 'merit', 'buen', 'gestion', 'felic', 'felic', 'merec', 'reconoc', 'motiv', 'segu', 'trabaj', 'much', 'fuerz', 'aun', 'dar', 'mejor', 'cad', 'dia', 'mejor', 'maner', 'celebr', 'siend', 'mejor', 'hac', 'siempr', 'si', 'pud', 'señor', 'fin', '️️️️️️️', 'hor', '️', 'feliz', 'orgull', 'univers', 'felicit', 'asegu', 'crec', '️️', 'brav', 'ucv', 'competent', 'sufr', 'ver', 'dentr', 'mejor', 'pabellon', 'b', 'muebl', 'bibliotec', 'biblioteca️', 'pabellon', 'pis', 'sed', 'piur', 'necesit', 'aregl', 'camin', 'pabellon', 'medicin', 'dañ', 'vo', 'pisojajajaj', 'èse', 'point', 'esper', 'ansi', 'moment', 'meg', 'si', 'extrañ', '️️', 'bibliotec', 'muebl', 'rued', 'mesit', 'fot', 'parqu', 'entrad', 'escaler', 'interior', 'pas', 'bonit', 'ahi', 'amig', 'ucv️', 'mir', 'pinkysini', 'vac', 'ucv', 'pong', 'mes', 'campus', 'trujill', 'extrañ', 'pabellon', 'c', 'are', 'verd', 'cambi', 'sillon', 'nuev', 'resort', 'impos', 'diciembr', 'pandemi', 'peligr', 'c', 'esper', 'aregl', 'exagon', 'sent', 'esper', 'aregl', 'exagon', 'sent', 'extrañ', 'u', 'quier', 'ahi', 'nuev', 'si', 'extrañ', 'u', 'cafet', 'deb', 'pon', 'filial', 'piur', 'cafetin', 'pabellon', 'c️', 'uwu', '️️️', 'sillon', 'mim', 'ratit', 'xd', 'bibliotec', 'pabellon', 'b', 'sillon', 'grand', 'reun', 'cupul', 'pabellon', 'jueguit', 'mes', 'basket', 'pong', 'mesit', 'sed', 'ate', 'favor', 'aregl', 'extrañ', 'sillon', 'prim', 'pis', 'banc', 'frent', 'magnus', 'lim', 'nort', 'cafetin', 'xd', 'pong', 'piur', 'hac', 'calor', 'atroz', 'demasi', 'tier', 'just', 'cicl', 'detras', 'bibliotec', 'pong', 'cojin', 'pues', 'lueg', 'amanec', 'buenaz', 'dorm', 'lug', 'siempr', 'especial', 'extrañ', 'sal', 'serigrafi', 'expresart', 'pabellon', 'b', 'ascensor', 'comedor', 'pis', 'bibliotec', 'escaler', 'emergent', 'kho', 'trag', 'cag', 'ris', '️', 'jajajaj', 'oe', 'tal', 'ibam', 'mesit', 'break', 'laboratori', 'sillon', 'dorm', 'banc', 'roj', 'sol', 'lim', 'pas', 'piur', 'casi', 'nul', 'destac', '\\u200d️', 'hol', 'campus', 'estudi', 'lim', 'nort', 'hol', 'invit', 'contact', 'telefon', 'puest', 'disposicion', 'cualqui', 'consult', 'core', 'kchunqueoucvedup', 'salud', 'sol', 'quier', 'titul', 'culp', 'perd', 'oportun', 'trabaj', 'interes', 'lug', 'favorit', 'pas', 'seri', 'esper', 'demasi', 'tiemp', 'bibliotec', 'ay', 'shi', 'baby', '️', 'explan', '️', 'ojal', 'ucv', 'piur', 'coloqu', 'parec', 'asi', 'termin', 'ascensor', 'llor', 'extrañ', 'ucv', 'quier', 'vuelv', 'hac', 'tech', 'u', 'bibliotec', '️️️', 'amor️', 'pabellon', 'b', 'sillon', 'mes', 'espaci', 'mesit', 'mader', 'pilet', 'agu', 'plant', 'asi', 'sal', 'simul', 'audienci', 'comedor', 'extrañ', 'ir', 'estudi', 'ucv', 'pong', 'sed', 'chimbot', 'qued', 'chic', 'elcampus', 'explan', 'ucvtrujilloperu', 'pis', 'bibliotec', 'sillon', 'hac', 'años', 'egres', 'veo', 'cambi', 'mejor', 'moment', 'inolvid', 'quer', 'alma', 'mat', 'pabellon', 'b', 'si', 'extrañ', 'trat', 'lleg', 'rap', 'consegu', 'cojin', 'pabellon', 'b', 'frutix', 'hecho️', 'señor', 'caldit', 'filial', 'calla', '️', 'extrañ', 'jajajajaj', 'rot', 'acuerd', 'alfin', 'aregl', 'extrañ', 'moment', 'explan', 'pilet', 'pabellon', 'reun', 'break', 'amig', 'sal', 'espaci', 'favorit', 'muebl', 'estan', 'cerc', 'asensor', 'hermos', 'buen', 'implement', 'lim', 'hag', 'tod', 'sed', 'noa', 'sentab', 'comer️t', 'extrañ', 'esper', 'vuelv', 'u', 'aregl', 'casit', 'mes', 'asient', 'mader', 'porfis', 'aqu', 'ucv', 'conoc', 'amor', 'vid', 'hac', 'años', '️', 'hoy', 'ultim', 'año', 'carer', 'derech', 'sid', 'lind', 'termin', 'presencial', 'u', 'sed', 'piur', 'consult', 'egres', 'año', 'pas', 'omit', 'vari', 'requisit', 'bachill', 'suced', 'demas', 'requisit', 'solicit', 'pag', 'camin', 'vibr', 'boni', 'sed', 'piur', 'pong', 'mesit', 'sed', 'trujill', 'pls', 'pabellon', 'c', 'pastoo️️', 'pabellon', 'b', 'are', 'verd', 'suel', 'fiel', 'compañer', 'pabellon', 'b', 'siempr', '“', 'suel', '”', 'trujill', 'deb', 'hab', 'lug', 'mes', 'sill', 'pod', 'ir', 'estudi', 'beib', 'obvio', 'comp', 'v', 'vem', 'proxim', 'año', 'jajajaj', 'sol', 'tres', 'mes', 'mil', 'estudi', 'estan', 'sed', 'lim', 'nort', 'buen', 'implementari', 'sed', 'piur', 'campus', 'enorm', 'deb', 'ambiertal', 'maner', 'tamb', 'q', 'extrañ', 'pabellon', 'b', 'laboratori', 'sal', 'ping', 'pong', 'basquet', 'caray', 'quier', 'regres', 'amig', 'facult', 'pabellon', 'pabellon', 'b', 'supong', 'año', 'vien', 'dispon', 'clas', 'normal', 'pong', 'mesit', 'tod', 'sed', 'pls', 'pis', 'laboratori', 'aprendi', 'alli', 'mm', 'exact', '️', 'sillon', 'esper', 'limpi', 'genial', 'ucv', 'trujill', 'espaci', 'natural', 'sol', 'explan', 'ir', 'estudi', 'cesp', 'sintet', 'pis', 'mo', 'pis', 'laboratori', 'enfermeria️', 'ultim', 'año', 'tiemp', 'b', '️️', 'espaci', 'lind', 'recuerd', 'clar', 'si', 'octav', 'pis', 'tiemp', 'aquell', 'esper', 'volv', 'pront', 'pront', 'extrañ', 'se', 'extrañ', 'htpswfacebookcomgroupspermalink', 'asu', 'q', 'tiemp', 'extrañ', 'univers', 'extrañ', 'si', 'ala', 'extraño', 'tanto', 'extrañ', '️', 'mañan', 'wbds', 'tmr', 'precios', 'hermos', 'vallej', 'vallej', 'querido', 'demasi', 'sed', 'unid', 'ciert', 'bell', 'encontr', 'i', '️', 'extrañ', 'clas', 'presencial', 'm', 'plandemi', 'bich', '️️️', 'hermos', 'atardec', 'clas', 'comenz', 'format', 'semipresencial', 'uso', 'urgent', 'laboratori', 'carer', 'necesit', 'perd', 'recien', 'ingres', 'f', 'cachimb', 'clas', 'volv', 'proxim', 'año', 'oh', 'campus', 'chiclay', '️', 'extrañ', 'event', 'pod', 'conoc', 'demas', 'escuel', 'clar', 'si', 'ay', 'extrañ', 'olimpi', 'congres', 'concurs', 'extrañ', 'tmr', 'c', 'si', 'pon', 'com', 'extrañ', 'si', 'gan', 'civil', 'turism', 'voley', 'mixt', '️', 'ucv', 'hac', 'public', 'mor', 'abre', 'carer', 'derech', 'maestri', 'administracion', 'empresarial', '️', 'quier', 'bailarin', 'perd', 'ahi', 'hac', 'jajajaj', 'jajajaj', 'si', 'si', 'quier', 'jajajajajaj', 'pase', 'vergonz', 'xd', 'recuerd', 'quien', 'oblig', 'form', 'part', 'bar', 'sistem', 'xd', 'extrañ', 'demasi', 'conviv', 'amig', 'recuerd', 'f', 'perd', 'acuerd', 'segur', 'esfuerz', 'dedic', 'cumpl', 'objet', 'empez', 'logr', 'empez', 'conmov', 'fot', 'bell', '️', 'pong', 'fech', 'pis', 'habl', 'jaja', 'habl', 'pis', 'xd', 'dil', 'pisads', 'esper', 'coleg', 'maru', 'reu', 'diran', 'xx', 'recor', 'camin', 'lleg', 'met', 'sol', 'esper', 'ceremoni', 'graduacion', 'ando', 'esper', 'graduacion', 'x', 'ceremoni', 'gradu', 'entusiasm', 'empez', 'er', 'cicl', 'dos', 'cicl', 'veo', '️', 'bell', 'si', 'postgr', 'tambi', 'si', 'se', 'puede️', 'esper', 'graduacion', 'falt', 'dij', 'compañer', 'x', 'x', 'x', 'dij', 'compañer', 'x', 'dij', 'compañer', 'x', 'egres', 'cov', 'cancel', 'graduacion', 'pag', 'ceremoni', 'imagin', 'avis', 'si', 'dese', 'ceremoni', 'graduacion', 'graci', 'pront', 'bonitoemocion', 'mil', 'mir', 'bonit', 'va', 'ser', 'much', 'fe', 'esper', 'asi', 'ser', 'toc', 'maestr', 'año', 'amo', 'ojal', '️', 'amor', 'si', 'puede️', 'jajajaj', '️', '️', 'clar', 'amig', 'junt', 'año', 'amig', '️', '️', 'si', 'manit', '️', 'mana', 'nosotr', 'pod', '️', 'ret', 'empez', 'bendicion', 'vallejian', 'mejor', 'equip', 'complement', 'conoc', 'estar', 'present', 'proces', 'cos', 'hac', 'bien', 'exit', 'lleg', 'sol', 'ucvperu', 'quier', 'lanz', 'biret', 'hermos', '️', 'met', 'escoji', 'mejor', 'univers', 'cumpl', 'sueño️️', 'ucv', 'mejor', 'si', 'lanz', 'biret', '️', 'i', 'cicl', 'educ', 'inicial', 'todo️️️', 'voy', 'licenciatur', 'consult', 'termin', 'año', 'agost', 'entreg', 'titul', 'fisic', 'cicl', 'alcaz', 'met', 'algun', 'dia', 'dios', 'mediant', '️', 'esper', 'graduacion', 'graci', 'cuid', 'alumn', 'hij', 'camin', 'curs', 'er', 'cicl', 'si', 'pued', 'esper', 'pas', 'pront', 'graduacion', 'titul', 'pendient', 'pront', '️️', 'esper', 'hag', 'pag', 'dentr', 'años', 'jas', '️', 'logr', 'amig', 'pas', 'pas', 'lleg', 'met', 'nombr', 'jesus', 'ayud', 'mana', 'nosotr', 'pod', 'jas', '️', 'logr', 'amig', 'pas', 'pas', 'lleg', 'met', 'nombr', 'jesus', 'ayud', 'pront', 'bro', 'asi', 'estar', 'reprogram', 'calendari', 'academ', 'sal', 'moviliz', 'red', 'difund', 'list', 'desaparec', 'comunic', 'constant', 'compañer', 'asi', 'pod', 'estudi', 'suspend', 'clas', 'favor', 'asi', 'esper', 'suspend', 'clas', 'aun', 'chic', 'desaparec', 'facil', 'estudi', 'cuidenl', 'pued', 'siqu', 'manifestart', 'vergüenz', 'suspension', 'cas', 'salud', 'mental', 'estudi', 'afect', 'concentr', 'nivel', 'ansied', 'ocur', 'moment', 'afect', 'reprogram', 'formalicenl', 'impos', 'leer', 'redact', 'ensay', 'practic', 'tip', 'acion', 'academ', 'salv', 'estudi', 'baj', 'context', 'tan', 'lament', 'suspend', 'reprogram', 'clas', 'favor', 'peru', 'lut', 'necesit', 'concentr', 'suspend', 'clas', 'dia', 'ayer', 'compañer', 'sal', 'ejerc', 'legitim', 'derech', 'protest', 'regres', 'cas', 'lament', 'profund', 'perd', 'solidariz', 'famili', 'tod', 'poblacion', 'exig', 'justici', 'context', 'represion', 'social', 'conflict', 'polit', 'invoc', 'autor', 'cas', 'estudi', 'solidariz', 'viv', 'seman', 'llen', 'incertidumbr', 'mantuv', 'atent', 'inform', 'demand', 'alzar', 'voz', 'defend', 'patri', 'desenvolv', 'respons', 'normal', 'sid', 'impos', 'esper', 'pued', 'hac', 'paus', 'desaroll', 'cicl', 'academ', 'estudi', 'pod', 'segu', 'siend', 'part', 'histori', 'pas', 'retorn', 'estudi', 'esper', 'realid', 'diferent', 'dispuest', 'desempeñ', 'labor', 'estudi', 'concentr', 'nuev', 'esfuerz', 'constru', 'pais', 'diferent', 'much', 'graci', 'suspension', 'clas', 'par', 'estudi', 'yal', 'lee', 'comentari', 'pais', 'lut', 'suspension', 'clas', 'abog', 'investig', 'involucr', 'muert', 'her', 'profesion', 'luz', 'moment', 'lut', 'dias', 'van', 'mor', 'susped', 'clas', 'dig', 'march', 'van', 'alzar', 'voz', 'propi', 'medi', 'sum', 'dig', 'minor', 'vizc', 'part', 'polit', 'movadef', 'nosom', 'sender', 'lumin', 'teruc', 'amateur', 'llam', 'red', 'social', '️', 'deb', 'suspend', 'clas', 'entreg', 'seman', 'muestr', 'solidar', 'empat', 'unanotaserecuperaunavidan', 'asi', 'reprogram', 'clas', 'sol', 'seman', 'favor', 're', 'program', 'calendari', 'com', 'encontr', 'aun', 'aparec', 'pod', 'hac', 'olvid', 'alza', 'bolet', 'nuev', 'reglament', 'unic', 'encubr', 'cas', 'acos', 'qñ', 'j', 'egres', 'pucp', 'principi', 'fortalec', 'cas', 'estudi', 'salud', 'fortalez', 'estudi', 'egres', 'hac', 'lleg', 'voz', 'protest', 'polit', 'arcaic', 'trist', 'vez', 'molest', 'pierd', 'vid', 'atent', 'integr', 'juventud', 'solidar', 'compromis', 'siempr', 'quier', 'pucp', 'igual', 'har', 'protest', 'mal', 'practic', 'realiz', 'are', 'cienci', 'practic', 'examen', 'virtual', 'perjudic', 'alumn', 'tem', 'explic', 'bien', 'peru', 'lut', 'glori', 'honor', 'joven', 'her', 'democraci', 'buen', 'teni', 'hac', 'univers', 'mierd', 'men', 'buen', 'hic', 'men', 'buen', 'hic', 'necesit', 'peru', 'educ', 'suspend', 'seman', 'clas', 'si', 'devuelv', 'dej', 'cobr', 'seman', 'van', 'enseñ', 'alumn', 'vivaz', 'ayudenn', 'exig', 'suspension', 'clas', 'seman', 'pued', 'recuper', 'aument', 'demsn', 'final', 'cicl', 'crisis', 'polit', 'porfavor', 'aun', 'exist', 'desaparec', 'pucp', 'ped', 'suspension', 'seman', 'bienest', 'comun', 'aun', 'desaparec', 'univers', 'asi', 'pued', 'dar', 'clas', 'suspension', 'seman', 'suspend', 'clas', 'favor', 'reprogram', 'calendari', 'academ', 'favor', 'esper', 'asi', 'amabl', 'muestr', 'alumn', 'protest', 'usted', 'vuelv', 'abrir', 'puert', 'univers', 'pas', 'bus', 'cuand', 'suspend', 'clas', 'entreg', 'dar', 'pais', 'insosten', 'estudi', 'ahor', 'solicit', 'suspension', 'clas', 'siguient', 'seman', 'suspend', 'clas', 'seman', 'demasi', 'suspend', 'clas', 'favor', 'suspend', 'clas', 'par', 'estudiantil', 'pued', 'volt', 'car', 'coyuntur', 'pais', 'exig', 'suspension', 'clas', 'men', 'seman', 'moment', 'pronunci', 'moment', 'vem', 'tom', 'acion', 'acerc', 'practic', 'tem', 'univers', 'cual', 'alumn', 'pued', 'concentr', 'deb', 'situacion', 'critic', 'pais', 'necesit', 'respald', 'propi', 'univers', 'call', 'vag', 'estudi', 'nom', 'favor', 'suspend', 'men', 'evalu', 'seman', 'sal', 'reprogram', 'horari', 'clas', 'favor', 'favor', 'suspend', 'clas', 'demasi', 'demuestr', 'lut', 'consider', 'dolor', 'estudi', 'cabez', 'tem', 'academ', 'suspend', 'clas', 'seman', 'situacion', 'critic', 'favor', 'necesit', 'apoy', 'herman', 'luch', 'dias', 'posibl', 'practic', 'tar', 'sol', 'ped', 'seman', 'plaz', 'pod', 'apoy', 'crisis', 'tan', 'import', 'estudi', 'gener', 'human', 'caract', 'cuerp', 'estudiantil', 'necesit', 'sal', 'call', 'ped', 'reprogramacion', 'academ', 'ignor', 'alumn', 'desaparec', 'her', 'comun', 'pucp', 'suspend', 'clas', 'suspend', 'clas', 'carolinalizaragan', 'haran', 'respect', 'men', 'seman', 'denn', 'pod', 'serv', 'patri', 'continu', 'esper', 'vuelv', 'dar', 'chamb', 'dalesi', 'aun', 'quer', 'segu', 'siend', 'fuert', 'habl', 'tibi', 'actu', 'suspend', 'clas', 'moment', 'deb', 'sal', 'call', 'manifest', 'fin', 'human', 'caraj', 'educ', 'derech', 'dej', 'pens', 'q', 'elit', 'dijeron', 'estudi', 'derech', 'alli', 'mejor', 'nadi', 'men', 'si', 't', 'import', 'pronunciens', 'suspend', 'clas', 'tod', 'seman', 'vien', 'deb', 'sal', 'call', 'apoy', 'llam', 'huelg', 'estudiantil', 'mod', 'protest', 'solidar', 'llam', 'huelg', 'estudiantil', 'todxs', 'nuestrxs', 'compañerxs', 'insosten', 'realiz', 'trabaj', 'atend', 'clas', 'mientr', 'asesin', 'present', 'futur', 'mejor', 'escuchan', 'merin', 'va', 'entend', 'pronunci', 'cancel', 'clas', 'tibi', 'ps', 'suspend', 'clas', 'silenci', 'complic', 'indign', 'frustracion', 'hac', 'impos', 'concentr', 'clas', 'trabaj', 'entreg', 'favor', 'suspend', 'reprogram', 'clas', 'empat', 'univers', 'human', 'deb', 'suspend', 'clas', 'virtual', 'pod', 'ir', 'march', 'suspension', 'clas', 'encuest', 'fci', 'htpsformsglevbrvsxcyzetuj', 'suspend', 'clas', 'entreg', 'hac', 'trabaj', 'impos', 'moment', 'suspend', 'clas', 'suspend', 'clas', 'seman', 'pais', 'sufr', 'sol', 'pantall', 'suspend', 'clas', 'necesit', 'protest', 'suspend', 'clas', 'pod', 'dorm', 'apoy', 'compart', 'inform', 'inici', 'amig', 'pronunci', 'siempr', 'ahi', 'pucp', 'grand', 'pucp️️', 'call', 'vag', 'vall', 'estudi', 'call', 'mat', 'dos', 'person', 'vari', 'her', 'desaparec', 'afect', 'dic', 'person', 'encim', 'mand', 'estudi', 'algui', 'escrib', '“', 'vall', '”', 'jajaj', 'cre', 'deb', 'ir', 'estudi', 'person', 'si', 'favor', 'insosten', 'segu', 'estudi', 'primer', 'seman', 'ener', 'seri', 'preocup', 'consult', 'bien', 'parec', 'examen', 'final', 'seman', 'seman', 'navid', 'si', 'suspend', 'clas', 'seman', 'sol', 'cor', 'seman', 'calendari', 'estudiari', 'ener', 'xd', 'mayor', 'univers', 'pid', 'ello', 'suspend', 'clas', 'seman', 'pod', 'grand', 'pucp', 'orgull', 'univers', 'pod', 'concentr', 'asi', 'suspend', 'clas', 'favor', 'hoy', 'doming', 'clas', 'mba', 'suspend', 'clas', 'hoy', 'asi', 'peru', 'lut', 'juventud', 'peru', 'lut', 'escuchan', '️', 'concuerd', 'vari', 'desaparec', 'apoy', 'complet', 'suspend', 'clas', 'sal', 'call', 'dolor', 'entiend', 'deb', 'suspend', 'clas', 'favor', 'den', 'mas', 'facil', 'alumn', 'pued', 'desempeñ', 'mejor', 'crisis', 'suspend', 'clas', 'seman', 'dia', 'histor', 'peru', 'hag', 'dia', 'histor', 'peru', 'hag', 'suspension', 'reprogram', 'calendari', 'academ', 'suspend', 'clas', 'suspend', 'clas', 'favor', 'suspend', 'clas', 'suspend', 'clas', 'favor', 'ayudenn', 'estudi', 'lut', 'exig', 'suspension', 'clas', 'seman', 'memori', 'compañer', 'asesin', 'her', 'desaparec', 'pod', 'pud', 'ser', 'cualqu', 'pud', 'ser', 'cualqui', 'alumn', 'pucp', 'program', 'año', 'academ', 'peru', 'lut', 'suspend', 'activ', 'seman', 'vag', 'señor', 'sent', 'viv', 'pais', 'duel', 'corazon', 'luch', 'patri', 'ningun', 'estudi', 'saldr', 'bien', 'evalu', 'seman', 'dejenn', 'descans', 'si', 'quier', 'par', 'dias', 'pod', 'pon', 'dia', 'tod', 'carg', 'nadi', 'pod', 'concentr', 'deb', 'suspension', 're', 'program', 'clas', 'suspend', 'clas', 'suspend', 'clas', 'posibl', 'seman', 'practic', 'pas', 'cabez', 'tmre', 'aprend', 'aprend', 'pucp', 'just', 'respetu', 'nuev', 'gener', 'demostr', 'cad', 'dia', 'pas', 'amor', 'patri', 'graci', 'pucp', 'cec', 'idiom', 'catol', 'ningun', 'relacion', 'pucp', 'graci', 'servici', 'prest', 'ejempl', 'univers', 'tiemp', 'dificil', 'hor', 'chic', 'agot', 'bravoell', 'sembr', 'semill', 'cambi', 'presenci', 'estudi', 'realid', 'peru', 'dios', 'glori', 'dia', 'orgull', 'pod', 'qepd', 'dg', 'almit', 'estudi', 'universitari', 'fallec', 'grand', 'pucp', 'univ', 'unic', 'pucp', 'actu', 'siempr', 'tan', 'consecuent', 'bien', 'lut', 'dos', 'joven', 'pregunt', 're', 'program', 'clas', 'losncuatr', 'muert', 'posterioresjaja', 'ridicul', 'encant', '️', 'educ', 'mas', 'lut', 'hag', 'grand', 'posicion', 'repit', 'empez', 'do', 'mea', 'culp', 'enseñ', 'niñ', 'ten', 'adult', 'congres', 'seguir', 'cobr', 'alumn', '️', 'reflexion', 'pensamient', 'pais', 'inici', 'cas', 'colegi', 'tod', 'etap', 'alli', 'concur', 'estudi', 'graci', 'vacacion', 'jajaj', 'aprovech', 'ir', 'viaj', 'conscient', 'incit', 'direct', 'llev', 'camin', 'retorn', 'dig', 'text', 'graci', 'algun', 'comentari', 'personal', 'profesor', 'pier', 'foy', 'valenci', 'desatin', 'comentari', 'haci', 'asesinat', 'joven', 'march', 'ojal', 'usted', 'aprend', 'pens', 'estudi', 'ulim', 'pa', 'orgull', 'apoy', 'pucp', '️', '️', 'socieg', 'alma', 'ora', 'padr', 'hac', 'diferent', 'part', 'mund', 'peru', 'tod', 'tier', 'segu', 'protest', 'ahor', 'merin', 'complic', 'llev', 'tribunal', 'ahor', 'mism', 'pronunci', 'tribunal', 'constitucional', 'vacanci', 'congres', 'elimin', 'inmun', 'parlamentari', 'esper', 'esper', 'buen', 'pucp', 'aprend', '️pucp', 'ciert', 'gran', 'ejempl', 'aprend', 'aplaud', 'cas', 'estudi', 'usted', 'respet', 'bien', 'hech', 'felicit', 'orgull', 'pucp', '️', 'recien', 'empiez', 'graci', 'pucp', 'opin', 'x', 'lut', 'seman', 'idiom', 'catol', 'sal', 'pagin', 'oficial', 'posibl', 'mand', 'core', 'respect', 'sisi', 'graci', 'pas', 'idiom', 'catol', 'orgull', 'aunqu', 'part', 'cas', 'estudi', 'llen', 'alegr', 'univers', 'tan', 'reconoc', 'postur', 'clar', 'brind', 'facil', 'opcion', 'estudi', 'graci', 'orgull', 'alma', 'mat', 'aprend', 'asi', 'escrib', 'tiemp', 'tibiez', 'graci', 'pucp', 'muchis', 'compañer', 'encuentr', 'march', 'dias', 'sid', 'preocup', 'graci', 'pucptod', 'univers', 'institut', 'escuel', 'educ', 'superior', 'pais', 'deb', 'segu', 'ejempl', 'graci', 'alcanc', 'virtual', 'cualqui', 'cronogram', 'academ', 'pued', 'reacomod', 'mayor', 'contratiemp', 'ahor', 'excepcion', 'deb', 'atent', 'vigil', 'suced', 'pais', 'siempr', 'orgull', 'ser', 'pucp️', 'x', 'va', 'aplaz', 'clas', 'siguient', 'seman', 'palabr', 'vas', 'segu', 'mism', 'cantid', 'hor', 'clas', 'sol', 'va', 'termin', 'cicl', 'seman', 'despues', 'program', 'vist', 'suspension', 'academ', 'seman', 'asum', 'haran', 'respect', 'descuent', 'bolet', 'graci', 'respir', 'salud', 'emocional', 'graci', '️', 'graci', 'orgull', 'pucp', '️', 'ginocostapresident', 'pucp', '️', 'exact', 'minim', 'vqu', 'har', 'pucp', 'bot', 'suspend', 'mientr', 'dur', 'proces', 'disciplinari', 'sac', 'docent', 'burl', 'muert', 'march', '️️', 'pension', 'cuand', 'grand', 'pucp', 'pregunt', 'crentrum', 'part', 'pucp', 'aparec', 'dos', 'cos', 'diferent', 'empez', 'x', 'cas', 'verd', 'reconoc', 'entidad', 'part', 'pucp', 'campus', 'nunc', 'cienci', 'clar', 'sab', 'prim', 'dia', 'clas', 'vam', 'b', 'ciert', 'falt', 'mostr', 'canch', 'deport', 'si', 'volv', 'duelem', 'quem', 'lastim', 'jpeg', 'deb', 'aprovech', 'fumig', 'quit', 'plag', 'arbol', 'pucp', 'univers', 'cambi', 'vid', 'hiz', 'ser', 'muj', 'hoy', 'dia', 'dio', 'privilegi', 'educ', 'mund', 'verdader', 'ser', 'human', 'conscient', 'tom', 'mejor', 'decision', 'levant', 'alto', 'si', 'caen', 'jamas', 'imagin', 'continu', 'dand', 'servici', 'comun', 'aunqu', 'interes', 'cont', 'cuant', 'hor', 'acumul', 'honest', 'trabaj', 'sab', 'nunc', 'acab', 'aprend', 'sent', 'men', 'ten', 'ped', 'perdon', 'regl', 'ser', 'cumpl', 'puntual', 'respet', 'person', 'acord', 'empiez', 'sab', 'hag', 'dig', 'consecuent', 'llam', 'castig', '️', 'buen', 'univers', '️', 'sup', 'exigent', 'f', '️', 'llor', 'si', 'sol', 'entrad', 'pal', 'exam', 'admision', 'bro', 'amo', 'deprim', 'bañ', '️️', 'volveremos️', 'oh', 'pucp', 'cuant', 'extrañocuant', 'falt', 'hac', 'bibliotec', 'paredon', 'extrañ', 'u', 'univers', 'ahor', 'pis', 'ay', 'amig', 'bajone', 'pastit', 'arqui', 'bajon', 'kiosk', 'letrassocial', 'comedor', 'central', 'puert', 'rivaguer', 'bast', 'llor', 'maquin', 'caf', 'dispens', 'derech', 'sup', 'sad', 'jam', 'central', 'estudi', 'cia', 'pipipipi', 'oe', 'tmr', 'rincon', 'cerc', 'hemerotec', 'ay', 'lind', 'campus', 'sol', 'semestr', 'ahor', 'pas', 'facult', 'bibliotec', 'social', 'contig', 'bibliotec', 'social', 'contig', 'grat', 'recuerd', 'hab', 'labor', 'pucp', 'facult', 'arte', 'model', 'arte', 'sent', 'com', 'salchipap', 'tinkuy', 'niñ', 'disfrut', 'moment', 'mientr', 'agradezc', 'dios', 'permit', 'q', 'hij', 'estudi', 'ahi', 'sent', 'com', 'salchipap', 'tinkuy', 'niñ', 'disfrut', 'moment', 'mientr', 'agradezc', 'dios', 'permit', 'q', 'hij', 'estudi', 'ahi', 'volv', 'ver', 'u', 'cre', 'comedor', 'ley', 'comedor', 'ley', 'voy', 'llor', '️', 'com', 'junt', 'bien', 'volv', 'gust', 'ir', 'parqu', 'ver', 'atardecer', 'lueg', 'irme', 'bail', 'dup️', 'quier', 'volv', 'ver', 'jardin', 'macgregor', 'educ', 'c', 'ojal', 'volv', 'pod', 'entrar', 'nuev', 'campus', 'algun', 'dia', 'man', 'gestion', 'c', 'buen', 'epoc', 'caray', 'bellisim', 'extrañ', 'nunc', 'se', 'hac', 'aw', '️', 'teztrañ', 'throwback', 'casi', 'pong', 'llor', 'viend', 'fot', 'buen', 'cam', 'dan', 'guillerm', 'ow', 'comedor', 'central', 'toc', 'excursion', 'par', 'centr', 'liqu', 'fres', 'tiemp', 'sion', 'caminit', 'arbol', 'catit', '️', 'evalu', 'semipresencial', 'laboratori', 'ver', 'pus', 'sad', 'quis', 'ahi', 'men', 'mins', 'xx', 'naturalez', 'siempr', 'prevalec', 'mir', 'extrañ', 'cato️', 'buen', 'visit', 'gui', 'kchimb', 'cov', 'v', 'extrañ', 'stans', 'prim', 'lug', 'visit', 'ceo', 'natural', 'bibliotec', 'sad', 'xd', 'quier', 'volv', 'campus', 'v', 'pucp️', 'extrañ', 'bibliotec', 'tinkuy', 'tontodrom', 'fin', 'seman', 'men', 'gent', 'aunqu', 'llev', 'tiemp', 'egres', 'univers', 'siempr', 'lug', 'fij', 'visit', 'men', 'vez', 'mes', 'tiemp', 'bro', 'man', 'caminat', 'sal', 'min', 'extrañ', 'llor', 'llor', 'llor', 'sotan', 'bibliotec', 'central', 'tod', 'bien', 'volv', 'go', 'nexus', 'algui', 'cre', 'arbol', 'descuid', 'viend', 'sherif', 'mejor', 'celul', '️️', 'nunc', 'vid', 'extrañ', 'bibliotec', 'llor', 'dificil', 'uwu', 'extrañ', 'especial', 'bibliotec', 'ven', 'sig', 'guard', 'esper', 'pod', 'volv', 'point', 'sad', 'u', 'cualqu', 'nunc', 'oportun', 'estudi', 'presencial', 'u', 'casi', 'jal', 'jajajajaj', 'ptmr', 'duel', 'ciert', 'jajajajajaj', 'pas', 'mami', 'man', 'voley', 'volv', 'jug', 'voley', 'univers', 'bonit', 'nostalgi', 'ver', 'jardin', 'pucp️', 'nunc', 'mejor', 'esper', 'cov', 'acab', 'volv', 'segur', 'wow', 'xever', 'ver', 'tod', 'cos', 'usan', 'si', 'pag', 'duel', 'c', 'primer', 'quier', 'ir', 'rotond', 'lueg', 'social', 'tmb', 'tinkuy', 'c', 'duel', 'c', 'primer', 'quier', 'ir', 'rotond', 'lueg', 'social', 'tmb', 'tinkuy', 'c', '️', 'segur', 'remodel', 'aunqu', 'dud', 'faci', 'pucp', 'aren', 'sal', 'bloomberg', 'bibliotec', 'central', 'amo', 'pucp', '️', 'man', 'sient', 'dolorcit', 'aqui', 'pech', 'oe', 'jug', 'cart', 'tio', 'catol', 'opin', 'u', 'lim', 'lind', 'quier', 'ir', 'capu', 'quier', 'verl', 'esper', 'atardecer', 'mañan', 'ultim', 'pis', 'central', 'escuch', 'pajarit', 'mientr', 'lees', 'lectur', 'control', 'gogogog', 'man', 'quier', 'llor', 'ahi', 've', 'ramon', '️', 'go', 'ramon', 'im', 'crying', 'volv', 'nunc', 'v', 'tom', 'fot', 'canch', 'futbol', 'lagrim', 'sal', 'cun', 'educ', 'siempr', 'pas', 'ahi', 'ir', 'letr', 'lind', 'ver', 'chikis', 'jug', '️', 'spots', 'veo', 'u', 'oe', 'tmr', 'u', 'ultim', 'fot', 'pastit', 'discordi', 'makis', 'van', 'hab', 'clas', 'semipresencial', 'extrañ', 'mir', 'uu', 'ala', 'quem', 'duel', 'atardecer', 'univers', 'hermos', 'mund', 'jardin', 'letr', 'mesit', 'ajedrez', '️', 'agüit', 'past', 'uu', 'palt', '️️', 'tan', 'lind', 'pucp', 'coloqu', 'fot', 'lugar', 'icon', 'cafet', 'letr', 'rotond', 'general', 'tontodrom', 'bibliotec', 'etc', 'etc', 'graci', 'conozc', 'ningun', 'lugar', 'x', 've', 'hermos', 'deb', 'sesion', 'lugares️', 'llor', 'extrañ', 'pastit', 'educ', 'past', 'feeling', 'hech', 'reencuentr', 'u', 'csm', 'i', 'u', 'llor', 'dic', 'wa', 'profesor', 'coment', 'jef', 'jardiner', 'trabaj', 'cas', 'envi', 'fot', 'jardin', 'evalu', 'trabaj', 'felicit', 'trabaj', '️', 'llor', 'oe', 'quier', 'llor', 'u', 'bibliotec', 'central', 'escuch', 'fond', 'trin', 'pajar', 'acompañ', 'lectur', 'moment', 'c', 'extrañ', 'univers', '️', 'tomari', 'hor', 'car', 'valdri', 'pen', 'f', '️', 'pront', 'llev', 'año', 'u', 'conozc', 'condolent', 'promocion', 'i', 'feel', 'u', 'veo', 'dec', 'extrañ', 'univers', 'imaginens', 'com', 'sent', 'cachimb', 'v', 'extrañ', 'tanto️', '️️️', 'ahi', 'tir', 'dorm', 'huequit', 'letr', 'extrañ', 'com', 'educ', 'nostalgi', 'voy', 'hac', 'scre', 'ir', 'confirm', 'confirm', 'cuart', 'pis', 'z', 'veran', 'ver', 'atardec', 'ay', 'si', 'almuerz', 'filinn', 'shi', 'prontit', '️', 'chatit', '️️️️', 'romantik', 'viend', 'sunset', 'extrañ', 'ver', 'sunset', 'nuev', 'complej', 'chat', 'laanitar', 'lueg', 'compr', 'granol', 'frut', 'social', '’', 'uyuy', 'si', 'nostalgi', 'recompensadal', 'mejor', 'univers', 'peru', 'men', 'vi', 'ayer', 'mientr', 'dab', 'par', 'lleg', 'aeropuert', 'pucpcit', 'ptm', 'com', 'da', 'entristec', 'ig', 'extrañ', 'pucp', 'jardin', 'bell', 'x', 'deprim', 'dms', 'nostalgi', 'voa', 'llor', 'veran', 'x', 'llor', 'siqu', 'pud', 'ten', 'clas', 'regres', 'clas', 'graci', 'lov', 'u', 'to', 'the', 'moon', 'jajaj', 'refil', 'lado', 'moment', 'desbloqu', 'extrañ', 'ahi', 'volv', 'caset', 'cor', '️', 'univers', 'deb', 'ser', 'protagon', 'gobiern', 'peru', 'compromis', 'alumn', 'baj', 'pension', 'oblig', 'desist', 'estudi', 'evident', 'n°', 'pucp', 'sig', 'siend', 'maquin', 'zurd', 'tiemp', 'inmemorial', 'calid', 'vid', 'poblacion', 'depend', 'respet', 'poder', 'haci', 'gent', 'alert', 'defens', 'democraci', 'san', 'pabl', 'den', 'dia', 'libr', 'pod', 'ir', 'march', 'esper', 'madur', 'peruan', 'pued', 'leer', 'pronunci', 'punt', 'vist', 'compart', 'salud', 'calladit', 'ves', 'bien', 'pelon', 'llor', 'rio', 'feder', 'golp', 'ex', 'president', 'vizc', 'cer', 'inconstitucional', 'congres', 'usted', 'pronci', 'golp', 'llam', 'golp', 'estadony', 'ahi', 'fuerz', 'armad', 'deb', 'interven', 'favor', 'puebl', 'contrari', 'guer', 'civil', 'veo', 'cuand', 'suspend', 'clas', 'tod', 'us', 'march', 'tranquil', 'ahi', 'cre', 'tod', 'caviar', 'junt', '️️pucp', 'pucp️️️', 'defens', 'democraci', 'sunedu', 'deb', 'nombr', 'pas', 'ayer', 'golp', 'vas', 'separart', 'ahor', 'sab', 'involucr', 'vacanci', 'nex', 'anter', '️️', '️', 'univers', 'roj', 'esper', 'institu', 'muestr', 'postur', 'aprend', 'quier', 'cre', 'univers', 'pacharac', 'lucr', 'educ', 'adicional', 'ello', 'quit', 'autor', 'sunedu', 'luch', 'retroced', 'educ', 'perdi', 'comunic', 'si', 'golp', 'pucp', 'cas', 'estudi', 'importantisim', 'alma', 'mat', 'deb', 'erig', 'encim', 'inmediatez', 'tendenci', 'person', 'hoy', 'dirig', 'deb', 'emit', 'opinion', 'polit', 'circunstancial', 'parec', 'just', 'total', 'acuerdocuent', 'apoy', 'tods', 'junt', 'luch', 'democraci', 'corupcion', 'usted', 'carer', 'cienci', 'polit', 'huev', 'sol', 'segu', 'sac', 'plat', 'miser', 'golp', 'dio', 'vizc', 'respet', 'tiemp', 'mandat', 'anterior', 'congres', 'nadi', 'dij', 'aval', 'aprend', 'eno', 'eleg', 'polit', 'ladron', 'recicl', 'asi', 'evit', 'dar', 'lastim', 'puebl', 'upc', 'quier', 'vert', 'ahi', 'alo', 'piens', 'pucp', 'egres', 'ex', 'director', 'centrum', 'ministr', 'da', 'vergüenz', 'apoy', 'inici', 'elcion', 'tribunal', 'constitucional', 'condicion', 'congres', 'represent', 'puebl', 'president', 'sol', 'interes', 'personal', 'decidi', 'apoder', 'ejecut', 'excelent', 'mensaj', 'quer', 'pucp', 'lament', 'nuev', 'ministr', 'educ', 'legitim', 'acion', 'congres', 'ningun', 'part', 'comunic', 'dic', 'golp', 'golp', 'veo', 'television', 'ok', 'nini', 'ahre', 'quer', 'qued', 'ultim', 'palabr', 'buen', 'bye', 'man', 'entend', 'complet', 'escrit', 'bye', 'link', 'pued', 'leer', 'pucp', 'pronunci', 'crisis', 'institucional', 'lueg', 'cier', 'congres', 'htpspuntoedupucpedupenoticiascomunicadodelapucpupyuarmfrentealacrisisinstitucional', 'vizc', 'hiz', 'quiz', 'puebl', 'quiz', 'disolv', 'congres', 'democraci', 'permitem', 'reir', 'quien', 'puebl', 'vizc', 'cupul', 'pueblo️', 'chuch', 'merin', 'recien', 'acab', 'conoc', 'quier', 'dec', 'elecion', 'presidencial', 'erick', 'dignid', 'propi', 'nacionalizat', 'part', 'lleg', 'mism', 'maner', 'lleg', 'ser', 'president', 'vizc', 'vacanci', 'simil', 'com', 'lleg', 'paniagu', 'informes', 'entonc', 'porqu', 'tan', 'tard', 'enter', 'congres', 'si', 'elecion', 'presidencial', 'vac', 'vicepresidentepor', 'congres', 'part', 'polit', 'corupt', 'manifest', 'lacr', 'hac', 'repartij', 'quer', 'mov', 'miembr', 'tc', 'antoj', 'igual', 'congres', 'colud', 'interes', 'personal', 'jajaj', 'ambos', 'congres', 'elig', 'pais', 'asi', 'llor', 'part', 'llor', 'part', 'mediocr', 'conform', 'quier', 'ver', 'realid', 'pas', 'pais', 'prefier', 'levant', 'voz', 'protest', 'acat', 'impon', 'gobiern', 'represent', 'levant', 'voz', 'llor', 'patalet', 'etc', 'etc', 'norm', 'asi', 'respet', 'norm', 'refier', 'protest', 'derech', 'si', 'gobiern', 'represent', 'cos', 'mayor', 'funcion', 'gobern', 'represent', 'trabaj', 'interes', 'puebl', 'interes', 'propi', 'ver', 'explic', 'niñ', 'primari', 'congres', 'eleg', 'volunt', 'popul', 'congres', 'atribu', 'pod', 'vac', 'president', 'vacanci', 'vicepresident', 'asum', 'president', 'legisl', 'asi', 'norm', 'mayor', 'demas', 'cos', 'pon', 'patrañ', 'entonc', 'quier', 'constitucional', 'person', 'sal', 'llor', 'dic', 'luch', 'derech', 'si', 'escog', 'nuev', 'congres', 'mierd', 'dim', 'quier', 'elij', 'bien', 'congres', 'si', 'tod', 'person', 'aces', 'inform', 'habl', 'posicion', 'privilegi', 'leo', 'pued', 'encontr', 'tan', 'facil', 'tod', 'inform', 'cad', 'candidat', 'pas', 'cos', 'empiez', 'sal', 'tod', 'inform', 'march', 'democraci', 'sistem', 'electoral', 'de', 'inform', 'cad', 'candidat', 'da', 'busc', 'trabaj', 'puebl', 'empleador', 'inform', 'onpe', 'jne', 'colg', 'hoj', 'vid', 'candidat', 'cad', 'departament', 'sab', 'pie', 'coje', 'cad', 'candidat', 'gan', 'inform', 'si', 'luch', 'pro', 'democraci', 'deb', 'sal', 'vizc', 'cer', 'congres', 'acto', 'inconstitucional', 'gent', 'apoy', 'cambi', 'ello', 'asi', 'ir', 'vot', 'bien', 'hac', 'vez', 'march', 'si', 'segu', 'asi', 'mejor', 'elij', 'cad', 'año', 'president', 'congres', 'asi', 'inform', 'vez', 'ahi', 'complet', 'dij', 'habl', 'posicion', 'privilegi', 'tod', 'person', 'aces', 'internet', 'señal', 'siqu', 'agu', 'hac', 'segu', 'esper', 'vot', 'mal', 'cad', 'año', 'hac', 'protest', 'sal', 'cantalet', 'represent', 'opcion', 'vot', 'voluntari', 'complej', 'saldr', 'dec', 'asi', 'nadi', 'vot', 'etc', 'qued', 'vot', 'concienci', 'proporcion', 'inform', 'gust', 'qued', 'asi', 'frent', 'internet', 'cre', 'entrar', 'profesion', 'estim', 'ok', 'boom', 'vizc', 'pate', 'democraci', 'cer', 'anterior', 'congres', 'lastim', 'ahi', 'manifest', 'excelent', 'mensaj', 'sab', 'poder', 'mensaj', 'pen', 'sunedu', 'qued', 'recuerd', 'lament', 'uni', 'junt', 'san', 'marc', 'part', 'anup', 'asoci', 'ahi', 'dad', 'acuerd', 'integr', 'haz', 'dich', 'aea', 'graci', 'bro', 'unheval', '️', 'pucp️', '️pucp', '️', 'pucp', 'mir', 'mensaj', 'dej', 'dm', 'profesor', 'idiom', 'expres', 'maner', 'despreci', 'haci', 'alumn', 'catol', 'amo', '️pucp', 'centr', 'derech', 'cre', 'xd', 'desgraciay', 'tmb', 'etiquet', 'u', 'falt', 'upch', 'cayetan', 'test', 'lee', 'unic', 'buen', 'u', 'pronunci', 'pucp', 'univers', 'institu', 'poseedor', 'conoc', 'cientif', 'deb', 'pon', 'patrimoni', 'inmaterial', 'servici', 'desaroll', 'integral', 'puebl', 'peruan', 'rcsmr', 'nunc', 'esper', 'aun', 'asi', 'logr', 'decepcion', 'csnr', 'sab', 'ña', 'dos', 'gat', 'podl', 'ching', 'quier', 'parej', 'trabaj', 'si', 'amor', 'año', 'dic', 'k', 'ratit', 'jiji', '️', 'caball', 'falt', 'cabr', 'caball', 'suav', 'cabal', 'just', 'pens', 'año', 'jajaj', 'recibir', 'visit', 'auditor', 'launic', 'visit', 'esper', 'ma', 'ose', 'vendr', 'visit', 'cririx', 'tia', 'mam', '\\u200d️\\u200d️\\u200d️', 'tia', 'mam', 'bu', 'sol', 'lin', 'trabaj', 'confirm', 'amor', 'c', 'dij', 'just', 'rat', 'xd', 'just', 'xd', 'xd', 'buey', 'mach', 'chever', 'caball', 'año', 'f', 'estomag', 'siguient', 'gal', 'mon', 'si', 'sig', 'imag', 'segu', 'siguient', 'gal', 'conejo', 'va', 'ser', 'año', 'interes', 'encontr', 'amor', 'lueg', 'mor', 'd', 'bien', 'alli', 'siguient', 'gal', 'qued', 'shook', 'conej', 'aqu', 'respuest', 'año', 'rat', 'siguient', 'gal', '\\u200d️', 'go', 'tig', 'si', 'nac', 'ener', 'sign', 'año', 'anterior', 'siguient', 'gal', 'dao', 'nac', 'año', 'dragon', 'metal', 'necesit', 'consig', 'sisisisisi', 's', 'quier', 'quier', 'diner', 's', 'necesit', 'anill', 'serpiente', 'ahi', 'taa', '️', 'logr', 'buey', 'falt', 'gall', 'aea', 'xd', 'ves', 'com', 'hor', 'ojal', 'asom', 'valg', 'pen', '️', 'jajajajajajqjqjqjqjqjqjqjq', 'se', 'pued', 'cambi', 'suert', 'man', 'man', 'xd', 'lee', 'ray', 'd', 'mir', 'darl', 'univers', 'caball', 'jajajaj', 'año']\n"
          ]
        }
      ]
    },
    {
      "cell_type": "code",
      "metadata": {
        "colab": {
          "base_uri": "https://localhost:8080/"
        },
        "id": "z3BUi__A04ZE",
        "outputId": "e9c7823b-7e3e-4f15-eeac-a0e18430735d"
      },
      "source": [
        "len(tokens)"
      ],
      "execution_count": 26,
      "outputs": [
        {
          "output_type": "execute_result",
          "data": {
            "text/plain": [
              "11502"
            ]
          },
          "metadata": {},
          "execution_count": 26
        }
      ]
    },
    {
      "cell_type": "code",
      "metadata": {
        "colab": {
          "base_uri": "https://localhost:8080/",
          "height": 332
        },
        "id": "p8rsrCU-zS5x",
        "outputId": "fc6cacb2-4b7c-4cd4-cd34-bdfbe4437e15"
      },
      "source": [
        "frecuencias = nltk.FreqDist(tokens)\n",
        "frecuencias.plot(50)"
      ],
      "execution_count": 28,
      "outputs": [
        {
          "output_type": "display_data",
          "data": {
            "image/png": "[encoded data removed]",
            "text/plain": [
              "<Figure size 432x288 with 1 Axes>"
            ]
          },
          "metadata": {}
        }
      ]
    },
    {
      "cell_type": "markdown",
      "metadata": {
        "id": "vzcqL9pgqcJR"
      },
      "source": [
        "###Distribución de las etiquetas"
      ]
    },
    {
      "cell_type": "code",
      "metadata": {
        "colab": {
          "base_uri": "https://localhost:8080/"
        },
        "id": "w0vDaBX_qL-O",
        "outputId": "6e5f58fe-f240-4deb-afa4-3fe8d3b05d04"
      },
      "source": [
        "dataIG_03.Etiquetado.value_counts()/dataIG_03.shape[0]*100"
      ],
      "execution_count": 29,
      "outputs": [
        {
          "output_type": "execute_result",
          "data": {
            "text/plain": [
              "Positivo    44.659300\n",
              "Negativo    31.706568\n",
              "Neutro      23.634131\n",
              "Name: Etiquetado, dtype: float64"
            ]
          },
          "metadata": {},
          "execution_count": 29
        }
      ]
    },
    {
      "cell_type": "markdown",
      "metadata": {
        "id": "kYw-UVHbiN0D"
      },
      "source": [
        "##Análisis de datos"
      ]
    },
    {
      "cell_type": "code",
      "metadata": {
        "id": "9bpLpFImYXRb"
      },
      "source": [
        "def langid_safe(tweet):\n",
        "    try:\n",
        "        return langid.classify(tweet)[0]\n",
        "    except Exception as e:\n",
        "        pass"
      ],
      "execution_count": 30,
      "outputs": []
    },
    {
      "cell_type": "code",
      "metadata": {
        "id": "YetEIbMLYZbi"
      },
      "source": [
        "def langdetect_safe(tweet):\n",
        "    try:\n",
        "        return detect(tweet)\n",
        "    except Exception as e:\n",
        "        pass"
      ],
      "execution_count": 31,
      "outputs": []
    },
    {
      "cell_type": "code",
      "metadata": {
        "id": "z2cBgELNYbUy"
      },
      "source": [
        "def textblob_safe(tweet):\n",
        "    try:\n",
        "        return textblob.TextBlob(tweet).detect_language()\n",
        "    except Exception as e:\n",
        "        pass   "
      ],
      "execution_count": 32,
      "outputs": []
    },
    {
      "cell_type": "code",
      "metadata": {
        "id": "OaJ-0Rk2YlMa"
      },
      "source": [
        "dataIG_03_new = dataIG_03.copy()"
      ],
      "execution_count": 33,
      "outputs": []
    },
    {
      "cell_type": "code",
      "metadata": {
        "id": "qoQQsztmYds8"
      },
      "source": [
        "dataIG_03_new['lang_langid'] = dataIG_03_new.Texto.apply(langid_safe)\n",
        "dataIG_03_new['lang_langdetect'] = dataIG_03_new.Texto.apply(langdetect_safe)\n",
        "dataIG_03_new['lang_textblob'] = dataIG_03_new.Texto.apply(textblob_safe)"
      ],
      "execution_count": 34,
      "outputs": []
    },
    {
      "cell_type": "code",
      "metadata": {
        "colab": {
          "base_uri": "https://localhost:8080/",
          "height": 307
        },
        "id": "h4EoBIS7YwHv",
        "outputId": "911637e6-070f-4f5b-d3a4-aa3452531bf2"
      },
      "source": [
        "frecuencias = nltk.FreqDist(dataIG_03_new.lang_langdetect)\n",
        "frecuencias.plot()"
      ],
      "execution_count": 35,
      "outputs": [
        {
          "output_type": "display_data",
          "data": {
            "image/png": "[encoded data removed]",
            "text/plain": [
              "<Figure size 432x288 with 1 Axes>"
            ]
          },
          "metadata": {}
        }
      ]
    },
    {
      "cell_type": "markdown",
      "metadata": {
        "id": "PXDL6m3toYow"
      },
      "source": [
        "##Inicializando variables"
      ]
    },
    {
      "cell_type": "code",
      "metadata": {
        "colab": {
          "base_uri": "https://localhost:8080/"
        },
        "id": "P1_B7arIjS7s",
        "outputId": "4b444a73-421c-4591-fc89-95121a1fc4ef"
      },
      "source": [
        "##Creando el Corpus y Target\n",
        "Corpus = list(dataIG_03.Texto2)\n",
        "Target = list(dataIG_03.Etiquetado)\n",
        "print(Corpus)\n",
        "print(Target)"
      ],
      "execution_count": 36,
      "outputs": [
        {
          "output_type": "stream",
          "name": "stdout",
          "text": [
            "['much graci', 'felicit gran trabaj alexis orgulloupn', 'felic excelent trabaj', 'felicit fotograf sal herm', 'much graci ️', '', 'crack', '', '', 'wow', 'crack', 'tremend geni', 'eow cap', '', 'tmb herman vam', 'mejor herman', '', '', 'vist espectacul', '', 'genial cap', '', 'herm fot', 'geni', 'wow', 'sup', 'cap', '', '', 'crack', 'felic', '', 'fotaz', '', 'excelent fotograf felic', '', '', '', '', '', 'cuarenten injust pong fech pag cuand trabaj ingres conscient mund pas', 'gust elenc danz', 'selecion varon', 'cas', 'elenc danz', 'elenc danz genial', '', 'futbol', 'jajaj', 'andas', 'jajaj fans', '', 'jajajaj', 'publiqu jueg part verl', 'felicit', 'varon', 'exact hac particip', 'ide tbm quier particip algun info', 'convocatori inici cad cicl pued acercart oficin vid universitari campus pre inscripcion prueb tecnic esper', 'form equip', 'brav', '', 'inform gust form part equip', '', 'deberi ten jud', 'bien sobrin', 'salg gordit', 'wapaax', 'bie ahi', 'hag quier pertenec', '', 'jajajaj', 'etiquetenl pe v', 'payas', 'veo v', '', '', 'felic chic alto', '️️️', 'mir si selecion voley', 'tbm quier particip', 'futbol femenin', 'epa niñ graci', 'precios ️', '', '️', 'bkarlaps️️️', 'diabl form equip', 'varon', 'quier particip convocatori', 'felicit exit', 'mejor moment ️ bachill upn universidadprivadadelnort', 'gradu tod carer profesional campus trujill', 'administr segur', 'much graci', 'felic', 'tod carer profesional campus trujill', 'carer', 'enis muer', 'pagin univers', '', 'supuest graduand campus lim ceremoni sab', 'culminarom sed oliv realiz igual ceremoni graduacion', 'asi graduacion trujill', 'trujill', 'obvi amig futur', 'futur', 'pued compart usand graduacionupn', 'graci', 'pued mand fot graduacion', 'si', 'estrateg jaj', 'año', 'felic', 'orgull', 'logr \\u200d\\u200d', 'hermos', 'graduand', 'felic', 'p', 'asu increibl', 'choquin proyect', '', 'braz robot invent antigu \\u200d️', '', 'pues hijit veo notici', '', '', 'bravaz', 'excelent joven sig asi busc innov transform socied exit', 'sub link vide verl', '', 'felic chic felic', 'excelent', 'felic chic bien merecido️', '', '️', '', '', '', 'genial', 'voy luxh ultim v', 'basquet dam xd', 'emocion partidobrav chic upn campeon', 'si ps manit rob triunf sab', 'pas manit gan xd', '', '', 'brav chic', 'orgull', 'felic guap', 'vam pupy', 'vam fabian darl ultim alient', 'sab cae', 'pued concentrat mil exit', 'pued crack', '', 'exit', 'vam fabian equip upn contig', '', 'encant panamericanosn quier acabenestoy viend fom peru gan oro katav upncon representantenuestr represent', 'vam fabi vamosperu vamosupn', 'buen vibr', 'señor upn respet alumn alumn derech sent burl part usted fech coordin respuest colabor u irisori', '', 'pension sig aumentamd', 'chic', 'q rar porq arquitectur si pued hac intercambi academ rar lq mencion q sep pued hac intercambi dobl titul tod carer', 'clar acredit cind respald alumn intercambi internacional dobl titul mencion bien sin acredit carer llev arquitectur ingieneriaetcest acredit certif formacion calid culmin carer respald buen busqu acredit tod carer', 'cind sol acredit alumn pued particip program intercambi semestr univers latinoamerican import acredit carer profesional ofrec puest ello asegur carer eleg respald peruan garant formacion calid asi egres preferent hor insert ambit laboral culmin carer ate estudi administr marketing sed sjl ciert carer acredit sin', 'upn vend', 'upn excelent cas estudi preocup', 'graci amig', 'vi felic amig logr', 'deb acredit carer', 'vend', 'acredit carer', 'orgull', '', 'excelent', 'van vend', '', '', 'elimin virtual', 'escog primer opcion educ ahor sol sient indign', 'si upc ne represent mal', 'tard', 'ten empat escuch alumn haz foment aquell valor anclad progres habl curs exiget exig alumn innov mism upc', '', 'motiv cad encuest coloc jamas recomend upc', 'herman suspend dias esper', 'recolect firm upc pronunci', 'aplac clas', '', 'palabr abran univers ten alumn plat v', 'falt empat haci person estan protest derech consider algun', 'tan inconscient upn aplaz clas upc', 'decepcion', 'sient opresion falt coherent discurs suel ofrec univers lad dic favor desaroll pais libert expresion lad emit pronunci sup tardi vez ignor propi comun estudiantil solicit mayor comprension represent estudi mientr amig ariesg vid pais escuch ello hac sent simpl maquin consum retractat upc muestr interes solidar ocur pais duel indiferent merec representacionapoyan pod apoy', 'vergüenz', '', 'tard', 'deb ser respuest opinion public pronunci despues critic', 'babos', 'ah cobr', 'pf porfin ped invit', 'z', 'si clas csm', 'upc dos dias suficient proces dos muert desaparec crisis nacional entiend afect sol psicolog sin tambi fisic pued ser indiferent pais hermanxs', 'hor', 'lleg pinch comport univers verd', 'tard encim tibi vergüenz upc', 'pronunci tard tal rat gobiern tan', 'chup huev', 'tard habl casi consum golpist renunc falt valor empat', 'upcbrillasportuausent', 'tard', 'demuestr fin si lucrat', 'tibi', 'upcaplacenestaseman', 'respald', 'upc exiget innov ah exig pag dia innov tremend aument pension cad año graci avergüenz', 'cer empat ️️️️', 'monton text mensaj clar', 'tibi upc', 'text dic señor sac comunic pronunci denunci acos profesor', 'dos dias “ lut ” usted vergüenz', 'cual postur dond disculp habert pronunci dias vergüenz', '', 'pas van sub pension veran ocur nadi dic baj consider dejenl siqu', 'fin habl mud', 'sab si descuent pension emergent', 'golpist', 'tod univers priv detras plat unic interes interes alumn trabaj verguenz', 'vari peor contact web canal atencion pesim servici', 'upc represent', 'text dic', 'represent', 'algun tip marketing pesim', 'deb dud', '', 'demasi tard poc empat tibi siempr', 'mur dos joven recien aparec', 'tibi siempr alumn desaparec caraj usted si', 'tard sig ejempl suspend clas seman hiz mundial mayor deb hac ahor mas empati favor', 'tard ahor sub coch decepcion', 'vergüenz estudi upc univers dic form lider socied involucr socied peruan pes crisis viv univers empres sol piens lucr', 'mensaj demuestr lastim upc', 'recien muert da vergüenz ser alumn pais necesit tibi', 'vergüenz comunic', 'decepcion univers', 'upcbrillasportuausent upcmeduel', 'pra emit avis amenaz expulsion sancion segun bendit reglament si tiembl man verd tip habl autor da mied deb ser rueg dios lleg hor habl contrat corupt tiembl voz volunt', 'facil pronunci ahorit tom dos vid decen her desparec com pued form gent aprend dia manifest tibi', 'upc vas flor palabr vac', '', 'anunci vaci trabaj', 'qu text tan tibi vergüenz pronunci situacion cobr toqu hac vergüenz ser egres', 'decepcion upc', 'fri text ex upcbrillasportuausent', 'deberi dar minim seman protest necesit tiemp', 'comunic dic', 'decepcion ️️️', 'deb manifest respald alumn valor sal call luch x ide defend pais', 'expuls alumn dan opinionindign acerc pas pais libert libr expresion upc univers viol derech ️️️', 'insens comunic muestr vergüenz aprend trist cas estudi actitud tan deplor', 'upcbrillasportuausent', 'tibi', 'poc palabr sig estudi pagan jod', 'horibl apoy estudi ido march ser', 'opinion tard cobr rapidit', 'dic mensaj', 'recien', 'tibi', 'anter dij sab usted parec tampoc gran maner lav man upc', '', 'firm peticion univers pued pronunci aun asi ajen pas pais dej dej des direct parec viv realid distint nisiqu part comun universitari pen pertenec institu asi', 'xd', 'laupcnomerepresent', 'parec incoherent si comprend joven cual form pensamient critic puest valent dignid import ahor quier entend tar academ pod culmin dobl discurs sol demuestr vam bien socied', 'flor aportex', 'mehqu trist', 'represent', 'represent', 'empati pued preocup vez salud mental alumn', 'decepcion', 'vayans mierd', 'clar si pued cancel clas part futbol “ import ” realment import', 'tibi', 'represent', 'empres mrd', 'quem demasi tard upc podras ser alma mat decepcion tibi', '', '\\u200d️', 'mundial suspend clas', 'peticion clas aplac htpsdocsgooglecomformsdefaipqlsdtetgboqhofwbatlcfhdxrmqwayvluxfnsfxrqdqviewform', 'decepcionupc demasi tard', 'univers prefier cancel clas part futbol', 'hac mes', 'tard', 'lueg sig upc esper nom lueg toc uds', 'ladron hsdp', 'tard upc dias tard', 'graci', '', 'aplac clas impos concentr ahor', 'empat', 'hag verd tibi', 'hiz falt muert pronunci empres monton sol vel interes import alumn sol bolsill despreci', 'total acuerd text vaci', 'comunic dic todav public tard graci upc ser tibi', 'tard', 'lej ve indiferent', 'cancel casi tod clas peru jug mundial ple catastrof nacional dan comunic muestr empat graci', 'barc hund medi cubr lleg demor tibi comunic', 'empat alumn', 'tibi', 'tibi mierd', 'insens', 'comunic decepcion', 'flor monse vergüenzaupc', 'trist', 'asi cobr luc curs dejam protest derech', 'mejor dig', 'upcnomerepresent', 'pa', 'sient represent univers habl demasi tard sol sum merin renunci asco principi democrat', 'encarg atencion psicopedagog u podr inform respons comunic com coyuntur actual afect alumn dig parec autor pertinent cuent relacion situacion actual emocion tra consig indign', 'hag caden chic pud ser ver si abland llam corazon', 'indign cuant hipocres text chic pud ser si mor vas ten diner unic preocup', 'supon termin clas altos estandar academ medi crisis angusti tan teribl aplaz dias cicl brind espaci protest expres', 'tibi', 'asco', 'sol pid dias entreg luch pra usted tranquil', 'necesit apoy real mir alumn luch democraci respald import coyuntur', 'sal march vam upc respald alumn sal march', 'buen pertenezc cag univers', '', 'siempr tard much carenci empat', 'text', 'oportun', 'mor herman peruan mand “ comunic ”', 'palabr necesit ser acompañ acion', 'verdader mrd', 'val seri', 'sol interes diner', 'lastim das upc pen hag vist gord interes personal econom sient avergonz cas estudi tard', 'pospong clas', 'aplac clas si igual pag diciembr', 'comunic mrd dic', 'tard upc', 'univers decepcion trist falt empat situacion', 'tard', 'mejor hag ningun comunic', 'tard manit', 'tard', 'vergüenz das dic sab tibi nunc hac si hac tard asi cas vergüenz da empres', 'gent desaparec form part comun universitari sol envi buen anim apoy tibi upc', 'pech fri', 'dan asco', 'educ superior lut indiferent upc', 'disculp inconvenient manifest derech ciudadan peruan solicit aplac clas examen final seman', 'unic hac cambi color loguit pretend hic suficient indiferent muestr increibl vergüenz falt empat', 'pospong clas alumn pucp univers preocup salud mental alumn dio pas par universitari si import salud mental alumn vel foment reflexion luch derech den pas par universitari indiferent ignor alumn', 'empres hiz peru poblacion', 'decepcion alma mat', 'mor pronunci asco', 'upc joven her nombr llam inti sotel camarg jack bryan pint sanchez', 'palt', 'escuch alumn sal q march pais mayor consider aplac clas', '', 'horibl', 'resolv examen mierd estabil mental suel mientr asesin herman sal march recien pronunci', 'si favor democraci dan facil ejerc derech protest tiemp tan turbi', 'tibi', 'buen mensaj si piens ayud estudi manisfest part upc part brig manisfest virtual fisic', 'pur text', 'dic especif fri fri tardon insens sent estudi upc represent', 'pa mejor publiqu mrd', 'mejor public', 'suspend clas', 'demasi tard upc tard lastim', 'pur text', 'pospong clas exig hoy regres cas', 'seri pronunci val mism hab hech', 'oe manin partidit hac falt dos muert hac vigil alumn pen das upc dios cuant habr pag call call alumn pen das', 'sincer upc sient indign univers alma mat tom postur diferent univers comienz necesit respald apoy embarg suced', 'comunic salud bander vergüenz', 'asco dan', 'upc represent', 'upc opin tard tristez', 'text da vergüenz upc represent pued ser tan indiferent alumn luch pais usted sol escrib web valor hart', 'egres upc tibi te', 'estudi univers desaparec favor mas solidar estudi her hospitaliz aun segu sal call', 'dej sabor comunic dic palabr fond alma mat cos qued cort demasi tard pronunci', 'text', 'jajaja cag man', 'q buen q estudi basura', 'alumn expon march ello pued entreg trabaj encuentr condicion realiz suspend clas seman parec sol ven ingres cuidadan', 'tard', 'dias tard', 'empat cobr pension coyuntur tan dificil', 'vergüenz', '', 'univers pospon clasesal men seman comienz hag sal march pais apoy mental moment hac trabaj siempr tard upc', 'cre mensaj neutral enseñ upc form ir encontr sistem indiferent sig clas si mientr compatriot compañer sal call', 'text dic x', '', 'upc represent suspend clas ir dar tiemp patri esper dar control calific ️️️', 'demaai tard', 'i text dic', 'hueve comunic', '', 'men hag control recuper fech crisis polit hag', 'mejor saqu upc', '', 'mism siempr lanz comunic tardi mism flor siempr despues presion alumn \\u200d️', 'univers brillocpor ausenci aprend cat', 'dos muert esper peruan cayeron luch democraci luch usted dijeron decepcion esper pronunci cre verdader valor esper pront den razon segu creyend usted', 'text vaci reprim reglament proselit polit deb apoy cas educ', 'pal cul', 'pospong entreg trabaj', 'tard upc', 'parec realment apoy comunic dic', 'despues dos muert tant reprension lleg tard fals sent pesam', 'tard', 'debat ide dic sinvergüenz lin vez desacredit protest infelic', 'tard upc', 'favor comienc ten consider estudi vist apoy public estudi desaparec posibl despues casi seman recien pronunci', '', 'comentari val', 'comunic intrascendent debil', 'tard cre enseñ carer comunicacion imag empresarial', 'q opin', '', 'usted mism dic nadi deb socav derech libert expresion esper manifest algun opinion gust veng trat amedentr call har', '', 'upc indign', 'vergüenzaupc', 'cad vez decepcion', 'tard', 'demasi tard mal vergüenz', '', 'libert expresion usted sancion toc tem polit brindan punt vist', 'upc brill ausenci', 'pur flor cer empat upc', 'comunic copyp dijeron seman mientr ocur cos pronunci lueg muert irte segur lament', 'dic', 'intent sent trabaj noch dsps sal protest impos dolor cuerp migrañ sobretod preocupacion pais univers muestr apoy estudi da vergüenz', 'lament pronunci tan tard aun baj presion acontec dia ayer estudi import univers expres frent panoram tan preocup atraves nacion situacion institu deb ser empat frustracion estudi brind heramient coherent postur', 'tard tard sac reluc comunic dic tard hac not postur frent coyuntur ped inici meduelesupc', 'siempr tibiez falt empat resalt calid upc', 'mejor segu call acostumbr decepcion', 'habl compromis democraci prohib formacion grup estudiantil democrat', 'tard men pospong clas entreg cient joven form institu part gener sient oblig pais dolor asesin com pued estudi si mat empat favor', 'um dich practic', 'upc minim deb suspend seman clas suced upc represent', 'si igual cobr diciembr', 'flor aport', 'tard', 'esper', 'payas', 'indiferent mierd', 'deb form ciudadan critic mism institu exceptu profesor dan espaci acontec clas', 'floras', 'marketing', 'cambi rector', 'avergüenz ser part univers insens', '', 'mal', 'represent', 'educ superior lut mejor profesional implic ejerc ciudadan activ tempran tem holist', 'sol empat sum bolet cad mes', 'comunic fond negr dic', 'solidar dos herman universitari caid trist upc', 'tibi', 'vayans mierd', 'comunic tardanz', 'tard', 'cobr bolet si pronunci toqu lastim dan', 'esper text mism ahor brill tibiez upc capt nul empat interes unic lucrat alumn', 'luch termin deb permit polit pod proces vez part polit aprovech situacion', 'olvid primer sal comunic ceo rest justif protest', '', 'lament pas recien pronunci asi polic reprim manifest usted hac alumn sancion expres librement opinion', 'chic invit segu instagram', 'esper univers parec empat part valor intent enseñ', 'tard comentari', '', 'payas cobard', 'aqu pronunci situacion general educ superior lut deb suspend activ academ seman señal apoy sal protest mayor gent call joven universitari qued cort pronunci upc', 'jod', 'tard', 'comunic tan tibi altur lastim si asi habl democraci respet derech reclam pension', 'ultim hor vergüenz pued dar institu', '', 'upcnomerepresent', 'sient upc romp corazon alma mat', 'tard postur defin cer empat', 'basur vergüenz jact ten carer period sab dond estudi si quier univers ret desaroll critic', 'pens olvid', 'dic', 'upc sol piens diner si quier pon pens alumn veng quer sorprend', 'demasi tard upc', 'upcnomerepresent', 'indiferent hac diferent trat propi joven educ', 'tard', 'upcbrillasportuausent', 'desperdici dos minut tiemp leyend comunic mensaj vaci forz', 'tard lanz asi tibi vaci habl compromis solidar piens ayud alumn dej pretend crisis afect', 'tal falt enpati univers decepcion', 'solidarizat vam march csmres cobr mrd pued suspend seman clas', 'cun tibi vam qued braz cruz', 'enseñ etic ciudadan si aplic', 'vergüenz nacional', 'despues dias dos muert estudi olvid indiferent haci puebl deb par dias dificil proces suced salud mental salud mental jueg parec tampoc import joven mur joven', 'quer tibi moment duel', 'mat dijeron complic', 'suspend clas', 'tibi', 'gent muert esper rind bien', 'tibi', 'si suficient ver gent mord cov ahor gent muer pais empat sal march mayor joven', 'lleg pinch', '', 'upc da vergüenz ser alumn institu cad rat pregunt si recomend algun famili amig univers si dud ahor clar upc sol gust lucr import comin alumn upc val pen upclucr', '', 'pa nisiqu respald', '', 'auspici primer parec', 'aunqu pronunci dic pio', 'sirv comunic si segu hac trabaj mientr mat', 'text tan', 'tard vergüenz', 'asi quier cre comun estudi empat tach represent upc', 'despues muert demasi tard', 'text aplac clas proces administr alumn egres call', 'siempr tard upc deb ser solidari alumn upcnomerepresent', 'sirv', 'demasi tard lanz comunic necesari esper muer joven pronunci da much pen univers si lanc si voz apoy alumn usted hag siend alma mat men esper apoy asi decepcion', 'upcbrillasportuausent', 'ayud busc desaparec', 'entonc si mor person march pronunci upc siempr tard', 'tard', 'vergüenz', '', 'upc vas caer igual merin falt empat maxim esplendor inici pandemi avergüenz alumn si valor innov aplic sol cobr imbecil', 'tard', '', '', 'tas mal csm', 'tard upc dieron luz verd tiemp pues apoy tiemp', 'suspend clas seman', 'upcbrillaporsuausent', 'dias tard', 'acionar realiz moment lueg muert lueg renunci', 'delet', 'exact', 'ser dia dej pens empres apoy person dan com usted verguenzadeserupcin', 'tres estudi desaparec esper presion manifestart', 'mensaj lleg tard literal muert enter', 'si quier redim verd suspend clas seman pod segu march compet ciudadan upcreinvindicat', 'favor mas tiemp entreg trabaj favor', 'dias tard', 'luch peruan empez hac dias mal upc actu acord benefici comun universitari', 'pospong clas', 'ojal asi fri salon veran', 'recien ahor', 'asco total', '', 'tard upc vergüenz', 'com van form ciudadan critic integr si apoy alumn afuer call luch derech pais conscient ayud mediant text dic sin aplaz clas seman', 'lin dic', 'parec emit comunic presion mediat', 'upcbrillasportuausent', 'asco asco dan', 'dias comunic indolent firm upcnuncam', 'madr', 'blablabl hac naah', 'pur flor', 'avergonz alma mat ️', 'dejan sal march aplac clas seman trabaj entreg mientr mat compañer', 'deb darl vergüenz pronunci esper muert envi “ comunic ” dic absolut import', 'graci emit import pronunci', 'indiferent mat pued ser ajen coyuntur actual manten exigent entreg graci', 'cul', 'recien', 'f', 'tard', 'lament mostr interes situacion compet afect upcbrillasportuausent', 'tom acion tom posicion pas atras', 'profesor consider sal protest mencion tem quier', 'vas caer upc', 'empat propi alumn ido defend pais maner pacif upcmedecepcion', 'siqu volunt propi realiz comunic', '', 'tard text dic nada', 'too lat bro', 'desaparec upcin mencion entidad si preocup gent aun estudi', 'estab esper pronunci', 'pospong entreg', 'mor person uds habl asi quier ser univers referent', 'demasi tard dic upc indignat', 'ayer', 'recien quier pronunci hac seman luch derech gobiern ilegitim tod demas univers pronunci upc recien reacion', '', 'sab cuant estudi pued her desaparec parec ide empati situacion prim moment tard', 'decepcion total', 'vergüenz univers sol sab lucr', 'alma mat aun asi decepcion upc', 'tibi univers carer period usted vergüenz text pud ser vaci', 'algui favor coment si asoci feder sindicat estudi', 'lament comunic upc escuch pid client dig alumn', '', '', '', 'too lat upc', 'vergüenz da pertenec institu', 'tard comunic', 'upc represent', 'm bonit apoy present recien pud logr', 'upc represent', 'jajaj tod vid upc dic siempr decepcion', 'nadi pud hab dich mejor', 'sol demuestr ced presion alumn si verd plant posicion firm situacion unans luch ampli plaz entreg trabaj alumn pod segu march perjudiqu not', 'falt empat', 'tard upc', 'tard vergüenz', 'upc represent', 'indign alta sol atin respond asi', 'recien sab result pronunci', 'necesit entid educ activ compromet socied sient represent univers', 'aplaz clas', 'lament actu tard upcbrillasportuausent', 'burl pronunciament esper muert renunci merin recien comuniqu represent upc duel', 'esper muer joven pronunci tard upc', 'vergüenz lament comunic', 'das ris ctmre', 'jajaj', 'ups recien veo march jej', 'igual jal entiend', 'mayor plaz entreg trabaj quer march democraci', 'inutil', 'ves explor usan blackboard lentitud', 'tibi', 'empat', 'dim upc maner respald estudi reform universitari dio graci estudi sal march hic', 'tard', '', 'apoy verd baj pension doblec', 'preocupens salud mental estudi si bien clas virtual andar encer influ imaginens sent pas posterg dias clas entreg trabaj va hac dañ', '', 'indign cad dia cinism manej', '', 'alucin olvid upc aqui vari profesor proteg victim alumn institu permit agresor sig enseñ', 'demasi tard muert tard', 'deb public hac bastant tiemp esper sangr', 'pas tortug pag escenari', 'congres alarcon parand viaj traj fantasm aspir colabor eficac armo sujet investig', 'toc hac introdu vas flor pur rellen comunic upc', 'parec merin comunic ultim hor', 'tard comunic', 'democraci bas libert expresion usted censur propi alumn sol import plat', 'joven recien ingres univers piensenl bien ingres upc millon altern mejor asegur', 'tard', 'cer inmun polit corupt', 'tard', '', 'porqu recien manifiest rater', 'decepcion ser estudi upc', 'demasi tard', 'cor seman entreg gent sig call luch', 'tibi', 'cer concord campañ publicitari \\u200d️', 'esper moment clar mur joven renunci manuel merin mensaj muestr interes univers siempr tard da much lastim', 'univers pid concienci protest desaparec inclus abus compañer estudi asim dañ mental hech pas dias injustici cicl acab afect pod ser indiferent situacion porfavor comprension', 'upcnomerepresent', 'esper merin recien pronunci', 'amig univers empres llen corupt habl libert expresion pronunci sancion pas tibi comunic', 'exact pod dec sancion mejor coment', 'bro tard vergüenz da ser univers', 'tard vergüenz', 'porqu tan tard respuest', 'tard lament', 'comunic recien ahor tard cre conten', 'chist mencion palabr constitu comunic', 'hab sangr deram recien pronunci pur oportun si verd pens asi dich comienz unic hac qued peor', '', '', 'tard upc', 'postpong entreg preocup pais pens termin trabaj', 'tibi', '', 'tard upc', 'cambi dia pc asi apoy', 'ahor upcin nunc olvid apoy tardi derech protest gobiern corupt', 'tard', 'x', 'upcnomerepresent', 'empat alumn', 'antesdeseruniveritariasoyperuan', 'decepcion ser estudi upc empat alumn', 'tard', 'recien despert comunity manag', 'facil tom postur lueg dos asesinat multipl her', 'tard upc', 'tard mand core bolet ahi si toqu', 'mejor sac ningun comunic xd', 'ahi comp ahi segu', 'final comp', 'sid buen respald march dia juev manifest apoy verd ser tibi', 'madr famili sient decepcion univers', '️️️️', 'esper', 'tardesu “ deb ” hab anunci hav dias hiz demostr viv valor proclam usted sid decepcion institu educ ahor facil mostr apoy ahor convien mostr apoy', 'tom postur comienz dej des cas estudi quier consider seri ahor facil sub coch pas tibi usted', 'comunic vaci dic', 're tibi', 'mal upc demasi tard palabr vac', 'aplac clas dejen ser escuch pued ser sig dej trabaj inform tar examen si suced', 'tibi ah upc respald peru necesit pen', 'esper sirv alumn cuent import ten centr feder frent estudiantil univers pued mostr tibi situacion naturalez', 'brill ausenci upc decepcion', 'vergüenz upc', 'vergüenz text dic esper usted institu', 'siempr tard upc', 'da dias pod march', 'pronunci esper usted empat alumn', 'despues dos muert', 'lament', '', 'parec sharik', 'tard lleg pronunci decepcion', 'tibi', 'siempr tarde\\u200d️', 'tibi tard lastim decepcion', 'cer empat ten lleg punt recien emit comunic decepcion complet', 'tard hoy avergüenz', 'da vergüenz estudi empres', 'mensaj flor', 'sirv tant licenci upc si falt corazon decepcion vez', 'pa', 'siempr demor men cobr', 'ven plat toqu respond', 'ptmr unas tortug comunic', 'innovasportuausent', 'demasi tard decepcion dec egres derech cas estudi', 'march upc reduzc pension conscient tod crisis econom reduc personal requier manten sed van cobr igual', 'pronunci pas desgraci recien pronunci', 'cobard', '', '', 'tard', 'deb esper deram sangr hac comunic', 'represent sient orgull cas estudi', 'siempr poniendot band convien nunc apoy inici hic vist gord decepcion upc', 'we stan', 'vas dar seman lut muert joven com estudi demasi diger protest cuest aplaz cicl seman', 'alucin tard upc', '', 'demasi tard upc', 'bien suspend clas', 'payas mierd', 'oe jot estudi', 'che tibi u', 'decepcion demasi tard pronunci despues asesinat', 'parec falt respet comunic verd usted sol cobr form', 'pens aplaz tod univers c', '', 'alumn sal march aplac clas seman', 'siempr upc dej clar fin net lucrat \\u200d️ lament', 'estan dic', 'tard', 'upc sig igual', 'respald alumn', 'estoyenclasesmientrasnosasesin', 'tibi', 'tan tard upc tan tard', '', 'upcbrillasportuausent', 'dic mierd', 'vergüenz estudi empres', 'demasi tard upc', 'recomiend cojudez', 'siempr tard cobr si rap', 'tibi', 'tard empat alumn sal march moment encontr suficient concentr entreg trabaj final preocup pas pais', 'tard suficient', 'fabric profesional', 'ahor quer ver respald sancion actos polit termin renunci merin', 'meduelesupc', 'comunic da entend hac oblig estudi nac valor univers esper respet libert expresion critiqu clasist indign gener actitud tom luch defiend libert expresion univers sig escond mied dañ interes econom', 'xd', 'despu unmsm na mas voy dec xd', 'fin', 'libert expresion si dic mal univers denunci', 'comunic sheyl mil vec mejor upc', 'tibi fri indiferent', 'cre gran reflexion formacion ciudadan polit promov dentr upc men asi sient podr llev promov inclusion cultur polit dentr univers propon cre', '', 'sient igual esper pronunci dias defect hoy convicion men tibi', 'total acuerd', 'alma mat realment tibi sid upc indign', 'tard dic', 'copy past original caract', 'cumpl deb civic dificil cumpl tar extiend plaz', 'dic', 'upc joven sal pospong seman entreg', 'text', 'tard necesit posicion ayer recien ahoraqu decepcion', 'tard', 'tant letr pur', 'trist dec siqu univers represent', 'pen recien pronunci', 'siempr tard', '', 'tmr upc tard', 'decepcion actitud frent problem', 'tard siempr', 'deb suspend dias entreg final parec tod carer pod dar siempr situacion crisis', 'recien vergüenz', 'demasi tard', 'upc deb tom postur hac llam calm institu educ ahor sirv meduelesupc', 'duel upc', 'porl text', '', 'hor oe', 'pandemi crisis hic absolut ayud alumn ped diner si primer alumn da asco maner actu', '', 'brill ausenci upc', 'tard', 'tard upc tard', 'comunic dic alumn yend march upc sig igual', 'pas upc', 'hor pronunci tard decepcion upc', 'favor reconoc', 'par dias favor alumn march', 'upc respald alumn compromet defens derech present march', 'recien univers pronunci juev grit luch modifiquel reform universitari den educ calid democraci just tard', 'tard', 'vergüenz', '', 'hor', 'jaj', 'recien', 'respald alumn upc', '', 'esper asi habl democraci libert expresion trat amen propi alumn si emit opinion usted gust', 'pen recien pronunci upc veo univers alzad voz decepcion alma mat', 'vergüenz sol interes plat feliz univers mierd', '', 'libert expresion cicl pas cambi norm derech dec parec amedrent', 'piens alumn estan dand vid peru tibi mierd', 'upcbrillasportuausent', '', 'tibi', 'siempr tard upc', 'demor vid emit pronunci', 'literal', 'pongans pantalon', 'text dic', 'tard', 'comò siempr nunc dic', 'recien esper muert pronunci pued esper upc', 'pas tibi usted tampoc represent univers mediocr', 'comunic deb hab emit hac dias', '', '', 'upc represent', 'dic', '', 'comunic lleg tard decepcion silenci dias', 'tibi upc', 'tibi', 'siempr tard upc', 'pospong entreg trabaj', '', 'tard graci supong', 'comunic volunt propi recolect firm upc tom postur acontec recient', 'ahde pas', 'parec sol muert estudi parec suficient lanz comunic', '️', 'val tard nunc “ graci upc exig innov ”', '', '', 'pas raton', '', 'expliqu x wsp', '', 'sol trabaj exposicion examen alumn her desaparec minim pued hac univers', 'jajajajajajaj futbol futbol siempr futbol', 'realment val comin tem habl aqui', 'jajajaj', 'si vas aport callat mejor', 'jajajajaj termin tar despues vas march', 'habl sol gil hic deber empatico️', 'hac trabaj lueg yend march pas tod madrug hac trabaj si vas march sab desgast desg mental lleg cas despues ser gas ver imagen compatriot muert her desaparec sab haz pod ser', 'esper termin trabaja dej inci clas ultim seman jaj', 'excus bro', 'man habl hvds callat pls', 'dim cual', 'estres postraumat facil', 'si organiz podras entreg trabaj', '', 'leet denuev daras cuent', 'iluminam favor', '', 'concuerd contig favor uses lenguaj inclus parec ridicul usar x palabr mejor si alumn alumn', 'sol exist dos gener si parec ridicul hag pas respet si algui quier usar cuest respet', 'dic exist gener sol punt realid buen deb respet person viv fantas', 'muchxs alumnxs yend march porfavor pospong dias entreg', 'da dias pod march', 'tem social siempr dand univers', 'tibi mrd', 'pandemi cobr d bolet ahor tampoc', 'empat alumn dond', 'pospong entreg', '', 'tardanz larg silenci habl fuert cualqui cos pued dec ahor profund decepcion usted', 'fin upc avergüenz', 'comunic dic', 'hor \\u200d️\\u200d️\\u200d️', 'opin actu', '', 'dic', '', 'presion dig deb ser', '', '', 'orgull upc', 'u ️', '️', '️️', 'excelent profesor', '', 'orgulloupc cap', '', 'ojal pronto️️', '', '', 'much felic', 'prof roncer', '', '', 'much razon agreg funcional especif neces peru pued hac equip mas barat import asi gener empres emple sector tecnolog', 'ahi explic hac maner digital menor cost locual import situacion crisis com', 'llam competent xd', 'porqu cre exist diferent marc cost', 'brav chic', 'excelent profesor namay ️', '', '', '', 'ps clas respir cardiopulmon', '', '', '', '', 'felicit buen proyect', '', 'orgull investigadoresupc felicit', '', '', 'adquier cost', 'hol graci pregunt coment ultim version phukuy incopor termometr corporal las oximetr sensor temperatur presion ambiental convirt disposit eficient ser integral econom digital consegu cad caracterist maner independient podr costart esper hab resuelt dud', '️', 'felic sig asi', 'buen', 'imag disposit fich tecnic quiz ayud visualiz entend espirometr utiliz terapi recuper podr dec cost aproxim product graci', '', 'felicit', 'orgull upc ️', '', 'pag curs hac mes hic curs aun devuelv diner pesim servici mas mes solicit reembols nadi da respuest', 'acab', '️', '️', '️', '️', 'supuest', '️ proxim', 'algun moment', 'esper high school musical', 'jajajaj pid', 'entonc pas xd', 'jajaj si pued', 'algun dia jaj', 'falt cont mes yeyeyeyeyeyeyey', '', '', 'pront', 'ahi voy graduacion marz', '️', 'algun dia', '️️️️', 'quier fe polv had', 'parec jajaj', '', '', '', '️', 'jajajaj junt sin', 'acab', 'pront', 'algun moment', 'años', '', 'falt herman', 'si vam disfrut', 'falt dia', 'pront pront', 'pront amigui', '', '', 'par mes inici titul mejor recuerd ceremoni', '', 'felicit', 'cad vez cerc fe', '', 'recuerd graduacion', 'falt', 'genial inici', 'upc maxim ️upc', '️', '', 'orgull', 'lind apoy ️️️', 'egres carer medicin agradec upcproud', 'retirat u pues si pued pag', 'sol mencion consider just alumn facil dec falt empat', 'retir coment opcion descuent si requier', 'ayud upc sol fracion mont mensual necesit hag descuent men hac uso instal', 'buen sig producion', '', 'alumn ingeni colabor', '', '', '', 'orgull graci', '', 'cre sed monter', 'sed encuentr laboratori', '', '️', 'mas fals sol dic aplic mor mas sol d descuent', 'excelent orgulloupc', 'orgull ️', '️️️️️️️', 'excelent', 'eles são engenheir industriais', 'perfect excelent colabor institu requier moment gran orgull univers egres realic tal acto ️', 'buen aport deb preocup hac descuent bolet sol llev clas virtual embarg upc sig emit bolet form normal gran crisis econom nivel mundial ser just', 'excelent ayud felicit aclasesvirtual agradec apoy enfermer sig adel', 'lind aplaus pars uds gran ayud ️', 'enhorabuen ️', 'baj pension', '', 'graci apoy gran esfuerz pon hombr moment tan dur graci equip', 'esper coment medi upc estudi upc mand cart tont diciplin asi silenci gent', '', 'ojal asi preocup alumn sig explot', 'felicitacioneshac bien upc apoy primer line contencion coronavirus', 'gran inici buen alumn particip', 'sig asi ️', '', '', '', '', 'maxim upc', 'upc️', '', '', 'reconoc total', 'orgull upecin', 'hol buen tard pued indic preci protector facial quier compr', 'orgull upc ️', '️️️', 'gran trabaj', 'orgullo️', '', 'realiz dos entreg irem cont', 'ojal sig aport', 'enseri v tard papi jajaj sed san miguel chiquit van entrar v ciert tod chic nutricion tambn muchach relax nms', 'pon traducion interpretacion', 'graci dat primat', 'atent jug primat', 'cambiat', 'interes', 'upc ajajajajajajajajaaj', 'ptm mism web irme san miguel', 'cas grand sed cre', 'cambi oe', 'jajajajaj awant', 'señal', 'carer traducion vill tambn seri buen', 'terapi fisic san miguel', 'amig cre primer cicl', 'cambi sed', 'gent my gosh', '', 'b mir', 'bie csm', 'monter', 'matricul tramp', 'sufr estacion nuev tt', 'jajaj', 'habl pas dos', 'seri', 'jajaj forma qued villa️️', 'amen ️ jajajaj', 'jajaj cambi', 'pa medicin mo', 'ag', 'com', 'jajajajaj igual jamas quer ir san mickey', '', '️', 'ok', '', 'sobrepobl ratoner quier met gent dond van entrar sotan', 'payas cre ven vill pes jajaj lab ahi', '', 'ptmr', 'xd tard cre', 'khe', 'khe', 'oh my god', '', 'espaci', '️qu buen', 'aea mongol', '', 'tim', 'tradu', 'si sed igual espaci vill sobr entran ps sed llen deberi ampli', 'artes escen monter', '', 'felic', 'gust upc sed oliv', 'medicin campus', 'cuand pon econom san miguel', 'deb reduc cantid alumn carer demasi aunqu constru vo pis segu satur', 'agreg carer ing red modal pregr regul sol epe', 'estim vien revent celul llam hac dias llam vend servici pas form vend hac marketing', 'deb apertur carer administr finanz campus vill', '', '', 'mam cambi carer bais', 'putamadr', '', 'dij atent', 'segur sol nuev ingres sol prim cicl', '', '', '', 'si acas', 'pas carer traducion interpret', '', 'explic construcion vo pis v', '', 'gastronom xfavor', 'klk', 'gent si nadi alla', 'gent', 'seri facil nuev ingres', 'cre ah igual abriran curs averigu', 'mir xd', 'hag cambi sed', '', 'ah caray', 'ay dios muer crj llor', 'seri', 'boc bes madr', '', 'sam', 'jajajajaj piñ tef', 'kha', 'much gent ptmr', 'van met mas gent san miguel entra alfil', '', 'seman pag matricul xd', 'aunqu igual pens bien xd buen años tard v', 'años tard chesu', 'traspas dic', 'com pued cambi sed', '', '', 'nopi tambn muchach', 'uy cachimb', 'q pon pis c d v', 'piens met nuev alumn tech si ahi genial ah', 'moment lleg', '', 'gent ️', 'cambi carer', 'tmb quier mont', 'monter aun', 'mud', 'valeri trasladat', 'llor', 'enseriopq ahor', '', 'odi', 'rip', 'sab', 'vill corazon ️', '', 'com pued cambi sed', 'amo huevon ️', '', '', 'suert ptmre', '', '', '', 'ingeni ambiental', 'adios chefsit', 'ven', 'go', 'alalalal bai microlif', '', '', 'jajaja', 'mam cre cambiar carer', 'huev espaci laboratori simul final mand vill jajaj', 'general lab general asi ide', '', 'ay hor hac pued cambi acabar vill', 'pued haksh sol deb solicit trasl', '', 'cienci', 'putamadr', 'pued cre jaj', '', 'si sab porl', '', 'cerc cas', 'adivin veras dias', '', 'comun vill', 'jajaj qued vill amix', 'ag viaj xd', 'cambiat sed', 'omg', '', 'orgull upc ️', '', '', 'quis inform univers', 'exit xd', 'upc ️️️', '', '️', 'herman upc ️', 'i ️ it', '', '', 'com dig mam exiget innov xd', 'esper xd', 'ranking internacional todav falt', '', '', '️️️️ orgull upcin', 'nivel mundial puest', '', '', 'orgulloupc', 'woow gust i lobr ups xd', 'orgulloupc ️', 'se rick', 'sient orgull pertenec famili upc', 'upch pucp', 'sol cach bañ', '', '', '', 'simplement upc', 'orgull upc', 'mejor unisersitu i speak english', 'the best unisersity', 'upc', 'abigail', '', 'mir', '️️️️', 'uf', '', 'dos pregr posgr', 'san fern quer ️ unmsm', 'aqui', '', '', 'obvi', 'yo️️', 'graduacion ️', 'mio asi diferent dieron graduacion mas bonit', 'yo️', 'yoo \\u200d️', 'yop', 'yo️', '\\u200d️', '', '', 'yop', 'dor', '', '', '️', '', '', 'confirmo\\u200d️', '️️️️', '️', 'gradu san marc dan', 'tambi sal represent san marc deport', 'consig', '️', '\\u200d️\\u200d️\\u200d️\\u200d️ bienven cachimb', 'jajajajaj fe dan', 'mochil cachimb csmre cachimb virtual', 'tomodachi si color', 'quier', 'esfuerz recompens gradu dan', 'u quis ten ingres', 'hag sorte', 'grandecit doradit ️ graduacion', 'herman', 'graduacion', 'quis c', '', '', 'ver pues xd', 'hermos', '', 'cuand sal cachay howard cuand segu pas vergüenz', 'graci amor️', '', 'fueracachay', 'guardadit recuerd graduacion', 'pin', 'ow q tiemp pam', 'graduacion ️', 'bonit', '', 'jajaj casi años facu', 'jajajajajaj tampoc años wey', '', '', 'quier consig', '', 'amo ️', 'renunciacachay', 'quier uno️', 'com obtien', 'yo️', 'eu', '\\u200d️', 'quier consig', '️', 'bas', '', '', '️am', 'dieron', '', 'consig', 'goals', 'yo️', '\\u200d️️', 'regal', '', '', 'sol gradu', 'poler', '\\u200d️', 'algui vend', '️', '️', 'dond vend', '', '️', '', 'algun dia algun dia', '️', 'infalt ️', '\\u200d️', '️', '️', 'regal cobr tramit documentari egres titul men v', 'siempr quis sab consegu', 'v', 'graduacion color', '', '️', 'necesit', '\\u200d️', 'yop', '\\u200d️unmsm️', 'v bas cov', '️', '️', '', 'san marc ahi voy', 'yoo', 'ñoq', '', '', '\\u200d️', '', '', '', 'merit requier consegu quier ️', '', 'yo️ fueracachay', 'yoo', '', 'yopi', 'encuentr c', '', 'quier perd dond consig', 'sol color dor', 'perd', '\\u200d️', 'much mujer ️', 'vend dan finaliz carer', 'pued consegu aunqu pued mand hac', 'quier', 'necesit', '', 'sanmarquin present', '', '️', 'vendo llev llev caser xd', 'com consig', '', 'renunci rector', 'san marc hermos innombr manej desastr', '️', 'si guard orgull', 'pin unmsm', '', '️', 'quier uno️', '\\u200d️️', '', '', '', 'oro dig', '', 'hermos pin alma mat', '', '️ unmsm', 'obve yop uwu', '', '️', '', 'quier consig', '\\u200d️', '️', 'colegi psicolog particip ceremoni graduacion elect part paquet inclu pin lind ten asi termin carera️', 'elect pin', 'si', '', 'bien guard', '', 'cuant vacun cambi fueracachay btw bonit pin', '', '', '', 'cachay deb renunci', 'pin sortij pued contact', 'guard baul', 'egres uwu', '', '', '', '', 'asi quier', 'gustari ten pin pued obten', 'yo️️️️', 'sm graduacion pin facult', 'obvi dor', '', '', 'todav', 'yala', 'yo️', 'com consig', 'wow', '', 'ingres v', '️', 'dond vend', '', '', 'pront', 'nunc merec graci', 'jaj so pack delivery smp so si vari repart preci v', 'hol smp', 'escribem dm', 'cuant jaj', 'si algui viv smp escribanm dm junt delivery brom v', '', 'hermos inici', 'amo', '️️️hermos buen sanmarc', '️', 'buen inici', '️️️', 'quier', '', 'hermos ️', 'encant losquier si ayud perit much mayor razon necesit ️', 'imagin ten tod univers sol estudi tom respons', 'si numer yap cuent bcp public', 'deb pon numer yap cuent bcp don', 'lobit', 'x', 'lobit fallec', 'dos uwu', 'compr', 'quier', 'we quier', 'compr pin amor uwu', 'lleg lueg eleg cual', 'amor bien uwu', 'amor cre buen ide apoy ademas par pin ven piol', '', 'compr', 'graci obsequi', '', 'perovac', '', 'ouw', '', 'lleg pues', '', '', 'ow perit vac', '', 'buen inici si trabaj', 'u', 'hor confesart cai bien perovac', '', '️', 'q sad amix x', 'quer conoc ️', 'vi lej cuent', 'nunc conoc sanfef', 'quier', '', 'lind', '', '', '', 'info ig pued colabor', 'chic apoy rif refugi sanmarquin fb', '️ perovaquit', '', '️', 'quier ️', '️', 'q hermos ️️️', '', 'quier cuant estan', 'lind inici', 'hermos olguit aun recuerd vez quis acarici casi qued man', 'jajaj si vec pon intens', '️', '', '', '', '️️️️', '', 'preci', '️️️', 'amig pod ayud', 'quier', 'vez quit botell agu', '', '', 'dond vend', '️', '️', '', '️', 'cachay', '', 'hol book medic llev dec are vent libr medicin si necesit ayud consegu libr aca', 'fallec michi puert', '', 'compr', 'lee descripcion', '️️️️', 'ahor entiend quier vot rla', 'quier pins', 'sid rat rob roc xd', 'perovac', 'cuant vec', 'muchisim vec', 'regres bibliotec ️', 'nostalgi', '', 'amor️', '️', '️️', '', 'sory clas pta rut comp', '', '', 'com extrañ camin lug ️', 'hermos cuant recuerd', 'chikis rumb jug basketball', 'ven plan fug mat', 'bibliotec central haci puert av venezuel', 'camin pic ahi despues cop vin pisc aniversari escuel jajajaj', '', '', 'monton ️', 'sal cor noch', 'uy much vec lind recuerd', 'hermos recuerd', 'uf', 'x', 'excelent tom', 'vec camin central', 'acab record cuant dol pies camin piedr xd cre xd', 'u noch general bonit xd sol camin piedr or xd', 'conoc ton dramat', 'oe emcim ahi entren futbol selecion futbol u', 'se duel apart ve bonit atardec amand captur', 'deb verl viv germos pipipipi', 'nostalgi', 'hermos recuerd amig san marquin', 'guardi chup trag cdsmr xd', 'lug dron vio lueg lleg mot quit trag ultim verben csm v', 'uf', 'parqu comi flac entonc xdxd', 'prim megachap ahi cre acab cumpl', '', 'recor', 'haci puert', 'toc regres che', 'aquell tiemp', '', 'cambi dsd', '', 'mejor etap vid amig', 'mejor etap vid epoc universitari amig nostalgi san marquin', 'san marcos️', '', '️', 'uwu', '', '️', '', 'ji', '', '', '', '\\u200d️', '', 'bibliotec huac querecuerd ate egres', 'jajaj despues estudi central dir xd', 'despues tropical', 'si ️ derech p', 'jajajajaj ramit', '️', 'vered gem', '️', 'jajajaj pendeivis cre bien conoc lar xd', 'derepent desaparec', 'much nostalgi ️', '', '', 'vient zon mejory recuerd lleg ment person especial', 'nostalgi activ', 'jajajajajajajaj nenit mat arbol', 'fot tom dia necesit sal luz', 'voy expon defiend indefend', 'oe', '️los dias lluvi mejor', 'convers vid', 'jajajaj oye olvid', 'habl tiemp xd', 'ahor men', 'ay resint', 'sal danz', 'hac años atras habi mas plant jardin banc sent estar ahor', 'jajaj per', 'sal bibliotec dias', 'extrañ u csm', 'road to huac uwu', 'tant vec tropez xd', 'jajajajajaj piedr botit ayud xd', 'jajajaj xd sab camin xd', 'estrañ ciud tant vec camin ahi', '', 'recuerd sali pit xd', 'x uwu', 'vi dio fri uwu ️', '', '', 'tiemp', 'jajajaj deci bibli ahi', 'jsjsjs', 'recuerd', 'rutin dias️', 'duel pies camin vered piedr', 'huac xd', 'canch hic hombr', '', 'sal junt rumb p', 'tant vec noch soled music tiemp', 'jajajaj', 'ala', '️a tra recuerd ajajaj', 'ris picarona', 'record siempr pas ahi sal ir comedor famos curv', 'ou recuerd grand caminat', 'camin bibliotec tod noch', 'sal noch central mecan flu', 'iba ensay danz rector ️', 'tiemp', 'si monton vec', 'uf', '', 'libr etern sender pensamient inspir camin', '', 'extrañ camin sol ahi', 'nostalgi ️', '', 'vuelt tod u xd', 'much vec', 'much vec ️️', 'recuerd mejor años vid', 'com olvid trayect', 'extrañ', 'dig c bosqu tra recuerd', 'c', 'nostalgi', 'uf cad centimetr pedaz plant zapatill', 'cuant papi', 'usa comentari entristec', '', 'tant vuelt v', '', 'recuerd', 'brom noch yend plaz u tkm brom extra', 'busc entrar fieetonaz c', 'aea', 'ahi cor ero v', 'ahi perd xd', 'sal bañ termin dandom tod vuelt u', 'sal noch maestr', '', 'sac recuerd bonit vid sanmarquin ️', 'camin bibli puert venezuel ️', '', 'buen tiemp', '', 'ir hac raid recog caj melt', 'alfrdus aquell tiemp', '', '', 'clar recuerd esper volv algun dia', 'recuerd', 'uf cuant vec recor camin cuant desvi mism jaj', 'uf tant vec buen recuerd', '️', 'inviern recor ojal pront', 'record', 'fotaz', 'recuerd', '𝘞𝘰𝘸 𝘘𝘶𝘦́ 𝘪𝘮𝘢𝘨𝘦𝘯 𝘊𝘶𝘢𝘯𝘵𝘢 𝘯𝘰𝘴𝘵𝘢𝘭𝘨𝘪𝘢 𝘥𝘦 𝘮𝘪 𝘚𝘢𝘯 𝘔𝘢𝘳𝘤𝘰𝘴 𝘥𝘦 𝘴𝘶𝘴 𝘢𝘶𝘭𝘢𝘴 𝘥𝘦 𝘮𝘪𝘴 𝘢𝘮𝘪𝘨𝘰𝘴 𝘥𝘦 𝘭𝘢 𝘣𝘢𝘴𝘦', '', '️', 'veran camin veredit piedr ️', 'noch sab toqu suspens', 'noch dan lueg sal central', 'siempr camin alli yend clas', '', 'gust pas biciclet dentr ciud universitari', 'elbosquecit', 'amor', 'jajajaj pas', 'ahi escap', 'buen recuerd burit hech años herman estudi san marc habl burit pens literal burit transport sup burit años despues', 'ahi fot', 'jajajaj burit ️', '', '', '️', 'postal bur herman', '', 'preguntal si fot envi', 'genial preguntar si asi mand', 'mam cuent histori bur encant q cuent', 'ciud cangall clar mejor comedor', 'buen moment ir gusan burit', 'vez hiz', 'sam', 'simulacr marz entraron person for maxim pas si algun virus', 'vez casual sub toc profesor sincer prefier sub chin hor punt bus “ profesor ” result ser gent arog bot encim gan sueld quit facil sub bus estudi recurs', 'cuant recuerd', 'inolvid viaj interior pais', 'lind recuerd bur av grau', 'q lind recuerd', '', 'oportun tom burit cerc san fern tod hazañ sub compañer perd zapat asi ciud universitari nunc sup si recuper zapat olorcit cre nadi oso entreg', 'jajajajajaj', 'bur', 'siempr sub ir bibliotec', 'fij iba pie entrab pta xq k ir educ qued lad ciud mayor hac bici k ciert casi estrell car car bur curv cieg tunel k vi tod gent agar fuert fren', 'vez pud regres cas graci burit nunc pud sub llev clas pas demasi tempran', 'oh sad u', 'mirenn chic', 'mism bur cre buen tiemp', 'record volv viv parader bur comedor cangall dias bell inolvid q buen sanmarquin esboz nostalg sonris amor dias felic viv', 'bur clar sub amig ir av abancay centr lim recuerd', 'ahi toy', 'xq llam « bur »', 'van hall junt gm ahor mejor vehicul univers verd clar jamas soport trajin', 'pandemi « burit » suspencion perfect', 'sanmarquin recuerd suspension', 'años san marquin graci x corecion', 'pod aced enlac pued compart mensaj intern favor', 'llam « bur »', 'carg exces pasajer vec parec iba volt cog curv grau bolognesi cambi aric venezuel sal ciud quimic', 'htpsimagesapgoogleuecmwhklcrjb', 'hahahahah conozc pas present futur adioz', 'hac ahi viajant tiemp', 'viaj anecdot quer hermos adolescent alma mat unmsm ️', 'hol algui sab ser exam san marcospor k nadi pronunci pag derech exam', '️', '️', 'cont', '️', 'ahor nuev autobus ️', 'san marquin experient inolvid viaj bur', 'bur tra consig infinit recuerd cad alumn', 'sub bur roosevelt hazañ tom lim calla si quer ahor cobr tom bur unas cuadr roosevelt ir ciud universitari', '️', '️', 'bur parader cost institu to jos pard recuerd tom bur ciud universirari cor haci comedor cangall', 'ja ja entren cab cien', 'unmsmmi alma mat', 'conozc vari fot ahi chin chi', 'parader derech conoc hac años compañer ahor espos', 'list', 'anot fot burit list cos hac gradu', '', '', '', 'bell recuerd alma mater️', 'xd', 'mir usted tom burit', 'mons', 'facu pues papu', 'años carer nunc sub', '', 'unmsm siempr puebl puebl', 'san marc unic institu educ form profesional etic moral hac corect siempr luch bien pais fuerz famili fallec', '', 'sanmarquitos️', 'condolent compañer', '️', 'condolent compañer much fuerz familiar', '', '', 'much fuerz u', '', '', 'vari compañer san marquin her desaparec necesit apoy', 'justici', 'condolent familiar afect compañer cruelmemt asesin hac respet derech admir respet', '', '', '', '️️️️', 'siempr adel san marc ️ sig luch', 'màs profund condolent loa familiar joven her', '', '', '', 'justici compañer', 'fuerzaperu', 'san marquin siempr luch', '', 'unmsm dud educ transform graci her ️', '️', 'peruan sanmarcoseselperu', 'sient trist', '', 'siemprepresent fuerzaperuvigili', 'amo peru def unmsm️', 'inti bray jamas olvidados️ her bicentenari', '', 'orgull unmsm', 'orgull unmsm', '', '', 'univers teror', 'condolent familiar her bicentenari hic respet derech', '', '️', 'pued respond telefon anex sirv mes llam', 'may u', 'wtf buen suert termin mes v', 'abril mes empez cicl san marc', '️', 'fin buen notici', 'hey mir', '', '', 'excelent', 'vien tiemp dificil', 'amen herman', '', '', '', '', 'asim deb preven gener desprestigi pen imagenesvide q lueg lueg sal tod red', '', 'si pued vam', '', 'wow dad cuent', 'poser', 'inscripcion', '', 'fe', '', 'nervi', 'esper dig ultim moment exam virtualc', 'ojal lleg tard', '', 'clas presencial', '', 'tranqui bit merec espaci ahi️', '', 'favor conviert asesin ven ke pon riesg familiar sab joven principal vector dich virus dej pens sol reactivacion econom tom concienci', 'beb ️️', 'haran trampos ingres setiembr segur si vuelv dar exam mil ingres', 'uwu', '️', 'empiez inscripcion hermanit mira', 'devuelv plat', 'inform pod adquir prospect aun provinci', 'excelent alma mat deb manten siempr rigur selecion nuev gener', 'ojal cambi ultim hor pag', 'final abril esper enero maxim marz', 'increibl', 'si exam virtual exit hac presencial', '', '', '', 'hor xd', 'fin sensat exam anterior dej des ingres exam realment dign ingres san marc', 'deb aprend conviv virus vision q recien peru rest vacun recien medi', 'favor si algui brind informacion cepr empiez', 'trasl extern', '', '', 'vez', '', 'may', 'xd', 'vid u c', '', '', 'graci dios', '', '', 'sup cuant cost requier', '', 'fech inscripcion realiz exam', 'aul', '', '', 'febrer', 'graci', 'inscripcion', '', 'jajajaj cre', 'universitari ayud postul lleg aul', '', 'encim', '', 'presencial xd', '', 'pord algui expliqu quier postul unmsm com pag inscripcion exam pag dos inscripcion exam expliquenm ple', 'promocion tambi podr postul', 'crack si podr', 'hor posibl exam virtual baj prestigi univers ️', 'jajajajaj habl queri', 'pobr cuchi️', 'recontr list pa rop qlit u', 'list', 'turn noch', 'men dal lik salon', 'tard exam virtual tard', '', 'segu mism numer vacant aument disminu entraran nuev person inscrib', 'jajajajaj jajajaj', 'clas', 'ibam presencial i podr postul vez', '', '', '', 'quier respuest core', '', '', '', 'eso vam decan amer sig sig forj profesional peru', 'parec buen med', 'x', 'x', 'x', 'x', 'pud dar exam marz dieron exam virtual', 'sisisi c', 'men mied', 'exam admision fech porfavor', 'deb hac inici burl anterior proces virtual', 'vi u jajajaj️', '️', '', 'promocion tambi podr postul', '', '', '', '', '', '', 'deb hac principi cost esper asi ten iguald condicion decepcion san marc', '', 'excelent', 'fech ultim public', '', '', '', '', 'estadi', '', '', 'virtual voz', 'buen notici', 'ptm vist jajxiandj', '', 'x', 'mil estadi mil repart aul', 'dic lueg dic entend', 'si dan condicion abril cual altern', 'llam ibam apoy año pas credencial', 'final', 'todocoleg', 'quier ver salon futur abog', '', 'fin pas realiz exam admision virtual lueg baj prestigi univers alumn cost dej alto nombr decan amer', 'sol asfdbnksd', 'x sig dud di exam octubr se si podr entrar grup', 'ando mism octubr di virtual', 'inscripcion automat eleg lleg exam admision algunxs compañer lleg core inform intent comunicart oca', 'si voy pod exam si pag pod virtual', '', '', '', '', 'buen consult simulacr', 'cuant cuest inscripcion', 'mism opin segund ola dej incertidumbr', 'lleg cep', 'moment usted afirm va ser presencial pas si acerc da ola cov ilusion estudi', 'siempr deb ser asi', 'fin', '', '️', 'felic pertenec famili vallejian', 'felic vallejito️', 'buena top top', 'wa llor ️', '️', 'bomb', 'gran notici', 'excelent notici segu', 'ton', 'orgull cas estudi ucv', 'all the way up', 'felicidades️', '', '', 'fiest pa vallej tra imit brun mars', 'baj pension', 'hor despues tiemp', 'bien x vallej vam x mas logr', 'fin', 'obvi', 'miamor sab veo si', 'nen festej orgull vallejian g', '', '', '️', '', 'hoy celebr campus lim nort', 'ahor licenciamientom supong baj mensual', 'pur calidadorgull siempr', 'brav', 'orgull ser vallejian', 'felic ucv', 'felic merec reconoc motiv segu trabaj much fuerz aun dar mejor cad dia mejor maner celebr siend mejor hac siempr', 'beb entonc', 'buen ver si apur dar carnets tbn hac mund entreg', 'ucv fabric sueñ', 'felicit ucv', '️️️️️', 'logr ️', '', 'thats great i lov ucv ️', '️ucv felicitacion', 'logr mas vallejin felic', 'celebr vaallejian ️', '️', 'buen', '', 'orgull estudi aqu', '', '', 'wu felic vallejit esfuerz recompens', '️', 'gran notici ️', '', 'quier', 'toc', 'cuand fiest celebr', '', '', '', 'fin', 'felicit chic', '', 'orgull hab pertenec cas estudi filial chiclay doy fe excelent calid enseñ quit sombrer trabaj realiz much felic exit sig adel', 'celebr', 'fabric sueñ', 'felic ucv', 'hor felic', '', '', 'final amig', 'excelent notici sig exit', 'quier sent orgull cas estudi tod vid', 'gust logocon rostr human', 'ucvmoyobamb', '', 'arib brav sient orgull pertenec cas estudi', 'podr indic cual', 'wu', 'orgull ser vallejiana️', '', 'much felic', 'ucv ucv xd', 'content ser vallejian', '', '', '', 'orgull ser part gran univers', 'ucv', '', '', '', 'feliz ser part cas estudi much felic direct maestr trabaj alumn licenci graci bendicion', 'fin ️', '', '', 'encuentr feliz apost estudi ucv pes critic llov mal fe fin sal oficial otorg part sunedu licenci institucional ucv determin si univers cumpl condicion basic calid cbc pod oper', 'aplaus pie orgull pertenec gran famili vallejian', '', 'si', 'merit buen gestion', 'felic', 'felic merec reconoc motiv segu trabaj much fuerz aun dar mejor cad dia mejor maner celebr siend mejor hac siempr', 'si pud señor', 'fin', '', '️️️️️️️', '', 'hor ️', 'feliz orgull univers', 'felicit asegu crec', '', '', '️️', '', 'brav ucv competent sufr ver dentr mejor', '', 'pabellon b muebl bibliotec', 'biblioteca️', 'pabellon pis', 'sed piur necesit aregl camin pabellon medicin dañ', 'vo pisojajajaj èse point', 'esper ansi moment', 'meg si', 'extrañ ️️', '', 'bibliotec', 'muebl rued mesit fot parqu entrad escaler interior pas bonit ahi amig ucv️', 'mir pinkysini vac ucv', 'pong mes campus trujill extrañ pabellon c are verd', 'cambi sillon nuev resort', 'impos diciembr pandemi peligr', '', 'c', 'esper aregl exagon sent', 'esper aregl exagon sent', 'extrañ u', 'quier ahi nuev', 'si extrañ u', 'cafet', 'deb pon filial piur', 'cafetin pabellon c️', 'uwu ️️️', 'sillon mim ratit xd', 'bibliotec', 'pabellon b sillon grand reun cupul', 'pabellon', 'jueguit mes basket', '', 'pong mesit sed ate favor', 'aregl', 'extrañ sillon prim pis banc frent magnus lim nort', 'cafetin xd', 'pong piur hac calor atroz demasi tier', 'just cicl', 'detras bibliotec', 'pong cojin pues lueg amanec buenaz dorm', '', 'lug siempr especial', 'extrañ sal serigrafi expresart pabellon b', 'ascensor comedor', 'pis', '', 'bibliotec', 'escaler emergent kho', 'trag cag ris ️', 'jajajaj oe tal', 'ibam mesit break', 'laboratori', 'sillon dorm', 'banc roj', '', 'sol lim pas piur casi nul destac \\u200d️', 'hol campus estudi', 'lim nort', 'hol invit contact telefon puest disposicion cualqui consult core kchunqueoucvedup salud', 'sol quier titul culp perd oportun trabaj interes lug favorit pas seri esper demasi tiemp', 'bibliotec', 'ay shi baby ️', 'explan ️', 'ojal ucv piur coloqu parec asi termin ascensor', 'llor', 'extrañ ucv quier vuelv hac', 'tech u', 'bibliotec', '️️️', 'amor️', '', 'pabellon b sillon mes espaci mesit mader pilet agu plant asi sal simul audienci comedor extrañ ir estudi ucv', '', 'pong sed chimbot qued chic elcampus', 'explan ucvtrujilloperu', 'pis bibliotec sillon', 'hac años egres veo cambi mejor moment inolvid quer alma mat', 'pabellon b', 'si extrañ trat lleg rap consegu cojin', 'pabellon b', 'frutix hecho️', 'señor caldit filial calla', '️ extrañ', 'jajajajaj rot', 'acuerd', 'alfin aregl', 'extrañ moment', 'explan', 'pilet pabellon reun break amig sal', '', 'espaci favorit muebl estan cerc asensor', 'hermos', 'buen implement lim hag tod sed', 'noa sentab comer️t extrañ', 'esper vuelv u aregl casit mes asient mader porfis', 'aqu ucv conoc amor vid hac años ️ hoy ultim año carer derech sid lind termin presencial u', 'sed piur', 'consult egres año pas omit vari requisit bachill suced demas requisit solicit pag', 'camin vibr boni', 'sed piur', 'pong mesit sed trujill pls', 'pabellon c', 'pastoo️️', 'pabellon b are verd', 'suel fiel compañer', 'pabellon b siempr “ suel ”', '', 'trujill deb hab lug mes sill pod ir estudi', 'beib', 'obvio comp v', 'vem proxim año', 'jajajaj sol tres mes mil estudi estan sed lim nort', 'buen implementari', 'sed piur campus enorm deb ambiertal maner', 'tamb', 'q extrañ pabellon b laboratori sal ping pong basquet caray quier regres amig facult', 'pabellon', 'pabellon b', 'supong año vien dispon clas normal', 'pong mesit tod sed pls', 'pis', 'laboratori aprendi alli mm', 'exact ️', 'sillon esper limpi', 'genial ucv trujill espaci natural sol explan ir estudi cesp sintet', 'pis', 'mo pis', 'laboratori enfermeria️', 'ultim año', 'tiemp b ️️', 'espaci lind recuerd', 'clar si', 'octav pis', '', 'tiemp aquell', 'esper volv pront', 'pront', 'extrañ', 'se extrañ', 'htpswfacebookcomgroupspermalink', 'asu q tiemp', 'extrañ univers', 'extrañ', '', '', '', '', '', 'si', '', 'ala extraño tanto', 'extrañ ️', 'mañan', 'wbds tmr', '', 'precios', '', '', 'hermos vallej', 'vallej querido', '', '', 'demasi', 'sed unid ciert', 'bell', 'encontr i', '️', 'extrañ', 'clas presencial m plandemi bich', '', '️️️', 'hermos atardec', 'clas comenz format semipresencial uso urgent laboratori carer necesit', 'perd recien ingres', 'f cachimb', 'clas volv proxim año', 'oh campus chiclay ️', 'extrañ event pod conoc demas escuel', 'clar si ay extrañ olimpi congres concurs extrañ', '', '', 'tmr', 'c', 'si', 'pon', '', 'com extrañ', 'si gan', 'civil', 'turism voley mixt ️', 'ucv hac public mor', 'abre carer derech maestri administracion empresarial', '', '️', 'quier bailarin', 'perd', 'ahi hac jajajaj', 'jajajaj si', 'si quier', 'jajajajajaj', 'pase vergonz xd', 'recuerd quien oblig form part bar sistem xd', 'extrañ demasi conviv amig', 'recuerd', '', 'f perd', 'acuerd', '', 'segur esfuerz dedic cumpl objet', 'empez', 'logr', 'empez', 'conmov fot bell ️', 'pong fech pis habl', 'jaja habl pis xd', 'dil pisads', 'esper coleg', 'maru reu', 'diran xx', 'recor camin lleg met sol esper ceremoni graduacion', 'ando esper graduacion', 'x', 'ceremoni gradu', 'entusiasm empez er cicl', 'dos cicl', '', '', 'veo ️', '', 'bell', 'si postgr tambi', 'si se puede️', 'esper graduacion', 'falt', 'dij compañer x', 'x', 'x', 'dij compañer x', 'dij compañer x', 'egres cov cancel graduacion pag ceremoni imagin avis si dese ceremoni graduacion graci', '', 'pront', 'bonitoemocion mil', 'mir bonit va ser', '', '', 'much fe esper asi ser', 'toc maestr', '', 'año', 'amo ojal ️', 'amor si puede️', 'jajajaj', '️', '️', 'clar amig junt', 'año amig', '️', '️', 'si manit ️', 'mana nosotr pod', '️ ret empez bendicion vallejian mejor equip complement conoc estar present proces cos hac bien exit lleg sol ucvperu', 'quier lanz biret', 'hermos ️', 'met escoji mejor univers cumpl sueño️️ ucv mejor', 'si lanz biret ️', 'i cicl educ inicial todo️️️', 'voy licenciatur', 'consult termin año agost entreg titul fisic', 'cicl alcaz met', 'algun dia dios mediant ️', 'esper graduacion', 'graci cuid alumn hij camin curs er cicl si pued', 'esper pas pront graduacion titul pendient', 'pront ️️', 'esper hag pag', 'dentr años', 'jas ️ logr amig pas pas lleg met nombr jesus ayud', 'mana nosotr pod', 'jas ️ logr amig pas pas lleg met nombr jesus ayud', 'pront bro asi estar', 'reprogram calendari academ sal moviliz red difund list desaparec comunic constant compañer asi pod estudi', 'suspend clas favor', 'asi esper', 'suspend clas aun chic desaparec', 'facil estudi cuidenl', 'pued siqu manifestart vergüenz', 'suspension cas salud mental estudi afect concentr nivel ansied ocur moment afect', 'reprogram', 'formalicenl', 'impos leer redact ensay practic tip acion academ salv estudi baj context tan lament suspend reprogram clas favor peru lut necesit concentr', 'suspend clas', 'dia ayer compañer sal ejerc legitim derech protest regres cas lament profund perd solidariz famili tod poblacion exig justici context represion social conflict polit invoc autor cas estudi solidariz viv seman llen incertidumbr mantuv atent inform demand alzar voz defend patri desenvolv respons normal sid impos esper pued hac paus desaroll cicl academ estudi pod segu siend part histori pas retorn estudi esper realid diferent dispuest desempeñ labor estudi concentr nuev esfuerz constru pais diferent much graci', 'suspension clas par estudi', 'yal', 'lee comentari', 'pais lut', '', 'suspension clas', 'abog investig involucr muert her profesion luz moment', 'lut dias van mor susped clas', 'dig march van alzar voz propi medi sum dig minor vizc part polit movadef nosom sender lumin teruc amateur llam red social ️', 'deb suspend clas entreg seman muestr solidar empat unanotaserecuperaunavidan', '', '', 'asi', 'reprogram clas', 'sol seman favor re program calendari', '', 'com encontr aun aparec pod hac', 'olvid alza bolet nuev reglament unic encubr cas acos', 'qñ', 'j', '', 'egres pucp principi fortalec cas estudi salud fortalez estudi egres hac lleg voz protest polit arcaic trist vez molest pierd vid atent integr juventud solidar compromis siempr', 'quier pucp', '', '', '', '', 'igual har protest mal practic realiz are cienci practic examen virtual perjudic alumn tem explic bien', '', '', '', 'peru lut glori honor joven her democraci', 'buen teni hac univers mierd', 'men buen hic', 'men buen hic', '', '', '', 'necesit peru educ suspend seman clas si devuelv dej cobr seman van enseñ alumn vivaz', 'ayudenn exig suspension clas seman pued recuper aument demsn final cicl crisis polit porfavor', 'aun exist desaparec pucp ped suspension seman bienest comun', 'aun desaparec univers asi pued dar clas suspension seman', 'suspend clas favor', 'reprogram calendari academ favor', 'esper asi amabl muestr alumn protest usted vuelv abrir puert univers pas bus', 'cuand', 'suspend clas entreg dar pais', 'insosten estudi ahor solicit suspension clas siguient seman', 'suspend clas seman demasi', 'suspend clas favor', 'suspend clas', 'par estudiantil pued volt car coyuntur pais', 'exig suspension clas men seman', '', 'moment pronunci moment vem tom acion acerc practic tem univers cual alumn pued concentr deb situacion critic pais necesit respald propi univers', 'call vag estudi nom', 'favor suspend men evalu seman sal', 'reprogram horari clas favor', '', '', 'favor suspend clas demasi', 'demuestr lut consider dolor estudi cabez tem academ suspend clas seman', '', 'situacion critic favor necesit apoy herman luch dias posibl practic tar sol ped seman plaz pod apoy crisis tan import estudi gener human caract', 'cuerp estudiantil necesit sal call ped reprogramacion academ ignor alumn desaparec her comun pucp', 'suspend clas', 'suspend clas', 'carolinalizaragan', 'haran respect', 'men seman denn pod serv patri continu', 'esper vuelv dar chamb dalesi aun quer segu siend fuert habl tibi actu', '', 'suspend clas moment deb sal call manifest', 'fin human caraj educ derech dej pens q elit dijeron estudi derech alli mejor nadi men si t import', 'pronunciens', 'suspend clas tod seman vien deb sal call apoy llam huelg estudiantil mod protest solidar llam huelg estudiantil todxs nuestrxs compañerxs insosten realiz trabaj atend clas mientr asesin present futur mejor escuchan', 'merin va entend pronunci', 'cancel clas tibi ps', 'suspend clas', 'silenci complic', 'indign frustracion hac impos concentr clas trabaj entreg favor suspend reprogram clas empat univers human', '', 'deb suspend clas virtual pod ir march', '', 'suspension clas', 'encuest fci htpsformsglevbrvsxcyzetuj', 'suspend clas entreg hac trabaj impos moment', 'suspend clas', 'suspend clas seman pais sufr sol pantall', 'suspend clas necesit protest', 'suspend clas pod dorm', 'apoy compart inform', 'inici amig', 'pronunci', 'siempr', 'ahi pucp', '', '', 'grand pucp️️', '', 'call vag vall estudi', 'call mat dos person vari her desaparec afect dic person', 'encim mand estudi algui escrib “ vall ” jajaj cre deb ir estudi person', 'si favor', 'insosten segu', 'estudi primer seman ener', 'seri preocup', 'consult', 'bien parec examen final seman seman navid si suspend clas seman sol cor seman calendari estudiari ener', 'xd mayor univers pid ello', 'suspend clas seman pod', 'grand pucp orgull univers', 'pod concentr asi suspend clas favor', 'hoy doming', 'clas mba', 'suspend clas hoy', '', 'asi peru lut', '', '', '', 'juventud peru lut', 'escuchan ️', 'concuerd', 'vari desaparec', 'apoy complet', '', 'suspend clas sal call', '', 'dolor', 'entiend deb suspend clas favor den mas facil alumn pued desempeñ mejor crisis', 'suspend clas seman', 'dia histor peru hag', 'dia histor peru hag', 'suspension reprogram calendari academ', 'suspend clas', 'suspend clas', 'favor suspend clas', 'suspend clas favor ayudenn estudi', 'lut exig suspension clas seman memori compañer asesin her desaparec pod pud ser cualqu pud ser cualqui alumn pucp', 'program año academ', 'peru lut', 'suspend activ seman vag señor sent viv pais duel corazon luch patri ningun estudi saldr bien evalu seman', 'dejenn descans si quier par dias pod pon dia tod carg nadi pod concentr deb', 'suspension re program clas', 'suspend clas', 'suspend clas posibl seman practic pas cabez', '', 'tmre', 'aprend', 'aprend', '', 'pucp', '', '', '', 'just respetu nuev gener demostr cad dia pas amor patri', '', '', '', 'graci pucp', '', '', 'cec', 'idiom catol', '', '', '', 'ningun relacion pucp graci servici prest ejempl univers tiemp dificil', '', '', 'hor chic agot', 'bravoell sembr semill cambi presenci estudi realid peru dios glori', '', '', 'dia', 'orgull pod', 'qepd dg almit estudi universitari fallec', '', '', 'grand pucp', '', '', 'univ unic', 'pucp actu siempr tan consecuent', 'bien lut dos joven pregunt re program clas', 'losncuatr muert posterioresjaja ridicul', 'encant ️ educ', 'mas lut hag grand posicion repit empez do mea culp enseñ niñ ten adult congres', 'seguir cobr alumn', '', '', '️', 'reflexion pensamient pais inici cas colegi tod etap alli concur estudi', 'graci vacacion jajaj aprovech ir viaj', '', '', 'conscient incit direct llev camin retorn', '', 'dig text', '', '', 'graci', '', '', 'algun comentari personal profesor pier foy valenci desatin comentari haci asesinat joven march', 'ojal usted aprend pens estudi', '', 'ulim pa', '', 'orgull apoy pucp ️', '', '', '️', 'socieg alma ora padr hac diferent part mund peru tod tier', 'segu protest ahor merin complic llev tribunal ahor mism pronunci tribunal constitucional vacanci congres elimin inmun parlamentari', '', 'esper esper', 'buen', 'pucp', '', 'aprend', '️pucp', '', '', '', 'ciert', '', 'gran ejempl', '', 'aprend', 'aplaud cas estudi usted respet', '', 'bien hech felicit', '', '', 'orgull pucp ️', 'recien empiez graci pucp', 'opin', 'x', 'lut seman idiom catol sal pagin oficial posibl mand core respect', 'sisi graci', 'pas idiom catol', 'orgull aunqu part cas estudi llen alegr univers tan reconoc postur clar brind facil opcion estudi', '', '', 'graci', 'orgull alma mat aprend asi escrib tiemp tibiez', '', 'graci pucp muchis compañer encuentr march dias sid preocup', 'graci pucptod univers institut escuel educ superior pais deb segu ejempl graci alcanc virtual cualqui cronogram academ pued reacomod mayor contratiemp ahor excepcion deb atent vigil suced pais', 'siempr orgull ser pucp️', 'x', 'va aplaz clas siguient seman palabr vas segu mism cantid hor clas sol va termin cicl seman despues program', 'vist suspension academ seman asum haran respect descuent bolet', '', '', 'graci respir salud emocional', '', 'graci ️', '', 'graci', '', '', '', '', 'orgull pucp ️', 'ginocostapresident', 'pucp ️', 'exact minim vqu har pucp', 'bot', 'suspend mientr dur proces disciplinari', 'sac docent burl muert march', '', '', '️️', '', '', 'pension cuand', '', 'grand pucp', '', 'pregunt crentrum part pucp aparec dos cos diferent empez x cas verd reconoc entidad part pucp', '', 'campus nunc', 'cienci', '', '', 'clar sab', 'prim dia clas vam b', 'ciert', 'falt mostr canch deport', 'si volv', 'duelem quem lastim jpeg', 'deb aprovech fumig quit plag arbol', 'pucp univers cambi vid hiz ser muj hoy dia dio privilegi educ mund verdader ser human conscient tom mejor decision levant alto si caen jamas imagin continu dand servici comun aunqu interes cont cuant hor acumul honest trabaj sab nunc acab aprend sent men ten ped perdon regl ser cumpl puntual respet person acord empiez sab hag dig consecuent llam castig', '️', 'buen univers ️ sup exigent', '', 'f', '️', 'llor', '', '', 'si sol entrad pal exam admision', '', 'bro', 'amo deprim bañ ️️', 'volveremos️', '', 'oh pucp cuant extrañocuant falt hac bibliotec', 'paredon', 'extrañ u', '', 'univers ahor pis ay amig bajone', '', 'pastit arqui bajon kiosk letrassocial', 'comedor central puert rivaguer', 'bast', 'llor maquin caf dispens derech', '', 'sup sad', 'jam central estudi cia pipipipi', 'oe tmr', 'rincon cerc hemerotec', '', '', '', '', 'ay lind campus', '', '', '', '', 'sol semestr ahor pas facult', 'bibliotec social contig', 'bibliotec social contig', 'grat recuerd hab labor pucp facult arte model arte', '', 'sent com salchipap tinkuy niñ disfrut moment mientr agradezc dios permit q hij estudi ahi', 'sent com salchipap tinkuy niñ disfrut moment mientr agradezc dios permit q hij estudi ahi', '', 'volv ver u cre', 'comedor ley', 'comedor ley', 'voy llor ️', 'com junt', '', 'bien volv gust ir parqu ver atardecer lueg irme bail dup️', 'quier volv ver jardin macgregor educ c', 'ojal volv pod entrar nuev campus algun dia', 'man gestion c', '', 'buen epoc caray', '', 'bellisim', '', 'extrañ nunc se hac', 'aw', '', '️', 'teztrañ', 'throwback', 'casi pong llor viend fot', 'buen cam dan guillerm', 'ow', 'comedor central', '', 'toc', 'excursion par centr liqu fres tiemp sion', 'caminit arbol', 'catit ️', 'evalu semipresencial laboratori', 'ver pus sad quis ahi men mins xx', 'naturalez siempr prevalec', 'mir', 'extrañ cato️', 'buen visit gui kchimb cov v', 'extrañ stans', 'prim lug visit ceo natural bibliotec', 'sad xd quier volv campus v', 'pucp️', '', 'extrañ bibliotec tinkuy tontodrom fin seman men gent aunqu llev tiemp egres univers siempr lug fij visit men vez mes', 'tiemp bro', 'man caminat sal min', 'extrañ', 'llor llor llor', '', 'sotan bibliotec central', '', '', 'tod', 'bien volv go nexus', 'algui cre arbol descuid', 'viend sherif mejor celul ️️', 'nunc vid extrañ bibliotec', 'llor', 'dificil uwu', 'extrañ especial bibliotec', 'ven sig guard', 'esper pod volv point', 'sad u', 'cualqu nunc oportun estudi presencial u', 'casi jal', 'jajajajaj ptmr duel ciert', 'jajajajajaj pas mami', 'man voley', 'volv jug voley', '', 'univers bonit', '', 'nostalgi ver jardin pucp️', 'nunc mejor esper cov acab volv segur', 'wow xever ver tod cos usan si pag', 'duel c primer quier ir rotond lueg social tmb tinkuy c', 'duel c primer quier ir rotond lueg social tmb tinkuy c', '️', 'segur remodel aunqu dud', 'faci', 'pucp aren', 'sal bloomberg bibliotec central amo pucp ️', 'man sient dolorcit aqui pech', 'oe jug cart', '', 'tio catol opin u lim', '', '', '', '', 'lind quier ir capu', '', 'quier verl', 'esper', '', 'atardecer mañan ultim pis central escuch pajarit mientr lees lectur control', 'gogogog', 'man quier llor ahi ve ramon ️', 'go ramon', 'im crying', 'volv nunc v', 'tom fot canch futbol lagrim', 'sal cun educ siempr pas ahi ir letr lind ver chikis jug ️', '', '', 'spots', 'veo u', '', 'oe tmr u', '', '', 'ultim fot pastit discordi makis', 'van hab clas semipresencial', '', 'extrañ', 'mir uu', 'ala', 'quem duel', 'atardecer univers hermos mund', 'jardin letr mesit ajedrez ️', 'agüit past uu', 'palt', '', '', '️️', 'tan lind pucp', 'coloqu fot lugar icon cafet letr rotond general tontodrom bibliotec etc etc graci', 'conozc ningun lugar', 'x ve hermos', 'deb sesion lugares️', '', 'llor', 'extrañ', '', 'pastit', 'educ past feeling hech reencuentr u csm', 'i u', '', '', '', '', 'llor dic', 'wa', '', '', 'profesor coment jef jardiner trabaj cas envi fot jardin evalu trabaj felicit trabaj', '', '️', '', '', '', '', '', 'llor', '', '', 'oe quier llor u', '', 'bibliotec central escuch fond trin pajar acompañ lectur', 'moment c', '', 'extrañ univers ️', '', 'tomari hor car valdri pen', 'f', '️', 'pront', 'llev año u conozc', 'condolent', 'promocion', 'i feel u', '', 'veo dec extrañ univers imaginens com sent cachimb v', 'extrañ tanto️', '️️️', '', 'ahi tir dorm', 'huequit letr', 'extrañ com educ', '', 'nostalgi', 'voy hac scre ir', '', 'confirm', '', 'confirm', 'cuart pis z veran ver atardec', 'ay si almuerz', 'filinn', '', '', 'shi', 'prontit ️', '', 'chatit', '️️️️', 'romantik viend sunset', 'extrañ ver sunset nuev complej chat laanitar lueg compr granol frut social ’', 'uyuy si nostalgi recompensadal mejor univers peru', 'men vi ayer mientr dab par lleg aeropuert', 'pucpcit ptm', 'com da entristec ig', '', 'extrañ pucp', 'jardin bell', 'x', 'deprim', 'dms nostalgi', '', 'voa llor', 'veran', 'x', 'llor', 'siqu pud ten clas', '', 'regres clas', 'graci', 'lov u to the moon', 'jajaj refil lado', 'moment desbloqu', 'extrañ ahi', 'volv caset cor ️', 'univers deb ser protagon gobiern peru', 'compromis alumn baj pension oblig desist estudi', 'evident n° pucp sig siend maquin zurd tiemp inmemorial', 'calid vid poblacion depend respet poder haci gent alert defens democraci', 'san pabl', 'den dia libr pod ir march', 'esper madur peruan pued leer pronunci', '', '', 'punt vist compart salud', 'calladit ves bien pelon', 'llor rio feder', 'golp', 'ex president vizc cer inconstitucional congres usted pronci golp', 'llam golp estadony ahi fuerz armad deb interven favor puebl contrari guer civil', 'veo', 'cuand', 'suspend clas tod us march tranquil ahi cre', 'tod caviar junt', '', '', '', '️️pucp', '', 'pucp️️️', 'defens democraci sunedu', 'deb nombr pas ayer golp', 'vas separart ahor sab involucr vacanci nex anter', '️️', '️', '', 'univers roj', 'esper institu muestr postur', '', '', 'aprend', 'quier cre univers pacharac lucr educ adicional ello quit autor sunedu luch retroced educ', 'perdi comunic si golp pucp cas estudi importantisim alma mat deb erig encim inmediatez tendenci person hoy dirig deb emit opinion polit circunstancial', '', '', '', 'parec just total acuerdocuent apoy tods junt luch democraci corupcion', '', '', 'usted carer cienci polit huev sol segu sac plat miser', 'golp dio vizc respet tiemp mandat anterior congres nadi dij aval aprend eno eleg polit ladron recicl asi evit dar lastim puebl', '', 'upc quier vert ahi', '', 'alo', 'piens pucp egres ex director centrum ministr da vergüenz', 'apoy inici elcion tribunal constitucional condicion congres represent puebl president sol interes personal decidi apoder ejecut', 'excelent mensaj quer pucp lament nuev ministr educ legitim acion congres', 'ningun part comunic dic golp golp veo television', 'ok nini', 'ahre quer qued ultim palabr buen bye man', 'entend complet escrit bye', 'link pued leer pucp pronunci crisis institucional lueg cier congres htpspuntoedupucpedupenoticiascomunicadodelapucpupyuarmfrentealacrisisinstitucional', 'vizc hiz quiz puebl quiz disolv congres democraci', 'permitem reir quien puebl vizc cupul', 'pueblo️', 'chuch merin recien acab conoc quier dec elecion presidencial', 'erick dignid propi nacionalizat part', 'lleg mism maner lleg ser president vizc vacanci simil com lleg paniagu informes entonc porqu tan tard enter congres', 'si elecion presidencial vac vicepresidentepor congres part polit corupt', 'manifest lacr hac repartij quer mov miembr tc antoj igual congres colud interes personal', 'jajaj ambos congres elig pais asi llor part', 'llor part mediocr conform quier ver realid pas pais prefier levant voz protest acat impon gobiern represent', 'levant voz llor patalet etc etc norm asi respet', 'norm refier protest derech si gobiern represent cos mayor funcion gobern represent trabaj interes puebl interes propi', 'ver explic niñ primari congres eleg volunt popul congres atribu pod vac president vacanci vicepresident asum president legisl asi norm mayor demas cos pon patrañ', 'entonc quier constitucional person sal llor dic luch derech si escog nuev congres mierd dim quier elij bien congres si tod person aces inform habl posicion privilegi leo pued encontr tan facil tod inform cad candidat pas cos empiez sal tod inform march democraci sistem electoral de inform cad candidat da busc trabaj puebl empleador', 'inform onpe jne colg hoj vid candidat cad departament sab pie coje cad candidat gan inform si luch pro democraci deb sal vizc cer congres acto inconstitucional gent apoy cambi ello asi ir vot bien hac vez march si segu asi mejor elij cad año president congres', 'asi inform vez ahi complet dij habl posicion privilegi tod person aces internet señal siqu agu', 'hac segu esper vot mal cad año hac protest sal cantalet represent opcion vot voluntari complej saldr dec asi nadi vot etc qued vot concienci proporcion inform', 'gust qued asi frent internet', 'cre entrar profesion estim', 'ok boom', 'vizc pate democraci cer anterior congres lastim ahi manifest', 'excelent mensaj', 'sab poder mensaj', 'pen sunedu qued recuerd lament', 'uni junt san marc part anup asoci ahi dad acuerd integr', 'haz dich', 'aea graci bro', '', 'unheval ️ pucp️', '️pucp ️', '', '', 'pucp', '', '', 'mir mensaj dej dm profesor idiom expres maner despreci haci alumn catol', '', 'amo', '', '', '️pucp', 'centr derech cre xd', 'desgraciay', '', 'tmb', 'etiquet u', '', '', '', 'falt upch', '', 'cayetan', 'test', 'lee', 'unic buen u', 'pronunci', '', 'pucp', 'univers institu poseedor conoc cientif deb pon patrimoni inmaterial servici desaroll integral puebl peruan', '', 'rcsmr nunc esper aun asi logr decepcion csnr', '', 'sab', 'ña dos gat podl ching quier parej', 'trabaj si amor', '', 'año dic', '', 'k', 'ratit jiji ️', '', 'caball', 'falt cabr', 'caball', '', 'suav cabal', 'just pens año', 'jajaj recibir visit auditor launic visit esper ma ose vendr visit cririx', 'tia mam \\u200d️\\u200d️\\u200d️', 'tia mam', 'bu sol lin', 'trabaj confirm amor c', '', 'dij', 'just rat xd', 'just xd', 'xd', 'buey mach', '', 'chever', 'caball', 'año', '', '', '', '', 'f estomag', 'siguient gal', 'mon', '', 'si sig imag', 'segu', '', 'siguient gal', '', 'conejo', 'va ser año interes', 'encontr amor lueg mor d bien alli', 'siguient gal', '', 'qued shook conej', 'aqu respuest año rat', 'siguient gal', '\\u200d️', 'go tig', 'si nac ener sign año anterior', 'siguient gal', '', '', '', '', 'dao', 'nac año dragon metal', 'necesit', 'consig', 'sisisisisi s', 'quier quier diner s', 'necesit anill serpiente', 'ahi taa', '', '', '️ logr', '', '', '', 'buey', '', 'falt gall', 'aea xd', 'ves com hor', 'ojal asom valg pen ️', 'jajajajajajqjqjqjqjqjqjqjq se pued cambi suert man', 'man xd', 'lee', 'ray d', 'mir', 'darl univers', '', 'caball', 'jajajaj año', '']\n",
            "['Positivo', 'Positivo', 'Positivo', 'Positivo', 'Positivo', 'Positivo', 'Positivo', 'Positivo', 'Positivo', 'Positivo', 'Positivo', 'Positivo', 'Positivo', 'Positivo', 'Positivo', 'Positivo', 'Neutro', 'Neutro', 'Positivo', 'Neutro', 'Positivo', 'Positivo', 'Positivo', 'Positivo', 'Positivo', 'Positivo', 'Positivo', 'Positivo', 'Positivo', 'Positivo', 'Positivo', 'Neutro', 'Positivo', 'Neutro', 'Positivo', 'Positivo', 'Positivo', 'Positivo', 'Neutro', 'Neutro', 'Negativo', 'Positivo', 'Positivo', 'Neutro', 'Neutro', 'Neutro', 'Positivo', 'Positivo', 'Neutro', 'Positivo', 'Positivo', 'Positivo', 'Positivo', 'Negativo', 'Positivo', 'Positivo', 'Positivo', 'Positivo', 'Neutro', 'Positivo', 'Positivo', 'Neutro', 'Positivo', 'Positivo', 'Neutro', 'Positivo', 'Neutro', 'Neutro', 'Positivo', 'Positivo', 'Positivo', 'Positivo', 'Neutro', 'Positivo', 'Neutro', 'Positivo', 'Positivo', 'Positivo', 'Positivo', 'Neutro', 'Positivo', 'Positivo', 'Positivo', 'Positivo', 'Positivo', 'Positivo', 'Positivo', 'Positivo', 'Positivo', 'Positivo', 'Positivo', 'Positivo', 'Neutro', 'Neutro', 'Positivo', 'Positivo', 'Neutro', 'Positivo', 'Positivo', 'Neutro', 'Positivo', 'Positivo', 'Positivo', 'Positivo', 'Positivo', 'Positivo', 'Neutro', 'Positivo', 'Positivo', 'Positivo', 'Positivo', 'Neutro', 'Positivo', 'Positivo', 'Positivo', 'Positivo', 'Positivo', 'Negativo', 'Positivo', 'Neutro', 'Positivo', 'Neutro', 'Positivo', 'Negativo', 'Positivo', 'Positivo', 'Neutro', 'Positivo', 'Positivo', 'Positivo', 'Positivo', 'Positivo', 'Positivo', 'Positivo', 'Positivo', 'Positivo', 'Positivo', 'Positivo', 'Positivo', 'Positivo', 'Positivo', 'Neutro', 'Neutro', 'Positivo', 'Negativo', 'Neutro', 'Positivo', 'Positivo', 'Positivo', 'Positivo', 'Positivo', 'Positivo', 'Positivo', 'Neutro', 'Positivo', 'Positivo', 'Positivo', 'Positivo', 'Positivo', 'Positivo', 'Positivo', 'Positivo', 'Positivo', 'Negativo', 'Positivo', 'Negativo', 'Positivo', 'Neutro', 'Neutro', 'Neutro', 'Negativo', 'Positivo', 'Positivo', 'Positivo', 'Negativo', 'Negativo', 'Negativo', 'Positivo', 'Positivo', 'Positivo', 'Negativo', 'Positivo', 'Positivo', 'Negativo', 'Negativo', 'Negativo', 'Negativo', 'Negativo', 'Negativo', 'Negativo', 'Negativo', 'Negativo', 'Negativo', 'Negativo', 'Negativo', 'Negativo', 'Negativo', 'Negativo', 'Negativo', 'Negativo', 'Negativo', 'Negativo', 'Negativo', 'Negativo', 'Negativo', 'Negativo', 'Negativo', 'Negativo', 'Negativo', 'Negativo', 'Negativo', 'Negativo', 'Negativo', 'Negativo', 'Negativo', 'Neutro', 'Negativo', 'Negativo', 'Negativo', 'Neutro', 'Negativo', 'Negativo', 'Negativo', 'Negativo', 'Negativo', 'Negativo', 'Negativo', 'Negativo', 'Positivo', 'Negativo', 'Negativo', 'Negativo', 'Negativo', 'Negativo', 'Negativo', 'Negativo', 'Negativo', 'Negativo', 'Negativo', 'Negativo', 'Negativo', 'Negativo', 'Negativo', 'Negativo', 'Negativo', 'Negativo', 'Negativo', 'Negativo', 'Negativo', 'Negativo', 'Negativo', 'Neutro', 'Negativo', 'Negativo', 'Negativo', 'Negativo', 'Negativo', 'Negativo', 'Negativo', 'Negativo', 'Negativo', 'Negativo', 'Negativo', 'Negativo', 'Negativo', 'Negativo', 'Neutro', 'Neutro', 'Negativo', 'Negativo', 'Negativo', 'Negativo', 'Negativo', 'Negativo', 'Negativo', 'Negativo', 'Negativo', 'Neutro', 'Neutro', 'Negativo', 'Negativo', 'Negativo', 'Negativo', 'Negativo', 'Negativo', 'Negativo', 'Negativo', 'Negativo', 'Negativo', 'Negativo', 'Negativo', 'Negativo', 'Negativo', 'Negativo', 'Negativo', 'Neutro', 'Negativo', 'Negativo', 'Negativo', 'Negativo', 'Negativo', 'Negativo', 'Negativo', 'Negativo', 'Negativo', 'Negativo', 'Negativo', 'Negativo', 'Negativo', 'Negativo', 'Negativo', 'Negativo', 'Negativo', 'Negativo', 'Negativo', 'Negativo', 'Negativo', 'Negativo', 'Negativo', 'Negativo', 'Negativo', 'Negativo', 'Negativo', 'Negativo', 'Neutro', 'Negativo', 'Negativo', 'Negativo', 'Negativo', 'Negativo', 'Negativo', 'Negativo', 'Negativo', 'Negativo', 'Negativo', 'Negativo', 'Negativo', 'Negativo', 'Negativo', 'Negativo', 'Negativo', 'Negativo', 'Negativo', 'Negativo', 'Negativo', 'Negativo', 'Negativo', 'Negativo', 'Negativo', 'Negativo', 'Negativo', 'Negativo', 'Negativo', 'Negativo', 'Negativo', 'Negativo', 'Negativo', 'Negativo', 'Negativo', 'Negativo', 'Negativo', 'Negativo', 'Negativo', 'Negativo', 'Negativo', 'Negativo', 'Negativo', 'Negativo', 'Negativo', 'Negativo', 'Negativo', 'Negativo', 'Negativo', 'Negativo', 'Negativo', 'Negativo', 'Negativo', 'Negativo', 'Negativo', 'Negativo', 'Negativo', 'Negativo', 'Negativo', 'Negativo', 'Negativo', 'Negativo', 'Negativo', 'Negativo', 'Negativo', 'Negativo', 'Negativo', 'Negativo', 'Negativo', 'Negativo', 'Negativo', 'Negativo', 'Neutro', 'Negativo', 'Negativo', 'Negativo', 'Negativo', 'Negativo', 'Negativo', 'Negativo', 'Negativo', 'Negativo', 'Negativo', 'Negativo', 'Negativo', 'Negativo', 'Negativo', 'Negativo', 'Negativo', 'Negativo', 'Negativo', 'Negativo', 'Negativo', 'Negativo', 'Negativo', 'Negativo', 'Negativo', 'Negativo', 'Negativo', 'Negativo', 'Negativo', 'Negativo', 'Negativo', 'Negativo', 'Negativo', 'Positivo', 'Negativo', 'Negativo', 'Negativo', 'Neutro', 'Negativo', 'Negativo', 'Negativo', 'Negativo', 'Neutro', 'Negativo', 'Negativo', 'Negativo', 'Negativo', 'Negativo', 'Negativo', 'Negativo', 'Negativo', 'Negativo', 'Negativo', 'Negativo', 'Negativo', 'Negativo', 'Negativo', 'Negativo', 'Negativo', 'Negativo', 'Negativo', 'Negativo', 'Negativo', 'Negativo', 'Negativo', 'Negativo', 'Negativo', 'Negativo', 'Negativo', 'Negativo', 'Negativo', 'Negativo', 'Negativo', 'Negativo', 'Negativo', 'Neutro', 'Negativo', 'Negativo', 'Negativo', 'Negativo', 'Negativo', 'Negativo', 'Negativo', 'Negativo', 'Negativo', 'Neutro', 'Negativo', 'Neutro', 'Negativo', 'Neutro', 'Negativo', 'Negativo', 'Negativo', 'Negativo', 'Negativo', 'Negativo', 'Negativo', 'Negativo', 'Negativo', 'Negativo', 'Neutro', 'Negativo', 'Negativo', 'Negativo', 'Negativo', 'Negativo', 'Negativo', 'Negativo', 'Neutro', 'Negativo', 'Negativo', 'Neutro', 'Negativo', 'Negativo', 'Negativo', 'Negativo', 'Negativo', 'Negativo', 'Negativo', 'Negativo', 'Negativo', 'Negativo', 'Negativo', 'Negativo', 'Negativo', 'Negativo', 'Negativo', 'Negativo', 'Negativo', 'Negativo', 'Negativo', 'Negativo', 'Neutro', 'Negativo', 'Negativo', 'Negativo', 'Negativo', 'Negativo', 'Negativo', 'Negativo', 'Negativo', 'Negativo', 'Negativo', 'Negativo', 'Neutro', 'Negativo', 'Negativo', 'Negativo', 'Negativo', 'Negativo', 'Negativo', 'Negativo', 'Neutro', 'Neutro', 'Negativo', 'Negativo', 'Negativo', 'Neutro', 'Negativo', 'Negativo', 'Neutro', 'Positivo', 'Negativo', 'Negativo', 'Negativo', 'Negativo', 'Negativo', 'Negativo', 'Negativo', 'Negativo', 'Negativo', 'Negativo', 'Negativo', 'Negativo', 'Negativo', 'Negativo', 'Negativo', 'Negativo', 'Neutro', 'Negativo', 'Negativo', 'Negativo', 'Negativo', 'Negativo', 'Negativo', 'Negativo', 'Negativo', 'Positivo', 'Negativo', 'Negativo', 'Negativo', 'Negativo', 'Negativo', 'Negativo', 'Negativo', 'Negativo', 'Negativo', 'Negativo', 'Negativo', 'Negativo', 'Negativo', 'Negativo', 'Negativo', 'Negativo', 'Negativo', 'Negativo', 'Negativo', 'Negativo', 'Negativo', 'Negativo', 'Negativo', 'Negativo', 'Negativo', 'Negativo', 'Negativo', 'Negativo', 'Negativo', 'Negativo', 'Neutro', 'Negativo', 'Negativo', 'Negativo', 'Negativo', 'Negativo', 'Negativo', 'Negativo', 'Negativo', 'Positivo', 'Negativo', 'Negativo', 'Negativo', 'Negativo', 'Negativo', 'Negativo', 'Negativo', 'Negativo', 'Negativo', 'Negativo', 'Negativo', 'Negativo', 'Negativo', 'Negativo', 'Neutro', 'Neutro', 'Negativo', 'Negativo', 'Negativo', 'Negativo', 'Negativo', 'Negativo', 'Negativo', 'Negativo', 'Negativo', 'Negativo', 'Negativo', 'Positivo', 'Negativo', 'Positivo', 'Negativo', 'Negativo', 'Negativo', 'Negativo', 'Negativo', 'Negativo', 'Negativo', 'Negativo', 'Negativo', 'Negativo', 'Negativo', 'Negativo', 'Negativo', 'Negativo', 'Negativo', 'Negativo', 'Negativo', 'Negativo', 'Negativo', 'Negativo', 'Negativo', 'Negativo', 'Negativo', 'Negativo', 'Negativo', 'Negativo', 'Negativo', 'Negativo', 'Negativo', 'Negativo', 'Negativo', 'Negativo', 'Negativo', 'Negativo', 'Negativo', 'Negativo', 'Negativo', 'Negativo', 'Negativo', 'Negativo', 'Negativo', 'Negativo', 'Negativo', 'Positivo', 'Neutro', 'Negativo', 'Neutro', 'Negativo', 'Negativo', 'Negativo', 'Negativo', 'Negativo', 'Negativo', 'Negativo', 'Positivo', 'Positivo', 'Negativo', 'Negativo', 'Negativo', 'Negativo', 'Negativo', 'Negativo', 'Negativo', 'Negativo', 'Negativo', 'Negativo', 'Negativo', 'Negativo', 'Negativo', 'Negativo', 'Negativo', 'Negativo', 'Negativo', 'Negativo', 'Negativo', 'Negativo', 'Neutro', 'Neutro', 'Negativo', 'Negativo', 'Negativo', 'Negativo', 'Negativo', 'Negativo', 'Negativo', 'Negativo', 'Negativo', 'Negativo', 'Negativo', 'Negativo', 'Negativo', 'Neutro', 'Negativo', 'Negativo', 'Negativo', 'Negativo', 'Negativo', 'Neutro', 'Negativo', 'Negativo', 'Negativo', 'Negativo', 'Neutro', 'Negativo', 'Negativo', 'Negativo', 'Negativo', 'Negativo', 'Negativo', 'Neutro', 'Negativo', 'Negativo', 'Negativo', 'Neutro', 'Positivo', 'Negativo', 'Negativo', 'Negativo', 'Negativo', 'Negativo', 'Negativo', 'Neutro', 'Negativo', 'Negativo', 'Positivo', 'Neutro', 'Negativo', 'Negativo', 'Negativo', 'Negativo', 'Negativo', 'Negativo', 'Negativo', 'Negativo', 'Negativo', 'Negativo', 'Neutro', 'Negativo', 'Neutro', 'Neutro', 'Negativo', 'Negativo', 'Negativo', 'Negativo', 'Negativo', 'Positivo', 'Negativo', 'Positivo', 'Negativo', 'Negativo', 'Negativo', 'Negativo', 'Negativo', 'Negativo', 'Negativo', 'Negativo', 'Negativo', 'Negativo', 'Negativo', 'Negativo', 'Negativo', 'Negativo', 'Negativo', 'Negativo', 'Negativo', 'Negativo', 'Negativo', 'Negativo', 'Negativo', 'Negativo', 'Negativo', 'Neutro', 'Negativo', 'Negativo', 'Neutro', 'Negativo', 'Negativo', 'Negativo', 'Negativo', 'Negativo', 'Negativo', 'Negativo', 'Negativo', 'Negativo', 'Negativo', 'Negativo', 'Negativo', 'Negativo', 'Negativo', 'Negativo', 'Negativo', 'Negativo', 'Negativo', 'Negativo', 'Negativo', 'Negativo', 'Neutro', 'Negativo', 'Negativo', 'Neutro', 'Neutro', 'Negativo', 'Negativo', 'Negativo', 'Neutro', 'Negativo', 'Negativo', 'Negativo', 'Negativo', 'Negativo', 'Negativo', 'Negativo', 'Positivo', 'Neutro', 'Negativo', 'Negativo', 'Neutro', 'Negativo', 'Negativo', 'Negativo', 'Negativo', 'Negativo', 'Negativo', 'Negativo', 'Negativo', 'Neutro', 'Negativo', 'Positivo', 'Negativo', 'Neutro', 'Neutro', 'Negativo', 'Neutro', 'Neutro', 'Neutro', 'Negativo', 'Neutro', 'Negativo', 'Positivo', 'Negativo', 'Negativo', 'Negativo', 'Neutro', 'Negativo', 'Negativo', 'Negativo', 'Positivo', 'Neutro', 'Neutro', 'Positivo', 'Neutro', 'Positivo', 'Negativo', 'Negativo', 'Neutro', 'Neutro', 'Negativo', 'Negativo', 'Negativo', 'Negativo', 'Negativo', 'Negativo', 'Negativo', 'Neutro', 'Negativo', 'Negativo', 'Negativo', 'Negativo', 'Negativo', 'Neutro', 'Negativo', 'Negativo', 'Negativo', 'Neutro', 'Neutro', 'Positivo', 'Positivo', 'Positivo', 'Positivo', 'Positivo', 'Positivo', 'Positivo', 'Positivo', 'Positivo', 'Positivo', 'Positivo', 'Positivo', 'Positivo', 'Neutro', 'Positivo', 'Neutro', 'Positivo', 'Neutro', 'Negativo', 'Positivo', 'Positivo', 'Positivo', 'Positivo', 'Positivo', 'Neutro', 'Positivo', 'Positivo', 'Neutro', 'Positivo', 'Positivo', 'Positivo', 'Positivo', 'Positivo', 'Positivo', 'Positivo', 'Positivo', 'Positivo', 'Positivo', 'Positivo', 'Positivo', 'Positivo', 'Positivo', 'Positivo', 'Positivo', 'Negativo', 'Positivo', 'Positivo', 'Positivo', 'Positivo', 'Positivo', 'Positivo', 'Positivo', 'Neutro', 'Neutro', 'Positivo', 'Neutro', 'Positivo', 'Positivo', 'Positivo', 'Neutro', 'Neutro', 'Positivo', 'Positivo', 'Positivo', 'Neutro', 'Positivo', 'Positivo', 'Positivo', 'Positivo', 'Positivo', 'Positivo', 'Positivo', 'Positivo', 'Neutro', 'Positivo', 'Neutro', 'Neutro', 'Positivo', 'Neutro', 'Positivo', 'Positivo', 'Positivo', 'Positivo', 'Neutro', 'Positivo', 'Positivo', 'Positivo', 'Positivo', 'Positivo', 'Positivo', 'Positivo', 'Positivo', 'Positivo', 'Positivo', 'Positivo', 'Positivo', 'Positivo', 'Positivo', 'Positivo', 'Negativo', 'Negativo', 'Neutro', 'Negativo', 'Positivo', 'Positivo', 'Positivo', 'Positivo', 'Positivo', 'Positivo', 'Positivo', 'Positivo', 'Neutro', 'Positivo', 'Positivo', 'Positivo', 'Negativo', 'Positivo', 'Positivo', 'Positivo', 'Positivo', 'Neutro', 'Positivo', 'Positivo', 'Positivo', 'Positivo', 'Positivo', 'Negativo', 'Neutro', 'Positivo', 'Negativo', 'Neutro', 'Negativo', 'Positivo', 'Positivo', 'Positivo', 'Positivo', 'Positivo', 'Positivo', 'Positivo', 'Positivo', 'Positivo', 'Positivo', 'Positivo', 'Positivo', 'Positivo', 'Positivo', 'Positivo', 'Positivo', 'Positivo', 'Positivo', 'Positivo', 'Positivo', 'Positivo', 'Negativo', 'Negativo', 'Positivo', 'Neutro', 'Negativo', 'Positivo', 'Positivo', 'Negativo', 'Negativo', 'Negativo', 'Neutro', 'Neutro', 'Neutro', 'Positivo', 'Neutro', 'Positivo', 'Negativo', 'Neutro', 'Neutro', 'Positivo', 'Positivo', 'Negativo', 'Negativo', 'Neutro', 'Positivo', 'Positivo', 'Positivo', 'Positivo', 'Positivo', 'Positivo', 'Negativo', 'Positivo', 'Negativo', 'Neutro', 'Positivo', 'Positivo', 'Neutro', 'Negativo', 'Negativo', 'Positivo', 'Negativo', 'Negativo', 'Neutro', 'Neutro', 'Neutro', 'Neutro', 'Negativo', 'Positivo', 'Neutro', 'Positivo', 'Negativo', 'Negativo', 'Negativo', 'Positivo', 'Neutro', 'Positivo', 'Positivo', 'Negativo', 'Positivo', 'Negativo', 'Negativo', 'Negativo', 'Neutro', 'Neutro', 'Positivo', 'Neutro', 'Negativo', 'Negativo', 'Positivo', 'Positivo', 'Negativo', 'Neutro', 'Positivo', 'Positivo', 'Positivo', 'Neutro', 'Neutro', 'Positivo', 'Positivo', 'Neutro', 'Negativo', 'Negativo', 'Neutro', 'Neutro', 'Neutro', 'Positivo', 'Neutro', 'Neutro', 'Neutro', 'Positivo', 'Neutro', 'Neutro', 'Neutro', 'Neutro', 'Neutro', 'Negativo', 'Negativo', 'Positivo', 'Neutro', 'Neutro', 'Neutro', 'Neutro', 'Positivo', 'Negativo', 'Negativo', 'Negativo', 'Positivo', 'Neutro', 'Negativo', 'Neutro', 'Neutro', 'Negativo', 'Positivo', 'Positivo', 'Negativo', 'Neutro', 'Neutro', 'Neutro', 'Negativo', 'Neutro', 'Negativo', 'Neutro', 'Positivo', 'Positivo', 'Neutro', 'Positivo', 'Positivo', 'Neutro', 'Neutro', 'Positivo', 'Neutro', 'Neutro', 'Neutro', 'Negativo', 'Neutro', 'Neutro', 'Positivo', 'Neutro', 'Neutro', 'Neutro', 'Positivo', 'Neutro', 'Negativo', 'Neutro', 'Neutro', 'Negativo', 'Neutro', 'Neutro', 'Positivo', 'Negativo', 'Neutro', 'Positivo', 'Negativo', 'Neutro', 'Neutro', 'Neutro', 'Neutro', 'Positivo', 'Positivo', 'Neutro', 'Negativo', 'Neutro', 'Neutro', 'Positivo', 'Positivo', 'Positivo', 'Positivo', 'Positivo', 'Positivo', 'Neutro', 'Positivo', 'Positivo', 'Positivo', 'Positivo', 'Positivo', 'Positivo', 'Neutro', 'Negativo', 'Positivo', 'Positivo', 'Positivo', 'Positivo', 'Neutro', 'Positivo', 'Positivo', 'Positivo', 'Positivo', 'Neutro', 'Positivo', 'Positivo', 'Negativo', 'Neutro', 'Positivo', 'Positivo', 'Positivo', 'Positivo', 'Positivo', 'Positivo', 'Positivo', 'Positivo', 'Positivo', 'Neutro', 'Positivo', 'Positivo', 'Positivo', 'Positivo', 'Positivo', 'Positivo', 'Positivo', 'Positivo', 'Positivo', 'Positivo', 'Positivo', 'Positivo', 'Positivo', 'Positivo', 'Positivo', 'Positivo', 'Positivo', 'Positivo', 'Positivo', 'Positivo', 'Positivo', 'Positivo', 'Positivo', 'Positivo', 'Positivo', 'Positivo', 'Positivo', 'Positivo', 'Positivo', 'Positivo', 'Positivo', 'Positivo', 'Positivo', 'Positivo', 'Positivo', 'Positivo', 'Neutro', 'Positivo', 'Positivo', 'Positivo', 'Positivo', 'Positivo', 'Neutro', 'Neutro', 'Positivo', 'Positivo', 'Neutro', 'Positivo', 'Positivo', 'Neutro', 'Negativo', 'Positivo', 'Neutro', 'Negativo', 'Positivo', 'Positivo', 'Positivo', 'Positivo', 'Positivo', 'Neutro', 'Positivo', 'Neutro', 'Positivo', 'Neutro', 'Positivo', 'Positivo', 'Positivo', 'Neutro', 'Positivo', 'Positivo', 'Positivo', 'Neutro', 'Positivo', 'Positivo', 'Positivo', 'Neutro', 'Positivo', 'Positivo', 'Positivo', 'Negativo', 'Positivo', 'Positivo', 'Positivo', 'Positivo', 'Positivo', 'Positivo', 'Positivo', 'Positivo', 'Positivo', 'Neutro', 'Positivo', 'Positivo', 'Positivo', 'Positivo', 'Positivo', 'Positivo', 'Positivo', 'Positivo', 'Positivo', 'Positivo', 'Positivo', 'Positivo', 'Positivo', 'Positivo', 'Neutro', 'Positivo', 'Neutro', 'Neutro', 'Positivo', 'Positivo', 'Positivo', 'Positivo', 'Positivo', 'Positivo', 'Neutro', 'Positivo', 'Positivo', 'Positivo', 'Positivo', 'Positivo', 'Neutro', 'Positivo', 'Positivo', 'Positivo', 'Positivo', 'Positivo', 'Positivo', 'Positivo', 'Positivo', 'Positivo', 'Positivo', 'Positivo', 'Positivo', 'Positivo', 'Positivo', 'Positivo', 'Neutro', 'Positivo', 'Positivo', 'Positivo', 'Positivo', 'Positivo', 'Positivo', 'Positivo', 'Positivo', 'Positivo', 'Positivo', 'Positivo', 'Neutro', 'Positivo', 'Positivo', 'Negativo', 'Negativo', 'Positivo', 'Positivo', 'Positivo', 'Positivo', 'Positivo', 'Positivo', 'Positivo', 'Positivo', 'Neutro', 'Positivo', 'Negativo', 'Positivo', 'Positivo', 'Positivo', 'Positivo', 'Positivo', 'Positivo', 'Positivo', 'Positivo', 'Positivo', 'Positivo', 'Positivo', 'Positivo', 'Neutro', 'Positivo', 'Positivo', 'Positivo', 'Positivo', 'Positivo', 'Positivo', 'Positivo', 'Positivo', 'Negativo', 'Positivo', 'Positivo', 'Neutro', 'Positivo', 'Positivo', 'Positivo', 'Positivo', 'Positivo', 'Positivo', 'Positivo', 'Neutro', 'Positivo', 'Positivo', 'Neutro', 'Positivo', 'Positivo', 'Positivo', 'Positivo', 'Positivo', 'Positivo', 'Positivo', 'Positivo', 'Positivo', 'Positivo', 'Positivo', 'Neutro', 'Positivo', 'Neutro', 'Neutro', 'Neutro', 'Positivo', 'Neutro', 'Positivo', 'Positivo', 'Positivo', 'Positivo', 'Positivo', 'Positivo', 'Positivo', 'Positivo', 'Positivo', 'Positivo', 'Positivo', 'Negativo', 'Positivo', 'Negativo', 'Positivo', 'Positivo', 'Positivo', 'Neutro', 'Positivo', 'Positivo', 'Positivo', 'Neutro', 'Neutro', 'Positivo', 'Positivo', 'Positivo', 'Positivo', 'Positivo', 'Neutro', 'Neutro', 'Neutro', 'Neutro', 'Neutro', 'Neutro', 'Positivo', 'Neutro', 'Positivo', 'Neutro', 'Positivo', 'Neutro', 'Negativo', 'Neutro', 'Positivo', 'Neutro', 'Positivo', 'Neutro', 'Negativo', 'Positivo', 'Positivo', 'Positivo', 'Positivo', 'Neutro', 'Neutro', 'Neutro', 'Positivo', 'Positivo', 'Positivo', 'Positivo', 'Positivo', 'Positivo', 'Positivo', 'Positivo', 'Positivo', 'Positivo', 'Positivo', 'Positivo', 'Positivo', 'Neutro', 'Neutro', 'Positivo', 'Positivo', 'Neutro', 'Positivo', 'Positivo', 'Positivo', 'Positivo', 'Neutro', 'Positivo', 'Positivo', 'Positivo', 'Positivo', 'Positivo', 'Neutro', 'Positivo', 'Negativo', 'Positivo', 'Neutro', 'Positivo', 'Positivo', 'Positivo', 'Neutro', 'Positivo', 'Neutro', 'Positivo', 'Negativo', 'Positivo', 'Positivo', 'Positivo', 'Positivo', 'Positivo', 'Neutro', 'Positivo', 'Positivo', 'Positivo', 'Positivo', 'Neutro', 'Neutro', 'Neutro', 'Positivo', 'Positivo', 'Positivo', 'Positivo', 'Neutro', 'Neutro', 'Neutro', 'Neutro', 'Positivo', 'Positivo', 'Positivo', 'Positivo', 'Positivo', 'Positivo', 'Positivo', 'Positivo', 'Neutro', 'Positivo', 'Neutro', 'Neutro', 'Positivo', 'Positivo', 'Positivo', 'Positivo', 'Negativo', 'Neutro', 'Positivo', 'Neutro', 'Neutro', 'Positivo', 'Positivo', 'Neutro', 'Positivo', 'Positivo', 'Neutro', 'Neutro', 'Positivo', 'Positivo', 'Positivo', 'Positivo', 'Neutro', 'Neutro', 'Neutro', 'Positivo', 'Positivo', 'Neutro', 'Positivo', 'Positivo', 'Neutro', 'Neutro', 'Positivo', 'Positivo', 'Positivo', 'Positivo', 'Neutro', 'Positivo', 'Positivo', 'Positivo', 'Neutro', 'Positivo', 'Neutro', 'Neutro', 'Positivo', 'Neutro', 'Neutro', 'Positivo', 'Positivo', 'Neutro', 'Neutro', 'Neutro', 'Positivo', 'Positivo', 'Positivo', 'Neutro', 'Neutro', 'Negativo', 'Negativo', 'Positivo', 'Positivo', 'Neutro', 'Neutro', 'Positivo', 'Neutro', 'Neutro', 'Neutro', 'Neutro', 'Neutro', 'Neutro', 'Neutro', 'Neutro', 'Neutro', 'Neutro', 'Neutro', 'Neutro', 'Neutro', 'Neutro', 'Positivo', 'Neutro', 'Negativo', 'Neutro', 'Neutro', 'Neutro', 'Positivo', 'Positivo', 'Positivo', 'Positivo', 'Positivo', 'Positivo', 'Positivo', 'Positivo', 'Positivo', 'Positivo', 'Positivo', 'Positivo', 'Positivo', 'Positivo', 'Positivo', 'Neutro', 'Positivo', 'Positivo', 'Positivo', 'Neutro', 'Neutro', 'Neutro', 'Positivo', 'Positivo', 'Positivo', 'Positivo', 'Positivo', 'Neutro', 'Positivo', 'Positivo', 'Neutro', 'Neutro', 'Neutro', 'Neutro', 'Neutro', 'Positivo', 'Positivo', 'Neutro', 'Neutro', 'Neutro', 'Neutro', 'Positivo', 'Positivo', 'Positivo', 'Positivo', 'Positivo', 'Positivo', 'Positivo', 'Positivo', 'Neutro', 'Positivo', 'Neutro', 'Neutro', 'Positivo', 'Positivo', 'Positivo', 'Positivo', 'Positivo', 'Positivo', 'Positivo', 'Positivo', 'Positivo', 'Positivo', 'Positivo', 'Neutro', 'Positivo', 'Neutro', 'Positivo', 'Positivo', 'Neutro', 'Positivo', 'Positivo', 'Neutro', 'Positivo', 'Neutro', 'Positivo', 'Positivo', 'Positivo', 'Positivo', 'Positivo', 'Positivo', 'Positivo', 'Neutro', 'Neutro', 'Neutro', 'Positivo', 'Positivo', 'Positivo', 'Neutro', 'Neutro', 'Negativo', 'Negativo', 'Positivo', 'Positivo', 'Positivo', 'Positivo', 'Positivo', 'Neutro', 'Positivo', 'Negativo', 'Positivo', 'Neutro', 'Negativo', 'Positivo', 'Positivo', 'Positivo', 'Positivo', 'Positivo', 'Positivo', 'Positivo', 'Neutro', 'Neutro', 'Neutro', 'Positivo', 'Negativo', 'Positivo', 'Neutro', 'Neutro', 'Neutro', 'Neutro', 'Positivo', 'Negativo', 'Positivo', 'Positivo', 'Neutro', 'Positivo', 'Positivo', 'Positivo', 'Positivo', 'Positivo', 'Positivo', 'Positivo', 'Positivo', 'Positivo', 'Positivo', 'Positivo', 'Neutro', 'Positivo', 'Positivo', 'Positivo', 'Neutro', 'Positivo', 'Positivo', 'Neutro', 'Neutro', 'Negativo', 'Neutro', 'Neutro', 'Neutro', 'Positivo', 'Positivo', 'Neutro', 'Positivo', 'Positivo', 'Positivo', 'Positivo', 'Neutro', 'Positivo', 'Positivo', 'Positivo', 'Positivo', 'Negativo', 'Positivo', 'Positivo', 'Neutro', 'Neutro', 'Positivo', 'Positivo', 'Positivo', 'Positivo', 'Positivo', 'Positivo', 'Neutro', 'Negativo', 'Neutro', 'Positivo', 'Neutro', 'Positivo', 'Positivo', 'Positivo', 'Neutro', 'Neutro', 'Neutro', 'Positivo', 'Positivo', 'Positivo', 'Positivo', 'Positivo', 'Neutro', 'Neutro', 'Negativo', 'Positivo', 'Neutro', 'Positivo', 'Negativo', 'Neutro', 'Neutro', 'Positivo', 'Positivo', 'Positivo', 'Neutro', 'Neutro', 'Positivo', 'Positivo', 'Neutro', 'Positivo', 'Neutro', 'Neutro', 'Positivo', 'Neutro', 'Negativo', 'Positivo', 'Positivo', 'Neutro', 'Positivo', 'Negativo', 'Positivo', 'Neutro', 'Neutro', 'Neutro', 'Neutro', 'Negativo', 'Negativo', 'Positivo', 'Negativo', 'Neutro', 'Positivo', 'Positivo', 'Negativo', 'Positivo', 'Negativo', 'Neutro', 'Positivo', 'Positivo', 'Negativo', 'Positivo', 'Positivo', 'Negativo', 'Negativo', 'Positivo', 'Negativo', 'Neutro', 'Neutro', 'Neutro', 'Positivo', 'Negativo', 'Neutro', 'Positivo', 'Neutro', 'Neutro', 'Neutro', 'Negativo', 'Neutro', 'Neutro', 'Neutro', 'Neutro', 'Neutro', 'Neutro', 'Positivo', 'Positivo', 'Neutro', 'Positivo', 'Neutro', 'Positivo', 'Neutro', 'Neutro', 'Positivo', 'Neutro', 'Positivo', 'Positivo', 'Neutro', 'Neutro', 'Positivo', 'Neutro', 'Neutro', 'Neutro', 'Neutro', 'Neutro', 'Positivo', 'Positivo', 'Positivo', 'Negativo', 'Neutro', 'Positivo', 'Positivo', 'Neutro', 'Positivo', 'Neutro', 'Negativo', 'Neutro', 'Positivo', 'Positivo', 'Neutro', 'Positivo', 'Positivo', 'Neutro', 'Neutro', 'Negativo', 'Neutro', 'Neutro', 'Positivo', 'Positivo', 'Positivo', 'Neutro', 'Neutro', 'Neutro', 'Neutro', 'Positivo', 'Positivo', 'Positivo', 'Positivo', 'Positivo', 'Positivo', 'Positivo', 'Neutro', 'Positivo', 'Neutro', 'Neutro', 'Neutro', 'Neutro', 'Positivo', 'Neutro', 'Negativo', 'Neutro', 'Positivo', 'Neutro', 'Positivo', 'Neutro', 'Positivo', 'Neutro', 'Positivo', 'Neutro', 'Positivo', 'Negativo', 'Positivo', 'Neutro', 'Neutro', 'Neutro', 'Neutro', 'Negativo', 'Positivo', 'Positivo', 'Positivo', 'Positivo', 'Positivo', 'Neutro', 'Negativo', 'Negativo', 'Positivo', 'Positivo', 'Neutro', 'Positivo', 'Neutro', 'Neutro', 'Neutro', 'Neutro', 'Positivo', 'Positivo', 'Positivo', 'Neutro', 'Negativo', 'Negativo', 'Positivo', 'Positivo', 'Positivo', 'Positivo', 'Positivo', 'Positivo', 'Positivo', 'Positivo', 'Positivo', 'Positivo', 'Positivo', 'Positivo', 'Positivo', 'Positivo', 'Positivo', 'Positivo', 'Positivo', 'Positivo', 'Negativo', 'Positivo', 'Positivo', 'Positivo', 'Positivo', 'Positivo', 'Positivo', 'Positivo', 'Positivo', 'Positivo', 'Positivo', 'Positivo', 'Positivo', 'Positivo', 'Positivo', 'Positivo', 'Positivo', 'Positivo', 'Neutro', 'Negativo', 'Negativo', 'Positivo', 'Positivo', 'Positivo', 'Positivo', 'Positivo', 'Positivo', 'Positivo', 'Positivo', 'Positivo', 'Positivo', 'Positivo', 'Positivo', 'Positivo', 'Positivo', 'Positivo', 'Positivo', 'Positivo', 'Neutro', 'Neutro', 'Positivo', 'Positivo', 'Positivo', 'Positivo', 'Positivo', 'Positivo', 'Positivo', 'Neutro', 'Positivo', 'Positivo', 'Negativo', 'Positivo', 'Positivo', 'Positivo', 'Positivo', 'Positivo', 'Positivo', 'Positivo', 'Positivo', 'Neutro', 'Positivo', 'Positivo', 'Positivo', 'Positivo', 'Positivo', 'Positivo', 'Positivo', 'Positivo', 'Positivo', 'Positivo', 'Positivo', 'Positivo', 'Positivo', 'Positivo', 'Positivo', 'Positivo', 'Positivo', 'Positivo', 'Positivo', 'Positivo', 'Positivo', 'Positivo', 'Positivo', 'Positivo', 'Positivo', 'Positivo', 'Positivo', 'Positivo', 'Positivo', 'Positivo', 'Neutro', 'Positivo', 'Positivo', 'Positivo', 'Positivo', 'Positivo', 'Positivo', 'Positivo', 'Positivo', 'Positivo', 'Positivo', 'Positivo', 'Positivo', 'Positivo', 'Positivo', 'Negativo', 'Positivo', 'Positivo', 'Positivo', 'Positivo', 'Neutro', 'Positivo', 'Positivo', 'Positivo', 'Negativo', 'Negativo', 'Neutro', 'Neutro', 'Neutro', 'Negativo', 'Negativo', 'Positivo', 'Positivo', 'Positivo', 'Positivo', 'Negativo', 'Positivo', 'Positivo', 'Positivo', 'Positivo', 'Positivo', 'Positivo', 'Positivo', 'Neutro', 'Negativo', 'Positivo', 'Positivo', 'Positivo', 'Negativo', 'Positivo', 'Neutro', 'Negativo', 'Positivo', 'Positivo', 'Positivo', 'Positivo', 'Positivo', 'Positivo', 'Positivo', 'Positivo', 'Positivo', 'Neutro', 'Positivo', 'Positivo', 'Positivo', 'Positivo', 'Neutro', 'Negativo', 'Positivo', 'Neutro', 'Neutro', 'Negativo', 'Positivo', 'Positivo', 'Positivo', 'Negativo', 'Positivo', 'Positivo', 'Positivo', 'Positivo', 'Positivo', 'Positivo', 'Positivo', 'Positivo', 'Positivo', 'Negativo', 'Neutro', 'Positivo', 'Positivo', 'Positivo', 'Positivo', 'Positivo', 'Positivo', 'Neutro', 'Positivo', 'Neutro', 'Positivo', 'Negativo', 'Positivo', 'Positivo', 'Positivo', 'Neutro', 'Positivo', 'Positivo', 'Negativo', 'Positivo', 'Negativo', 'Positivo', 'Negativo', 'Negativo', 'Positivo', 'Negativo', 'Positivo', 'Positivo', 'Positivo', 'Positivo', 'Neutro', 'Neutro', 'Positivo', 'Negativo', 'Positivo', 'Positivo', 'Neutro', 'Negativo', 'Negativo', 'Negativo', 'Neutro', 'Positivo', 'Neutro', 'Positivo', 'Neutro', 'Positivo', 'Positivo', 'Positivo', 'Positivo', 'Negativo', 'Negativo', 'Positivo', 'Positivo', 'Positivo', 'Neutro', 'Positivo', 'Positivo', 'Positivo', 'Neutro', 'Positivo', 'Positivo', 'Positivo', 'Positivo', 'Positivo', 'Positivo', 'Neutro', 'Positivo', 'Positivo', 'Positivo', 'Neutro', 'Neutro', 'Positivo', 'Neutro', 'Positivo', 'Positivo', 'Neutro', 'Positivo', 'Positivo', 'Neutro', 'Neutro', 'Neutro', 'Positivo', 'Neutro', 'Neutro', 'Positivo', 'Positivo', 'Positivo', 'Positivo', 'Positivo', 'Positivo', 'Positivo', 'Positivo', 'Positivo', 'Positivo', 'Positivo', 'Positivo', 'Positivo', 'Positivo', 'Positivo', 'Neutro', 'Neutro', 'Positivo', 'Positivo', 'Positivo', 'Positivo', 'Neutro', 'Neutro', 'Positivo', 'Neutro', 'Positivo', 'Positivo', 'Neutro', 'Positivo', 'Positivo', 'Positivo', 'Neutro', 'Neutro', 'Positivo', 'Neutro', 'Positivo', 'Positivo', 'Negativo', 'Neutro', 'Positivo', 'Positivo', 'Positivo', 'Positivo', 'Positivo', 'Positivo', 'Positivo', 'Neutro', 'Positivo', 'Positivo', 'Positivo', 'Positivo', 'Positivo', 'Positivo', 'Positivo', 'Positivo', 'Neutro', 'Neutro', 'Neutro', 'Neutro', 'Negativo', 'Neutro', 'Negativo', 'Negativo', 'Neutro', 'Positivo', 'Positivo', 'Positivo', 'Neutro', 'Neutro', 'Positivo', 'Neutro', 'Positivo', 'Positivo', 'Positivo', 'Positivo', 'Neutro', 'Neutro', 'Neutro', 'Neutro', 'Neutro', 'Neutro', 'Positivo', 'Neutro', 'Positivo', 'Positivo', 'Positivo', 'Positivo', 'Positivo', 'Positivo', 'Positivo', 'Positivo', 'Positivo', 'Positivo', 'Positivo', 'Positivo', 'Positivo', 'Positivo', 'Positivo', 'Positivo', 'Positivo', 'Positivo', 'Positivo', 'Positivo', 'Positivo', 'Positivo', 'Positivo', 'Positivo', 'Positivo', 'Positivo', 'Positivo', 'Positivo', 'Positivo', 'Positivo', 'Positivo', 'Positivo', 'Positivo', 'Positivo', 'Negativo', 'Neutro', 'Positivo', 'Positivo', 'Positivo', 'Positivo', 'Negativo', 'Negativo', 'Negativo', 'Negativo', 'Negativo', 'Negativo', 'Negativo', 'Negativo', 'Negativo', 'Negativo', 'Negativo', 'Negativo', 'Negativo', 'Positivo', 'Neutro', 'Positivo', 'Neutro', 'Negativo', 'Negativo', 'Negativo', 'Negativo', 'Negativo', 'Positivo', 'Neutro', 'Positivo', 'Negativo', 'Negativo', 'Neutro', 'Positivo', 'Negativo', 'Neutro', 'Neutro', 'Positivo', 'Positivo', 'Positivo', 'Neutro', 'Neutro', 'Neutro', 'Positivo', 'Negativo', 'Neutro', 'Neutro', 'Neutro', 'Positivo', 'Negativo', 'Negativo', 'Negativo', 'Positivo', 'Neutro', 'Positivo', 'Negativo', 'Negativo', 'Negativo', 'Negativo', 'Negativo', 'Negativo', 'Negativo', 'Negativo', 'Negativo', 'Negativo', 'Negativo', 'Negativo', 'Negativo', 'Negativo', 'Negativo', 'Neutro', 'Negativo', 'Negativo', 'Negativo', 'Negativo', 'Neutro', 'Neutro', 'Negativo', 'Negativo', 'Negativo', 'Negativo', 'Negativo', 'Negativo', 'Negativo', 'Neutro', 'Negativo', 'Negativo', 'Negativo', 'Neutro', 'Negativo', 'Neutro', 'Negativo', 'Negativo', 'Neutro', 'Negativo', 'Negativo', 'Negativo', 'Negativo', 'Neutro', 'Negativo', 'Neutro', 'Negativo', 'Neutro', 'Negativo', 'Negativo', 'Negativo', 'Negativo', 'Negativo', 'Positivo', 'Positivo', 'Positivo', 'Positivo', 'Negativo', 'Neutro', 'Neutro', 'Positivo', 'Neutro', 'Negativo', 'Negativo', 'Negativo', 'Positivo', 'Negativo', 'Negativo', 'Negativo', 'Neutro', 'Neutro', 'Neutro', 'Negativo', 'Positivo', 'Negativo', 'Neutro', 'Neutro', 'Negativo', 'Neutro', 'Positivo', 'Neutro', 'Neutro', 'Neutro', 'Neutro', 'Negativo', 'Positivo', 'Positivo', 'Positivo', 'Neutro', 'Negativo', 'Neutro', 'Negativo', 'Negativo', 'Negativo', 'Negativo', 'Negativo', 'Negativo', 'Negativo', 'Negativo', 'Negativo', 'Negativo', 'Negativo', 'Negativo', 'Positivo', 'Negativo', 'Negativo', 'Negativo', 'Negativo', 'Negativo', 'Neutro', 'Negativo', 'Negativo', 'Negativo', 'Positivo', 'Positivo', 'Neutro', 'Neutro', 'Neutro', 'Positivo', 'Neutro', 'Positivo', 'Neutro', 'Positivo', 'Neutro', 'Neutro', 'Neutro', 'Positivo', 'Positivo', 'Neutro', 'Neutro', 'Positivo', 'Neutro', 'Neutro', 'Negativo', 'Positivo', 'Positivo', 'Neutro', 'Negativo', 'Positivo', 'Neutro', 'Positivo', 'Positivo', 'Positivo', 'Positivo', 'Neutro', 'Positivo', 'Positivo', 'Negativo', 'Negativo', 'Positivo', 'Negativo', 'Negativo', 'Neutro', 'Positivo', 'Positivo', 'Neutro', 'Positivo', 'Positivo', 'Neutro', 'Neutro', 'Positivo', 'Negativo', 'Positivo', 'Neutro', 'Positivo', 'Neutro', 'Positivo', 'Negativo', 'Negativo', 'Neutro', 'Negativo', 'Positivo', 'Positivo', 'Neutro', 'Neutro', 'Positivo', 'Neutro', 'Negativo', 'Positivo', 'Negativo', 'Positivo', 'Positivo', 'Neutro', 'Negativo', 'Positivo', 'Neutro', 'Neutro', 'Neutro', 'Positivo', 'Positivo', 'Positivo', 'Neutro', 'Negativo', 'Positivo', 'Neutro', 'Positivo', 'Neutro', 'Neutro', 'Positivo', 'Positivo', 'Negativo', 'Neutro', 'Positivo', 'Positivo', 'Negativo', 'Positivo', 'Neutro', 'Neutro', 'Positivo', 'Positivo', 'Positivo', 'Positivo', 'Positivo', 'Positivo', 'Neutro', 'Neutro', 'Negativo', 'Neutro', 'Positivo', 'Positivo', 'Neutro', 'Positivo', 'Neutro', 'Neutro', 'Neutro', 'Positivo', 'Neutro', 'Positivo', 'Positivo', 'Neutro', 'Positivo', 'Negativo', 'Negativo', 'Negativo', 'Negativo', 'Neutro', 'Neutro', 'Neutro', 'Neutro', 'Neutro', 'Negativo', 'Positivo', 'Positivo', 'Neutro', 'Positivo', 'Positivo', 'Neutro', 'Positivo', 'Neutro', 'Neutro', 'Positivo', 'Positivo', 'Positivo', 'Negativo', 'Negativo', 'Negativo', 'Negativo', 'Positivo', 'Positivo', 'Positivo', 'Neutro', 'Neutro', 'Positivo', 'Positivo', 'Neutro', 'Neutro', 'Neutro', 'Neutro', 'Neutro', 'Positivo', 'Positivo', 'Positivo', 'Positivo', 'Positivo', 'Positivo', 'Neutro', 'Positivo', 'Positivo', 'Positivo', 'Positivo', 'Positivo', 'Positivo', 'Positivo', 'Positivo', 'Positivo', 'Negativo', 'Positivo', 'Neutro', 'Neutro', 'Neutro', 'Neutro', 'Positivo', 'Neutro', 'Neutro', 'Neutro', 'Neutro', 'Positivo', 'Positivo', 'Positivo', 'Positivo', 'Neutro', 'Positivo', 'Positivo', 'Neutro', 'Positivo', 'Positivo', 'Positivo', 'Positivo', 'Positivo', 'Neutro', 'Positivo', 'Positivo', 'Positivo', 'Neutro', 'Neutro', 'Positivo', 'Positivo', 'Positivo', 'Neutro', 'Positivo', 'Positivo', 'Neutro', 'Positivo', 'Positivo', 'Positivo', 'Positivo', 'Positivo', 'Positivo', 'Positivo', 'Neutro', 'Positivo', 'Positivo', 'Positivo', 'Positivo', 'Negativo', 'Positivo', 'Positivo', 'Neutro', 'Positivo', 'Neutro', 'Positivo', 'Positivo', 'Positivo', 'Positivo', 'Neutro', 'Positivo', 'Positivo', 'Positivo', 'Positivo', 'Positivo', 'Neutro', 'Positivo', 'Neutro', 'Neutro', 'Positivo', 'Positivo', 'Negativo', 'Neutro', 'Positivo', 'Positivo', 'Neutro', 'Positivo', 'Positivo', 'Positivo', 'Positivo', 'Positivo', 'Negativo', 'Negativo', 'Positivo', 'Positivo', 'Positivo', 'Neutro', 'Positivo', 'Neutro', 'Positivo', 'Positivo', 'Negativo', 'Positivo', 'Positivo', 'Positivo', 'Neutro', 'Neutro', 'Neutro', 'Positivo', 'Positivo', 'Neutro', 'Neutro', 'Positivo', 'Neutro', 'Neutro', 'Positivo', 'Neutro', 'Positivo', 'Positivo', 'Positivo', 'Positivo', 'Positivo', 'Positivo', 'Positivo', 'Positivo', 'Positivo', 'Positivo', 'Negativo', 'Positivo', 'Positivo', 'Neutro', 'Neutro', 'Neutro', 'Positivo', 'Neutro', 'Negativo', 'Neutro', 'Neutro', 'Neutro', 'Positivo', 'Neutro', 'Positivo', 'Neutro', 'Neutro', 'Positivo', 'Positivo', 'Positivo', 'Negativo', 'Negativo', 'Neutro', 'Neutro', 'Positivo', 'Positivo', 'Negativo', 'Neutro', 'Positivo', 'Positivo', 'Positivo', 'Positivo', 'Positivo', 'Neutro', 'Neutro', 'Positivo', 'Positivo', 'Neutro', 'Neutro', 'Neutro', 'Neutro', 'Positivo', 'Positivo', 'Positivo', 'Neutro', 'Positivo', 'Neutro', 'Positivo', 'Neutro', 'Positivo', 'Neutro', 'Neutro', 'Neutro', 'Positivo', 'Neutro', 'Positivo', 'Negativo', 'Neutro', 'Positivo', 'Positivo', 'Neutro', 'Positivo', 'Neutro', 'Positivo', 'Negativo', 'Positivo', 'Positivo', 'Positivo', 'Positivo', 'Neutro', 'Positivo', 'Neutro', 'Positivo', 'Positivo', 'Positivo', 'Positivo', 'Positivo', 'Positivo', 'Positivo', 'Neutro', 'Positivo', 'Neutro', 'Positivo', 'Positivo', 'Neutro', 'Positivo', 'Neutro', 'Positivo', 'Positivo', 'Neutro', 'Neutro', 'Neutro', 'Positivo', 'Neutro', 'Neutro', 'Positivo', 'Positivo', 'Positivo', 'Positivo', 'Positivo', 'Positivo', 'Positivo', 'Neutro', 'Positivo', 'Positivo', 'Neutro', 'Positivo', 'Positivo', 'Neutro', 'Positivo', 'Positivo', 'Positivo', 'Positivo', 'Negativo', 'Neutro', 'Neutro', 'Positivo', 'Positivo', 'Neutro', 'Positivo', 'Positivo', 'Positivo', 'Neutro', 'Negativo', 'Negativo', 'Neutro', 'Negativo', 'Negativo', 'Negativo', 'Negativo', 'Negativo', 'Negativo', 'Negativo', 'Negativo', 'Neutro', 'Negativo', 'Neutro', 'Negativo', 'Negativo', 'Negativo', 'Neutro', 'Neutro', 'Neutro', 'Positivo', 'Positivo', 'Positivo', 'Positivo', 'Neutro', 'Negativo', 'Negativo', 'Negativo', 'Neutro', 'Positivo', 'Negativo', 'Negativo', 'Negativo', 'Neutro', 'Negativo', 'Negativo', 'Negativo', 'Neutro', 'Neutro', 'Neutro', 'Positivo', 'Neutro', 'Neutro', 'Negativo', 'Negativo', 'Neutro', 'Negativo', 'Positivo', 'Negativo', 'Negativo', 'Negativo', 'Positivo', 'Neutro', 'Neutro', 'Negativo', 'Negativo', 'Neutro', 'Positivo', 'Negativo', 'Positivo', 'Negativo', 'Negativo', 'Negativo', 'Negativo', 'Negativo', 'Neutro', 'Negativo', 'Negativo', 'Neutro', 'Negativo', 'Negativo', 'Negativo', 'Negativo', 'Neutro', 'Negativo', 'Negativo', 'Neutro', 'Negativo', 'Negativo', 'Positivo', 'Negativo', 'Neutro', 'Positivo', 'Positivo', 'Neutro', 'Negativo', 'Positivo', 'Positivo', 'Positivo', 'Positivo', 'Negativo', 'Positivo', 'Negativo', 'Positivo', 'Positivo', 'Positivo', 'Positivo', 'Positivo', 'Negativo', 'Negativo', 'Negativo', 'Neutro', 'Negativo', 'Negativo', 'Negativo', 'Neutro', 'Negativo', 'Neutro', 'Negativo', 'Negativo', 'Neutro', 'Negativo', 'Negativo', 'Neutro', 'Positivo', 'Neutro', 'Neutro', 'Negativo', 'Neutro', 'Neutro', 'Negativo', 'Positivo', 'Neutro', 'Positivo', 'Neutro', 'Neutro', 'Positivo', 'Neutro', 'Positivo', 'Negativo', 'Neutro', 'Neutro', 'Neutro', 'Neutro', 'Neutro', 'Negativo', 'Neutro', 'Negativo', 'Neutro', 'Neutro', 'Neutro', 'Neutro', 'Neutro', 'Neutro', 'Neutro', 'Neutro', 'Positivo', 'Neutro', 'Negativo', 'Neutro', 'Negativo', 'Neutro', 'Neutro', 'Negativo', 'Neutro', 'Negativo', 'Negativo', 'Positivo', 'Negativo', 'Neutro', 'Neutro', 'Negativo', 'Neutro', 'Positivo', 'Positivo', 'Neutro', 'Negativo', 'Neutro', 'Positivo', 'Neutro', 'Negativo', 'Positivo', 'Neutro', 'Neutro', 'Negativo', 'Neutro', 'Neutro', 'Negativo', 'Negativo', 'Positivo', 'Neutro', 'Neutro', 'Negativo', 'Positivo', 'Positivo', 'Positivo', 'Neutro', 'Neutro', 'Positivo', 'Positivo', 'Neutro', 'Neutro', 'Positivo', 'Neutro', 'Negativo', 'Neutro', 'Neutro', 'Positivo', 'Positivo', 'Neutro', 'Neutro', 'Negativo', 'Neutro', 'Positivo', 'Neutro', 'Negativo', 'Positivo', 'Neutro']\n"
          ]
        }
      ]
    },
    {
      "cell_type": "markdown",
      "metadata": {
        "id": "3j1zYYS5LbZw"
      },
      "source": [
        "##Vectorización del corpus: Bag-of-words"
      ]
    },
    {
      "cell_type": "code",
      "metadata": {
        "id": "daz3YXnFt-Lr"
      },
      "source": [
        "def vectorizar_bag_of_words(x_train, x_test):\n",
        "  vec = CountVectorizer(\n",
        "            analyzer = 'word',\n",
        "            tokenizer = tokenize,\n",
        "            lowercase = True,\n",
        "            stop_words = spanish_stopwords\n",
        "            )\n",
        "\n",
        "  x_train_vectorizer = vec.fit_transform(x_train)\n",
        "  x_test_vectorizar = vec.transform(x_test)\n",
        "\n",
        "  return x_train_vectorizer, x_test_vectorizar"
      ],
      "execution_count": 37,
      "outputs": []
    },
    {
      "cell_type": "markdown",
      "metadata": {
        "id": "yMvHlPYilRUv"
      },
      "source": [
        "##Vectorización del corpus: TF-IDF"
      ]
    },
    {
      "cell_type": "code",
      "metadata": {
        "id": "2WHczfablx-1"
      },
      "source": [
        "from sklearn.feature_extraction.text import TfidfVectorizer\n",
        "from nltk.tokenize import word_tokenize"
      ],
      "execution_count": 38,
      "outputs": []
    },
    {
      "cell_type": "code",
      "metadata": {
        "colab": {
          "base_uri": "https://localhost:8080/"
        },
        "id": "7iVvOlHMlZjJ",
        "outputId": "a264ddd8-9e0a-4e49-ebe2-a5f6afc5ada9"
      },
      "source": [
        "import nltk \n",
        "nltk.download('punkt')"
      ],
      "execution_count": 39,
      "outputs": [
        {
          "output_type": "stream",
          "name": "stdout",
          "text": [
            "[nltk_data] Downloading package punkt to /root/nltk_data...\n",
            "[nltk_data]   Package punkt is already up-to-date!\n"
          ]
        },
        {
          "output_type": "execute_result",
          "data": {
            "text/plain": [
              "True"
            ]
          },
          "metadata": {},
          "execution_count": 39
        }
      ]
    },
    {
      "cell_type": "code",
      "metadata": {
        "id": "bOQqcKJeuMm_"
      },
      "source": [
        "def vectorizar_tf_idf(x_train, x_test):\n",
        "  tfv = TfidfVectorizer(tokenizer=word_tokenize, token_pattern=None)\n",
        "  \n",
        "  x_train_vectorizer = tfv.fit_transform(x_train)\n",
        "  x_test_vectorizar = tfv.transform(x_test)\n",
        "\n",
        "  return x_train_vectorizer, x_test_vectorizar"
      ],
      "execution_count": 40,
      "outputs": []
    },
    {
      "cell_type": "markdown",
      "metadata": {
        "id": "cm42C7LJomLA"
      },
      "source": [
        "##Info"
      ]
    },
    {
      "cell_type": "markdown",
      "metadata": {
        "id": "zHR9mtVLoopn"
      },
      "source": [
        "Corpus con Bag of words : **Corpus_bag_of_words**\n",
        " "
      ]
    },
    {
      "cell_type": "markdown",
      "metadata": {
        "id": "3teZfeqRoxHt"
      },
      "source": [
        "Corpus con TF - IDF: **Corpus_TF_IDF**"
      ]
    },
    {
      "cell_type": "markdown",
      "metadata": {
        "id": "RL5MQ_Geoxy2"
      },
      "source": [
        "Target: **Target**"
      ]
    },
    {
      "cell_type": "markdown",
      "metadata": {
        "id": "QhqIN3Q3rSUt"
      },
      "source": [
        "Dataframe: **dataIG_03**"
      ]
    },
    {
      "cell_type": "markdown",
      "metadata": {
        "id": "01NHersmcux0"
      },
      "source": [
        "#Aplicando Algoritmos"
      ]
    },
    {
      "cell_type": "markdown",
      "metadata": {
        "id": "UfqZqtw94qYy"
      },
      "source": [
        "##Función de Cross Validation"
      ]
    },
    {
      "cell_type": "code",
      "metadata": {
        "id": "M5F3QfCi8BlJ"
      },
      "source": [
        "folds_number = 5"
      ],
      "execution_count": 41,
      "outputs": []
    },
    {
      "cell_type": "code",
      "metadata": {
        "id": "mHYEgkRz5idP"
      },
      "source": [
        "def get_model(modelType):\n",
        "  n_estimators = 500\n",
        "  use_bootstrap = True\n",
        "\n",
        "  log_clf = LogisticRegression()\n",
        "  svm_clf = SVC()\n",
        "  knn = KNeighborsClassifier(n_neighbors=3)\n",
        "  decisionTree = DecisionTreeClassifier()\n",
        "  mlp = MLPClassifier(random_state=1, max_iter=100)\n",
        "  bayes = MultinomialNB()\n",
        "\n",
        "  voto_clf = VotingClassifier(estimators=[('lr', log_clf), ('svc', svm_clf), ('knn', knn), ('decisionTree', decisionTree), ('mlp', mlp), ('bayes', bayes) ], voting='hard')\n",
        "  bag_knn = BaggingClassifier(knn, n_estimators=n_estimators, bootstrap=use_bootstrap)\n",
        "  bag_log = BaggingClassifier(log_clf, n_estimators=n_estimators, bootstrap=use_bootstrap)\n",
        "  bag_svm = BaggingClassifier(svm_clf, n_estimators=n_estimators, bootstrap=use_bootstrap)\n",
        "  bag_tree = BaggingClassifier(decisionTree, n_estimators=n_estimators, bootstrap=use_bootstrap)\n",
        "  bag_mlp = BaggingClassifier(mlp, n_estimators=n_estimators, bootstrap=use_bootstrap)\n",
        "  bag_bayes = BaggingClassifier(bayes, n_estimators=n_estimators, bootstrap=use_bootstrap)\n",
        "\n",
        "  switcher = {\n",
        "        \"knn\": knn,\n",
        "        \"log\": log_clf,\n",
        "        \"svm\": svm_clf,\n",
        "        \"tree\": decisionTree,\n",
        "        \"mlp\": mlp,\n",
        "        \"bayes\": bayes,\n",
        "        \"emsemble_v\": voto_clf,\n",
        "        \"ensemble_b_knn\": bag_knn,\n",
        "        \"ensemble_b_log\": bag_log,\n",
        "        \"ensemble_b_svm\": bag_svm,\n",
        "        \"ensemble_b_tree\": bag_tree,\n",
        "        \"ensemble_b_mlp\": bag_mlp,\n",
        "        \"ensemble_b_bayes\": bag_bayes\n",
        "    }\n",
        "\n",
        "  return switcher.get(modelType)"
      ],
      "execution_count": 42,
      "outputs": []
    },
    {
      "cell_type": "code",
      "metadata": {
        "id": "3sAGUmbI4p78"
      },
      "source": [
        "def applied_model(x, y, modelType, use_bag_of_words = True):\n",
        "  accuracy_average = 0\n",
        "\n",
        "  kf = KFold(n_splits = folds_number)\n",
        "  for fold, (entrenamiento, validacion) in enumerate(kf.split(X=x, y=y)):\n",
        "    X_test = x.iloc[validacion, 2]\n",
        "    y_test = x.iloc[validacion, 1]\n",
        "\n",
        "    X_train = x.iloc[entrenamiento, 2]\n",
        "    y_train = x.iloc[entrenamiento, 1]\n",
        "    \n",
        "    y_train_list = list(y_train)\n",
        "    y_test_list = list(y_test)\n",
        "\n",
        "    if (use_bag_of_words):\n",
        "      x_train_vector, x_test_vector = vectorizar_bag_of_words(X_train, X_test)\n",
        "    else:\n",
        "      x_train_vector, x_test_vector = vectorizar_tf_idf(X_train, X_test)\n",
        "\n",
        "    model = get_model(modelType)\n",
        "\n",
        "    model.fit(x_train_vector, y_train_list)\n",
        "    y_pred = model.predict(x_test_vector)\n",
        "\n",
        "    acc = accuracy_score(y_test, y_pred)\n",
        "    accuracy_average = accuracy_average + acc\n",
        "\n",
        "  print(\"Accuracy promedio\")\n",
        "  print(\"=====================\")\n",
        "  print(accuracy_average / folds_number)\n",
        "\n",
        "  return (y_test, y_pred)"
      ],
      "execution_count": 43,
      "outputs": []
    },
    {
      "cell_type": "code",
      "metadata": {
        "id": "6Pr1bkAL-ihO"
      },
      "source": [
        "def show_metric(y_test, y_pred):\n",
        "  print(\"Métricas:\")\n",
        "  print(\"============\")\n",
        "  print(metrics.classification_report(y_test,y_pred))\n",
        "  print(\"\\nMatríz de confusión:\")\n",
        "  print(\"========================\")\n",
        "  print(pd.crosstab(y_test,y_pred,rownames = ['Real'],colnames = ['Predicho']))"
      ],
      "execution_count": 44,
      "outputs": []
    },
    {
      "cell_type": "markdown",
      "metadata": {
        "id": "8oVrFoLajyBy"
      },
      "source": [
        "##KNN con Bag of words"
      ]
    },
    {
      "cell_type": "code",
      "metadata": {
        "colab": {
          "base_uri": "https://localhost:8080/"
        },
        "id": "hmPqE7TX6fjm",
        "outputId": "3b59c6a1-789a-4832-bc55-6f47455c1647"
      },
      "source": [
        "y_test, y_pred = applied_model(dataIG_03, Target, \"knn\", use_bag_of_words = True)"
      ],
      "execution_count": 45,
      "outputs": [
        {
          "output_type": "stream",
          "name": "stdout",
          "text": [
            "Accuracy promedio\n",
            "=====================\n",
            "0.5969598446938642\n"
          ]
        }
      ]
    },
    {
      "cell_type": "code",
      "metadata": {
        "colab": {
          "base_uri": "https://localhost:8080/"
        },
        "id": "JG5V6mK37Z2o",
        "outputId": "fc686886-62e0-4e97-c1f6-aa2b75064c3b"
      },
      "source": [
        "show_metric(y_test, y_pred)"
      ],
      "execution_count": 46,
      "outputs": [
        {
          "output_type": "stream",
          "name": "stdout",
          "text": [
            "Métricas:\n",
            "============\n",
            "              precision    recall  f1-score   support\n",
            "\n",
            "    Negativo       0.65      0.23      0.34       145\n",
            "      Neutro       0.72      0.06      0.11       228\n",
            "    Positivo       0.45      0.94      0.61       278\n",
            "\n",
            "    accuracy                           0.47       651\n",
            "   macro avg       0.61      0.41      0.35       651\n",
            "weighted avg       0.59      0.47      0.37       651\n",
            "\n",
            "\n",
            "Matríz de confusión:\n",
            "========================\n",
            "Predicho  Negativo  Neutro  Positivo\n",
            "Real                                \n",
            "Negativo        33       1       111\n",
            "Neutro           5      13       210\n",
            "Positivo        13       4       261\n"
          ]
        }
      ]
    },
    {
      "cell_type": "markdown",
      "metadata": {
        "id": "xV_72TNTvXjB"
      },
      "source": [
        "##KNN con TF-IDF"
      ]
    },
    {
      "cell_type": "code",
      "metadata": {
        "id": "2aeBrwHn5K5h",
        "colab": {
          "base_uri": "https://localhost:8080/"
        },
        "outputId": "5e5de2c5-8826-45fc-a3dd-1b0c1cb8eb94"
      },
      "source": [
        "y_test, y_pred = applied_model(dataIG_03, Target, \"knn\", use_bag_of_words = False)"
      ],
      "execution_count": 47,
      "outputs": [
        {
          "output_type": "stream",
          "name": "stdout",
          "text": [
            "Accuracy promedio\n",
            "=====================\n",
            "0.5892802955340063\n"
          ]
        }
      ]
    },
    {
      "cell_type": "code",
      "metadata": {
        "colab": {
          "base_uri": "https://localhost:8080/"
        },
        "id": "6KeLPrkb7sxB",
        "outputId": "87e62af6-02a8-4a62-bdf9-3a1fef34b52a"
      },
      "source": [
        "show_metric(y_test, y_pred)"
      ],
      "execution_count": 48,
      "outputs": [
        {
          "output_type": "stream",
          "name": "stdout",
          "text": [
            "Métricas:\n",
            "============\n",
            "              precision    recall  f1-score   support\n",
            "\n",
            "    Negativo       0.66      0.14      0.24       145\n",
            "      Neutro       0.76      0.07      0.13       228\n",
            "    Positivo       0.45      0.96      0.61       278\n",
            "\n",
            "    accuracy                           0.47       651\n",
            "   macro avg       0.62      0.39      0.33       651\n",
            "weighted avg       0.60      0.47      0.36       651\n",
            "\n",
            "\n",
            "Matríz de confusión:\n",
            "========================\n",
            "Predicho  Negativo  Neutro  Positivo\n",
            "Real                                \n",
            "Negativo        21       0       124\n",
            "Neutro           6      16       206\n",
            "Positivo         5       5       268\n"
          ]
        }
      ]
    },
    {
      "cell_type": "markdown",
      "metadata": {
        "id": "IdkglinfCWFD"
      },
      "source": [
        "##Regresión Logística con Bag of words"
      ]
    },
    {
      "cell_type": "code",
      "metadata": {
        "colab": {
          "base_uri": "https://localhost:8080/"
        },
        "id": "0ywEr3kNDM7D",
        "outputId": "51c04f65-28e3-4938-bee8-5303c892bf8f"
      },
      "source": [
        "y_test, y_pred = applied_model(dataIG_03, Target, \"log\", use_bag_of_words = True)"
      ],
      "execution_count": 49,
      "outputs": [
        {
          "output_type": "stream",
          "name": "stdout",
          "text": [
            "Accuracy promedio\n",
            "=====================\n",
            "0.6110735725123217\n"
          ]
        }
      ]
    },
    {
      "cell_type": "code",
      "metadata": {
        "colab": {
          "base_uri": "https://localhost:8080/"
        },
        "id": "fwvMSZtMDRlT",
        "outputId": "753cf3cd-c9e0-493e-c8fc-fc3317b09916"
      },
      "source": [
        "show_metric(y_test, y_pred)"
      ],
      "execution_count": 50,
      "outputs": [
        {
          "output_type": "stream",
          "name": "stdout",
          "text": [
            "Métricas:\n",
            "============\n",
            "              precision    recall  f1-score   support\n",
            "\n",
            "    Negativo       0.59      0.36      0.45       145\n",
            "      Neutro       0.36      0.09      0.15       228\n",
            "    Positivo       0.46      0.84      0.60       278\n",
            "\n",
            "    accuracy                           0.47       651\n",
            "   macro avg       0.47      0.43      0.40       651\n",
            "weighted avg       0.46      0.47      0.40       651\n",
            "\n",
            "\n",
            "Matríz de confusión:\n",
            "========================\n",
            "Predicho  Negativo  Neutro  Positivo\n",
            "Real                                \n",
            "Negativo        52      15        78\n",
            "Neutro          13      21       194\n",
            "Positivo        23      22       233\n"
          ]
        }
      ]
    },
    {
      "cell_type": "markdown",
      "metadata": {
        "id": "EBfde1TFCqYu"
      },
      "source": [
        "##Regresión Logística con TF-IDF"
      ]
    },
    {
      "cell_type": "code",
      "metadata": {
        "colab": {
          "base_uri": "https://localhost:8080/"
        },
        "id": "k1XtHNWSDTjz",
        "outputId": "399b4fde-7591-4456-c7e0-e949a7d6391d"
      },
      "source": [
        "y_test, y_pred = applied_model(dataIG_03, Target, \"log\", use_bag_of_words = False)"
      ],
      "execution_count": 51,
      "outputs": [
        {
          "output_type": "stream",
          "name": "stdout",
          "text": [
            "Accuracy promedio\n",
            "=====================\n",
            "0.6255011167340476\n"
          ]
        }
      ]
    },
    {
      "cell_type": "code",
      "metadata": {
        "colab": {
          "base_uri": "https://localhost:8080/"
        },
        "id": "58QTw4MhDcBU",
        "outputId": "b2d1ccf2-39b4-456f-daba-169603d1b788"
      },
      "source": [
        "show_metric(y_test, y_pred)"
      ],
      "execution_count": 52,
      "outputs": [
        {
          "output_type": "stream",
          "name": "stdout",
          "text": [
            "Métricas:\n",
            "============\n",
            "              precision    recall  f1-score   support\n",
            "\n",
            "    Negativo       0.63      0.40      0.49       145\n",
            "      Neutro       0.58      0.08      0.15       228\n",
            "    Positivo       0.47      0.89      0.62       278\n",
            "\n",
            "    accuracy                           0.50       651\n",
            "   macro avg       0.56      0.46      0.42       651\n",
            "weighted avg       0.54      0.50      0.42       651\n",
            "\n",
            "\n",
            "Matríz de confusión:\n",
            "========================\n",
            "Predicho  Negativo  Neutro  Positivo\n",
            "Real                                \n",
            "Negativo        58       6        81\n",
            "Neutro          12      19       197\n",
            "Positivo        22       8       248\n"
          ]
        }
      ]
    },
    {
      "cell_type": "markdown",
      "metadata": {
        "id": "h0zfXc5LCtqj"
      },
      "source": [
        "##SVM con Bag of words"
      ]
    },
    {
      "cell_type": "code",
      "metadata": {
        "colab": {
          "base_uri": "https://localhost:8080/"
        },
        "id": "E2oYEsNbDeHz",
        "outputId": "39b0e981-3e4b-4908-acba-45bbf85007b4"
      },
      "source": [
        "y_test, y_pred = applied_model(dataIG_03, Target, \"svm\", use_bag_of_words = True)"
      ],
      "execution_count": 53,
      "outputs": [
        {
          "output_type": "stream",
          "name": "stdout",
          "text": [
            "Accuracy promedio\n",
            "=====================\n",
            "0.6073911773298276\n"
          ]
        }
      ]
    },
    {
      "cell_type": "code",
      "metadata": {
        "colab": {
          "base_uri": "https://localhost:8080/"
        },
        "id": "aPA1MbE8DjYb",
        "outputId": "9b3f21bd-4874-48be-9fa0-f17837634ecc"
      },
      "source": [
        "show_metric(y_test, y_pred)"
      ],
      "execution_count": 54,
      "outputs": [
        {
          "output_type": "stream",
          "name": "stdout",
          "text": [
            "Métricas:\n",
            "============\n",
            "              precision    recall  f1-score   support\n",
            "\n",
            "    Negativo       0.51      0.41      0.46       145\n",
            "      Neutro       0.62      0.06      0.10       228\n",
            "    Positivo       0.45      0.83      0.58       278\n",
            "\n",
            "    accuracy                           0.47       651\n",
            "   macro avg       0.53      0.43      0.38       651\n",
            "weighted avg       0.52      0.47      0.39       651\n",
            "\n",
            "\n",
            "Matríz de confusión:\n",
            "========================\n",
            "Predicho  Negativo  Neutro  Positivo\n",
            "Real                                \n",
            "Negativo        60       4        81\n",
            "Neutro          15      13       200\n",
            "Positivo        43       4       231\n"
          ]
        }
      ]
    },
    {
      "cell_type": "markdown",
      "metadata": {
        "id": "yaQZ2FjhCv_c"
      },
      "source": [
        "##SVM con TF-IDF"
      ]
    },
    {
      "cell_type": "code",
      "metadata": {
        "colab": {
          "base_uri": "https://localhost:8080/"
        },
        "id": "IEcSxO3hDhpl",
        "outputId": "55b99edf-beb7-4855-f4c5-e6feb939406b"
      },
      "source": [
        "y_test, y_pred = applied_model(dataIG_03, Target, \"svm\", use_bag_of_words = False)"
      ],
      "execution_count": 55,
      "outputs": [
        {
          "output_type": "stream",
          "name": "stdout",
          "text": [
            "Accuracy promedio\n",
            "=====================\n",
            "0.6055775446929217\n"
          ]
        }
      ]
    },
    {
      "cell_type": "code",
      "metadata": {
        "colab": {
          "base_uri": "https://localhost:8080/"
        },
        "id": "N-Y_CurlDkax",
        "outputId": "8d72e36b-fa8e-4a64-9ad3-5e975311db44"
      },
      "source": [
        "show_metric(y_test, y_pred)"
      ],
      "execution_count": 56,
      "outputs": [
        {
          "output_type": "stream",
          "name": "stdout",
          "text": [
            "Métricas:\n",
            "============\n",
            "              precision    recall  f1-score   support\n",
            "\n",
            "    Negativo       0.66      0.50      0.57       145\n",
            "      Neutro       0.73      0.07      0.13       228\n",
            "    Positivo       0.48      0.90      0.63       278\n",
            "\n",
            "    accuracy                           0.52       651\n",
            "   macro avg       0.62      0.49      0.44       651\n",
            "weighted avg       0.61      0.52      0.44       651\n",
            "\n",
            "\n",
            "Matríz de confusión:\n",
            "========================\n",
            "Predicho  Negativo  Neutro  Positivo\n",
            "Real                                \n",
            "Negativo        73       2        70\n",
            "Neutro          13      16       199\n",
            "Positivo        24       4       250\n"
          ]
        }
      ]
    },
    {
      "cell_type": "markdown",
      "metadata": {
        "id": "s3B0fxYGC4bd"
      },
      "source": [
        "##Árboles con Bag of words"
      ]
    },
    {
      "cell_type": "code",
      "metadata": {
        "colab": {
          "base_uri": "https://localhost:8080/"
        },
        "id": "VPRy5_fkDoED",
        "outputId": "74d1b219-e45e-4a26-b3a6-24f3c745cfa0"
      },
      "source": [
        "y_test, y_pred = applied_model(dataIG_03, Target, \"tree\", use_bag_of_words = True)"
      ],
      "execution_count": 57,
      "outputs": [
        {
          "output_type": "stream",
          "name": "stdout",
          "text": [
            "Accuracy promedio\n",
            "=====================\n",
            "0.5622817185453244\n"
          ]
        }
      ]
    },
    {
      "cell_type": "code",
      "metadata": {
        "colab": {
          "base_uri": "https://localhost:8080/"
        },
        "id": "GWvs4oAQDsl0",
        "outputId": "d5b235cd-fbd1-4cef-c387-d2f2ee108c56"
      },
      "source": [
        "show_metric(y_test, y_pred)"
      ],
      "execution_count": 58,
      "outputs": [
        {
          "output_type": "stream",
          "name": "stdout",
          "text": [
            "Métricas:\n",
            "============\n",
            "              precision    recall  f1-score   support\n",
            "\n",
            "    Negativo       0.53      0.38      0.44       145\n",
            "      Neutro       0.33      0.11      0.16       228\n",
            "    Positivo       0.45      0.76      0.56       278\n",
            "\n",
            "    accuracy                           0.45       651\n",
            "   macro avg       0.44      0.42      0.39       651\n",
            "weighted avg       0.42      0.45      0.40       651\n",
            "\n",
            "\n",
            "Matríz de confusión:\n",
            "========================\n",
            "Predicho  Negativo  Neutro  Positivo\n",
            "Real                                \n",
            "Negativo        55      15        75\n",
            "Neutro          16      24       188\n",
            "Positivo        32      34       212\n"
          ]
        }
      ]
    },
    {
      "cell_type": "markdown",
      "metadata": {
        "id": "znVfMfCvC7V7"
      },
      "source": [
        "##Árboles con TF-IDF"
      ]
    },
    {
      "cell_type": "code",
      "metadata": {
        "colab": {
          "base_uri": "https://localhost:8080/"
        },
        "id": "p54OdAEPDtbK",
        "outputId": "abbed404-2fc1-4cd8-f3ff-1586c7ec05e2"
      },
      "source": [
        "y_test, y_pred = applied_model(dataIG_03, Target, \"tree\", use_bag_of_words = False)"
      ],
      "execution_count": 59,
      "outputs": [
        {
          "output_type": "stream",
          "name": "stdout",
          "text": [
            "Accuracy promedio\n",
            "=====================\n",
            "0.562274179412513\n"
          ]
        }
      ]
    },
    {
      "cell_type": "code",
      "metadata": {
        "colab": {
          "base_uri": "https://localhost:8080/"
        },
        "id": "5nwhnOq2DwOg",
        "outputId": "205b8aa9-9bec-4cf9-a77b-d8a81c10038d"
      },
      "source": [
        "show_metric(y_test, y_pred)"
      ],
      "execution_count": 60,
      "outputs": [
        {
          "output_type": "stream",
          "name": "stdout",
          "text": [
            "Métricas:\n",
            "============\n",
            "              precision    recall  f1-score   support\n",
            "\n",
            "    Negativo       0.53      0.43      0.47       145\n",
            "      Neutro       0.28      0.08      0.12       228\n",
            "    Positivo       0.45      0.75      0.56       278\n",
            "\n",
            "    accuracy                           0.44       651\n",
            "   macro avg       0.42      0.42      0.39       651\n",
            "weighted avg       0.41      0.44      0.39       651\n",
            "\n",
            "\n",
            "Matríz de confusión:\n",
            "========================\n",
            "Predicho  Negativo  Neutro  Positivo\n",
            "Real                                \n",
            "Negativo        62      12        71\n",
            "Neutro          21      18       189\n",
            "Positivo        34      35       209\n"
          ]
        }
      ]
    },
    {
      "cell_type": "markdown",
      "metadata": {
        "id": "e75a-PrPC-R0"
      },
      "source": [
        "##MLP con Bag of words"
      ]
    },
    {
      "cell_type": "code",
      "metadata": {
        "colab": {
          "base_uri": "https://localhost:8080/"
        },
        "id": "7sLg71QzDykb",
        "outputId": "27a436de-ddc9-4a6c-9f66-0254d6d1b52a"
      },
      "source": [
        "y_test, y_pred = applied_model(dataIG_03, Target, \"mlp\", use_bag_of_words = True)"
      ],
      "execution_count": 61,
      "outputs": [
        {
          "output_type": "stream",
          "name": "stderr",
          "text": [
            "/usr/local/lib/python3.7/dist-packages/sklearn/neural_network/_multilayer_perceptron.py:571: ConvergenceWarning: Stochastic Optimizer: Maximum iterations (100) reached and the optimization hasn't converged yet.\n",
            "  % self.max_iter, ConvergenceWarning)\n",
            "/usr/local/lib/python3.7/dist-packages/sklearn/neural_network/_multilayer_perceptron.py:571: ConvergenceWarning: Stochastic Optimizer: Maximum iterations (100) reached and the optimization hasn't converged yet.\n",
            "  % self.max_iter, ConvergenceWarning)\n",
            "/usr/local/lib/python3.7/dist-packages/sklearn/neural_network/_multilayer_perceptron.py:571: ConvergenceWarning: Stochastic Optimizer: Maximum iterations (100) reached and the optimization hasn't converged yet.\n",
            "  % self.max_iter, ConvergenceWarning)\n",
            "/usr/local/lib/python3.7/dist-packages/sklearn/neural_network/_multilayer_perceptron.py:571: ConvergenceWarning: Stochastic Optimizer: Maximum iterations (100) reached and the optimization hasn't converged yet.\n",
            "  % self.max_iter, ConvergenceWarning)\n"
          ]
        },
        {
          "output_type": "stream",
          "name": "stdout",
          "text": [
            "Accuracy promedio\n",
            "=====================\n",
            "0.5911344510097727\n"
          ]
        },
        {
          "output_type": "stream",
          "name": "stderr",
          "text": [
            "/usr/local/lib/python3.7/dist-packages/sklearn/neural_network/_multilayer_perceptron.py:571: ConvergenceWarning: Stochastic Optimizer: Maximum iterations (100) reached and the optimization hasn't converged yet.\n",
            "  % self.max_iter, ConvergenceWarning)\n"
          ]
        }
      ]
    },
    {
      "cell_type": "code",
      "metadata": {
        "colab": {
          "base_uri": "https://localhost:8080/"
        },
        "id": "vwKNz7rxD1wL",
        "outputId": "0cf075e3-d3a6-4d6a-be52-9240e041d9bf"
      },
      "source": [
        "show_metric(y_test, y_pred)"
      ],
      "execution_count": 62,
      "outputs": [
        {
          "output_type": "stream",
          "name": "stdout",
          "text": [
            "Métricas:\n",
            "============\n",
            "              precision    recall  f1-score   support\n",
            "\n",
            "    Negativo       0.54      0.40      0.46       145\n",
            "      Neutro       0.32      0.10      0.15       228\n",
            "    Positivo       0.46      0.78      0.58       278\n",
            "\n",
            "    accuracy                           0.46       651\n",
            "   macro avg       0.44      0.43      0.40       651\n",
            "weighted avg       0.43      0.46      0.40       651\n",
            "\n",
            "\n",
            "Matríz de confusión:\n",
            "========================\n",
            "Predicho  Negativo  Neutro  Positivo\n",
            "Real                                \n",
            "Negativo        58      25        62\n",
            "Neutro          13      23       192\n",
            "Positivo        37      25       216\n"
          ]
        }
      ]
    },
    {
      "cell_type": "markdown",
      "metadata": {
        "id": "Qk36LPxTDDIx"
      },
      "source": [
        "##MLP con TF-IDF"
      ]
    },
    {
      "cell_type": "code",
      "metadata": {
        "colab": {
          "base_uri": "https://localhost:8080/"
        },
        "id": "63MOhpLfD2vM",
        "outputId": "8d91433b-b0a3-446a-8d2b-4eba14990d40"
      },
      "source": [
        "y_test, y_pred = applied_model(dataIG_03, Target, \"mlp\", use_bag_of_words = False)"
      ],
      "execution_count": 63,
      "outputs": [
        {
          "output_type": "stream",
          "name": "stderr",
          "text": [
            "/usr/local/lib/python3.7/dist-packages/sklearn/neural_network/_multilayer_perceptron.py:571: ConvergenceWarning: Stochastic Optimizer: Maximum iterations (100) reached and the optimization hasn't converged yet.\n",
            "  % self.max_iter, ConvergenceWarning)\n",
            "/usr/local/lib/python3.7/dist-packages/sklearn/neural_network/_multilayer_perceptron.py:571: ConvergenceWarning: Stochastic Optimizer: Maximum iterations (100) reached and the optimization hasn't converged yet.\n",
            "  % self.max_iter, ConvergenceWarning)\n",
            "/usr/local/lib/python3.7/dist-packages/sklearn/neural_network/_multilayer_perceptron.py:571: ConvergenceWarning: Stochastic Optimizer: Maximum iterations (100) reached and the optimization hasn't converged yet.\n",
            "  % self.max_iter, ConvergenceWarning)\n",
            "/usr/local/lib/python3.7/dist-packages/sklearn/neural_network/_multilayer_perceptron.py:571: ConvergenceWarning: Stochastic Optimizer: Maximum iterations (100) reached and the optimization hasn't converged yet.\n",
            "  % self.max_iter, ConvergenceWarning)\n"
          ]
        },
        {
          "output_type": "stream",
          "name": "stdout",
          "text": [
            "Accuracy promedio\n",
            "=====================\n",
            "0.6074166219030656\n"
          ]
        },
        {
          "output_type": "stream",
          "name": "stderr",
          "text": [
            "/usr/local/lib/python3.7/dist-packages/sklearn/neural_network/_multilayer_perceptron.py:571: ConvergenceWarning: Stochastic Optimizer: Maximum iterations (100) reached and the optimization hasn't converged yet.\n",
            "  % self.max_iter, ConvergenceWarning)\n"
          ]
        }
      ]
    },
    {
      "cell_type": "code",
      "metadata": {
        "colab": {
          "base_uri": "https://localhost:8080/"
        },
        "id": "jkjI-hkyD4PW",
        "outputId": "b4aa3624-09c4-49b3-f4ad-f7d2b68c93d3"
      },
      "source": [
        "show_metric(y_test, y_pred)"
      ],
      "execution_count": 64,
      "outputs": [
        {
          "output_type": "stream",
          "name": "stdout",
          "text": [
            "Métricas:\n",
            "============\n",
            "              precision    recall  f1-score   support\n",
            "\n",
            "    Negativo       0.51      0.44      0.47       145\n",
            "      Neutro       0.56      0.77      0.65       228\n",
            "    Positivo       0.68      0.51      0.58       278\n",
            "\n",
            "    accuracy                           0.59       651\n",
            "   macro avg       0.58      0.57      0.57       651\n",
            "weighted avg       0.60      0.59      0.58       651\n",
            "\n",
            "\n",
            "Matríz de confusión:\n",
            "========================\n",
            "Predicho  Negativo  Neutro  Positivo\n",
            "Real                                \n",
            "Negativo        64      45        36\n",
            "Neutro          21     176        31\n",
            "Positivo        41      95       142\n"
          ]
        }
      ]
    },
    {
      "cell_type": "markdown",
      "metadata": {
        "id": "JmrBd_ywDHgl"
      },
      "source": [
        "##Bayes con Bag of words"
      ]
    },
    {
      "cell_type": "code",
      "metadata": {
        "colab": {
          "base_uri": "https://localhost:8080/"
        },
        "id": "JUv6wDVbEGdc",
        "outputId": "8487b523-8bac-456b-864d-3ed322edc05d"
      },
      "source": [
        "y_test, y_pred = applied_model(dataIG_03, Target, \"bayes\", use_bag_of_words = True)"
      ],
      "execution_count": 65,
      "outputs": [
        {
          "output_type": "stream",
          "name": "stdout",
          "text": [
            "Accuracy promedio\n",
            "=====================\n",
            "0.6239593640741473\n"
          ]
        }
      ]
    },
    {
      "cell_type": "code",
      "metadata": {
        "colab": {
          "base_uri": "https://localhost:8080/"
        },
        "id": "gldoB8STEIT8",
        "outputId": "d10681ef-cca6-46a1-d4c0-899af977240c"
      },
      "source": [
        "show_metric(y_test, y_pred)"
      ],
      "execution_count": 66,
      "outputs": [
        {
          "output_type": "stream",
          "name": "stdout",
          "text": [
            "Métricas:\n",
            "============\n",
            "              precision    recall  f1-score   support\n",
            "\n",
            "    Negativo       0.57      0.52      0.54       145\n",
            "      Neutro       0.44      0.09      0.15       228\n",
            "    Positivo       0.48      0.82      0.61       278\n",
            "\n",
            "    accuracy                           0.50       651\n",
            "   macro avg       0.50      0.48      0.43       651\n",
            "weighted avg       0.49      0.50      0.43       651\n",
            "\n",
            "\n",
            "Matríz de confusión:\n",
            "========================\n",
            "Predicho  Negativo  Neutro  Positivo\n",
            "Real                                \n",
            "Negativo        76      13        56\n",
            "Neutro          21      21       186\n",
            "Positivo        37      14       227\n"
          ]
        }
      ]
    },
    {
      "cell_type": "markdown",
      "metadata": {
        "id": "CO8Yc0_JDJcb"
      },
      "source": [
        "##Bayes con TF-IDF"
      ]
    },
    {
      "cell_type": "code",
      "metadata": {
        "colab": {
          "base_uri": "https://localhost:8080/"
        },
        "id": "bW05Qp1JEKf8",
        "outputId": "e13daa38-b8ab-456e-aabf-2d611b8bd3cb"
      },
      "source": [
        "y_test, y_pred = applied_model(dataIG_03, Target, \"bayes\", use_bag_of_words = False)"
      ],
      "execution_count": 67,
      "outputs": [
        {
          "output_type": "stream",
          "name": "stdout",
          "text": [
            "Accuracy promedio\n",
            "=====================\n",
            "0.6215176274349044\n"
          ]
        }
      ]
    },
    {
      "cell_type": "code",
      "metadata": {
        "colab": {
          "base_uri": "https://localhost:8080/"
        },
        "id": "6xwzvn1LEL1r",
        "outputId": "9fd4a8cd-db61-494a-ad24-d8368aece3e4"
      },
      "source": [
        "show_metric(y_test, y_pred)"
      ],
      "execution_count": 68,
      "outputs": [
        {
          "output_type": "stream",
          "name": "stdout",
          "text": [
            "Métricas:\n",
            "============\n",
            "              precision    recall  f1-score   support\n",
            "\n",
            "    Negativo       0.61      0.54      0.57       145\n",
            "      Neutro       0.72      0.06      0.11       228\n",
            "    Positivo       0.49      0.88      0.63       278\n",
            "\n",
            "    accuracy                           0.52       651\n",
            "   macro avg       0.61      0.49      0.43       651\n",
            "weighted avg       0.60      0.52      0.43       651\n",
            "\n",
            "\n",
            "Matríz de confusión:\n",
            "========================\n",
            "Predicho  Negativo  Neutro  Positivo\n",
            "Real                                \n",
            "Negativo        78       3        64\n",
            "Neutro          19      13       196\n",
            "Positivo        31       2       245\n"
          ]
        }
      ]
    },
    {
      "cell_type": "markdown",
      "metadata": {
        "id": "0XhgtXNRmw0z"
      },
      "source": [
        "##Ensembles"
      ]
    },
    {
      "cell_type": "code",
      "metadata": {
        "id": "Ndvh-0khm7Qr"
      },
      "source": [
        "log_clf = LogisticRegression()\n",
        "svm_clf = SVC()\n",
        "knn = KNeighborsClassifier(n_neighbors=3)\n",
        "decisionTree = DecisionTreeClassifier()\n",
        "mlp = MLPClassifier(random_state=1, max_iter=100)\n",
        "bayes = MultinomialNB()"
      ],
      "execution_count": 69,
      "outputs": []
    },
    {
      "cell_type": "markdown",
      "metadata": {
        "id": "Zu5rCbMCnA5r"
      },
      "source": [
        "### Ensemble por Voto"
      ]
    },
    {
      "cell_type": "code",
      "metadata": {
        "id": "OSF0pTrl1Ym7"
      },
      "source": [
        "voto_clf = VotingClassifier(\n",
        "    estimators=[('lr', log_clf), ('svc', svm_clf), ('knn', knn), ('decisionTree', decisionTree), ('mlp', mlp), ('bayes', bayes) ], \n",
        "  voting='hard')"
      ],
      "execution_count": 70,
      "outputs": []
    },
    {
      "cell_type": "code",
      "metadata": {
        "colab": {
          "base_uri": "https://localhost:8080/"
        },
        "id": "Jqk5h1ocnDZT",
        "outputId": "c2addf6b-a544-4905-fe91-e4cfa56e4037"
      },
      "source": [
        "kf = KFold(n_splits = folds_number)\n",
        "accuracy_average = 0\n",
        "for fold, (entrenamiento, validacion) in enumerate(kf.split(X=dataIG_03, y=Target)):\n",
        "  X_test = dataIG_03.iloc[validacion, 2]\n",
        "  y_test = dataIG_03.iloc[validacion, 1]\n",
        "\n",
        "  X_train = dataIG_03.iloc[entrenamiento, 2]\n",
        "  y_train = dataIG_03.iloc[entrenamiento, 1]\n",
        "  \n",
        "  y_train_list = list(y_train)\n",
        "  y_test_list = list(y_test)\n",
        "\n",
        "  x_train_vector, x_test_vector = vectorizar_bag_of_words(X_train, X_test)\n",
        "\n",
        "  voto_clf.fit(x_train_vector, y_train_list)\n",
        "  \n",
        "  y_pred = voto_clf.predict(x_test_vector)\n",
        "\n",
        "  acc = accuracy_score(y_test, y_pred)\n",
        "\n",
        "  print(f\"Fold Number: {fold}\")\n",
        "  print(\"====================\")\n",
        "  for clf in (log_clf, svm_clf, knn, decisionTree, mlp, bayes, voto_clf):\n",
        "    clf.fit(x_train_vector, y_train_list)\n",
        "    y_pred = clf.predict(x_test_vector)\n",
        "    print(clf.__class__.__name__, accuracy_score(y_test, y_pred))\n",
        "\n",
        "  print(\"\\n\")\n",
        "  accuracy_average = accuracy_average + acc\n",
        "\n",
        "print(\"Acurracy Promedio: \")\n",
        "print(\"====================\")\n",
        "print(f\"{accuracy_average / folds_number}\")"
      ],
      "execution_count": 71,
      "outputs": [
        {
          "output_type": "stream",
          "name": "stderr",
          "text": [
            "/usr/local/lib/python3.7/dist-packages/sklearn/neural_network/_multilayer_perceptron.py:571: ConvergenceWarning: Stochastic Optimizer: Maximum iterations (100) reached and the optimization hasn't converged yet.\n",
            "  % self.max_iter, ConvergenceWarning)\n"
          ]
        },
        {
          "output_type": "stream",
          "name": "stdout",
          "text": [
            "Fold Number: 0\n",
            "====================\n",
            "LogisticRegression 0.6717791411042945\n",
            "SVC 0.696319018404908\n",
            "KNeighborsClassifier 0.6656441717791411\n",
            "DecisionTreeClassifier 0.5950920245398773\n"
          ]
        },
        {
          "output_type": "stream",
          "name": "stderr",
          "text": [
            "/usr/local/lib/python3.7/dist-packages/sklearn/neural_network/_multilayer_perceptron.py:571: ConvergenceWarning: Stochastic Optimizer: Maximum iterations (100) reached and the optimization hasn't converged yet.\n",
            "  % self.max_iter, ConvergenceWarning)\n"
          ]
        },
        {
          "output_type": "stream",
          "name": "stdout",
          "text": [
            "MLPClassifier 0.6748466257668712\n",
            "MultinomialNB 0.74079754601227\n"
          ]
        },
        {
          "output_type": "stream",
          "name": "stderr",
          "text": [
            "/usr/local/lib/python3.7/dist-packages/sklearn/neural_network/_multilayer_perceptron.py:571: ConvergenceWarning: Stochastic Optimizer: Maximum iterations (100) reached and the optimization hasn't converged yet.\n",
            "  % self.max_iter, ConvergenceWarning)\n"
          ]
        },
        {
          "output_type": "stream",
          "name": "stdout",
          "text": [
            "VotingClassifier 0.7315950920245399\n",
            "\n",
            "\n"
          ]
        },
        {
          "output_type": "stream",
          "name": "stderr",
          "text": [
            "/usr/local/lib/python3.7/dist-packages/sklearn/neural_network/_multilayer_perceptron.py:571: ConvergenceWarning: Stochastic Optimizer: Maximum iterations (100) reached and the optimization hasn't converged yet.\n",
            "  % self.max_iter, ConvergenceWarning)\n"
          ]
        },
        {
          "output_type": "stream",
          "name": "stdout",
          "text": [
            "Fold Number: 1\n",
            "====================\n",
            "LogisticRegression 0.647239263803681\n",
            "SVC 0.6457055214723927\n",
            "KNeighborsClassifier 0.5766871165644172\n",
            "DecisionTreeClassifier 0.6180981595092024\n"
          ]
        },
        {
          "output_type": "stream",
          "name": "stderr",
          "text": [
            "/usr/local/lib/python3.7/dist-packages/sklearn/neural_network/_multilayer_perceptron.py:571: ConvergenceWarning: Stochastic Optimizer: Maximum iterations (100) reached and the optimization hasn't converged yet.\n",
            "  % self.max_iter, ConvergenceWarning)\n"
          ]
        },
        {
          "output_type": "stream",
          "name": "stdout",
          "text": [
            "MLPClassifier 0.6365030674846626\n",
            "MultinomialNB 0.6533742331288344\n"
          ]
        },
        {
          "output_type": "stream",
          "name": "stderr",
          "text": [
            "/usr/local/lib/python3.7/dist-packages/sklearn/neural_network/_multilayer_perceptron.py:571: ConvergenceWarning: Stochastic Optimizer: Maximum iterations (100) reached and the optimization hasn't converged yet.\n",
            "  % self.max_iter, ConvergenceWarning)\n"
          ]
        },
        {
          "output_type": "stream",
          "name": "stdout",
          "text": [
            "VotingClassifier 0.656441717791411\n",
            "\n",
            "\n"
          ]
        },
        {
          "output_type": "stream",
          "name": "stderr",
          "text": [
            "/usr/local/lib/python3.7/dist-packages/sklearn/neural_network/_multilayer_perceptron.py:571: ConvergenceWarning: Stochastic Optimizer: Maximum iterations (100) reached and the optimization hasn't converged yet.\n",
            "  % self.max_iter, ConvergenceWarning)\n"
          ]
        },
        {
          "output_type": "stream",
          "name": "stdout",
          "text": [
            "Fold Number: 2\n",
            "====================\n",
            "LogisticRegression 0.6365030674846626\n",
            "SVC 0.5996932515337423\n",
            "KNeighborsClassifier 0.6533742331288344\n",
            "DecisionTreeClassifier 0.5644171779141104\n"
          ]
        },
        {
          "output_type": "stream",
          "name": "stderr",
          "text": [
            "/usr/local/lib/python3.7/dist-packages/sklearn/neural_network/_multilayer_perceptron.py:571: ConvergenceWarning: Stochastic Optimizer: Maximum iterations (100) reached and the optimization hasn't converged yet.\n",
            "  % self.max_iter, ConvergenceWarning)\n"
          ]
        },
        {
          "output_type": "stream",
          "name": "stdout",
          "text": [
            "MLPClassifier 0.5460122699386503\n",
            "MultinomialNB 0.6180981595092024\n"
          ]
        },
        {
          "output_type": "stream",
          "name": "stderr",
          "text": [
            "/usr/local/lib/python3.7/dist-packages/sklearn/neural_network/_multilayer_perceptron.py:571: ConvergenceWarning: Stochastic Optimizer: Maximum iterations (100) reached and the optimization hasn't converged yet.\n",
            "  % self.max_iter, ConvergenceWarning)\n"
          ]
        },
        {
          "output_type": "stream",
          "name": "stdout",
          "text": [
            "VotingClassifier 0.5874233128834356\n",
            "\n",
            "\n"
          ]
        },
        {
          "output_type": "stream",
          "name": "stderr",
          "text": [
            "/usr/local/lib/python3.7/dist-packages/sklearn/neural_network/_multilayer_perceptron.py:571: ConvergenceWarning: Stochastic Optimizer: Maximum iterations (100) reached and the optimization hasn't converged yet.\n",
            "  % self.max_iter, ConvergenceWarning)\n"
          ]
        },
        {
          "output_type": "stream",
          "name": "stdout",
          "text": [
            "Fold Number: 3\n",
            "====================\n",
            "LogisticRegression 0.6298003072196621\n",
            "SVC 0.6282642089093702\n",
            "KNeighborsClassifier 0.6175115207373272\n",
            "DecisionTreeClassifier 0.5852534562211982\n"
          ]
        },
        {
          "output_type": "stream",
          "name": "stderr",
          "text": [
            "/usr/local/lib/python3.7/dist-packages/sklearn/neural_network/_multilayer_perceptron.py:571: ConvergenceWarning: Stochastic Optimizer: Maximum iterations (100) reached and the optimization hasn't converged yet.\n",
            "  % self.max_iter, ConvergenceWarning)\n"
          ]
        },
        {
          "output_type": "stream",
          "name": "stdout",
          "text": [
            "MLPClassifier 0.642089093701997\n",
            "MultinomialNB 0.6098310291858678\n"
          ]
        },
        {
          "output_type": "stream",
          "name": "stderr",
          "text": [
            "/usr/local/lib/python3.7/dist-packages/sklearn/neural_network/_multilayer_perceptron.py:571: ConvergenceWarning: Stochastic Optimizer: Maximum iterations (100) reached and the optimization hasn't converged yet.\n",
            "  % self.max_iter, ConvergenceWarning)\n"
          ]
        },
        {
          "output_type": "stream",
          "name": "stdout",
          "text": [
            "VotingClassifier 0.6282642089093702\n",
            "\n",
            "\n"
          ]
        },
        {
          "output_type": "stream",
          "name": "stderr",
          "text": [
            "/usr/local/lib/python3.7/dist-packages/sklearn/neural_network/_multilayer_perceptron.py:571: ConvergenceWarning: Stochastic Optimizer: Maximum iterations (100) reached and the optimization hasn't converged yet.\n",
            "  % self.max_iter, ConvergenceWarning)\n"
          ]
        },
        {
          "output_type": "stream",
          "name": "stdout",
          "text": [
            "Fold Number: 4\n",
            "====================\n",
            "LogisticRegression 0.4700460829493088\n",
            "SVC 0.46697388632872505\n",
            "KNeighborsClassifier 0.4715821812596006\n",
            "DecisionTreeClassifier 0.4470046082949309\n"
          ]
        },
        {
          "output_type": "stream",
          "name": "stderr",
          "text": [
            "/usr/local/lib/python3.7/dist-packages/sklearn/neural_network/_multilayer_perceptron.py:571: ConvergenceWarning: Stochastic Optimizer: Maximum iterations (100) reached and the optimization hasn't converged yet.\n",
            "  % self.max_iter, ConvergenceWarning)\n"
          ]
        },
        {
          "output_type": "stream",
          "name": "stdout",
          "text": [
            "MLPClassifier 0.45622119815668205\n",
            "MultinomialNB 0.4976958525345622\n",
            "VotingClassifier 0.4731182795698925\n",
            "\n",
            "\n",
            "Acurracy Promedio: \n",
            "====================\n",
            "0.6153689934315305\n"
          ]
        },
        {
          "output_type": "stream",
          "name": "stderr",
          "text": [
            "/usr/local/lib/python3.7/dist-packages/sklearn/neural_network/_multilayer_perceptron.py:571: ConvergenceWarning: Stochastic Optimizer: Maximum iterations (100) reached and the optimization hasn't converged yet.\n",
            "  % self.max_iter, ConvergenceWarning)\n"
          ]
        }
      ]
    },
    {
      "cell_type": "markdown",
      "metadata": {
        "id": "pSqKJA3w3Ruf"
      },
      "source": [
        "### Ensemble por Bagging"
      ]
    },
    {
      "cell_type": "markdown",
      "metadata": {
        "id": "Yi7cO5_C3mUQ"
      },
      "source": [
        "####Aplicando en KNN con TF - IDF"
      ]
    },
    {
      "cell_type": "code",
      "metadata": {
        "colab": {
          "base_uri": "https://localhost:8080/"
        },
        "id": "r5xBvDqm3p8d",
        "outputId": "bc7d7a72-c52a-45ca-c78c-37ed5c854d0a"
      },
      "source": [
        "y_test, y_pred = applied_model(dataIG_03, Target, \"ensemble_b_knn\", use_bag_of_words = False)"
      ],
      "execution_count": 72,
      "outputs": [
        {
          "output_type": "stream",
          "name": "stdout",
          "text": [
            "Accuracy promedio\n",
            "=====================\n",
            "0.4729957686617097\n"
          ]
        }
      ]
    },
    {
      "cell_type": "code",
      "metadata": {
        "colab": {
          "base_uri": "https://localhost:8080/"
        },
        "id": "KmQScXh699aC",
        "outputId": "d92388c2-78c9-4a5a-8123-7a6aee78719b"
      },
      "source": [
        "show_metric(y_test, y_pred)"
      ],
      "execution_count": 73,
      "outputs": [
        {
          "output_type": "stream",
          "name": "stdout",
          "text": [
            "Métricas:\n",
            "============\n",
            "              precision    recall  f1-score   support\n",
            "\n",
            "    Negativo       0.69      0.19      0.29       145\n",
            "      Neutro       0.66      0.08      0.15       228\n",
            "    Positivo       0.45      0.94      0.60       278\n",
            "\n",
            "    accuracy                           0.47       651\n",
            "   macro avg       0.60      0.40      0.35       651\n",
            "weighted avg       0.57      0.47      0.38       651\n",
            "\n",
            "\n",
            "Matríz de confusión:\n",
            "========================\n",
            "Predicho  Negativo  Neutro  Positivo\n",
            "Real                                \n",
            "Negativo        27       1       117\n",
            "Neutro           3      19       206\n",
            "Positivo         9       9       260\n"
          ]
        }
      ]
    },
    {
      "cell_type": "markdown",
      "metadata": {
        "id": "Wq8j2RboBcok"
      },
      "source": [
        "####Aplicando en KNN con Bag of words"
      ]
    },
    {
      "cell_type": "code",
      "metadata": {
        "id": "fCo54TIrB3NN",
        "colab": {
          "base_uri": "https://localhost:8080/"
        },
        "outputId": "a5305d57-60c4-4f5d-c2e6-2ab10198a33f"
      },
      "source": [
        "y_test, y_pred = applied_model(dataIG_03, Target, \"ensemble_b_knn\", use_bag_of_words = True)"
      ],
      "execution_count": 74,
      "outputs": [
        {
          "output_type": "stream",
          "name": "stdout",
          "text": [
            "Accuracy promedio\n",
            "=====================\n",
            "0.5104355733981698\n"
          ]
        }
      ]
    },
    {
      "cell_type": "code",
      "metadata": {
        "id": "jeqG9cU5B5nU",
        "colab": {
          "base_uri": "https://localhost:8080/"
        },
        "outputId": "984254b0-8996-4db9-bee7-32b7f034982c"
      },
      "source": [
        "show_metric(y_test, y_pred)"
      ],
      "execution_count": 75,
      "outputs": [
        {
          "output_type": "stream",
          "name": "stdout",
          "text": [
            "Métricas:\n",
            "============\n",
            "              precision    recall  f1-score   support\n",
            "\n",
            "    Negativo       0.71      0.26      0.38       145\n",
            "      Neutro       0.44      0.08      0.14       228\n",
            "    Positivo       0.45      0.91      0.60       278\n",
            "\n",
            "    accuracy                           0.47       651\n",
            "   macro avg       0.54      0.41      0.37       651\n",
            "weighted avg       0.51      0.47      0.39       651\n",
            "\n",
            "\n",
            "Matríz de confusión:\n",
            "========================\n",
            "Predicho  Negativo  Neutro  Positivo\n",
            "Real                                \n",
            "Negativo        37       6       102\n",
            "Neutro           7      19       202\n",
            "Positivo         8      18       252\n"
          ]
        }
      ]
    },
    {
      "cell_type": "markdown",
      "metadata": {
        "id": "byyfa9Rj-Pkh"
      },
      "source": [
        "####Aplicando en R. Logistica con TF - IDF"
      ]
    },
    {
      "cell_type": "code",
      "metadata": {
        "id": "sTuqcEbf-SVQ",
        "colab": {
          "base_uri": "https://localhost:8080/"
        },
        "outputId": "67d92ecc-4d64-4c1d-9424-d6bd5ccf320b"
      },
      "source": [
        "y_test, y_pred = applied_model(dataIG_03, Target, \"ensemble_b_log\", use_bag_of_words = False)"
      ],
      "execution_count": 76,
      "outputs": [
        {
          "output_type": "stream",
          "name": "stdout",
          "text": [
            "Accuracy promedio\n",
            "=====================\n",
            "0.6181363263690594\n"
          ]
        }
      ]
    },
    {
      "cell_type": "code",
      "metadata": {
        "colab": {
          "base_uri": "https://localhost:8080/"
        },
        "id": "9xvDh1zG_Gq8",
        "outputId": "db72514d-676e-4949-e641-e9f7acb55fa3"
      },
      "source": [
        "show_metric(y_test, y_pred)"
      ],
      "execution_count": 77,
      "outputs": [
        {
          "output_type": "stream",
          "name": "stdout",
          "text": [
            "Métricas:\n",
            "============\n",
            "              precision    recall  f1-score   support\n",
            "\n",
            "    Negativo       0.63      0.38      0.47       145\n",
            "      Neutro       0.59      0.07      0.13       228\n",
            "    Positivo       0.47      0.90      0.62       278\n",
            "\n",
            "    accuracy                           0.50       651\n",
            "   macro avg       0.56      0.45      0.41       651\n",
            "weighted avg       0.55      0.50      0.42       651\n",
            "\n",
            "\n",
            "Matríz de confusión:\n",
            "========================\n",
            "Predicho  Negativo  Neutro  Positivo\n",
            "Real                                \n",
            "Negativo        55       6        84\n",
            "Neutro          11      17       200\n",
            "Positivo        21       6       251\n"
          ]
        }
      ]
    },
    {
      "cell_type": "markdown",
      "metadata": {
        "id": "UfAHhS5sCCij"
      },
      "source": [
        "####Aplicando en R. Logistica con Bag of words"
      ]
    },
    {
      "cell_type": "code",
      "metadata": {
        "id": "CoVWbCFgCFgT",
        "colab": {
          "base_uri": "https://localhost:8080/"
        },
        "outputId": "b9d8e363-07c5-4427-8a91-e8a85c300379"
      },
      "source": [
        "y_test, y_pred = applied_model(dataIG_03, Target, \"ensemble_b_log\", use_bag_of_words = True)"
      ],
      "execution_count": 78,
      "outputs": [
        {
          "output_type": "stream",
          "name": "stdout",
          "text": [
            "Accuracy promedio\n",
            "=====================\n",
            "0.6126082572352115\n"
          ]
        }
      ]
    },
    {
      "cell_type": "code",
      "metadata": {
        "id": "C3kJXaCtCG9k",
        "colab": {
          "base_uri": "https://localhost:8080/"
        },
        "outputId": "0f3a66f0-5aee-4d8f-f94c-d203572cccd1"
      },
      "source": [
        "show_metric(y_test, y_pred)"
      ],
      "execution_count": 79,
      "outputs": [
        {
          "output_type": "stream",
          "name": "stdout",
          "text": [
            "Métricas:\n",
            "============\n",
            "              precision    recall  f1-score   support\n",
            "\n",
            "    Negativo       0.58      0.32      0.42       145\n",
            "      Neutro       0.43      0.09      0.15       228\n",
            "    Positivo       0.46      0.87      0.61       278\n",
            "\n",
            "    accuracy                           0.48       651\n",
            "   macro avg       0.49      0.43      0.39       651\n",
            "weighted avg       0.48      0.48      0.40       651\n",
            "\n",
            "\n",
            "Matríz de confusión:\n",
            "========================\n",
            "Predicho  Negativo  Neutro  Positivo\n",
            "Real                                \n",
            "Negativo        47      14        84\n",
            "Neutro          11      20       197\n",
            "Positivo        23      12       243\n"
          ]
        }
      ]
    },
    {
      "cell_type": "markdown",
      "metadata": {
        "id": "AbvLI_CAEjAC"
      },
      "source": [
        "####Aplicando en SVM con Bag of words"
      ]
    },
    {
      "cell_type": "code",
      "metadata": {
        "id": "4Ek8x71RE7od",
        "colab": {
          "base_uri": "https://localhost:8080/"
        },
        "outputId": "7c80ca85-38cc-45d1-c2b1-02ed668a1909"
      },
      "source": [
        "y_test, y_pred = applied_model(dataIG_03, Target, \"ensemble_b_svm\", use_bag_of_words = True)"
      ],
      "execution_count": 80,
      "outputs": [
        {
          "output_type": "stream",
          "name": "stdout",
          "text": [
            "Accuracy promedio\n",
            "=====================\n",
            "0.5902137344151989\n"
          ]
        }
      ]
    },
    {
      "cell_type": "code",
      "metadata": {
        "id": "0t74o7UFE_KF",
        "colab": {
          "base_uri": "https://localhost:8080/"
        },
        "outputId": "8cd31539-27a3-4c05-849a-f9fcfa13de6a"
      },
      "source": [
        "show_metric(y_test, y_pred)"
      ],
      "execution_count": 81,
      "outputs": [
        {
          "output_type": "stream",
          "name": "stdout",
          "text": [
            "Métricas:\n",
            "============\n",
            "              precision    recall  f1-score   support\n",
            "\n",
            "    Negativo       0.51      0.41      0.46       145\n",
            "      Neutro       0.59      0.06      0.10       228\n",
            "    Positivo       0.45      0.83      0.58       278\n",
            "\n",
            "    accuracy                           0.47       651\n",
            "   macro avg       0.52      0.43      0.38       651\n",
            "weighted avg       0.51      0.47      0.39       651\n",
            "\n",
            "\n",
            "Matríz de confusión:\n",
            "========================\n",
            "Predicho  Negativo  Neutro  Positivo\n",
            "Real                                \n",
            "Negativo        60       4        81\n",
            "Neutro          15      13       200\n",
            "Positivo        43       5       230\n"
          ]
        }
      ]
    },
    {
      "cell_type": "markdown",
      "metadata": {
        "id": "STYx6GU_EoSe"
      },
      "source": [
        "####Aplicando en SVM con TF - IDF"
      ]
    },
    {
      "cell_type": "code",
      "metadata": {
        "id": "W2W24fB-FAXh",
        "colab": {
          "base_uri": "https://localhost:8080/"
        },
        "outputId": "6a9b4e67-5c4b-4a5a-fe6d-ba72dd0527da"
      },
      "source": [
        "y_test, y_pred = applied_model(dataIG_03, Target, \"ensemble_b_svm\", use_bag_of_words = False)"
      ],
      "execution_count": 82,
      "outputs": [
        {
          "output_type": "stream",
          "name": "stdout",
          "text": [
            "Accuracy promedio\n",
            "=====================\n",
            "0.6037342267205715\n"
          ]
        }
      ]
    },
    {
      "cell_type": "code",
      "metadata": {
        "id": "GUa-YZ_9FBEz",
        "colab": {
          "base_uri": "https://localhost:8080/"
        },
        "outputId": "78830c30-8956-4871-cb07-5468bf90f6ed"
      },
      "source": [
        "show_metric(y_test, y_pred)"
      ],
      "execution_count": 83,
      "outputs": [
        {
          "output_type": "stream",
          "name": "stdout",
          "text": [
            "Métricas:\n",
            "============\n",
            "              precision    recall  f1-score   support\n",
            "\n",
            "    Negativo       0.66      0.48      0.56       145\n",
            "      Neutro       0.85      0.07      0.14       228\n",
            "    Positivo       0.48      0.91      0.63       278\n",
            "\n",
            "    accuracy                           0.52       651\n",
            "   macro avg       0.66      0.49      0.44       651\n",
            "weighted avg       0.65      0.52      0.44       651\n",
            "\n",
            "\n",
            "Matríz de confusión:\n",
            "========================\n",
            "Predicho  Negativo  Neutro  Positivo\n",
            "Real                                \n",
            "Negativo        70       1        74\n",
            "Neutro          13      17       198\n",
            "Positivo        23       2       253\n"
          ]
        }
      ]
    },
    {
      "cell_type": "markdown",
      "metadata": {
        "id": "Wvah85uHErTz"
      },
      "source": [
        "####Aplicando en Árboles con Bag of words"
      ]
    },
    {
      "cell_type": "code",
      "metadata": {
        "id": "6o1ZnvtjFCz7",
        "colab": {
          "base_uri": "https://localhost:8080/"
        },
        "outputId": "c66e4bed-e456-48c0-8160-82b0dcce7dae"
      },
      "source": [
        "y_test, y_pred = applied_model(dataIG_03, Target, \"ensemble_b_tree\", use_bag_of_words = True)"
      ],
      "execution_count": 84,
      "outputs": [
        {
          "output_type": "stream",
          "name": "stdout",
          "text": [
            "Accuracy promedio\n",
            "=====================\n",
            "0.5791646640845137\n"
          ]
        }
      ]
    },
    {
      "cell_type": "code",
      "metadata": {
        "id": "0wwOrqAjFFxO",
        "colab": {
          "base_uri": "https://localhost:8080/"
        },
        "outputId": "25d080b8-66c7-4040-db48-b676bcc23d4a"
      },
      "source": [
        "show_metric(y_test, y_pred)"
      ],
      "execution_count": 85,
      "outputs": [
        {
          "output_type": "stream",
          "name": "stdout",
          "text": [
            "Métricas:\n",
            "============\n",
            "              precision    recall  f1-score   support\n",
            "\n",
            "    Negativo       0.52      0.39      0.44       145\n",
            "      Neutro       0.40      0.10      0.16       228\n",
            "    Positivo       0.46      0.80      0.58       278\n",
            "\n",
            "    accuracy                           0.46       651\n",
            "   macro avg       0.46      0.43      0.40       651\n",
            "weighted avg       0.45      0.46      0.40       651\n",
            "\n",
            "\n",
            "Matríz de confusión:\n",
            "========================\n",
            "Predicho  Negativo  Neutro  Positivo\n",
            "Real                                \n",
            "Negativo        56      14        75\n",
            "Neutro          17      23       188\n",
            "Positivo        35      21       222\n"
          ]
        }
      ]
    },
    {
      "cell_type": "markdown",
      "metadata": {
        "id": "Cc_ga53LEu5Q"
      },
      "source": [
        "####Aplicando en Árboles con TF - IDF"
      ]
    },
    {
      "cell_type": "code",
      "metadata": {
        "id": "yN80XFuhFGm8",
        "colab": {
          "base_uri": "https://localhost:8080/"
        },
        "outputId": "fa0aa375-83f0-4ec5-be63-08c2f790c491"
      },
      "source": [
        "y_test, y_pred = applied_model(dataIG_03, Target, \"ensemble_b_tree\", use_bag_of_words = False)"
      ],
      "execution_count": 86,
      "outputs": [
        {
          "output_type": "stream",
          "name": "stdout",
          "text": [
            "Accuracy promedio\n",
            "=====================\n",
            "0.5920542252127449\n"
          ]
        }
      ]
    },
    {
      "cell_type": "code",
      "metadata": {
        "id": "I-6Guh4sFHxk",
        "colab": {
          "base_uri": "https://localhost:8080/"
        },
        "outputId": "5c6bf623-c811-4c8e-8dd0-027ee98338db"
      },
      "source": [
        "show_metric(y_test, y_pred)"
      ],
      "execution_count": 87,
      "outputs": [
        {
          "output_type": "stream",
          "name": "stdout",
          "text": [
            "Métricas:\n",
            "============\n",
            "              precision    recall  f1-score   support\n",
            "\n",
            "    Negativo       0.52      0.42      0.46       145\n",
            "      Neutro       0.52      0.11      0.19       228\n",
            "    Positivo       0.47      0.82      0.60       278\n",
            "\n",
            "    accuracy                           0.48       651\n",
            "   macro avg       0.50      0.45      0.42       651\n",
            "weighted avg       0.50      0.48      0.42       651\n",
            "\n",
            "\n",
            "Matríz de confusión:\n",
            "========================\n",
            "Predicho  Negativo  Neutro  Positivo\n",
            "Real                                \n",
            "Negativo        61      11        73\n",
            "Neutro          20      26       182\n",
            "Positivo        37      13       228\n"
          ]
        }
      ]
    },
    {
      "cell_type": "markdown",
      "metadata": {
        "id": "NQaC9ab5ExXk"
      },
      "source": [
        "####Aplicando en MLP con Bag of words"
      ]
    },
    {
      "cell_type": "code",
      "metadata": {
        "id": "Ru9OjfEJFOaY",
        "colab": {
          "base_uri": "https://localhost:8080/"
        },
        "outputId": "6ec91ed3-3b75-4503-d65f-3a325a269732"
      },
      "source": [
        "y_test, y_pred = applied_model(dataIG_03, Target, \"ensemble_b_mlp\", use_bag_of_words = True)"
      ],
      "execution_count": null,
      "outputs": [
        {
          "output_type": "stream",
          "name": "stderr",
          "text": [
            "/usr/local/lib/python3.7/dist-packages/sklearn/neural_network/_multilayer_perceptron.py:571: ConvergenceWarning: Stochastic Optimizer: Maximum iterations (100) reached and the optimization hasn't converged yet.\n",
            "  % self.max_iter, ConvergenceWarning)\n",
            "/usr/local/lib/python3.7/dist-packages/sklearn/neural_network/_multilayer_perceptron.py:571: ConvergenceWarning: Stochastic Optimizer: Maximum iterations (100) reached and the optimization hasn't converged yet.\n",
            "  % self.max_iter, ConvergenceWarning)\n",
            "/usr/local/lib/python3.7/dist-packages/sklearn/neural_network/_multilayer_perceptron.py:571: ConvergenceWarning: Stochastic Optimizer: Maximum iterations (100) reached and the optimization hasn't converged yet.\n",
            "  % self.max_iter, ConvergenceWarning)\n",
            "/usr/local/lib/python3.7/dist-packages/sklearn/neural_network/_multilayer_perceptron.py:571: ConvergenceWarning: Stochastic Optimizer: Maximum iterations (100) reached and the optimization hasn't converged yet.\n",
            "  % self.max_iter, ConvergenceWarning)\n",
            "/usr/local/lib/python3.7/dist-packages/sklearn/neural_network/_multilayer_perceptron.py:571: ConvergenceWarning: Stochastic Optimizer: Maximum iterations (100) reached and the optimization hasn't converged yet.\n",
            "  % self.max_iter, ConvergenceWarning)\n",
            "/usr/local/lib/python3.7/dist-packages/sklearn/neural_network/_multilayer_perceptron.py:571: ConvergenceWarning: Stochastic Optimizer: Maximum iterations (100) reached and the optimization hasn't converged yet.\n",
            "  % self.max_iter, ConvergenceWarning)\n",
            "/usr/local/lib/python3.7/dist-packages/sklearn/neural_network/_multilayer_perceptron.py:571: ConvergenceWarning: Stochastic Optimizer: Maximum iterations (100) reached and the optimization hasn't converged yet.\n",
            "  % self.max_iter, ConvergenceWarning)\n",
            "/usr/local/lib/python3.7/dist-packages/sklearn/neural_network/_multilayer_perceptron.py:571: ConvergenceWarning: Stochastic Optimizer: Maximum iterations (100) reached and the optimization hasn't converged yet.\n",
            "  % self.max_iter, ConvergenceWarning)\n",
            "/usr/local/lib/python3.7/dist-packages/sklearn/neural_network/_multilayer_perceptron.py:571: ConvergenceWarning: Stochastic Optimizer: Maximum iterations (100) reached and the optimization hasn't converged yet.\n",
            "  % self.max_iter, ConvergenceWarning)\n",
            "/usr/local/lib/python3.7/dist-packages/sklearn/neural_network/_multilayer_perceptron.py:571: ConvergenceWarning: Stochastic Optimizer: Maximum iterations (100) reached and the optimization hasn't converged yet.\n",
            "  % self.max_iter, ConvergenceWarning)\n",
            "/usr/local/lib/python3.7/dist-packages/sklearn/neural_network/_multilayer_perceptron.py:571: ConvergenceWarning: Stochastic Optimizer: Maximum iterations (100) reached and the optimization hasn't converged yet.\n",
            "  % self.max_iter, ConvergenceWarning)\n",
            "/usr/local/lib/python3.7/dist-packages/sklearn/neural_network/_multilayer_perceptron.py:571: ConvergenceWarning: Stochastic Optimizer: Maximum iterations (100) reached and the optimization hasn't converged yet.\n",
            "  % self.max_iter, ConvergenceWarning)\n",
            "/usr/local/lib/python3.7/dist-packages/sklearn/neural_network/_multilayer_perceptron.py:571: ConvergenceWarning: Stochastic Optimizer: Maximum iterations (100) reached and the optimization hasn't converged yet.\n",
            "  % self.max_iter, ConvergenceWarning)\n",
            "/usr/local/lib/python3.7/dist-packages/sklearn/neural_network/_multilayer_perceptron.py:571: ConvergenceWarning: Stochastic Optimizer: Maximum iterations (100) reached and the optimization hasn't converged yet.\n",
            "  % self.max_iter, ConvergenceWarning)\n",
            "/usr/local/lib/python3.7/dist-packages/sklearn/neural_network/_multilayer_perceptron.py:571: ConvergenceWarning: Stochastic Optimizer: Maximum iterations (100) reached and the optimization hasn't converged yet.\n",
            "  % self.max_iter, ConvergenceWarning)\n",
            "/usr/local/lib/python3.7/dist-packages/sklearn/neural_network/_multilayer_perceptron.py:571: ConvergenceWarning: Stochastic Optimizer: Maximum iterations (100) reached and the optimization hasn't converged yet.\n",
            "  % self.max_iter, ConvergenceWarning)\n",
            "/usr/local/lib/python3.7/dist-packages/sklearn/neural_network/_multilayer_perceptron.py:571: ConvergenceWarning: Stochastic Optimizer: Maximum iterations (100) reached and the optimization hasn't converged yet.\n",
            "  % self.max_iter, ConvergenceWarning)\n",
            "/usr/local/lib/python3.7/dist-packages/sklearn/neural_network/_multilayer_perceptron.py:571: ConvergenceWarning: Stochastic Optimizer: Maximum iterations (100) reached and the optimization hasn't converged yet.\n",
            "  % self.max_iter, ConvergenceWarning)\n",
            "/usr/local/lib/python3.7/dist-packages/sklearn/neural_network/_multilayer_perceptron.py:571: ConvergenceWarning: Stochastic Optimizer: Maximum iterations (100) reached and the optimization hasn't converged yet.\n",
            "  % self.max_iter, ConvergenceWarning)\n",
            "/usr/local/lib/python3.7/dist-packages/sklearn/neural_network/_multilayer_perceptron.py:571: ConvergenceWarning: Stochastic Optimizer: Maximum iterations (100) reached and the optimization hasn't converged yet.\n",
            "  % self.max_iter, ConvergenceWarning)\n",
            "/usr/local/lib/python3.7/dist-packages/sklearn/neural_network/_multilayer_perceptron.py:571: ConvergenceWarning: Stochastic Optimizer: Maximum iterations (100) reached and the optimization hasn't converged yet.\n",
            "  % self.max_iter, ConvergenceWarning)\n",
            "/usr/local/lib/python3.7/dist-packages/sklearn/neural_network/_multilayer_perceptron.py:571: ConvergenceWarning: Stochastic Optimizer: Maximum iterations (100) reached and the optimization hasn't converged yet.\n",
            "  % self.max_iter, ConvergenceWarning)\n",
            "/usr/local/lib/python3.7/dist-packages/sklearn/neural_network/_multilayer_perceptron.py:571: ConvergenceWarning: Stochastic Optimizer: Maximum iterations (100) reached and the optimization hasn't converged yet.\n",
            "  % self.max_iter, ConvergenceWarning)\n",
            "/usr/local/lib/python3.7/dist-packages/sklearn/neural_network/_multilayer_perceptron.py:571: ConvergenceWarning: Stochastic Optimizer: Maximum iterations (100) reached and the optimization hasn't converged yet.\n",
            "  % self.max_iter, ConvergenceWarning)\n",
            "/usr/local/lib/python3.7/dist-packages/sklearn/neural_network/_multilayer_perceptron.py:571: ConvergenceWarning: Stochastic Optimizer: Maximum iterations (100) reached and the optimization hasn't converged yet.\n",
            "  % self.max_iter, ConvergenceWarning)\n",
            "/usr/local/lib/python3.7/dist-packages/sklearn/neural_network/_multilayer_perceptron.py:571: ConvergenceWarning: Stochastic Optimizer: Maximum iterations (100) reached and the optimization hasn't converged yet.\n",
            "  % self.max_iter, ConvergenceWarning)\n",
            "/usr/local/lib/python3.7/dist-packages/sklearn/neural_network/_multilayer_perceptron.py:571: ConvergenceWarning: Stochastic Optimizer: Maximum iterations (100) reached and the optimization hasn't converged yet.\n",
            "  % self.max_iter, ConvergenceWarning)\n",
            "/usr/local/lib/python3.7/dist-packages/sklearn/neural_network/_multilayer_perceptron.py:571: ConvergenceWarning: Stochastic Optimizer: Maximum iterations (100) reached and the optimization hasn't converged yet.\n",
            "  % self.max_iter, ConvergenceWarning)\n",
            "/usr/local/lib/python3.7/dist-packages/sklearn/neural_network/_multilayer_perceptron.py:571: ConvergenceWarning: Stochastic Optimizer: Maximum iterations (100) reached and the optimization hasn't converged yet.\n",
            "  % self.max_iter, ConvergenceWarning)\n",
            "/usr/local/lib/python3.7/dist-packages/sklearn/neural_network/_multilayer_perceptron.py:571: ConvergenceWarning: Stochastic Optimizer: Maximum iterations (100) reached and the optimization hasn't converged yet.\n",
            "  % self.max_iter, ConvergenceWarning)\n",
            "/usr/local/lib/python3.7/dist-packages/sklearn/neural_network/_multilayer_perceptron.py:571: ConvergenceWarning: Stochastic Optimizer: Maximum iterations (100) reached and the optimization hasn't converged yet.\n",
            "  % self.max_iter, ConvergenceWarning)\n",
            "/usr/local/lib/python3.7/dist-packages/sklearn/neural_network/_multilayer_perceptron.py:571: ConvergenceWarning: Stochastic Optimizer: Maximum iterations (100) reached and the optimization hasn't converged yet.\n",
            "  % self.max_iter, ConvergenceWarning)\n",
            "/usr/local/lib/python3.7/dist-packages/sklearn/neural_network/_multilayer_perceptron.py:571: ConvergenceWarning: Stochastic Optimizer: Maximum iterations (100) reached and the optimization hasn't converged yet.\n",
            "  % self.max_iter, ConvergenceWarning)\n",
            "/usr/local/lib/python3.7/dist-packages/sklearn/neural_network/_multilayer_perceptron.py:571: ConvergenceWarning: Stochastic Optimizer: Maximum iterations (100) reached and the optimization hasn't converged yet.\n",
            "  % self.max_iter, ConvergenceWarning)\n",
            "/usr/local/lib/python3.7/dist-packages/sklearn/neural_network/_multilayer_perceptron.py:571: ConvergenceWarning: Stochastic Optimizer: Maximum iterations (100) reached and the optimization hasn't converged yet.\n",
            "  % self.max_iter, ConvergenceWarning)\n",
            "/usr/local/lib/python3.7/dist-packages/sklearn/neural_network/_multilayer_perceptron.py:571: ConvergenceWarning: Stochastic Optimizer: Maximum iterations (100) reached and the optimization hasn't converged yet.\n",
            "  % self.max_iter, ConvergenceWarning)\n",
            "/usr/local/lib/python3.7/dist-packages/sklearn/neural_network/_multilayer_perceptron.py:571: ConvergenceWarning: Stochastic Optimizer: Maximum iterations (100) reached and the optimization hasn't converged yet.\n",
            "  % self.max_iter, ConvergenceWarning)\n",
            "/usr/local/lib/python3.7/dist-packages/sklearn/neural_network/_multilayer_perceptron.py:571: ConvergenceWarning: Stochastic Optimizer: Maximum iterations (100) reached and the optimization hasn't converged yet.\n",
            "  % self.max_iter, ConvergenceWarning)\n",
            "/usr/local/lib/python3.7/dist-packages/sklearn/neural_network/_multilayer_perceptron.py:571: ConvergenceWarning: Stochastic Optimizer: Maximum iterations (100) reached and the optimization hasn't converged yet.\n",
            "  % self.max_iter, ConvergenceWarning)\n",
            "/usr/local/lib/python3.7/dist-packages/sklearn/neural_network/_multilayer_perceptron.py:571: ConvergenceWarning: Stochastic Optimizer: Maximum iterations (100) reached and the optimization hasn't converged yet.\n",
            "  % self.max_iter, ConvergenceWarning)\n",
            "/usr/local/lib/python3.7/dist-packages/sklearn/neural_network/_multilayer_perceptron.py:571: ConvergenceWarning: Stochastic Optimizer: Maximum iterations (100) reached and the optimization hasn't converged yet.\n",
            "  % self.max_iter, ConvergenceWarning)\n",
            "/usr/local/lib/python3.7/dist-packages/sklearn/neural_network/_multilayer_perceptron.py:571: ConvergenceWarning: Stochastic Optimizer: Maximum iterations (100) reached and the optimization hasn't converged yet.\n",
            "  % self.max_iter, ConvergenceWarning)\n",
            "/usr/local/lib/python3.7/dist-packages/sklearn/neural_network/_multilayer_perceptron.py:571: ConvergenceWarning: Stochastic Optimizer: Maximum iterations (100) reached and the optimization hasn't converged yet.\n",
            "  % self.max_iter, ConvergenceWarning)\n",
            "/usr/local/lib/python3.7/dist-packages/sklearn/neural_network/_multilayer_perceptron.py:571: ConvergenceWarning: Stochastic Optimizer: Maximum iterations (100) reached and the optimization hasn't converged yet.\n",
            "  % self.max_iter, ConvergenceWarning)\n",
            "/usr/local/lib/python3.7/dist-packages/sklearn/neural_network/_multilayer_perceptron.py:571: ConvergenceWarning: Stochastic Optimizer: Maximum iterations (100) reached and the optimization hasn't converged yet.\n",
            "  % self.max_iter, ConvergenceWarning)\n",
            "/usr/local/lib/python3.7/dist-packages/sklearn/neural_network/_multilayer_perceptron.py:571: ConvergenceWarning: Stochastic Optimizer: Maximum iterations (100) reached and the optimization hasn't converged yet.\n",
            "  % self.max_iter, ConvergenceWarning)\n",
            "/usr/local/lib/python3.7/dist-packages/sklearn/neural_network/_multilayer_perceptron.py:571: ConvergenceWarning: Stochastic Optimizer: Maximum iterations (100) reached and the optimization hasn't converged yet.\n",
            "  % self.max_iter, ConvergenceWarning)\n",
            "/usr/local/lib/python3.7/dist-packages/sklearn/neural_network/_multilayer_perceptron.py:571: ConvergenceWarning: Stochastic Optimizer: Maximum iterations (100) reached and the optimization hasn't converged yet.\n",
            "  % self.max_iter, ConvergenceWarning)\n",
            "/usr/local/lib/python3.7/dist-packages/sklearn/neural_network/_multilayer_perceptron.py:571: ConvergenceWarning: Stochastic Optimizer: Maximum iterations (100) reached and the optimization hasn't converged yet.\n",
            "  % self.max_iter, ConvergenceWarning)\n",
            "/usr/local/lib/python3.7/dist-packages/sklearn/neural_network/_multilayer_perceptron.py:571: ConvergenceWarning: Stochastic Optimizer: Maximum iterations (100) reached and the optimization hasn't converged yet.\n",
            "  % self.max_iter, ConvergenceWarning)\n",
            "/usr/local/lib/python3.7/dist-packages/sklearn/neural_network/_multilayer_perceptron.py:571: ConvergenceWarning: Stochastic Optimizer: Maximum iterations (100) reached and the optimization hasn't converged yet.\n",
            "  % self.max_iter, ConvergenceWarning)\n",
            "/usr/local/lib/python3.7/dist-packages/sklearn/neural_network/_multilayer_perceptron.py:571: ConvergenceWarning: Stochastic Optimizer: Maximum iterations (100) reached and the optimization hasn't converged yet.\n",
            "  % self.max_iter, ConvergenceWarning)\n",
            "/usr/local/lib/python3.7/dist-packages/sklearn/neural_network/_multilayer_perceptron.py:571: ConvergenceWarning: Stochastic Optimizer: Maximum iterations (100) reached and the optimization hasn't converged yet.\n",
            "  % self.max_iter, ConvergenceWarning)\n",
            "/usr/local/lib/python3.7/dist-packages/sklearn/neural_network/_multilayer_perceptron.py:571: ConvergenceWarning: Stochastic Optimizer: Maximum iterations (100) reached and the optimization hasn't converged yet.\n",
            "  % self.max_iter, ConvergenceWarning)\n",
            "/usr/local/lib/python3.7/dist-packages/sklearn/neural_network/_multilayer_perceptron.py:571: ConvergenceWarning: Stochastic Optimizer: Maximum iterations (100) reached and the optimization hasn't converged yet.\n",
            "  % self.max_iter, ConvergenceWarning)\n",
            "/usr/local/lib/python3.7/dist-packages/sklearn/neural_network/_multilayer_perceptron.py:571: ConvergenceWarning: Stochastic Optimizer: Maximum iterations (100) reached and the optimization hasn't converged yet.\n",
            "  % self.max_iter, ConvergenceWarning)\n",
            "/usr/local/lib/python3.7/dist-packages/sklearn/neural_network/_multilayer_perceptron.py:571: ConvergenceWarning: Stochastic Optimizer: Maximum iterations (100) reached and the optimization hasn't converged yet.\n",
            "  % self.max_iter, ConvergenceWarning)\n",
            "/usr/local/lib/python3.7/dist-packages/sklearn/neural_network/_multilayer_perceptron.py:571: ConvergenceWarning: Stochastic Optimizer: Maximum iterations (100) reached and the optimization hasn't converged yet.\n",
            "  % self.max_iter, ConvergenceWarning)\n",
            "/usr/local/lib/python3.7/dist-packages/sklearn/neural_network/_multilayer_perceptron.py:571: ConvergenceWarning: Stochastic Optimizer: Maximum iterations (100) reached and the optimization hasn't converged yet.\n",
            "  % self.max_iter, ConvergenceWarning)\n",
            "/usr/local/lib/python3.7/dist-packages/sklearn/neural_network/_multilayer_perceptron.py:571: ConvergenceWarning: Stochastic Optimizer: Maximum iterations (100) reached and the optimization hasn't converged yet.\n",
            "  % self.max_iter, ConvergenceWarning)\n",
            "/usr/local/lib/python3.7/dist-packages/sklearn/neural_network/_multilayer_perceptron.py:571: ConvergenceWarning: Stochastic Optimizer: Maximum iterations (100) reached and the optimization hasn't converged yet.\n",
            "  % self.max_iter, ConvergenceWarning)\n",
            "/usr/local/lib/python3.7/dist-packages/sklearn/neural_network/_multilayer_perceptron.py:571: ConvergenceWarning: Stochastic Optimizer: Maximum iterations (100) reached and the optimization hasn't converged yet.\n",
            "  % self.max_iter, ConvergenceWarning)\n",
            "/usr/local/lib/python3.7/dist-packages/sklearn/neural_network/_multilayer_perceptron.py:571: ConvergenceWarning: Stochastic Optimizer: Maximum iterations (100) reached and the optimization hasn't converged yet.\n",
            "  % self.max_iter, ConvergenceWarning)\n",
            "/usr/local/lib/python3.7/dist-packages/sklearn/neural_network/_multilayer_perceptron.py:571: ConvergenceWarning: Stochastic Optimizer: Maximum iterations (100) reached and the optimization hasn't converged yet.\n",
            "  % self.max_iter, ConvergenceWarning)\n",
            "/usr/local/lib/python3.7/dist-packages/sklearn/neural_network/_multilayer_perceptron.py:571: ConvergenceWarning: Stochastic Optimizer: Maximum iterations (100) reached and the optimization hasn't converged yet.\n",
            "  % self.max_iter, ConvergenceWarning)\n",
            "/usr/local/lib/python3.7/dist-packages/sklearn/neural_network/_multilayer_perceptron.py:571: ConvergenceWarning: Stochastic Optimizer: Maximum iterations (100) reached and the optimization hasn't converged yet.\n",
            "  % self.max_iter, ConvergenceWarning)\n",
            "/usr/local/lib/python3.7/dist-packages/sklearn/neural_network/_multilayer_perceptron.py:571: ConvergenceWarning: Stochastic Optimizer: Maximum iterations (100) reached and the optimization hasn't converged yet.\n",
            "  % self.max_iter, ConvergenceWarning)\n",
            "/usr/local/lib/python3.7/dist-packages/sklearn/neural_network/_multilayer_perceptron.py:571: ConvergenceWarning: Stochastic Optimizer: Maximum iterations (100) reached and the optimization hasn't converged yet.\n",
            "  % self.max_iter, ConvergenceWarning)\n",
            "/usr/local/lib/python3.7/dist-packages/sklearn/neural_network/_multilayer_perceptron.py:571: ConvergenceWarning: Stochastic Optimizer: Maximum iterations (100) reached and the optimization hasn't converged yet.\n",
            "  % self.max_iter, ConvergenceWarning)\n",
            "/usr/local/lib/python3.7/dist-packages/sklearn/neural_network/_multilayer_perceptron.py:571: ConvergenceWarning: Stochastic Optimizer: Maximum iterations (100) reached and the optimization hasn't converged yet.\n",
            "  % self.max_iter, ConvergenceWarning)\n",
            "/usr/local/lib/python3.7/dist-packages/sklearn/neural_network/_multilayer_perceptron.py:571: ConvergenceWarning: Stochastic Optimizer: Maximum iterations (100) reached and the optimization hasn't converged yet.\n",
            "  % self.max_iter, ConvergenceWarning)\n",
            "/usr/local/lib/python3.7/dist-packages/sklearn/neural_network/_multilayer_perceptron.py:571: ConvergenceWarning: Stochastic Optimizer: Maximum iterations (100) reached and the optimization hasn't converged yet.\n",
            "  % self.max_iter, ConvergenceWarning)\n",
            "/usr/local/lib/python3.7/dist-packages/sklearn/neural_network/_multilayer_perceptron.py:571: ConvergenceWarning: Stochastic Optimizer: Maximum iterations (100) reached and the optimization hasn't converged yet.\n",
            "  % self.max_iter, ConvergenceWarning)\n",
            "/usr/local/lib/python3.7/dist-packages/sklearn/neural_network/_multilayer_perceptron.py:571: ConvergenceWarning: Stochastic Optimizer: Maximum iterations (100) reached and the optimization hasn't converged yet.\n",
            "  % self.max_iter, ConvergenceWarning)\n",
            "/usr/local/lib/python3.7/dist-packages/sklearn/neural_network/_multilayer_perceptron.py:571: ConvergenceWarning: Stochastic Optimizer: Maximum iterations (100) reached and the optimization hasn't converged yet.\n",
            "  % self.max_iter, ConvergenceWarning)\n",
            "/usr/local/lib/python3.7/dist-packages/sklearn/neural_network/_multilayer_perceptron.py:571: ConvergenceWarning: Stochastic Optimizer: Maximum iterations (100) reached and the optimization hasn't converged yet.\n",
            "  % self.max_iter, ConvergenceWarning)\n",
            "/usr/local/lib/python3.7/dist-packages/sklearn/neural_network/_multilayer_perceptron.py:571: ConvergenceWarning: Stochastic Optimizer: Maximum iterations (100) reached and the optimization hasn't converged yet.\n",
            "  % self.max_iter, ConvergenceWarning)\n",
            "/usr/local/lib/python3.7/dist-packages/sklearn/neural_network/_multilayer_perceptron.py:571: ConvergenceWarning: Stochastic Optimizer: Maximum iterations (100) reached and the optimization hasn't converged yet.\n",
            "  % self.max_iter, ConvergenceWarning)\n",
            "/usr/local/lib/python3.7/dist-packages/sklearn/neural_network/_multilayer_perceptron.py:571: ConvergenceWarning: Stochastic Optimizer: Maximum iterations (100) reached and the optimization hasn't converged yet.\n",
            "  % self.max_iter, ConvergenceWarning)\n",
            "/usr/local/lib/python3.7/dist-packages/sklearn/neural_network/_multilayer_perceptron.py:571: ConvergenceWarning: Stochastic Optimizer: Maximum iterations (100) reached and the optimization hasn't converged yet.\n",
            "  % self.max_iter, ConvergenceWarning)\n",
            "/usr/local/lib/python3.7/dist-packages/sklearn/neural_network/_multilayer_perceptron.py:571: ConvergenceWarning: Stochastic Optimizer: Maximum iterations (100) reached and the optimization hasn't converged yet.\n",
            "  % self.max_iter, ConvergenceWarning)\n",
            "/usr/local/lib/python3.7/dist-packages/sklearn/neural_network/_multilayer_perceptron.py:571: ConvergenceWarning: Stochastic Optimizer: Maximum iterations (100) reached and the optimization hasn't converged yet.\n",
            "  % self.max_iter, ConvergenceWarning)\n",
            "/usr/local/lib/python3.7/dist-packages/sklearn/neural_network/_multilayer_perceptron.py:571: ConvergenceWarning: Stochastic Optimizer: Maximum iterations (100) reached and the optimization hasn't converged yet.\n",
            "  % self.max_iter, ConvergenceWarning)\n",
            "/usr/local/lib/python3.7/dist-packages/sklearn/neural_network/_multilayer_perceptron.py:571: ConvergenceWarning: Stochastic Optimizer: Maximum iterations (100) reached and the optimization hasn't converged yet.\n",
            "  % self.max_iter, ConvergenceWarning)\n",
            "/usr/local/lib/python3.7/dist-packages/sklearn/neural_network/_multilayer_perceptron.py:571: ConvergenceWarning: Stochastic Optimizer: Maximum iterations (100) reached and the optimization hasn't converged yet.\n",
            "  % self.max_iter, ConvergenceWarning)\n",
            "/usr/local/lib/python3.7/dist-packages/sklearn/neural_network/_multilayer_perceptron.py:571: ConvergenceWarning: Stochastic Optimizer: Maximum iterations (100) reached and the optimization hasn't converged yet.\n",
            "  % self.max_iter, ConvergenceWarning)\n",
            "/usr/local/lib/python3.7/dist-packages/sklearn/neural_network/_multilayer_perceptron.py:571: ConvergenceWarning: Stochastic Optimizer: Maximum iterations (100) reached and the optimization hasn't converged yet.\n",
            "  % self.max_iter, ConvergenceWarning)\n",
            "/usr/local/lib/python3.7/dist-packages/sklearn/neural_network/_multilayer_perceptron.py:571: ConvergenceWarning: Stochastic Optimizer: Maximum iterations (100) reached and the optimization hasn't converged yet.\n",
            "  % self.max_iter, ConvergenceWarning)\n",
            "/usr/local/lib/python3.7/dist-packages/sklearn/neural_network/_multilayer_perceptron.py:571: ConvergenceWarning: Stochastic Optimizer: Maximum iterations (100) reached and the optimization hasn't converged yet.\n",
            "  % self.max_iter, ConvergenceWarning)\n",
            "/usr/local/lib/python3.7/dist-packages/sklearn/neural_network/_multilayer_perceptron.py:571: ConvergenceWarning: Stochastic Optimizer: Maximum iterations (100) reached and the optimization hasn't converged yet.\n",
            "  % self.max_iter, ConvergenceWarning)\n",
            "/usr/local/lib/python3.7/dist-packages/sklearn/neural_network/_multilayer_perceptron.py:571: ConvergenceWarning: Stochastic Optimizer: Maximum iterations (100) reached and the optimization hasn't converged yet.\n",
            "  % self.max_iter, ConvergenceWarning)\n",
            "/usr/local/lib/python3.7/dist-packages/sklearn/neural_network/_multilayer_perceptron.py:571: ConvergenceWarning: Stochastic Optimizer: Maximum iterations (100) reached and the optimization hasn't converged yet.\n",
            "  % self.max_iter, ConvergenceWarning)\n",
            "/usr/local/lib/python3.7/dist-packages/sklearn/neural_network/_multilayer_perceptron.py:571: ConvergenceWarning: Stochastic Optimizer: Maximum iterations (100) reached and the optimization hasn't converged yet.\n",
            "  % self.max_iter, ConvergenceWarning)\n",
            "/usr/local/lib/python3.7/dist-packages/sklearn/neural_network/_multilayer_perceptron.py:571: ConvergenceWarning: Stochastic Optimizer: Maximum iterations (100) reached and the optimization hasn't converged yet.\n",
            "  % self.max_iter, ConvergenceWarning)\n",
            "/usr/local/lib/python3.7/dist-packages/sklearn/neural_network/_multilayer_perceptron.py:571: ConvergenceWarning: Stochastic Optimizer: Maximum iterations (100) reached and the optimization hasn't converged yet.\n",
            "  % self.max_iter, ConvergenceWarning)\n",
            "/usr/local/lib/python3.7/dist-packages/sklearn/neural_network/_multilayer_perceptron.py:571: ConvergenceWarning: Stochastic Optimizer: Maximum iterations (100) reached and the optimization hasn't converged yet.\n",
            "  % self.max_iter, ConvergenceWarning)\n",
            "/usr/local/lib/python3.7/dist-packages/sklearn/neural_network/_multilayer_perceptron.py:571: ConvergenceWarning: Stochastic Optimizer: Maximum iterations (100) reached and the optimization hasn't converged yet.\n",
            "  % self.max_iter, ConvergenceWarning)\n",
            "/usr/local/lib/python3.7/dist-packages/sklearn/neural_network/_multilayer_perceptron.py:571: ConvergenceWarning: Stochastic Optimizer: Maximum iterations (100) reached and the optimization hasn't converged yet.\n",
            "  % self.max_iter, ConvergenceWarning)\n",
            "/usr/local/lib/python3.7/dist-packages/sklearn/neural_network/_multilayer_perceptron.py:571: ConvergenceWarning: Stochastic Optimizer: Maximum iterations (100) reached and the optimization hasn't converged yet.\n",
            "  % self.max_iter, ConvergenceWarning)\n",
            "/usr/local/lib/python3.7/dist-packages/sklearn/neural_network/_multilayer_perceptron.py:571: ConvergenceWarning: Stochastic Optimizer: Maximum iterations (100) reached and the optimization hasn't converged yet.\n",
            "  % self.max_iter, ConvergenceWarning)\n",
            "/usr/local/lib/python3.7/dist-packages/sklearn/neural_network/_multilayer_perceptron.py:571: ConvergenceWarning: Stochastic Optimizer: Maximum iterations (100) reached and the optimization hasn't converged yet.\n",
            "  % self.max_iter, ConvergenceWarning)\n",
            "/usr/local/lib/python3.7/dist-packages/sklearn/neural_network/_multilayer_perceptron.py:571: ConvergenceWarning: Stochastic Optimizer: Maximum iterations (100) reached and the optimization hasn't converged yet.\n",
            "  % self.max_iter, ConvergenceWarning)\n",
            "/usr/local/lib/python3.7/dist-packages/sklearn/neural_network/_multilayer_perceptron.py:571: ConvergenceWarning: Stochastic Optimizer: Maximum iterations (100) reached and the optimization hasn't converged yet.\n",
            "  % self.max_iter, ConvergenceWarning)\n",
            "/usr/local/lib/python3.7/dist-packages/sklearn/neural_network/_multilayer_perceptron.py:571: ConvergenceWarning: Stochastic Optimizer: Maximum iterations (100) reached and the optimization hasn't converged yet.\n",
            "  % self.max_iter, ConvergenceWarning)\n",
            "/usr/local/lib/python3.7/dist-packages/sklearn/neural_network/_multilayer_perceptron.py:571: ConvergenceWarning: Stochastic Optimizer: Maximum iterations (100) reached and the optimization hasn't converged yet.\n",
            "  % self.max_iter, ConvergenceWarning)\n",
            "/usr/local/lib/python3.7/dist-packages/sklearn/neural_network/_multilayer_perceptron.py:571: ConvergenceWarning: Stochastic Optimizer: Maximum iterations (100) reached and the optimization hasn't converged yet.\n",
            "  % self.max_iter, ConvergenceWarning)\n",
            "/usr/local/lib/python3.7/dist-packages/sklearn/neural_network/_multilayer_perceptron.py:571: ConvergenceWarning: Stochastic Optimizer: Maximum iterations (100) reached and the optimization hasn't converged yet.\n",
            "  % self.max_iter, ConvergenceWarning)\n",
            "/usr/local/lib/python3.7/dist-packages/sklearn/neural_network/_multilayer_perceptron.py:571: ConvergenceWarning: Stochastic Optimizer: Maximum iterations (100) reached and the optimization hasn't converged yet.\n",
            "  % self.max_iter, ConvergenceWarning)\n",
            "/usr/local/lib/python3.7/dist-packages/sklearn/neural_network/_multilayer_perceptron.py:571: ConvergenceWarning: Stochastic Optimizer: Maximum iterations (100) reached and the optimization hasn't converged yet.\n",
            "  % self.max_iter, ConvergenceWarning)\n",
            "/usr/local/lib/python3.7/dist-packages/sklearn/neural_network/_multilayer_perceptron.py:571: ConvergenceWarning: Stochastic Optimizer: Maximum iterations (100) reached and the optimization hasn't converged yet.\n",
            "  % self.max_iter, ConvergenceWarning)\n",
            "/usr/local/lib/python3.7/dist-packages/sklearn/neural_network/_multilayer_perceptron.py:571: ConvergenceWarning: Stochastic Optimizer: Maximum iterations (100) reached and the optimization hasn't converged yet.\n",
            "  % self.max_iter, ConvergenceWarning)\n",
            "/usr/local/lib/python3.7/dist-packages/sklearn/neural_network/_multilayer_perceptron.py:571: ConvergenceWarning: Stochastic Optimizer: Maximum iterations (100) reached and the optimization hasn't converged yet.\n",
            "  % self.max_iter, ConvergenceWarning)\n",
            "/usr/local/lib/python3.7/dist-packages/sklearn/neural_network/_multilayer_perceptron.py:571: ConvergenceWarning: Stochastic Optimizer: Maximum iterations (100) reached and the optimization hasn't converged yet.\n",
            "  % self.max_iter, ConvergenceWarning)\n",
            "/usr/local/lib/python3.7/dist-packages/sklearn/neural_network/_multilayer_perceptron.py:571: ConvergenceWarning: Stochastic Optimizer: Maximum iterations (100) reached and the optimization hasn't converged yet.\n",
            "  % self.max_iter, ConvergenceWarning)\n",
            "/usr/local/lib/python3.7/dist-packages/sklearn/neural_network/_multilayer_perceptron.py:571: ConvergenceWarning: Stochastic Optimizer: Maximum iterations (100) reached and the optimization hasn't converged yet.\n",
            "  % self.max_iter, ConvergenceWarning)\n",
            "/usr/local/lib/python3.7/dist-packages/sklearn/neural_network/_multilayer_perceptron.py:571: ConvergenceWarning: Stochastic Optimizer: Maximum iterations (100) reached and the optimization hasn't converged yet.\n",
            "  % self.max_iter, ConvergenceWarning)\n",
            "/usr/local/lib/python3.7/dist-packages/sklearn/neural_network/_multilayer_perceptron.py:571: ConvergenceWarning: Stochastic Optimizer: Maximum iterations (100) reached and the optimization hasn't converged yet.\n",
            "  % self.max_iter, ConvergenceWarning)\n",
            "/usr/local/lib/python3.7/dist-packages/sklearn/neural_network/_multilayer_perceptron.py:571: ConvergenceWarning: Stochastic Optimizer: Maximum iterations (100) reached and the optimization hasn't converged yet.\n",
            "  % self.max_iter, ConvergenceWarning)\n",
            "/usr/local/lib/python3.7/dist-packages/sklearn/neural_network/_multilayer_perceptron.py:571: ConvergenceWarning: Stochastic Optimizer: Maximum iterations (100) reached and the optimization hasn't converged yet.\n",
            "  % self.max_iter, ConvergenceWarning)\n",
            "/usr/local/lib/python3.7/dist-packages/sklearn/neural_network/_multilayer_perceptron.py:571: ConvergenceWarning: Stochastic Optimizer: Maximum iterations (100) reached and the optimization hasn't converged yet.\n",
            "  % self.max_iter, ConvergenceWarning)\n",
            "/usr/local/lib/python3.7/dist-packages/sklearn/neural_network/_multilayer_perceptron.py:571: ConvergenceWarning: Stochastic Optimizer: Maximum iterations (100) reached and the optimization hasn't converged yet.\n",
            "  % self.max_iter, ConvergenceWarning)\n",
            "/usr/local/lib/python3.7/dist-packages/sklearn/neural_network/_multilayer_perceptron.py:571: ConvergenceWarning: Stochastic Optimizer: Maximum iterations (100) reached and the optimization hasn't converged yet.\n",
            "  % self.max_iter, ConvergenceWarning)\n",
            "/usr/local/lib/python3.7/dist-packages/sklearn/neural_network/_multilayer_perceptron.py:571: ConvergenceWarning: Stochastic Optimizer: Maximum iterations (100) reached and the optimization hasn't converged yet.\n",
            "  % self.max_iter, ConvergenceWarning)\n",
            "/usr/local/lib/python3.7/dist-packages/sklearn/neural_network/_multilayer_perceptron.py:571: ConvergenceWarning: Stochastic Optimizer: Maximum iterations (100) reached and the optimization hasn't converged yet.\n",
            "  % self.max_iter, ConvergenceWarning)\n",
            "/usr/local/lib/python3.7/dist-packages/sklearn/neural_network/_multilayer_perceptron.py:571: ConvergenceWarning: Stochastic Optimizer: Maximum iterations (100) reached and the optimization hasn't converged yet.\n",
            "  % self.max_iter, ConvergenceWarning)\n",
            "/usr/local/lib/python3.7/dist-packages/sklearn/neural_network/_multilayer_perceptron.py:571: ConvergenceWarning: Stochastic Optimizer: Maximum iterations (100) reached and the optimization hasn't converged yet.\n",
            "  % self.max_iter, ConvergenceWarning)\n",
            "/usr/local/lib/python3.7/dist-packages/sklearn/neural_network/_multilayer_perceptron.py:571: ConvergenceWarning: Stochastic Optimizer: Maximum iterations (100) reached and the optimization hasn't converged yet.\n",
            "  % self.max_iter, ConvergenceWarning)\n",
            "/usr/local/lib/python3.7/dist-packages/sklearn/neural_network/_multilayer_perceptron.py:571: ConvergenceWarning: Stochastic Optimizer: Maximum iterations (100) reached and the optimization hasn't converged yet.\n",
            "  % self.max_iter, ConvergenceWarning)\n",
            "/usr/local/lib/python3.7/dist-packages/sklearn/neural_network/_multilayer_perceptron.py:571: ConvergenceWarning: Stochastic Optimizer: Maximum iterations (100) reached and the optimization hasn't converged yet.\n",
            "  % self.max_iter, ConvergenceWarning)\n",
            "/usr/local/lib/python3.7/dist-packages/sklearn/neural_network/_multilayer_perceptron.py:571: ConvergenceWarning: Stochastic Optimizer: Maximum iterations (100) reached and the optimization hasn't converged yet.\n",
            "  % self.max_iter, ConvergenceWarning)\n",
            "/usr/local/lib/python3.7/dist-packages/sklearn/neural_network/_multilayer_perceptron.py:571: ConvergenceWarning: Stochastic Optimizer: Maximum iterations (100) reached and the optimization hasn't converged yet.\n",
            "  % self.max_iter, ConvergenceWarning)\n",
            "/usr/local/lib/python3.7/dist-packages/sklearn/neural_network/_multilayer_perceptron.py:571: ConvergenceWarning: Stochastic Optimizer: Maximum iterations (100) reached and the optimization hasn't converged yet.\n",
            "  % self.max_iter, ConvergenceWarning)\n",
            "/usr/local/lib/python3.7/dist-packages/sklearn/neural_network/_multilayer_perceptron.py:571: ConvergenceWarning: Stochastic Optimizer: Maximum iterations (100) reached and the optimization hasn't converged yet.\n",
            "  % self.max_iter, ConvergenceWarning)\n",
            "/usr/local/lib/python3.7/dist-packages/sklearn/neural_network/_multilayer_perceptron.py:571: ConvergenceWarning: Stochastic Optimizer: Maximum iterations (100) reached and the optimization hasn't converged yet.\n",
            "  % self.max_iter, ConvergenceWarning)\n",
            "/usr/local/lib/python3.7/dist-packages/sklearn/neural_network/_multilayer_perceptron.py:571: ConvergenceWarning: Stochastic Optimizer: Maximum iterations (100) reached and the optimization hasn't converged yet.\n",
            "  % self.max_iter, ConvergenceWarning)\n",
            "/usr/local/lib/python3.7/dist-packages/sklearn/neural_network/_multilayer_perceptron.py:571: ConvergenceWarning: Stochastic Optimizer: Maximum iterations (100) reached and the optimization hasn't converged yet.\n",
            "  % self.max_iter, ConvergenceWarning)\n",
            "/usr/local/lib/python3.7/dist-packages/sklearn/neural_network/_multilayer_perceptron.py:571: ConvergenceWarning: Stochastic Optimizer: Maximum iterations (100) reached and the optimization hasn't converged yet.\n",
            "  % self.max_iter, ConvergenceWarning)\n",
            "/usr/local/lib/python3.7/dist-packages/sklearn/neural_network/_multilayer_perceptron.py:571: ConvergenceWarning: Stochastic Optimizer: Maximum iterations (100) reached and the optimization hasn't converged yet.\n",
            "  % self.max_iter, ConvergenceWarning)\n",
            "/usr/local/lib/python3.7/dist-packages/sklearn/neural_network/_multilayer_perceptron.py:571: ConvergenceWarning: Stochastic Optimizer: Maximum iterations (100) reached and the optimization hasn't converged yet.\n",
            "  % self.max_iter, ConvergenceWarning)\n",
            "/usr/local/lib/python3.7/dist-packages/sklearn/neural_network/_multilayer_perceptron.py:571: ConvergenceWarning: Stochastic Optimizer: Maximum iterations (100) reached and the optimization hasn't converged yet.\n",
            "  % self.max_iter, ConvergenceWarning)\n",
            "/usr/local/lib/python3.7/dist-packages/sklearn/neural_network/_multilayer_perceptron.py:571: ConvergenceWarning: Stochastic Optimizer: Maximum iterations (100) reached and the optimization hasn't converged yet.\n",
            "  % self.max_iter, ConvergenceWarning)\n",
            "/usr/local/lib/python3.7/dist-packages/sklearn/neural_network/_multilayer_perceptron.py:571: ConvergenceWarning: Stochastic Optimizer: Maximum iterations (100) reached and the optimization hasn't converged yet.\n",
            "  % self.max_iter, ConvergenceWarning)\n",
            "/usr/local/lib/python3.7/dist-packages/sklearn/neural_network/_multilayer_perceptron.py:571: ConvergenceWarning: Stochastic Optimizer: Maximum iterations (100) reached and the optimization hasn't converged yet.\n",
            "  % self.max_iter, ConvergenceWarning)\n",
            "/usr/local/lib/python3.7/dist-packages/sklearn/neural_network/_multilayer_perceptron.py:571: ConvergenceWarning: Stochastic Optimizer: Maximum iterations (100) reached and the optimization hasn't converged yet.\n",
            "  % self.max_iter, ConvergenceWarning)\n",
            "/usr/local/lib/python3.7/dist-packages/sklearn/neural_network/_multilayer_perceptron.py:571: ConvergenceWarning: Stochastic Optimizer: Maximum iterations (100) reached and the optimization hasn't converged yet.\n",
            "  % self.max_iter, ConvergenceWarning)\n",
            "/usr/local/lib/python3.7/dist-packages/sklearn/neural_network/_multilayer_perceptron.py:571: ConvergenceWarning: Stochastic Optimizer: Maximum iterations (100) reached and the optimization hasn't converged yet.\n",
            "  % self.max_iter, ConvergenceWarning)\n",
            "/usr/local/lib/python3.7/dist-packages/sklearn/neural_network/_multilayer_perceptron.py:571: ConvergenceWarning: Stochastic Optimizer: Maximum iterations (100) reached and the optimization hasn't converged yet.\n",
            "  % self.max_iter, ConvergenceWarning)\n",
            "/usr/local/lib/python3.7/dist-packages/sklearn/neural_network/_multilayer_perceptron.py:571: ConvergenceWarning: Stochastic Optimizer: Maximum iterations (100) reached and the optimization hasn't converged yet.\n",
            "  % self.max_iter, ConvergenceWarning)\n",
            "/usr/local/lib/python3.7/dist-packages/sklearn/neural_network/_multilayer_perceptron.py:571: ConvergenceWarning: Stochastic Optimizer: Maximum iterations (100) reached and the optimization hasn't converged yet.\n",
            "  % self.max_iter, ConvergenceWarning)\n",
            "/usr/local/lib/python3.7/dist-packages/sklearn/neural_network/_multilayer_perceptron.py:571: ConvergenceWarning: Stochastic Optimizer: Maximum iterations (100) reached and the optimization hasn't converged yet.\n",
            "  % self.max_iter, ConvergenceWarning)\n",
            "/usr/local/lib/python3.7/dist-packages/sklearn/neural_network/_multilayer_perceptron.py:571: ConvergenceWarning: Stochastic Optimizer: Maximum iterations (100) reached and the optimization hasn't converged yet.\n",
            "  % self.max_iter, ConvergenceWarning)\n",
            "/usr/local/lib/python3.7/dist-packages/sklearn/neural_network/_multilayer_perceptron.py:571: ConvergenceWarning: Stochastic Optimizer: Maximum iterations (100) reached and the optimization hasn't converged yet.\n",
            "  % self.max_iter, ConvergenceWarning)\n",
            "/usr/local/lib/python3.7/dist-packages/sklearn/neural_network/_multilayer_perceptron.py:571: ConvergenceWarning: Stochastic Optimizer: Maximum iterations (100) reached and the optimization hasn't converged yet.\n",
            "  % self.max_iter, ConvergenceWarning)\n",
            "/usr/local/lib/python3.7/dist-packages/sklearn/neural_network/_multilayer_perceptron.py:571: ConvergenceWarning: Stochastic Optimizer: Maximum iterations (100) reached and the optimization hasn't converged yet.\n",
            "  % self.max_iter, ConvergenceWarning)\n",
            "/usr/local/lib/python3.7/dist-packages/sklearn/neural_network/_multilayer_perceptron.py:571: ConvergenceWarning: Stochastic Optimizer: Maximum iterations (100) reached and the optimization hasn't converged yet.\n",
            "  % self.max_iter, ConvergenceWarning)\n",
            "/usr/local/lib/python3.7/dist-packages/sklearn/neural_network/_multilayer_perceptron.py:571: ConvergenceWarning: Stochastic Optimizer: Maximum iterations (100) reached and the optimization hasn't converged yet.\n",
            "  % self.max_iter, ConvergenceWarning)\n",
            "/usr/local/lib/python3.7/dist-packages/sklearn/neural_network/_multilayer_perceptron.py:571: ConvergenceWarning: Stochastic Optimizer: Maximum iterations (100) reached and the optimization hasn't converged yet.\n",
            "  % self.max_iter, ConvergenceWarning)\n",
            "/usr/local/lib/python3.7/dist-packages/sklearn/neural_network/_multilayer_perceptron.py:571: ConvergenceWarning: Stochastic Optimizer: Maximum iterations (100) reached and the optimization hasn't converged yet.\n",
            "  % self.max_iter, ConvergenceWarning)\n",
            "/usr/local/lib/python3.7/dist-packages/sklearn/neural_network/_multilayer_perceptron.py:571: ConvergenceWarning: Stochastic Optimizer: Maximum iterations (100) reached and the optimization hasn't converged yet.\n",
            "  % self.max_iter, ConvergenceWarning)\n",
            "/usr/local/lib/python3.7/dist-packages/sklearn/neural_network/_multilayer_perceptron.py:571: ConvergenceWarning: Stochastic Optimizer: Maximum iterations (100) reached and the optimization hasn't converged yet.\n",
            "  % self.max_iter, ConvergenceWarning)\n",
            "/usr/local/lib/python3.7/dist-packages/sklearn/neural_network/_multilayer_perceptron.py:571: ConvergenceWarning: Stochastic Optimizer: Maximum iterations (100) reached and the optimization hasn't converged yet.\n",
            "  % self.max_iter, ConvergenceWarning)\n",
            "/usr/local/lib/python3.7/dist-packages/sklearn/neural_network/_multilayer_perceptron.py:571: ConvergenceWarning: Stochastic Optimizer: Maximum iterations (100) reached and the optimization hasn't converged yet.\n",
            "  % self.max_iter, ConvergenceWarning)\n",
            "/usr/local/lib/python3.7/dist-packages/sklearn/neural_network/_multilayer_perceptron.py:571: ConvergenceWarning: Stochastic Optimizer: Maximum iterations (100) reached and the optimization hasn't converged yet.\n",
            "  % self.max_iter, ConvergenceWarning)\n",
            "/usr/local/lib/python3.7/dist-packages/sklearn/neural_network/_multilayer_perceptron.py:571: ConvergenceWarning: Stochastic Optimizer: Maximum iterations (100) reached and the optimization hasn't converged yet.\n",
            "  % self.max_iter, ConvergenceWarning)\n",
            "/usr/local/lib/python3.7/dist-packages/sklearn/neural_network/_multilayer_perceptron.py:571: ConvergenceWarning: Stochastic Optimizer: Maximum iterations (100) reached and the optimization hasn't converged yet.\n",
            "  % self.max_iter, ConvergenceWarning)\n",
            "/usr/local/lib/python3.7/dist-packages/sklearn/neural_network/_multilayer_perceptron.py:571: ConvergenceWarning: Stochastic Optimizer: Maximum iterations (100) reached and the optimization hasn't converged yet.\n",
            "  % self.max_iter, ConvergenceWarning)\n",
            "/usr/local/lib/python3.7/dist-packages/sklearn/neural_network/_multilayer_perceptron.py:571: ConvergenceWarning: Stochastic Optimizer: Maximum iterations (100) reached and the optimization hasn't converged yet.\n",
            "  % self.max_iter, ConvergenceWarning)\n",
            "/usr/local/lib/python3.7/dist-packages/sklearn/neural_network/_multilayer_perceptron.py:571: ConvergenceWarning: Stochastic Optimizer: Maximum iterations (100) reached and the optimization hasn't converged yet.\n",
            "  % self.max_iter, ConvergenceWarning)\n",
            "/usr/local/lib/python3.7/dist-packages/sklearn/neural_network/_multilayer_perceptron.py:571: ConvergenceWarning: Stochastic Optimizer: Maximum iterations (100) reached and the optimization hasn't converged yet.\n",
            "  % self.max_iter, ConvergenceWarning)\n",
            "/usr/local/lib/python3.7/dist-packages/sklearn/neural_network/_multilayer_perceptron.py:571: ConvergenceWarning: Stochastic Optimizer: Maximum iterations (100) reached and the optimization hasn't converged yet.\n",
            "  % self.max_iter, ConvergenceWarning)\n",
            "/usr/local/lib/python3.7/dist-packages/sklearn/neural_network/_multilayer_perceptron.py:571: ConvergenceWarning: Stochastic Optimizer: Maximum iterations (100) reached and the optimization hasn't converged yet.\n",
            "  % self.max_iter, ConvergenceWarning)\n",
            "/usr/local/lib/python3.7/dist-packages/sklearn/neural_network/_multilayer_perceptron.py:571: ConvergenceWarning: Stochastic Optimizer: Maximum iterations (100) reached and the optimization hasn't converged yet.\n",
            "  % self.max_iter, ConvergenceWarning)\n",
            "/usr/local/lib/python3.7/dist-packages/sklearn/neural_network/_multilayer_perceptron.py:571: ConvergenceWarning: Stochastic Optimizer: Maximum iterations (100) reached and the optimization hasn't converged yet.\n",
            "  % self.max_iter, ConvergenceWarning)\n",
            "/usr/local/lib/python3.7/dist-packages/sklearn/neural_network/_multilayer_perceptron.py:571: ConvergenceWarning: Stochastic Optimizer: Maximum iterations (100) reached and the optimization hasn't converged yet.\n",
            "  % self.max_iter, ConvergenceWarning)\n",
            "/usr/local/lib/python3.7/dist-packages/sklearn/neural_network/_multilayer_perceptron.py:571: ConvergenceWarning: Stochastic Optimizer: Maximum iterations (100) reached and the optimization hasn't converged yet.\n",
            "  % self.max_iter, ConvergenceWarning)\n",
            "/usr/local/lib/python3.7/dist-packages/sklearn/neural_network/_multilayer_perceptron.py:571: ConvergenceWarning: Stochastic Optimizer: Maximum iterations (100) reached and the optimization hasn't converged yet.\n",
            "  % self.max_iter, ConvergenceWarning)\n",
            "/usr/local/lib/python3.7/dist-packages/sklearn/neural_network/_multilayer_perceptron.py:571: ConvergenceWarning: Stochastic Optimizer: Maximum iterations (100) reached and the optimization hasn't converged yet.\n",
            "  % self.max_iter, ConvergenceWarning)\n",
            "/usr/local/lib/python3.7/dist-packages/sklearn/neural_network/_multilayer_perceptron.py:571: ConvergenceWarning: Stochastic Optimizer: Maximum iterations (100) reached and the optimization hasn't converged yet.\n",
            "  % self.max_iter, ConvergenceWarning)\n",
            "/usr/local/lib/python3.7/dist-packages/sklearn/neural_network/_multilayer_perceptron.py:571: ConvergenceWarning: Stochastic Optimizer: Maximum iterations (100) reached and the optimization hasn't converged yet.\n",
            "  % self.max_iter, ConvergenceWarning)\n"
          ]
        }
      ]
    },
    {
      "cell_type": "code",
      "metadata": {
        "id": "Gaq6IKIyFS8s"
      },
      "source": [
        "show_metric(y_test, y_pred)"
      ],
      "execution_count": null,
      "outputs": []
    },
    {
      "cell_type": "markdown",
      "metadata": {
        "id": "7mMh98XrEz48"
      },
      "source": [
        "####Aplicando en MLP con TF - IDF"
      ]
    },
    {
      "cell_type": "code",
      "metadata": {
        "id": "irRnd1tuFR8U"
      },
      "source": [
        "y_test, y_pred = applied_model(dataIG_03, Target, \"ensemble_b_mlp\", use_bag_of_words = True)"
      ],
      "execution_count": null,
      "outputs": []
    },
    {
      "cell_type": "code",
      "metadata": {
        "id": "6nr94zs2FTYU"
      },
      "source": [
        "show_metric(y_test, y_pred)"
      ],
      "execution_count": null,
      "outputs": []
    },
    {
      "cell_type": "markdown",
      "metadata": {
        "id": "F83tR_KoE2aU"
      },
      "source": [
        "####Aplicando en Bayes con Bag of words"
      ]
    },
    {
      "cell_type": "code",
      "metadata": {
        "id": "EvkkWvOBFU89"
      },
      "source": [
        "y_test, y_pred = applied_model(dataIG_03, Target, \"ensemble_b_bayes\", use_bag_of_words = True)"
      ],
      "execution_count": null,
      "outputs": []
    },
    {
      "cell_type": "code",
      "metadata": {
        "id": "MV0DMxb8FWsF"
      },
      "source": [
        "show_metric(y_test, y_pred)"
      ],
      "execution_count": null,
      "outputs": []
    },
    {
      "cell_type": "markdown",
      "metadata": {
        "id": "QMNHOjgvE4NT"
      },
      "source": [
        "####Aplicando en Bayes con TF - IDF"
      ]
    },
    {
      "cell_type": "code",
      "metadata": {
        "id": "sruXTTPpFXjm"
      },
      "source": [
        "y_test, y_pred = applied_model(dataIG_03, Target, \"ensemble_b_bayes\", use_bag_of_words = False)"
      ],
      "execution_count": null,
      "outputs": []
    },
    {
      "cell_type": "code",
      "metadata": {
        "id": "LaOnQ-11FY80"
      },
      "source": [
        "show_metric(y_test, y_pred)"
      ],
      "execution_count": null,
      "outputs": []
    }
  ]
}